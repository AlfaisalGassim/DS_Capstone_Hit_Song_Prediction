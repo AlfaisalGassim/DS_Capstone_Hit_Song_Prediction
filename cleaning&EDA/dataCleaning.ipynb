{
 "cells": [
  {
   "cell_type": "code",
   "execution_count": 99,
   "metadata": {},
   "outputs": [],
   "source": [
    "import pandas as pd\n",
    "import matplotlib.pyplot as plt\n",
    "import plotly.express as px\n"
   ]
  },
  {
   "cell_type": "code",
   "execution_count": 18,
   "metadata": {},
   "outputs": [],
   "source": [
    "original_tracks = pd.read_csv(\"../data/original_hot_100.csv\")\n",
    "collected_spotify = pd.read_csv(\"../data/tracks_spotify_all.csv\")"
   ]
  },
  {
   "cell_type": "code",
   "execution_count": 19,
   "metadata": {},
   "outputs": [
    {
     "data": {
      "text/html": [
       "<div>\n",
       "<style scoped>\n",
       "    .dataframe tbody tr th:only-of-type {\n",
       "        vertical-align: middle;\n",
       "    }\n",
       "\n",
       "    .dataframe tbody tr th {\n",
       "        vertical-align: top;\n",
       "    }\n",
       "\n",
       "    .dataframe thead th {\n",
       "        text-align: right;\n",
       "    }\n",
       "</style>\n",
       "<table border=\"1\" class=\"dataframe\">\n",
       "  <thead>\n",
       "    <tr style=\"text-align: right;\">\n",
       "      <th></th>\n",
       "      <th>date</th>\n",
       "      <th>rank</th>\n",
       "      <th>song</th>\n",
       "      <th>artist</th>\n",
       "      <th>last-week</th>\n",
       "      <th>peak-rank</th>\n",
       "      <th>weeks-on-board</th>\n",
       "    </tr>\n",
       "  </thead>\n",
       "  <tbody>\n",
       "    <tr>\n",
       "      <th>0</th>\n",
       "      <td>2021-11-06</td>\n",
       "      <td>1</td>\n",
       "      <td>Easy On Me</td>\n",
       "      <td>Adele</td>\n",
       "      <td>1.0</td>\n",
       "      <td>1</td>\n",
       "      <td>3</td>\n",
       "    </tr>\n",
       "    <tr>\n",
       "      <th>1</th>\n",
       "      <td>2021-11-06</td>\n",
       "      <td>2</td>\n",
       "      <td>Stay</td>\n",
       "      <td>The Kid LAROI &amp; Justin Bieber</td>\n",
       "      <td>2.0</td>\n",
       "      <td>1</td>\n",
       "      <td>16</td>\n",
       "    </tr>\n",
       "    <tr>\n",
       "      <th>2</th>\n",
       "      <td>2021-11-06</td>\n",
       "      <td>3</td>\n",
       "      <td>Industry Baby</td>\n",
       "      <td>Lil Nas X &amp; Jack Harlow</td>\n",
       "      <td>3.0</td>\n",
       "      <td>1</td>\n",
       "      <td>14</td>\n",
       "    </tr>\n",
       "    <tr>\n",
       "      <th>3</th>\n",
       "      <td>2021-11-06</td>\n",
       "      <td>4</td>\n",
       "      <td>Fancy Like</td>\n",
       "      <td>Walker Hayes</td>\n",
       "      <td>4.0</td>\n",
       "      <td>3</td>\n",
       "      <td>19</td>\n",
       "    </tr>\n",
       "    <tr>\n",
       "      <th>4</th>\n",
       "      <td>2021-11-06</td>\n",
       "      <td>5</td>\n",
       "      <td>Bad Habits</td>\n",
       "      <td>Ed Sheeran</td>\n",
       "      <td>5.0</td>\n",
       "      <td>2</td>\n",
       "      <td>18</td>\n",
       "    </tr>\n",
       "  </tbody>\n",
       "</table>\n",
       "</div>"
      ],
      "text/plain": [
       "         date  rank           song                         artist  last-week  \\\n",
       "0  2021-11-06     1     Easy On Me                          Adele        1.0   \n",
       "1  2021-11-06     2           Stay  The Kid LAROI & Justin Bieber        2.0   \n",
       "2  2021-11-06     3  Industry Baby        Lil Nas X & Jack Harlow        3.0   \n",
       "3  2021-11-06     4     Fancy Like                   Walker Hayes        4.0   \n",
       "4  2021-11-06     5     Bad Habits                     Ed Sheeran        5.0   \n",
       "\n",
       "   peak-rank  weeks-on-board  \n",
       "0          1               3  \n",
       "1          1              16  \n",
       "2          1              14  \n",
       "3          3              19  \n",
       "4          2              18  "
      ]
     },
     "execution_count": 19,
     "metadata": {},
     "output_type": "execute_result"
    }
   ],
   "source": [
    "original_tracks.head()"
   ]
  },
  {
   "cell_type": "code",
   "execution_count": 20,
   "metadata": {},
   "outputs": [
    {
     "data": {
      "text/html": [
       "<div>\n",
       "<style scoped>\n",
       "    .dataframe tbody tr th:only-of-type {\n",
       "        vertical-align: middle;\n",
       "    }\n",
       "\n",
       "    .dataframe tbody tr th {\n",
       "        vertical-align: top;\n",
       "    }\n",
       "\n",
       "    .dataframe thead th {\n",
       "        text-align: right;\n",
       "    }\n",
       "</style>\n",
       "<table border=\"1\" class=\"dataframe\">\n",
       "  <thead>\n",
       "    <tr style=\"text-align: right;\">\n",
       "      <th></th>\n",
       "      <th>Unnamed: 0</th>\n",
       "      <th>Unnamed: 0.1</th>\n",
       "      <th>original_index</th>\n",
       "      <th>song</th>\n",
       "      <th>artist</th>\n",
       "      <th>primary_artist</th>\n",
       "      <th>featured_artist_1</th>\n",
       "      <th>featured_artist_2</th>\n",
       "      <th>is_collected</th>\n",
       "      <th>match_song</th>\n",
       "      <th>...</th>\n",
       "      <th>spotify_popularity</th>\n",
       "      <th>song_id</th>\n",
       "      <th>song_uri</th>\n",
       "      <th>match_artist</th>\n",
       "      <th>artist_id</th>\n",
       "      <th>release_date</th>\n",
       "      <th>Album_id</th>\n",
       "      <th>album_type</th>\n",
       "      <th>album_name</th>\n",
       "      <th>album_uri</th>\n",
       "    </tr>\n",
       "  </thead>\n",
       "  <tbody>\n",
       "    <tr>\n",
       "      <th>0</th>\n",
       "      <td>0</td>\n",
       "      <td>0</td>\n",
       "      <td>0</td>\n",
       "      <td>Easy On Me</td>\n",
       "      <td>Adele</td>\n",
       "      <td>Adele</td>\n",
       "      <td>NaN</td>\n",
       "      <td>NaN</td>\n",
       "      <td>True</td>\n",
       "      <td>Easy On Me</td>\n",
       "      <td>...</td>\n",
       "      <td>95.0</td>\n",
       "      <td>0gplL1WMoJ6iYaPgMCL0gX</td>\n",
       "      <td>spotify:track:0gplL1WMoJ6iYaPgMCL0gX</td>\n",
       "      <td>Adele</td>\n",
       "      <td>spotify:artist:4dpARuHxo51G3z768sgnrY</td>\n",
       "      <td>2021-10-14</td>\n",
       "      <td>224jZ4sUX7OhAuMwaxp86S</td>\n",
       "      <td>single</td>\n",
       "      <td>Easy On Me</td>\n",
       "      <td>spotify:album:224jZ4sUX7OhAuMwaxp86S</td>\n",
       "    </tr>\n",
       "    <tr>\n",
       "      <th>1</th>\n",
       "      <td>1</td>\n",
       "      <td>1</td>\n",
       "      <td>1</td>\n",
       "      <td>Stay</td>\n",
       "      <td>The Kid LAROI &amp; Justin Bieber</td>\n",
       "      <td>The Kid LAROI</td>\n",
       "      <td>Justin Bieber</td>\n",
       "      <td>NaN</td>\n",
       "      <td>True</td>\n",
       "      <td>STAY (with Justin Bieber)</td>\n",
       "      <td>...</td>\n",
       "      <td>96.0</td>\n",
       "      <td>5HCyWlXZPP0y6Gqq8TgA20</td>\n",
       "      <td>spotify:track:5HCyWlXZPP0y6Gqq8TgA20</td>\n",
       "      <td>The Kid LAROI</td>\n",
       "      <td>spotify:artist:2tIP7SsRs7vjIcLrU85W8J</td>\n",
       "      <td>2021-07-09</td>\n",
       "      <td>4QLAtpLNUsHEYrcHXmMIZZ</td>\n",
       "      <td>single</td>\n",
       "      <td>STAY (with Justin Bieber)</td>\n",
       "      <td>spotify:album:4QLAtpLNUsHEYrcHXmMIZZ</td>\n",
       "    </tr>\n",
       "    <tr>\n",
       "      <th>2</th>\n",
       "      <td>2</td>\n",
       "      <td>2</td>\n",
       "      <td>2</td>\n",
       "      <td>Industry Baby</td>\n",
       "      <td>Lil Nas X &amp; Jack Harlow</td>\n",
       "      <td>Lil Nas X</td>\n",
       "      <td>Jack Harlow</td>\n",
       "      <td>NaN</td>\n",
       "      <td>True</td>\n",
       "      <td>INDUSTRY BABY (feat. Jack Harlow)</td>\n",
       "      <td>...</td>\n",
       "      <td>95.0</td>\n",
       "      <td>27NovPIUIRrOZoCHxABJwK</td>\n",
       "      <td>spotify:track:27NovPIUIRrOZoCHxABJwK</td>\n",
       "      <td>Lil Nas X</td>\n",
       "      <td>spotify:artist:7jVv8c5Fj3E9VhNjxT4snq</td>\n",
       "      <td>2021-07-23</td>\n",
       "      <td>622NFw5Yk0OReMJ2XWcXUh</td>\n",
       "      <td>single</td>\n",
       "      <td>INDUSTRY BABY (feat. Jack Harlow)</td>\n",
       "      <td>spotify:album:622NFw5Yk0OReMJ2XWcXUh</td>\n",
       "    </tr>\n",
       "    <tr>\n",
       "      <th>3</th>\n",
       "      <td>3</td>\n",
       "      <td>3</td>\n",
       "      <td>3</td>\n",
       "      <td>Fancy Like</td>\n",
       "      <td>Walker Hayes</td>\n",
       "      <td>Walker Hayes</td>\n",
       "      <td>NaN</td>\n",
       "      <td>NaN</td>\n",
       "      <td>True</td>\n",
       "      <td>Fancy Like</td>\n",
       "      <td>...</td>\n",
       "      <td>81.0</td>\n",
       "      <td>3ZozFqJJlDBNIm4xqxn2ZD</td>\n",
       "      <td>spotify:track:3ZozFqJJlDBNIm4xqxn2ZD</td>\n",
       "      <td>Walker Hayes</td>\n",
       "      <td>spotify:artist:7sKxqpSqbIzphAKAhrqvlf</td>\n",
       "      <td>2021-06-04</td>\n",
       "      <td>1Lcuv3HMgEG36SkibQIspv</td>\n",
       "      <td>single</td>\n",
       "      <td>Country Stuff</td>\n",
       "      <td>spotify:album:1Lcuv3HMgEG36SkibQIspv</td>\n",
       "    </tr>\n",
       "    <tr>\n",
       "      <th>4</th>\n",
       "      <td>4</td>\n",
       "      <td>4</td>\n",
       "      <td>4</td>\n",
       "      <td>Bad Habits</td>\n",
       "      <td>Ed Sheeran</td>\n",
       "      <td>Ed Sheeran</td>\n",
       "      <td>NaN</td>\n",
       "      <td>NaN</td>\n",
       "      <td>True</td>\n",
       "      <td>Bad Habits</td>\n",
       "      <td>...</td>\n",
       "      <td>95.0</td>\n",
       "      <td>3rmo8F54jFF8OgYsqTxm5d</td>\n",
       "      <td>spotify:track:3rmo8F54jFF8OgYsqTxm5d</td>\n",
       "      <td>Ed Sheeran</td>\n",
       "      <td>spotify:artist:6eUKZXaKkcviH0Ku9w2n3V</td>\n",
       "      <td>2021-10-29</td>\n",
       "      <td>32iAEBstCjauDhyKpGjTuq</td>\n",
       "      <td>album</td>\n",
       "      <td>=</td>\n",
       "      <td>spotify:album:32iAEBstCjauDhyKpGjTuq</td>\n",
       "    </tr>\n",
       "  </tbody>\n",
       "</table>\n",
       "<p>5 rows × 21 columns</p>\n",
       "</div>"
      ],
      "text/plain": [
       "   Unnamed: 0  Unnamed: 0.1  original_index           song  \\\n",
       "0           0             0               0     Easy On Me   \n",
       "1           1             1               1           Stay   \n",
       "2           2             2               2  Industry Baby   \n",
       "3           3             3               3     Fancy Like   \n",
       "4           4             4               4     Bad Habits   \n",
       "\n",
       "                          artist primary_artist featured_artist_1  \\\n",
       "0                          Adele          Adele               NaN   \n",
       "1  The Kid LAROI & Justin Bieber  The Kid LAROI     Justin Bieber   \n",
       "2        Lil Nas X & Jack Harlow      Lil Nas X       Jack Harlow   \n",
       "3                   Walker Hayes   Walker Hayes               NaN   \n",
       "4                     Ed Sheeran     Ed Sheeran               NaN   \n",
       "\n",
       "  featured_artist_2  is_collected                         match_song  ...  \\\n",
       "0               NaN          True                         Easy On Me  ...   \n",
       "1               NaN          True          STAY (with Justin Bieber)  ...   \n",
       "2               NaN          True  INDUSTRY BABY (feat. Jack Harlow)  ...   \n",
       "3               NaN          True                         Fancy Like  ...   \n",
       "4               NaN          True                         Bad Habits  ...   \n",
       "\n",
       "   spotify_popularity                 song_id  \\\n",
       "0                95.0  0gplL1WMoJ6iYaPgMCL0gX   \n",
       "1                96.0  5HCyWlXZPP0y6Gqq8TgA20   \n",
       "2                95.0  27NovPIUIRrOZoCHxABJwK   \n",
       "3                81.0  3ZozFqJJlDBNIm4xqxn2ZD   \n",
       "4                95.0  3rmo8F54jFF8OgYsqTxm5d   \n",
       "\n",
       "                               song_uri   match_artist  \\\n",
       "0  spotify:track:0gplL1WMoJ6iYaPgMCL0gX          Adele   \n",
       "1  spotify:track:5HCyWlXZPP0y6Gqq8TgA20  The Kid LAROI   \n",
       "2  spotify:track:27NovPIUIRrOZoCHxABJwK      Lil Nas X   \n",
       "3  spotify:track:3ZozFqJJlDBNIm4xqxn2ZD   Walker Hayes   \n",
       "4  spotify:track:3rmo8F54jFF8OgYsqTxm5d     Ed Sheeran   \n",
       "\n",
       "                               artist_id release_date                Album_id  \\\n",
       "0  spotify:artist:4dpARuHxo51G3z768sgnrY   2021-10-14  224jZ4sUX7OhAuMwaxp86S   \n",
       "1  spotify:artist:2tIP7SsRs7vjIcLrU85W8J   2021-07-09  4QLAtpLNUsHEYrcHXmMIZZ   \n",
       "2  spotify:artist:7jVv8c5Fj3E9VhNjxT4snq   2021-07-23  622NFw5Yk0OReMJ2XWcXUh   \n",
       "3  spotify:artist:7sKxqpSqbIzphAKAhrqvlf   2021-06-04  1Lcuv3HMgEG36SkibQIspv   \n",
       "4  spotify:artist:6eUKZXaKkcviH0Ku9w2n3V   2021-10-29  32iAEBstCjauDhyKpGjTuq   \n",
       "\n",
       "  album_type                         album_name  \\\n",
       "0     single                         Easy On Me   \n",
       "1     single          STAY (with Justin Bieber)   \n",
       "2     single  INDUSTRY BABY (feat. Jack Harlow)   \n",
       "3     single                      Country Stuff   \n",
       "4      album                                  =   \n",
       "\n",
       "                              album_uri  \n",
       "0  spotify:album:224jZ4sUX7OhAuMwaxp86S  \n",
       "1  spotify:album:4QLAtpLNUsHEYrcHXmMIZZ  \n",
       "2  spotify:album:622NFw5Yk0OReMJ2XWcXUh  \n",
       "3  spotify:album:1Lcuv3HMgEG36SkibQIspv  \n",
       "4  spotify:album:32iAEBstCjauDhyKpGjTuq  \n",
       "\n",
       "[5 rows x 21 columns]"
      ]
     },
     "execution_count": 20,
     "metadata": {},
     "output_type": "execute_result"
    }
   ],
   "source": [
    "collected_spotify.head()"
   ]
  },
  {
   "cell_type": "code",
   "execution_count": 21,
   "metadata": {},
   "outputs": [
    {
     "data": {
      "text/html": [
       "<div>\n",
       "<style scoped>\n",
       "    .dataframe tbody tr th:only-of-type {\n",
       "        vertical-align: middle;\n",
       "    }\n",
       "\n",
       "    .dataframe tbody tr th {\n",
       "        vertical-align: top;\n",
       "    }\n",
       "\n",
       "    .dataframe thead th {\n",
       "        text-align: right;\n",
       "    }\n",
       "</style>\n",
       "<table border=\"1\" class=\"dataframe\">\n",
       "  <thead>\n",
       "    <tr style=\"text-align: right;\">\n",
       "      <th></th>\n",
       "      <th>Unnamed: 0</th>\n",
       "      <th>Unnamed: 0.1</th>\n",
       "      <th>original_index</th>\n",
       "      <th>song</th>\n",
       "      <th>artist</th>\n",
       "      <th>primary_artist</th>\n",
       "      <th>featured_artist_1</th>\n",
       "      <th>featured_artist_2</th>\n",
       "      <th>is_collected</th>\n",
       "      <th>match_song</th>\n",
       "      <th>...</th>\n",
       "      <th>spotify_popularity</th>\n",
       "      <th>song_id</th>\n",
       "      <th>song_uri</th>\n",
       "      <th>match_artist</th>\n",
       "      <th>artist_id</th>\n",
       "      <th>release_date</th>\n",
       "      <th>Album_id</th>\n",
       "      <th>album_type</th>\n",
       "      <th>album_name</th>\n",
       "      <th>album_uri</th>\n",
       "    </tr>\n",
       "  </thead>\n",
       "  <tbody>\n",
       "    <tr>\n",
       "      <th>0</th>\n",
       "      <td>0</td>\n",
       "      <td>0</td>\n",
       "      <td>0</td>\n",
       "      <td>Easy On Me</td>\n",
       "      <td>Adele</td>\n",
       "      <td>Adele</td>\n",
       "      <td>NaN</td>\n",
       "      <td>NaN</td>\n",
       "      <td>True</td>\n",
       "      <td>Easy On Me</td>\n",
       "      <td>...</td>\n",
       "      <td>95.0</td>\n",
       "      <td>0gplL1WMoJ6iYaPgMCL0gX</td>\n",
       "      <td>spotify:track:0gplL1WMoJ6iYaPgMCL0gX</td>\n",
       "      <td>Adele</td>\n",
       "      <td>spotify:artist:4dpARuHxo51G3z768sgnrY</td>\n",
       "      <td>2021-10-14</td>\n",
       "      <td>224jZ4sUX7OhAuMwaxp86S</td>\n",
       "      <td>single</td>\n",
       "      <td>Easy On Me</td>\n",
       "      <td>spotify:album:224jZ4sUX7OhAuMwaxp86S</td>\n",
       "    </tr>\n",
       "    <tr>\n",
       "      <th>1</th>\n",
       "      <td>1</td>\n",
       "      <td>1</td>\n",
       "      <td>1</td>\n",
       "      <td>Stay</td>\n",
       "      <td>The Kid LAROI &amp; Justin Bieber</td>\n",
       "      <td>The Kid LAROI</td>\n",
       "      <td>Justin Bieber</td>\n",
       "      <td>NaN</td>\n",
       "      <td>True</td>\n",
       "      <td>STAY (with Justin Bieber)</td>\n",
       "      <td>...</td>\n",
       "      <td>96.0</td>\n",
       "      <td>5HCyWlXZPP0y6Gqq8TgA20</td>\n",
       "      <td>spotify:track:5HCyWlXZPP0y6Gqq8TgA20</td>\n",
       "      <td>The Kid LAROI</td>\n",
       "      <td>spotify:artist:2tIP7SsRs7vjIcLrU85W8J</td>\n",
       "      <td>2021-07-09</td>\n",
       "      <td>4QLAtpLNUsHEYrcHXmMIZZ</td>\n",
       "      <td>single</td>\n",
       "      <td>STAY (with Justin Bieber)</td>\n",
       "      <td>spotify:album:4QLAtpLNUsHEYrcHXmMIZZ</td>\n",
       "    </tr>\n",
       "    <tr>\n",
       "      <th>2</th>\n",
       "      <td>2</td>\n",
       "      <td>2</td>\n",
       "      <td>2</td>\n",
       "      <td>Industry Baby</td>\n",
       "      <td>Lil Nas X &amp; Jack Harlow</td>\n",
       "      <td>Lil Nas X</td>\n",
       "      <td>Jack Harlow</td>\n",
       "      <td>NaN</td>\n",
       "      <td>True</td>\n",
       "      <td>INDUSTRY BABY (feat. Jack Harlow)</td>\n",
       "      <td>...</td>\n",
       "      <td>95.0</td>\n",
       "      <td>27NovPIUIRrOZoCHxABJwK</td>\n",
       "      <td>spotify:track:27NovPIUIRrOZoCHxABJwK</td>\n",
       "      <td>Lil Nas X</td>\n",
       "      <td>spotify:artist:7jVv8c5Fj3E9VhNjxT4snq</td>\n",
       "      <td>2021-07-23</td>\n",
       "      <td>622NFw5Yk0OReMJ2XWcXUh</td>\n",
       "      <td>single</td>\n",
       "      <td>INDUSTRY BABY (feat. Jack Harlow)</td>\n",
       "      <td>spotify:album:622NFw5Yk0OReMJ2XWcXUh</td>\n",
       "    </tr>\n",
       "    <tr>\n",
       "      <th>3</th>\n",
       "      <td>3</td>\n",
       "      <td>3</td>\n",
       "      <td>3</td>\n",
       "      <td>Fancy Like</td>\n",
       "      <td>Walker Hayes</td>\n",
       "      <td>Walker Hayes</td>\n",
       "      <td>NaN</td>\n",
       "      <td>NaN</td>\n",
       "      <td>True</td>\n",
       "      <td>Fancy Like</td>\n",
       "      <td>...</td>\n",
       "      <td>81.0</td>\n",
       "      <td>3ZozFqJJlDBNIm4xqxn2ZD</td>\n",
       "      <td>spotify:track:3ZozFqJJlDBNIm4xqxn2ZD</td>\n",
       "      <td>Walker Hayes</td>\n",
       "      <td>spotify:artist:7sKxqpSqbIzphAKAhrqvlf</td>\n",
       "      <td>2021-06-04</td>\n",
       "      <td>1Lcuv3HMgEG36SkibQIspv</td>\n",
       "      <td>single</td>\n",
       "      <td>Country Stuff</td>\n",
       "      <td>spotify:album:1Lcuv3HMgEG36SkibQIspv</td>\n",
       "    </tr>\n",
       "    <tr>\n",
       "      <th>4</th>\n",
       "      <td>4</td>\n",
       "      <td>4</td>\n",
       "      <td>4</td>\n",
       "      <td>Bad Habits</td>\n",
       "      <td>Ed Sheeran</td>\n",
       "      <td>Ed Sheeran</td>\n",
       "      <td>NaN</td>\n",
       "      <td>NaN</td>\n",
       "      <td>True</td>\n",
       "      <td>Bad Habits</td>\n",
       "      <td>...</td>\n",
       "      <td>95.0</td>\n",
       "      <td>3rmo8F54jFF8OgYsqTxm5d</td>\n",
       "      <td>spotify:track:3rmo8F54jFF8OgYsqTxm5d</td>\n",
       "      <td>Ed Sheeran</td>\n",
       "      <td>spotify:artist:6eUKZXaKkcviH0Ku9w2n3V</td>\n",
       "      <td>2021-10-29</td>\n",
       "      <td>32iAEBstCjauDhyKpGjTuq</td>\n",
       "      <td>album</td>\n",
       "      <td>=</td>\n",
       "      <td>spotify:album:32iAEBstCjauDhyKpGjTuq</td>\n",
       "    </tr>\n",
       "  </tbody>\n",
       "</table>\n",
       "<p>5 rows × 21 columns</p>\n",
       "</div>"
      ],
      "text/plain": [
       "   Unnamed: 0  Unnamed: 0.1  original_index           song  \\\n",
       "0           0             0               0     Easy On Me   \n",
       "1           1             1               1           Stay   \n",
       "2           2             2               2  Industry Baby   \n",
       "3           3             3               3     Fancy Like   \n",
       "4           4             4               4     Bad Habits   \n",
       "\n",
       "                          artist primary_artist featured_artist_1  \\\n",
       "0                          Adele          Adele               NaN   \n",
       "1  The Kid LAROI & Justin Bieber  The Kid LAROI     Justin Bieber   \n",
       "2        Lil Nas X & Jack Harlow      Lil Nas X       Jack Harlow   \n",
       "3                   Walker Hayes   Walker Hayes               NaN   \n",
       "4                     Ed Sheeran     Ed Sheeran               NaN   \n",
       "\n",
       "  featured_artist_2  is_collected                         match_song  ...  \\\n",
       "0               NaN          True                         Easy On Me  ...   \n",
       "1               NaN          True          STAY (with Justin Bieber)  ...   \n",
       "2               NaN          True  INDUSTRY BABY (feat. Jack Harlow)  ...   \n",
       "3               NaN          True                         Fancy Like  ...   \n",
       "4               NaN          True                         Bad Habits  ...   \n",
       "\n",
       "   spotify_popularity                 song_id  \\\n",
       "0                95.0  0gplL1WMoJ6iYaPgMCL0gX   \n",
       "1                96.0  5HCyWlXZPP0y6Gqq8TgA20   \n",
       "2                95.0  27NovPIUIRrOZoCHxABJwK   \n",
       "3                81.0  3ZozFqJJlDBNIm4xqxn2ZD   \n",
       "4                95.0  3rmo8F54jFF8OgYsqTxm5d   \n",
       "\n",
       "                               song_uri   match_artist  \\\n",
       "0  spotify:track:0gplL1WMoJ6iYaPgMCL0gX          Adele   \n",
       "1  spotify:track:5HCyWlXZPP0y6Gqq8TgA20  The Kid LAROI   \n",
       "2  spotify:track:27NovPIUIRrOZoCHxABJwK      Lil Nas X   \n",
       "3  spotify:track:3ZozFqJJlDBNIm4xqxn2ZD   Walker Hayes   \n",
       "4  spotify:track:3rmo8F54jFF8OgYsqTxm5d     Ed Sheeran   \n",
       "\n",
       "                               artist_id release_date                Album_id  \\\n",
       "0  spotify:artist:4dpARuHxo51G3z768sgnrY   2021-10-14  224jZ4sUX7OhAuMwaxp86S   \n",
       "1  spotify:artist:2tIP7SsRs7vjIcLrU85W8J   2021-07-09  4QLAtpLNUsHEYrcHXmMIZZ   \n",
       "2  spotify:artist:7jVv8c5Fj3E9VhNjxT4snq   2021-07-23  622NFw5Yk0OReMJ2XWcXUh   \n",
       "3  spotify:artist:7sKxqpSqbIzphAKAhrqvlf   2021-06-04  1Lcuv3HMgEG36SkibQIspv   \n",
       "4  spotify:artist:6eUKZXaKkcviH0Ku9w2n3V   2021-10-29  32iAEBstCjauDhyKpGjTuq   \n",
       "\n",
       "  album_type                         album_name  \\\n",
       "0     single                         Easy On Me   \n",
       "1     single          STAY (with Justin Bieber)   \n",
       "2     single  INDUSTRY BABY (feat. Jack Harlow)   \n",
       "3     single                      Country Stuff   \n",
       "4      album                                  =   \n",
       "\n",
       "                              album_uri  \n",
       "0  spotify:album:224jZ4sUX7OhAuMwaxp86S  \n",
       "1  spotify:album:4QLAtpLNUsHEYrcHXmMIZZ  \n",
       "2  spotify:album:622NFw5Yk0OReMJ2XWcXUh  \n",
       "3  spotify:album:1Lcuv3HMgEG36SkibQIspv  \n",
       "4  spotify:album:32iAEBstCjauDhyKpGjTuq  \n",
       "\n",
       "[5 rows x 21 columns]"
      ]
     },
     "execution_count": 21,
     "metadata": {},
     "output_type": "execute_result"
    }
   ],
   "source": [
    "collected_spotify.head()"
   ]
  },
  {
   "cell_type": "code",
   "execution_count": 22,
   "metadata": {},
   "outputs": [],
   "source": [
    "#collected_spotify.rename(columns={\"song\":\"song_1\", \"artist\":\"artist_1\"}, inplace=True)"
   ]
  },
  {
   "cell_type": "code",
   "execution_count": 23,
   "metadata": {},
   "outputs": [],
   "source": [
    "#compined_data = original_tracks.join(collected_spotify.set_index(\"original_index\"))"
   ]
  },
  {
   "cell_type": "code",
   "execution_count": 24,
   "metadata": {},
   "outputs": [],
   "source": [
    "#compined_data[compined_data[\"is_collected\"]== True]"
   ]
  },
  {
   "cell_type": "code",
   "execution_count": 25,
   "metadata": {},
   "outputs": [],
   "source": [
    "#final = compined_data[compined_data[\"is_collected\"]== True]"
   ]
  },
  {
   "cell_type": "code",
   "execution_count": 26,
   "metadata": {},
   "outputs": [],
   "source": [
    "#final[[\"song\",\"match_song\",\"primary_artist\",\"match_artist\"]]\n"
   ]
  },
  {
   "cell_type": "code",
   "execution_count": 27,
   "metadata": {},
   "outputs": [],
   "source": [
    "#compined_data[compined_data[\"song\"]==\"Easy On Me\"]"
   ]
  },
  {
   "cell_type": "code",
   "execution_count": 28,
   "metadata": {},
   "outputs": [],
   "source": [
    "compined_data = original_tracks.join(collected_spotify.set_index([\"song\",\"artist\"]), on=[\"song\",\"artist\"])"
   ]
  },
  {
   "cell_type": "code",
   "execution_count": 30,
   "metadata": {},
   "outputs": [],
   "source": [
    "final = compined_data[compined_data[\"is_collected\"]== True]"
   ]
  },
  {
   "cell_type": "code",
   "execution_count": 33,
   "metadata": {},
   "outputs": [
    {
     "name": "stdout",
     "output_type": "stream",
     "text": [
      "<class 'pandas.core.frame.DataFrame'>\n",
      "Int64Index: 231477 entries, 0 to 328169\n",
      "Data columns (total 26 columns):\n",
      " #   Column              Non-Null Count   Dtype  \n",
      "---  ------              --------------   -----  \n",
      " 0   date                231477 non-null  object \n",
      " 1   rank                231477 non-null  int64  \n",
      " 2   song                231477 non-null  object \n",
      " 3   artist              231477 non-null  object \n",
      " 4   last-week           211349 non-null  float64\n",
      " 5   peak-rank           231477 non-null  int64  \n",
      " 6   weeks-on-board      231477 non-null  int64  \n",
      " 7   Unnamed: 0          231477 non-null  int64  \n",
      " 8   Unnamed: 0.1        231477 non-null  int64  \n",
      " 9   original_index      231477 non-null  int64  \n",
      " 10  primary_artist      231477 non-null  object \n",
      " 11  featured_artist_1   39490 non-null   object \n",
      " 12  featured_artist_2   6228 non-null    object \n",
      " 13  is_collected        231477 non-null  bool   \n",
      " 14  match_song          231477 non-null  object \n",
      " 15  duration_ms         231477 non-null  float64\n",
      " 16  spotify_popularity  231477 non-null  float64\n",
      " 17  song_id             231477 non-null  object \n",
      " 18  song_uri            231477 non-null  object \n",
      " 19  match_artist        231477 non-null  object \n",
      " 20  artist_id           231477 non-null  object \n",
      " 21  release_date        231477 non-null  object \n",
      " 22  Album_id            231477 non-null  object \n",
      " 23  album_type          231477 non-null  object \n",
      " 24  album_name          231477 non-null  object \n",
      " 25  album_uri           231477 non-null  object \n",
      "dtypes: bool(1), float64(3), int64(6), object(16)\n",
      "memory usage: 46.1+ MB\n"
     ]
    }
   ],
   "source": [
    "final.info()"
   ]
  },
  {
   "cell_type": "code",
   "execution_count": 34,
   "metadata": {},
   "outputs": [
    {
     "data": {
      "text/html": [
       "<div>\n",
       "<style scoped>\n",
       "    .dataframe tbody tr th:only-of-type {\n",
       "        vertical-align: middle;\n",
       "    }\n",
       "\n",
       "    .dataframe tbody tr th {\n",
       "        vertical-align: top;\n",
       "    }\n",
       "\n",
       "    .dataframe thead th {\n",
       "        text-align: right;\n",
       "    }\n",
       "</style>\n",
       "<table border=\"1\" class=\"dataframe\">\n",
       "  <thead>\n",
       "    <tr style=\"text-align: right;\">\n",
       "      <th></th>\n",
       "      <th>date</th>\n",
       "      <th>release_date</th>\n",
       "      <th>rank</th>\n",
       "      <th>song</th>\n",
       "      <th>match_song</th>\n",
       "      <th>artist</th>\n",
       "      <th>match_artist</th>\n",
       "      <th>last-week</th>\n",
       "      <th>peak-rank</th>\n",
       "      <th>weeks-on-board</th>\n",
       "      <th>duration_ms</th>\n",
       "      <th>spotify_popularity</th>\n",
       "      <th>album_type</th>\n",
       "    </tr>\n",
       "  </thead>\n",
       "  <tbody>\n",
       "    <tr>\n",
       "      <th>0</th>\n",
       "      <td>2021-11-06</td>\n",
       "      <td>2021-10-14</td>\n",
       "      <td>1</td>\n",
       "      <td>Easy On Me</td>\n",
       "      <td>Easy On Me</td>\n",
       "      <td>Adele</td>\n",
       "      <td>Adele</td>\n",
       "      <td>1.0</td>\n",
       "      <td>1</td>\n",
       "      <td>3</td>\n",
       "      <td>224694.0</td>\n",
       "      <td>95.0</td>\n",
       "      <td>single</td>\n",
       "    </tr>\n",
       "    <tr>\n",
       "      <th>1</th>\n",
       "      <td>2021-11-06</td>\n",
       "      <td>2021-07-09</td>\n",
       "      <td>2</td>\n",
       "      <td>Stay</td>\n",
       "      <td>STAY (with Justin Bieber)</td>\n",
       "      <td>The Kid LAROI &amp; Justin Bieber</td>\n",
       "      <td>The Kid LAROI</td>\n",
       "      <td>2.0</td>\n",
       "      <td>1</td>\n",
       "      <td>16</td>\n",
       "      <td>141805.0</td>\n",
       "      <td>96.0</td>\n",
       "      <td>single</td>\n",
       "    </tr>\n",
       "    <tr>\n",
       "      <th>2</th>\n",
       "      <td>2021-11-06</td>\n",
       "      <td>2021-07-23</td>\n",
       "      <td>3</td>\n",
       "      <td>Industry Baby</td>\n",
       "      <td>INDUSTRY BABY (feat. Jack Harlow)</td>\n",
       "      <td>Lil Nas X &amp; Jack Harlow</td>\n",
       "      <td>Lil Nas X</td>\n",
       "      <td>3.0</td>\n",
       "      <td>1</td>\n",
       "      <td>14</td>\n",
       "      <td>212000.0</td>\n",
       "      <td>95.0</td>\n",
       "      <td>single</td>\n",
       "    </tr>\n",
       "    <tr>\n",
       "      <th>3</th>\n",
       "      <td>2021-11-06</td>\n",
       "      <td>2021-06-04</td>\n",
       "      <td>4</td>\n",
       "      <td>Fancy Like</td>\n",
       "      <td>Fancy Like</td>\n",
       "      <td>Walker Hayes</td>\n",
       "      <td>Walker Hayes</td>\n",
       "      <td>4.0</td>\n",
       "      <td>3</td>\n",
       "      <td>19</td>\n",
       "      <td>161853.0</td>\n",
       "      <td>81.0</td>\n",
       "      <td>single</td>\n",
       "    </tr>\n",
       "    <tr>\n",
       "      <th>4</th>\n",
       "      <td>2021-11-06</td>\n",
       "      <td>2021-10-29</td>\n",
       "      <td>5</td>\n",
       "      <td>Bad Habits</td>\n",
       "      <td>Bad Habits</td>\n",
       "      <td>Ed Sheeran</td>\n",
       "      <td>Ed Sheeran</td>\n",
       "      <td>5.0</td>\n",
       "      <td>2</td>\n",
       "      <td>18</td>\n",
       "      <td>230746.0</td>\n",
       "      <td>95.0</td>\n",
       "      <td>album</td>\n",
       "    </tr>\n",
       "    <tr>\n",
       "      <th>...</th>\n",
       "      <td>...</td>\n",
       "      <td>...</td>\n",
       "      <td>...</td>\n",
       "      <td>...</td>\n",
       "      <td>...</td>\n",
       "      <td>...</td>\n",
       "      <td>...</td>\n",
       "      <td>...</td>\n",
       "      <td>...</td>\n",
       "      <td>...</td>\n",
       "      <td>...</td>\n",
       "      <td>...</td>\n",
       "      <td>...</td>\n",
       "    </tr>\n",
       "    <tr>\n",
       "      <th>327955</th>\n",
       "      <td>1958-12-29</td>\n",
       "      <td>1986-01-01</td>\n",
       "      <td>69</td>\n",
       "      <td>Run Rudolph Run</td>\n",
       "      <td>Run Rudolph Run - Single Version</td>\n",
       "      <td>Chuck Berry</td>\n",
       "      <td>Chuck Berry</td>\n",
       "      <td>73.0</td>\n",
       "      <td>69</td>\n",
       "      <td>3</td>\n",
       "      <td>165733.0</td>\n",
       "      <td>70.0</td>\n",
       "      <td>album</td>\n",
       "    </tr>\n",
       "    <tr>\n",
       "      <th>328043</th>\n",
       "      <td>1958-12-22</td>\n",
       "      <td>1957-12-02</td>\n",
       "      <td>57</td>\n",
       "      <td>Jingle Bell Rock</td>\n",
       "      <td>Jingle Bell Rock</td>\n",
       "      <td>Bobby Helms</td>\n",
       "      <td>Bobby Helms</td>\n",
       "      <td>NaN</td>\n",
       "      <td>57</td>\n",
       "      <td>1</td>\n",
       "      <td>130973.0</td>\n",
       "      <td>77.0</td>\n",
       "      <td>single</td>\n",
       "    </tr>\n",
       "    <tr>\n",
       "      <th>328059</th>\n",
       "      <td>1958-12-22</td>\n",
       "      <td>1986-01-01</td>\n",
       "      <td>73</td>\n",
       "      <td>Run Rudolph Run</td>\n",
       "      <td>Run Rudolph Run - Single Version</td>\n",
       "      <td>Chuck Berry</td>\n",
       "      <td>Chuck Berry</td>\n",
       "      <td>83.0</td>\n",
       "      <td>73</td>\n",
       "      <td>2</td>\n",
       "      <td>165733.0</td>\n",
       "      <td>70.0</td>\n",
       "      <td>album</td>\n",
       "    </tr>\n",
       "    <tr>\n",
       "      <th>328072</th>\n",
       "      <td>1958-12-22</td>\n",
       "      <td>1942-01-01</td>\n",
       "      <td>86</td>\n",
       "      <td>White Christmas</td>\n",
       "      <td>White Christmas</td>\n",
       "      <td>Bing Crosby</td>\n",
       "      <td>Bing Crosby</td>\n",
       "      <td>NaN</td>\n",
       "      <td>86</td>\n",
       "      <td>1</td>\n",
       "      <td>177480.0</td>\n",
       "      <td>69.0</td>\n",
       "      <td>album</td>\n",
       "    </tr>\n",
       "    <tr>\n",
       "      <th>328169</th>\n",
       "      <td>1958-12-15</td>\n",
       "      <td>1986-01-01</td>\n",
       "      <td>83</td>\n",
       "      <td>Run Rudolph Run</td>\n",
       "      <td>Run Rudolph Run - Single Version</td>\n",
       "      <td>Chuck Berry</td>\n",
       "      <td>Chuck Berry</td>\n",
       "      <td>NaN</td>\n",
       "      <td>83</td>\n",
       "      <td>1</td>\n",
       "      <td>165733.0</td>\n",
       "      <td>70.0</td>\n",
       "      <td>album</td>\n",
       "    </tr>\n",
       "  </tbody>\n",
       "</table>\n",
       "<p>231477 rows × 13 columns</p>\n",
       "</div>"
      ],
      "text/plain": [
       "              date release_date  rank              song  \\\n",
       "0       2021-11-06   2021-10-14     1        Easy On Me   \n",
       "1       2021-11-06   2021-07-09     2              Stay   \n",
       "2       2021-11-06   2021-07-23     3     Industry Baby   \n",
       "3       2021-11-06   2021-06-04     4        Fancy Like   \n",
       "4       2021-11-06   2021-10-29     5        Bad Habits   \n",
       "...            ...          ...   ...               ...   \n",
       "327955  1958-12-29   1986-01-01    69   Run Rudolph Run   \n",
       "328043  1958-12-22   1957-12-02    57  Jingle Bell Rock   \n",
       "328059  1958-12-22   1986-01-01    73   Run Rudolph Run   \n",
       "328072  1958-12-22   1942-01-01    86   White Christmas   \n",
       "328169  1958-12-15   1986-01-01    83   Run Rudolph Run   \n",
       "\n",
       "                               match_song                         artist  \\\n",
       "0                              Easy On Me                          Adele   \n",
       "1               STAY (with Justin Bieber)  The Kid LAROI & Justin Bieber   \n",
       "2       INDUSTRY BABY (feat. Jack Harlow)        Lil Nas X & Jack Harlow   \n",
       "3                              Fancy Like                   Walker Hayes   \n",
       "4                              Bad Habits                     Ed Sheeran   \n",
       "...                                   ...                            ...   \n",
       "327955   Run Rudolph Run - Single Version                    Chuck Berry   \n",
       "328043                   Jingle Bell Rock                    Bobby Helms   \n",
       "328059   Run Rudolph Run - Single Version                    Chuck Berry   \n",
       "328072                    White Christmas                    Bing Crosby   \n",
       "328169   Run Rudolph Run - Single Version                    Chuck Berry   \n",
       "\n",
       "         match_artist  last-week  peak-rank  weeks-on-board  duration_ms  \\\n",
       "0               Adele        1.0          1               3     224694.0   \n",
       "1       The Kid LAROI        2.0          1              16     141805.0   \n",
       "2           Lil Nas X        3.0          1              14     212000.0   \n",
       "3        Walker Hayes        4.0          3              19     161853.0   \n",
       "4          Ed Sheeran        5.0          2              18     230746.0   \n",
       "...               ...        ...        ...             ...          ...   \n",
       "327955    Chuck Berry       73.0         69               3     165733.0   \n",
       "328043    Bobby Helms        NaN         57               1     130973.0   \n",
       "328059    Chuck Berry       83.0         73               2     165733.0   \n",
       "328072    Bing Crosby        NaN         86               1     177480.0   \n",
       "328169    Chuck Berry        NaN         83               1     165733.0   \n",
       "\n",
       "        spotify_popularity album_type  \n",
       "0                     95.0     single  \n",
       "1                     96.0     single  \n",
       "2                     95.0     single  \n",
       "3                     81.0     single  \n",
       "4                     95.0      album  \n",
       "...                    ...        ...  \n",
       "327955                70.0      album  \n",
       "328043                77.0     single  \n",
       "328059                70.0      album  \n",
       "328072                69.0      album  \n",
       "328169                70.0      album  \n",
       "\n",
       "[231477 rows x 13 columns]"
      ]
     },
     "execution_count": 34,
     "metadata": {},
     "output_type": "execute_result"
    }
   ],
   "source": [
    "final[[\"date\",\"release_date\",\"rank\",\"song\",\"match_song\",\"artist\",\"match_artist\",\"last-week\",\"peak-rank\",\"weeks-on-board\",\"duration_ms\",\"spotify_popularity\",\"album_type\"]]"
   ]
  },
  {
   "cell_type": "code",
   "execution_count": 36,
   "metadata": {},
   "outputs": [
    {
     "name": "stderr",
     "output_type": "stream",
     "text": [
      "D:\\Users\\Alfaisal\\Anaconda3\\lib\\site-packages\\ipykernel_launcher.py:1: SettingWithCopyWarning: \n",
      "A value is trying to be set on a copy of a slice from a DataFrame.\n",
      "Try using .loc[row_indexer,col_indexer] = value instead\n",
      "\n",
      "See the caveats in the documentation: https://pandas.pydata.org/pandas-docs/stable/user_guide/indexing.html#returning-a-view-versus-a-copy\n",
      "  \"\"\"Entry point for launching an IPython kernel.\n"
     ]
    }
   ],
   "source": [
    "final[\"date\"]= pd.to_datetime(final[\"date\"])"
   ]
  },
  {
   "cell_type": "code",
   "execution_count": 38,
   "metadata": {},
   "outputs": [
    {
     "name": "stdout",
     "output_type": "stream",
     "text": [
      "<class 'pandas.core.frame.DataFrame'>\n",
      "Int64Index: 231477 entries, 0 to 328169\n",
      "Data columns (total 26 columns):\n",
      " #   Column              Non-Null Count   Dtype         \n",
      "---  ------              --------------   -----         \n",
      " 0   date                231477 non-null  datetime64[ns]\n",
      " 1   rank                231477 non-null  int64         \n",
      " 2   song                231477 non-null  object        \n",
      " 3   artist              231477 non-null  object        \n",
      " 4   last-week           211349 non-null  float64       \n",
      " 5   peak-rank           231477 non-null  int64         \n",
      " 6   weeks-on-board      231477 non-null  int64         \n",
      " 7   Unnamed: 0          231477 non-null  int64         \n",
      " 8   Unnamed: 0.1        231477 non-null  int64         \n",
      " 9   original_index      231477 non-null  int64         \n",
      " 10  primary_artist      231477 non-null  object        \n",
      " 11  featured_artist_1   39490 non-null   object        \n",
      " 12  featured_artist_2   6228 non-null    object        \n",
      " 13  is_collected        231477 non-null  bool          \n",
      " 14  match_song          231477 non-null  object        \n",
      " 15  duration_ms         231477 non-null  float64       \n",
      " 16  spotify_popularity  231477 non-null  float64       \n",
      " 17  song_id             231477 non-null  object        \n",
      " 18  song_uri            231477 non-null  object        \n",
      " 19  match_artist        231477 non-null  object        \n",
      " 20  artist_id           231477 non-null  object        \n",
      " 21  release_date        231477 non-null  object        \n",
      " 22  Album_id            231477 non-null  object        \n",
      " 23  album_type          231477 non-null  object        \n",
      " 24  album_name          231477 non-null  object        \n",
      " 25  album_uri           231477 non-null  object        \n",
      "dtypes: bool(1), datetime64[ns](1), float64(3), int64(6), object(15)\n",
      "memory usage: 46.1+ MB\n"
     ]
    }
   ],
   "source": [
    "final.info()"
   ]
  },
  {
   "cell_type": "code",
   "execution_count": 49,
   "metadata": {},
   "outputs": [],
   "source": [
    "Through_The_Wire =final[(final[\"primary_artist\"] == \"Kanye West\") & (final[\"song\"] == \"Through The Wire\")]"
   ]
  },
  {
   "cell_type": "code",
   "execution_count": 52,
   "metadata": {},
   "outputs": [],
   "source": [
    "def cal_score(x):\n",
    "    return 101-x"
   ]
  },
  {
   "cell_type": "code",
   "execution_count": 55,
   "metadata": {},
   "outputs": [
    {
     "name": "stderr",
     "output_type": "stream",
     "text": [
      "D:\\Users\\Alfaisal\\Anaconda3\\lib\\site-packages\\ipykernel_launcher.py:1: SettingWithCopyWarning: \n",
      "A value is trying to be set on a copy of a slice from a DataFrame.\n",
      "Try using .loc[row_indexer,col_indexer] = value instead\n",
      "\n",
      "See the caveats in the documentation: https://pandas.pydata.org/pandas-docs/stable/user_guide/indexing.html#returning-a-view-versus-a-copy\n",
      "  \"\"\"Entry point for launching an IPython kernel.\n"
     ]
    }
   ],
   "source": [
    "Through_The_Wire[\"score\"]= Through_The_Wire[\"rank\"].apply(cal_score)"
   ]
  },
  {
   "cell_type": "code",
   "execution_count": 57,
   "metadata": {},
   "outputs": [
    {
     "data": {
      "text/plain": [
       "1369"
      ]
     },
     "execution_count": 57,
     "metadata": {},
     "output_type": "execute_result"
    }
   ],
   "source": [
    "Through_The_Wire[\"score\"].sum()"
   ]
  },
  {
   "cell_type": "code",
   "execution_count": 58,
   "metadata": {},
   "outputs": [
    {
     "name": "stderr",
     "output_type": "stream",
     "text": [
      "D:\\Users\\Alfaisal\\Anaconda3\\lib\\site-packages\\ipykernel_launcher.py:1: SettingWithCopyWarning: \n",
      "A value is trying to be set on a copy of a slice from a DataFrame.\n",
      "Try using .loc[row_indexer,col_indexer] = value instead\n",
      "\n",
      "See the caveats in the documentation: https://pandas.pydata.org/pandas-docs/stable/user_guide/indexing.html#returning-a-view-versus-a-copy\n",
      "  \"\"\"Entry point for launching an IPython kernel.\n"
     ]
    }
   ],
   "source": [
    "Through_The_Wire[\"total_score\"] = Through_The_Wire[\"score\"].sum()"
   ]
  },
  {
   "cell_type": "code",
   "execution_count": 62,
   "metadata": {},
   "outputs": [
    {
     "data": {
      "text/plain": [
       "21"
      ]
     },
     "execution_count": 62,
     "metadata": {},
     "output_type": "execute_result"
    }
   ],
   "source": [
    "Through_The_Wire[\"song\"].count()"
   ]
  },
  {
   "cell_type": "code",
   "execution_count": 63,
   "metadata": {},
   "outputs": [
    {
     "name": "stderr",
     "output_type": "stream",
     "text": [
      "D:\\Users\\Alfaisal\\Anaconda3\\lib\\site-packages\\ipykernel_launcher.py:1: SettingWithCopyWarning: \n",
      "A value is trying to be set on a copy of a slice from a DataFrame.\n",
      "Try using .loc[row_indexer,col_indexer] = value instead\n",
      "\n",
      "See the caveats in the documentation: https://pandas.pydata.org/pandas-docs/stable/user_guide/indexing.html#returning-a-view-versus-a-copy\n",
      "  \"\"\"Entry point for launching an IPython kernel.\n"
     ]
    }
   ],
   "source": [
    "Through_The_Wire[\"socre_percentage\"] = Through_The_Wire[\"total_score\"] / Through_The_Wire[\"song\"].count()"
   ]
  },
  {
   "cell_type": "code",
   "execution_count": 64,
   "metadata": {},
   "outputs": [
    {
     "data": {
      "text/html": [
       "<div>\n",
       "<style scoped>\n",
       "    .dataframe tbody tr th:only-of-type {\n",
       "        vertical-align: middle;\n",
       "    }\n",
       "\n",
       "    .dataframe tbody tr th {\n",
       "        vertical-align: top;\n",
       "    }\n",
       "\n",
       "    .dataframe thead th {\n",
       "        text-align: right;\n",
       "    }\n",
       "</style>\n",
       "<table border=\"1\" class=\"dataframe\">\n",
       "  <thead>\n",
       "    <tr style=\"text-align: right;\">\n",
       "      <th></th>\n",
       "      <th>date</th>\n",
       "      <th>rank</th>\n",
       "      <th>song</th>\n",
       "      <th>artist</th>\n",
       "      <th>last-week</th>\n",
       "      <th>peak-rank</th>\n",
       "      <th>weeks-on-board</th>\n",
       "      <th>Unnamed: 0</th>\n",
       "      <th>Unnamed: 0.1</th>\n",
       "      <th>original_index</th>\n",
       "      <th>...</th>\n",
       "      <th>match_artist</th>\n",
       "      <th>artist_id</th>\n",
       "      <th>release_date</th>\n",
       "      <th>Album_id</th>\n",
       "      <th>album_type</th>\n",
       "      <th>album_name</th>\n",
       "      <th>album_uri</th>\n",
       "      <th>score</th>\n",
       "      <th>total_score</th>\n",
       "      <th>socre_percentage</th>\n",
       "    </tr>\n",
       "  </thead>\n",
       "  <tbody>\n",
       "    <tr>\n",
       "      <th>91646</th>\n",
       "      <td>2004-04-17</td>\n",
       "      <td>47</td>\n",
       "      <td>Through The Wire</td>\n",
       "      <td>Kanye West</td>\n",
       "      <td>42.0</td>\n",
       "      <td>15</td>\n",
       "      <td>21</td>\n",
       "      <td>7900</td>\n",
       "      <td>7900</td>\n",
       "      <td>91646</td>\n",
       "      <td>...</td>\n",
       "      <td>Kanye West</td>\n",
       "      <td>spotify:artist:5K4W6rqBFWDnAN6FQUkS6x</td>\n",
       "      <td>2004-02-10</td>\n",
       "      <td>4Uv86qWpGTxf7fU7lG5X6F</td>\n",
       "      <td>album</td>\n",
       "      <td>The College Dropout</td>\n",
       "      <td>spotify:album:4Uv86qWpGTxf7fU7lG5X6F</td>\n",
       "      <td>54</td>\n",
       "      <td>1369</td>\n",
       "      <td>65.190476</td>\n",
       "    </tr>\n",
       "    <tr>\n",
       "      <th>91741</th>\n",
       "      <td>2004-04-10</td>\n",
       "      <td>42</td>\n",
       "      <td>Through The Wire</td>\n",
       "      <td>Kanye West</td>\n",
       "      <td>38.0</td>\n",
       "      <td>15</td>\n",
       "      <td>20</td>\n",
       "      <td>7900</td>\n",
       "      <td>7900</td>\n",
       "      <td>91646</td>\n",
       "      <td>...</td>\n",
       "      <td>Kanye West</td>\n",
       "      <td>spotify:artist:5K4W6rqBFWDnAN6FQUkS6x</td>\n",
       "      <td>2004-02-10</td>\n",
       "      <td>4Uv86qWpGTxf7fU7lG5X6F</td>\n",
       "      <td>album</td>\n",
       "      <td>The College Dropout</td>\n",
       "      <td>spotify:album:4Uv86qWpGTxf7fU7lG5X6F</td>\n",
       "      <td>59</td>\n",
       "      <td>1369</td>\n",
       "      <td>65.190476</td>\n",
       "    </tr>\n",
       "    <tr>\n",
       "      <th>91837</th>\n",
       "      <td>2004-04-03</td>\n",
       "      <td>38</td>\n",
       "      <td>Through The Wire</td>\n",
       "      <td>Kanye West</td>\n",
       "      <td>26.0</td>\n",
       "      <td>15</td>\n",
       "      <td>19</td>\n",
       "      <td>7900</td>\n",
       "      <td>7900</td>\n",
       "      <td>91646</td>\n",
       "      <td>...</td>\n",
       "      <td>Kanye West</td>\n",
       "      <td>spotify:artist:5K4W6rqBFWDnAN6FQUkS6x</td>\n",
       "      <td>2004-02-10</td>\n",
       "      <td>4Uv86qWpGTxf7fU7lG5X6F</td>\n",
       "      <td>album</td>\n",
       "      <td>The College Dropout</td>\n",
       "      <td>spotify:album:4Uv86qWpGTxf7fU7lG5X6F</td>\n",
       "      <td>63</td>\n",
       "      <td>1369</td>\n",
       "      <td>65.190476</td>\n",
       "    </tr>\n",
       "    <tr>\n",
       "      <th>91925</th>\n",
       "      <td>2004-03-27</td>\n",
       "      <td>26</td>\n",
       "      <td>Through The Wire</td>\n",
       "      <td>Kanye West</td>\n",
       "      <td>20.0</td>\n",
       "      <td>15</td>\n",
       "      <td>18</td>\n",
       "      <td>7900</td>\n",
       "      <td>7900</td>\n",
       "      <td>91646</td>\n",
       "      <td>...</td>\n",
       "      <td>Kanye West</td>\n",
       "      <td>spotify:artist:5K4W6rqBFWDnAN6FQUkS6x</td>\n",
       "      <td>2004-02-10</td>\n",
       "      <td>4Uv86qWpGTxf7fU7lG5X6F</td>\n",
       "      <td>album</td>\n",
       "      <td>The College Dropout</td>\n",
       "      <td>spotify:album:4Uv86qWpGTxf7fU7lG5X6F</td>\n",
       "      <td>75</td>\n",
       "      <td>1369</td>\n",
       "      <td>65.190476</td>\n",
       "    </tr>\n",
       "    <tr>\n",
       "      <th>92019</th>\n",
       "      <td>2004-03-20</td>\n",
       "      <td>20</td>\n",
       "      <td>Through The Wire</td>\n",
       "      <td>Kanye West</td>\n",
       "      <td>15.0</td>\n",
       "      <td>15</td>\n",
       "      <td>17</td>\n",
       "      <td>7900</td>\n",
       "      <td>7900</td>\n",
       "      <td>91646</td>\n",
       "      <td>...</td>\n",
       "      <td>Kanye West</td>\n",
       "      <td>spotify:artist:5K4W6rqBFWDnAN6FQUkS6x</td>\n",
       "      <td>2004-02-10</td>\n",
       "      <td>4Uv86qWpGTxf7fU7lG5X6F</td>\n",
       "      <td>album</td>\n",
       "      <td>The College Dropout</td>\n",
       "      <td>spotify:album:4Uv86qWpGTxf7fU7lG5X6F</td>\n",
       "      <td>81</td>\n",
       "      <td>1369</td>\n",
       "      <td>65.190476</td>\n",
       "    </tr>\n",
       "    <tr>\n",
       "      <th>92114</th>\n",
       "      <td>2004-03-13</td>\n",
       "      <td>15</td>\n",
       "      <td>Through The Wire</td>\n",
       "      <td>Kanye West</td>\n",
       "      <td>15.0</td>\n",
       "      <td>15</td>\n",
       "      <td>16</td>\n",
       "      <td>7900</td>\n",
       "      <td>7900</td>\n",
       "      <td>91646</td>\n",
       "      <td>...</td>\n",
       "      <td>Kanye West</td>\n",
       "      <td>spotify:artist:5K4W6rqBFWDnAN6FQUkS6x</td>\n",
       "      <td>2004-02-10</td>\n",
       "      <td>4Uv86qWpGTxf7fU7lG5X6F</td>\n",
       "      <td>album</td>\n",
       "      <td>The College Dropout</td>\n",
       "      <td>spotify:album:4Uv86qWpGTxf7fU7lG5X6F</td>\n",
       "      <td>86</td>\n",
       "      <td>1369</td>\n",
       "      <td>65.190476</td>\n",
       "    </tr>\n",
       "    <tr>\n",
       "      <th>92214</th>\n",
       "      <td>2004-03-06</td>\n",
       "      <td>15</td>\n",
       "      <td>Through The Wire</td>\n",
       "      <td>Kanye West</td>\n",
       "      <td>15.0</td>\n",
       "      <td>15</td>\n",
       "      <td>15</td>\n",
       "      <td>7900</td>\n",
       "      <td>7900</td>\n",
       "      <td>91646</td>\n",
       "      <td>...</td>\n",
       "      <td>Kanye West</td>\n",
       "      <td>spotify:artist:5K4W6rqBFWDnAN6FQUkS6x</td>\n",
       "      <td>2004-02-10</td>\n",
       "      <td>4Uv86qWpGTxf7fU7lG5X6F</td>\n",
       "      <td>album</td>\n",
       "      <td>The College Dropout</td>\n",
       "      <td>spotify:album:4Uv86qWpGTxf7fU7lG5X6F</td>\n",
       "      <td>86</td>\n",
       "      <td>1369</td>\n",
       "      <td>65.190476</td>\n",
       "    </tr>\n",
       "    <tr>\n",
       "      <th>92314</th>\n",
       "      <td>2004-02-28</td>\n",
       "      <td>15</td>\n",
       "      <td>Through The Wire</td>\n",
       "      <td>Kanye West</td>\n",
       "      <td>15.0</td>\n",
       "      <td>15</td>\n",
       "      <td>14</td>\n",
       "      <td>7900</td>\n",
       "      <td>7900</td>\n",
       "      <td>91646</td>\n",
       "      <td>...</td>\n",
       "      <td>Kanye West</td>\n",
       "      <td>spotify:artist:5K4W6rqBFWDnAN6FQUkS6x</td>\n",
       "      <td>2004-02-10</td>\n",
       "      <td>4Uv86qWpGTxf7fU7lG5X6F</td>\n",
       "      <td>album</td>\n",
       "      <td>The College Dropout</td>\n",
       "      <td>spotify:album:4Uv86qWpGTxf7fU7lG5X6F</td>\n",
       "      <td>86</td>\n",
       "      <td>1369</td>\n",
       "      <td>65.190476</td>\n",
       "    </tr>\n",
       "    <tr>\n",
       "      <th>92414</th>\n",
       "      <td>2004-02-21</td>\n",
       "      <td>15</td>\n",
       "      <td>Through The Wire</td>\n",
       "      <td>Kanye West</td>\n",
       "      <td>15.0</td>\n",
       "      <td>15</td>\n",
       "      <td>13</td>\n",
       "      <td>7900</td>\n",
       "      <td>7900</td>\n",
       "      <td>91646</td>\n",
       "      <td>...</td>\n",
       "      <td>Kanye West</td>\n",
       "      <td>spotify:artist:5K4W6rqBFWDnAN6FQUkS6x</td>\n",
       "      <td>2004-02-10</td>\n",
       "      <td>4Uv86qWpGTxf7fU7lG5X6F</td>\n",
       "      <td>album</td>\n",
       "      <td>The College Dropout</td>\n",
       "      <td>spotify:album:4Uv86qWpGTxf7fU7lG5X6F</td>\n",
       "      <td>86</td>\n",
       "      <td>1369</td>\n",
       "      <td>65.190476</td>\n",
       "    </tr>\n",
       "    <tr>\n",
       "      <th>92514</th>\n",
       "      <td>2004-02-14</td>\n",
       "      <td>15</td>\n",
       "      <td>Through The Wire</td>\n",
       "      <td>Kanye West</td>\n",
       "      <td>16.0</td>\n",
       "      <td>15</td>\n",
       "      <td>12</td>\n",
       "      <td>7900</td>\n",
       "      <td>7900</td>\n",
       "      <td>91646</td>\n",
       "      <td>...</td>\n",
       "      <td>Kanye West</td>\n",
       "      <td>spotify:artist:5K4W6rqBFWDnAN6FQUkS6x</td>\n",
       "      <td>2004-02-10</td>\n",
       "      <td>4Uv86qWpGTxf7fU7lG5X6F</td>\n",
       "      <td>album</td>\n",
       "      <td>The College Dropout</td>\n",
       "      <td>spotify:album:4Uv86qWpGTxf7fU7lG5X6F</td>\n",
       "      <td>86</td>\n",
       "      <td>1369</td>\n",
       "      <td>65.190476</td>\n",
       "    </tr>\n",
       "    <tr>\n",
       "      <th>92615</th>\n",
       "      <td>2004-02-07</td>\n",
       "      <td>16</td>\n",
       "      <td>Through The Wire</td>\n",
       "      <td>Kanye West</td>\n",
       "      <td>19.0</td>\n",
       "      <td>16</td>\n",
       "      <td>11</td>\n",
       "      <td>7900</td>\n",
       "      <td>7900</td>\n",
       "      <td>91646</td>\n",
       "      <td>...</td>\n",
       "      <td>Kanye West</td>\n",
       "      <td>spotify:artist:5K4W6rqBFWDnAN6FQUkS6x</td>\n",
       "      <td>2004-02-10</td>\n",
       "      <td>4Uv86qWpGTxf7fU7lG5X6F</td>\n",
       "      <td>album</td>\n",
       "      <td>The College Dropout</td>\n",
       "      <td>spotify:album:4Uv86qWpGTxf7fU7lG5X6F</td>\n",
       "      <td>85</td>\n",
       "      <td>1369</td>\n",
       "      <td>65.190476</td>\n",
       "    </tr>\n",
       "    <tr>\n",
       "      <th>92718</th>\n",
       "      <td>2004-01-31</td>\n",
       "      <td>19</td>\n",
       "      <td>Through The Wire</td>\n",
       "      <td>Kanye West</td>\n",
       "      <td>26.0</td>\n",
       "      <td>19</td>\n",
       "      <td>10</td>\n",
       "      <td>7900</td>\n",
       "      <td>7900</td>\n",
       "      <td>91646</td>\n",
       "      <td>...</td>\n",
       "      <td>Kanye West</td>\n",
       "      <td>spotify:artist:5K4W6rqBFWDnAN6FQUkS6x</td>\n",
       "      <td>2004-02-10</td>\n",
       "      <td>4Uv86qWpGTxf7fU7lG5X6F</td>\n",
       "      <td>album</td>\n",
       "      <td>The College Dropout</td>\n",
       "      <td>spotify:album:4Uv86qWpGTxf7fU7lG5X6F</td>\n",
       "      <td>82</td>\n",
       "      <td>1369</td>\n",
       "      <td>65.190476</td>\n",
       "    </tr>\n",
       "    <tr>\n",
       "      <th>92825</th>\n",
       "      <td>2004-01-24</td>\n",
       "      <td>26</td>\n",
       "      <td>Through The Wire</td>\n",
       "      <td>Kanye West</td>\n",
       "      <td>31.0</td>\n",
       "      <td>26</td>\n",
       "      <td>9</td>\n",
       "      <td>7900</td>\n",
       "      <td>7900</td>\n",
       "      <td>91646</td>\n",
       "      <td>...</td>\n",
       "      <td>Kanye West</td>\n",
       "      <td>spotify:artist:5K4W6rqBFWDnAN6FQUkS6x</td>\n",
       "      <td>2004-02-10</td>\n",
       "      <td>4Uv86qWpGTxf7fU7lG5X6F</td>\n",
       "      <td>album</td>\n",
       "      <td>The College Dropout</td>\n",
       "      <td>spotify:album:4Uv86qWpGTxf7fU7lG5X6F</td>\n",
       "      <td>75</td>\n",
       "      <td>1369</td>\n",
       "      <td>65.190476</td>\n",
       "    </tr>\n",
       "    <tr>\n",
       "      <th>92930</th>\n",
       "      <td>2004-01-17</td>\n",
       "      <td>31</td>\n",
       "      <td>Through The Wire</td>\n",
       "      <td>Kanye West</td>\n",
       "      <td>31.0</td>\n",
       "      <td>31</td>\n",
       "      <td>8</td>\n",
       "      <td>7900</td>\n",
       "      <td>7900</td>\n",
       "      <td>91646</td>\n",
       "      <td>...</td>\n",
       "      <td>Kanye West</td>\n",
       "      <td>spotify:artist:5K4W6rqBFWDnAN6FQUkS6x</td>\n",
       "      <td>2004-02-10</td>\n",
       "      <td>4Uv86qWpGTxf7fU7lG5X6F</td>\n",
       "      <td>album</td>\n",
       "      <td>The College Dropout</td>\n",
       "      <td>spotify:album:4Uv86qWpGTxf7fU7lG5X6F</td>\n",
       "      <td>70</td>\n",
       "      <td>1369</td>\n",
       "      <td>65.190476</td>\n",
       "    </tr>\n",
       "    <tr>\n",
       "      <th>93030</th>\n",
       "      <td>2004-01-10</td>\n",
       "      <td>31</td>\n",
       "      <td>Through The Wire</td>\n",
       "      <td>Kanye West</td>\n",
       "      <td>33.0</td>\n",
       "      <td>31</td>\n",
       "      <td>7</td>\n",
       "      <td>7900</td>\n",
       "      <td>7900</td>\n",
       "      <td>91646</td>\n",
       "      <td>...</td>\n",
       "      <td>Kanye West</td>\n",
       "      <td>spotify:artist:5K4W6rqBFWDnAN6FQUkS6x</td>\n",
       "      <td>2004-02-10</td>\n",
       "      <td>4Uv86qWpGTxf7fU7lG5X6F</td>\n",
       "      <td>album</td>\n",
       "      <td>The College Dropout</td>\n",
       "      <td>spotify:album:4Uv86qWpGTxf7fU7lG5X6F</td>\n",
       "      <td>70</td>\n",
       "      <td>1369</td>\n",
       "      <td>65.190476</td>\n",
       "    </tr>\n",
       "    <tr>\n",
       "      <th>93132</th>\n",
       "      <td>2004-01-03</td>\n",
       "      <td>33</td>\n",
       "      <td>Through The Wire</td>\n",
       "      <td>Kanye West</td>\n",
       "      <td>39.0</td>\n",
       "      <td>33</td>\n",
       "      <td>6</td>\n",
       "      <td>7900</td>\n",
       "      <td>7900</td>\n",
       "      <td>91646</td>\n",
       "      <td>...</td>\n",
       "      <td>Kanye West</td>\n",
       "      <td>spotify:artist:5K4W6rqBFWDnAN6FQUkS6x</td>\n",
       "      <td>2004-02-10</td>\n",
       "      <td>4Uv86qWpGTxf7fU7lG5X6F</td>\n",
       "      <td>album</td>\n",
       "      <td>The College Dropout</td>\n",
       "      <td>spotify:album:4Uv86qWpGTxf7fU7lG5X6F</td>\n",
       "      <td>68</td>\n",
       "      <td>1369</td>\n",
       "      <td>65.190476</td>\n",
       "    </tr>\n",
       "    <tr>\n",
       "      <th>93238</th>\n",
       "      <td>2003-12-27</td>\n",
       "      <td>39</td>\n",
       "      <td>Through The Wire</td>\n",
       "      <td>Kanye West</td>\n",
       "      <td>52.0</td>\n",
       "      <td>39</td>\n",
       "      <td>5</td>\n",
       "      <td>7900</td>\n",
       "      <td>7900</td>\n",
       "      <td>91646</td>\n",
       "      <td>...</td>\n",
       "      <td>Kanye West</td>\n",
       "      <td>spotify:artist:5K4W6rqBFWDnAN6FQUkS6x</td>\n",
       "      <td>2004-02-10</td>\n",
       "      <td>4Uv86qWpGTxf7fU7lG5X6F</td>\n",
       "      <td>album</td>\n",
       "      <td>The College Dropout</td>\n",
       "      <td>spotify:album:4Uv86qWpGTxf7fU7lG5X6F</td>\n",
       "      <td>62</td>\n",
       "      <td>1369</td>\n",
       "      <td>65.190476</td>\n",
       "    </tr>\n",
       "    <tr>\n",
       "      <th>93351</th>\n",
       "      <td>2003-12-20</td>\n",
       "      <td>52</td>\n",
       "      <td>Through The Wire</td>\n",
       "      <td>Kanye West</td>\n",
       "      <td>74.0</td>\n",
       "      <td>52</td>\n",
       "      <td>4</td>\n",
       "      <td>7900</td>\n",
       "      <td>7900</td>\n",
       "      <td>91646</td>\n",
       "      <td>...</td>\n",
       "      <td>Kanye West</td>\n",
       "      <td>spotify:artist:5K4W6rqBFWDnAN6FQUkS6x</td>\n",
       "      <td>2004-02-10</td>\n",
       "      <td>4Uv86qWpGTxf7fU7lG5X6F</td>\n",
       "      <td>album</td>\n",
       "      <td>The College Dropout</td>\n",
       "      <td>spotify:album:4Uv86qWpGTxf7fU7lG5X6F</td>\n",
       "      <td>49</td>\n",
       "      <td>1369</td>\n",
       "      <td>65.190476</td>\n",
       "    </tr>\n",
       "    <tr>\n",
       "      <th>93473</th>\n",
       "      <td>2003-12-13</td>\n",
       "      <td>74</td>\n",
       "      <td>Through The Wire</td>\n",
       "      <td>Kanye West</td>\n",
       "      <td>89.0</td>\n",
       "      <td>74</td>\n",
       "      <td>3</td>\n",
       "      <td>7900</td>\n",
       "      <td>7900</td>\n",
       "      <td>91646</td>\n",
       "      <td>...</td>\n",
       "      <td>Kanye West</td>\n",
       "      <td>spotify:artist:5K4W6rqBFWDnAN6FQUkS6x</td>\n",
       "      <td>2004-02-10</td>\n",
       "      <td>4Uv86qWpGTxf7fU7lG5X6F</td>\n",
       "      <td>album</td>\n",
       "      <td>The College Dropout</td>\n",
       "      <td>spotify:album:4Uv86qWpGTxf7fU7lG5X6F</td>\n",
       "      <td>27</td>\n",
       "      <td>1369</td>\n",
       "      <td>65.190476</td>\n",
       "    </tr>\n",
       "    <tr>\n",
       "      <th>93588</th>\n",
       "      <td>2003-12-06</td>\n",
       "      <td>89</td>\n",
       "      <td>Through The Wire</td>\n",
       "      <td>Kanye West</td>\n",
       "      <td>94.0</td>\n",
       "      <td>89</td>\n",
       "      <td>2</td>\n",
       "      <td>7900</td>\n",
       "      <td>7900</td>\n",
       "      <td>91646</td>\n",
       "      <td>...</td>\n",
       "      <td>Kanye West</td>\n",
       "      <td>spotify:artist:5K4W6rqBFWDnAN6FQUkS6x</td>\n",
       "      <td>2004-02-10</td>\n",
       "      <td>4Uv86qWpGTxf7fU7lG5X6F</td>\n",
       "      <td>album</td>\n",
       "      <td>The College Dropout</td>\n",
       "      <td>spotify:album:4Uv86qWpGTxf7fU7lG5X6F</td>\n",
       "      <td>12</td>\n",
       "      <td>1369</td>\n",
       "      <td>65.190476</td>\n",
       "    </tr>\n",
       "    <tr>\n",
       "      <th>93693</th>\n",
       "      <td>2003-11-29</td>\n",
       "      <td>94</td>\n",
       "      <td>Through The Wire</td>\n",
       "      <td>Kanye West</td>\n",
       "      <td>NaN</td>\n",
       "      <td>94</td>\n",
       "      <td>1</td>\n",
       "      <td>7900</td>\n",
       "      <td>7900</td>\n",
       "      <td>91646</td>\n",
       "      <td>...</td>\n",
       "      <td>Kanye West</td>\n",
       "      <td>spotify:artist:5K4W6rqBFWDnAN6FQUkS6x</td>\n",
       "      <td>2004-02-10</td>\n",
       "      <td>4Uv86qWpGTxf7fU7lG5X6F</td>\n",
       "      <td>album</td>\n",
       "      <td>The College Dropout</td>\n",
       "      <td>spotify:album:4Uv86qWpGTxf7fU7lG5X6F</td>\n",
       "      <td>7</td>\n",
       "      <td>1369</td>\n",
       "      <td>65.190476</td>\n",
       "    </tr>\n",
       "  </tbody>\n",
       "</table>\n",
       "<p>21 rows × 29 columns</p>\n",
       "</div>"
      ],
      "text/plain": [
       "            date  rank              song      artist  last-week  peak-rank  \\\n",
       "91646 2004-04-17    47  Through The Wire  Kanye West       42.0         15   \n",
       "91741 2004-04-10    42  Through The Wire  Kanye West       38.0         15   \n",
       "91837 2004-04-03    38  Through The Wire  Kanye West       26.0         15   \n",
       "91925 2004-03-27    26  Through The Wire  Kanye West       20.0         15   \n",
       "92019 2004-03-20    20  Through The Wire  Kanye West       15.0         15   \n",
       "92114 2004-03-13    15  Through The Wire  Kanye West       15.0         15   \n",
       "92214 2004-03-06    15  Through The Wire  Kanye West       15.0         15   \n",
       "92314 2004-02-28    15  Through The Wire  Kanye West       15.0         15   \n",
       "92414 2004-02-21    15  Through The Wire  Kanye West       15.0         15   \n",
       "92514 2004-02-14    15  Through The Wire  Kanye West       16.0         15   \n",
       "92615 2004-02-07    16  Through The Wire  Kanye West       19.0         16   \n",
       "92718 2004-01-31    19  Through The Wire  Kanye West       26.0         19   \n",
       "92825 2004-01-24    26  Through The Wire  Kanye West       31.0         26   \n",
       "92930 2004-01-17    31  Through The Wire  Kanye West       31.0         31   \n",
       "93030 2004-01-10    31  Through The Wire  Kanye West       33.0         31   \n",
       "93132 2004-01-03    33  Through The Wire  Kanye West       39.0         33   \n",
       "93238 2003-12-27    39  Through The Wire  Kanye West       52.0         39   \n",
       "93351 2003-12-20    52  Through The Wire  Kanye West       74.0         52   \n",
       "93473 2003-12-13    74  Through The Wire  Kanye West       89.0         74   \n",
       "93588 2003-12-06    89  Through The Wire  Kanye West       94.0         89   \n",
       "93693 2003-11-29    94  Through The Wire  Kanye West        NaN         94   \n",
       "\n",
       "       weeks-on-board  Unnamed: 0  Unnamed: 0.1  original_index  ...  \\\n",
       "91646              21        7900          7900           91646  ...   \n",
       "91741              20        7900          7900           91646  ...   \n",
       "91837              19        7900          7900           91646  ...   \n",
       "91925              18        7900          7900           91646  ...   \n",
       "92019              17        7900          7900           91646  ...   \n",
       "92114              16        7900          7900           91646  ...   \n",
       "92214              15        7900          7900           91646  ...   \n",
       "92314              14        7900          7900           91646  ...   \n",
       "92414              13        7900          7900           91646  ...   \n",
       "92514              12        7900          7900           91646  ...   \n",
       "92615              11        7900          7900           91646  ...   \n",
       "92718              10        7900          7900           91646  ...   \n",
       "92825               9        7900          7900           91646  ...   \n",
       "92930               8        7900          7900           91646  ...   \n",
       "93030               7        7900          7900           91646  ...   \n",
       "93132               6        7900          7900           91646  ...   \n",
       "93238               5        7900          7900           91646  ...   \n",
       "93351               4        7900          7900           91646  ...   \n",
       "93473               3        7900          7900           91646  ...   \n",
       "93588               2        7900          7900           91646  ...   \n",
       "93693               1        7900          7900           91646  ...   \n",
       "\n",
       "      match_artist                              artist_id release_date  \\\n",
       "91646   Kanye West  spotify:artist:5K4W6rqBFWDnAN6FQUkS6x   2004-02-10   \n",
       "91741   Kanye West  spotify:artist:5K4W6rqBFWDnAN6FQUkS6x   2004-02-10   \n",
       "91837   Kanye West  spotify:artist:5K4W6rqBFWDnAN6FQUkS6x   2004-02-10   \n",
       "91925   Kanye West  spotify:artist:5K4W6rqBFWDnAN6FQUkS6x   2004-02-10   \n",
       "92019   Kanye West  spotify:artist:5K4W6rqBFWDnAN6FQUkS6x   2004-02-10   \n",
       "92114   Kanye West  spotify:artist:5K4W6rqBFWDnAN6FQUkS6x   2004-02-10   \n",
       "92214   Kanye West  spotify:artist:5K4W6rqBFWDnAN6FQUkS6x   2004-02-10   \n",
       "92314   Kanye West  spotify:artist:5K4W6rqBFWDnAN6FQUkS6x   2004-02-10   \n",
       "92414   Kanye West  spotify:artist:5K4W6rqBFWDnAN6FQUkS6x   2004-02-10   \n",
       "92514   Kanye West  spotify:artist:5K4W6rqBFWDnAN6FQUkS6x   2004-02-10   \n",
       "92615   Kanye West  spotify:artist:5K4W6rqBFWDnAN6FQUkS6x   2004-02-10   \n",
       "92718   Kanye West  spotify:artist:5K4W6rqBFWDnAN6FQUkS6x   2004-02-10   \n",
       "92825   Kanye West  spotify:artist:5K4W6rqBFWDnAN6FQUkS6x   2004-02-10   \n",
       "92930   Kanye West  spotify:artist:5K4W6rqBFWDnAN6FQUkS6x   2004-02-10   \n",
       "93030   Kanye West  spotify:artist:5K4W6rqBFWDnAN6FQUkS6x   2004-02-10   \n",
       "93132   Kanye West  spotify:artist:5K4W6rqBFWDnAN6FQUkS6x   2004-02-10   \n",
       "93238   Kanye West  spotify:artist:5K4W6rqBFWDnAN6FQUkS6x   2004-02-10   \n",
       "93351   Kanye West  spotify:artist:5K4W6rqBFWDnAN6FQUkS6x   2004-02-10   \n",
       "93473   Kanye West  spotify:artist:5K4W6rqBFWDnAN6FQUkS6x   2004-02-10   \n",
       "93588   Kanye West  spotify:artist:5K4W6rqBFWDnAN6FQUkS6x   2004-02-10   \n",
       "93693   Kanye West  spotify:artist:5K4W6rqBFWDnAN6FQUkS6x   2004-02-10   \n",
       "\n",
       "                     Album_id album_type           album_name  \\\n",
       "91646  4Uv86qWpGTxf7fU7lG5X6F      album  The College Dropout   \n",
       "91741  4Uv86qWpGTxf7fU7lG5X6F      album  The College Dropout   \n",
       "91837  4Uv86qWpGTxf7fU7lG5X6F      album  The College Dropout   \n",
       "91925  4Uv86qWpGTxf7fU7lG5X6F      album  The College Dropout   \n",
       "92019  4Uv86qWpGTxf7fU7lG5X6F      album  The College Dropout   \n",
       "92114  4Uv86qWpGTxf7fU7lG5X6F      album  The College Dropout   \n",
       "92214  4Uv86qWpGTxf7fU7lG5X6F      album  The College Dropout   \n",
       "92314  4Uv86qWpGTxf7fU7lG5X6F      album  The College Dropout   \n",
       "92414  4Uv86qWpGTxf7fU7lG5X6F      album  The College Dropout   \n",
       "92514  4Uv86qWpGTxf7fU7lG5X6F      album  The College Dropout   \n",
       "92615  4Uv86qWpGTxf7fU7lG5X6F      album  The College Dropout   \n",
       "92718  4Uv86qWpGTxf7fU7lG5X6F      album  The College Dropout   \n",
       "92825  4Uv86qWpGTxf7fU7lG5X6F      album  The College Dropout   \n",
       "92930  4Uv86qWpGTxf7fU7lG5X6F      album  The College Dropout   \n",
       "93030  4Uv86qWpGTxf7fU7lG5X6F      album  The College Dropout   \n",
       "93132  4Uv86qWpGTxf7fU7lG5X6F      album  The College Dropout   \n",
       "93238  4Uv86qWpGTxf7fU7lG5X6F      album  The College Dropout   \n",
       "93351  4Uv86qWpGTxf7fU7lG5X6F      album  The College Dropout   \n",
       "93473  4Uv86qWpGTxf7fU7lG5X6F      album  The College Dropout   \n",
       "93588  4Uv86qWpGTxf7fU7lG5X6F      album  The College Dropout   \n",
       "93693  4Uv86qWpGTxf7fU7lG5X6F      album  The College Dropout   \n",
       "\n",
       "                                  album_uri score total_score socre_percentage  \n",
       "91646  spotify:album:4Uv86qWpGTxf7fU7lG5X6F    54        1369        65.190476  \n",
       "91741  spotify:album:4Uv86qWpGTxf7fU7lG5X6F    59        1369        65.190476  \n",
       "91837  spotify:album:4Uv86qWpGTxf7fU7lG5X6F    63        1369        65.190476  \n",
       "91925  spotify:album:4Uv86qWpGTxf7fU7lG5X6F    75        1369        65.190476  \n",
       "92019  spotify:album:4Uv86qWpGTxf7fU7lG5X6F    81        1369        65.190476  \n",
       "92114  spotify:album:4Uv86qWpGTxf7fU7lG5X6F    86        1369        65.190476  \n",
       "92214  spotify:album:4Uv86qWpGTxf7fU7lG5X6F    86        1369        65.190476  \n",
       "92314  spotify:album:4Uv86qWpGTxf7fU7lG5X6F    86        1369        65.190476  \n",
       "92414  spotify:album:4Uv86qWpGTxf7fU7lG5X6F    86        1369        65.190476  \n",
       "92514  spotify:album:4Uv86qWpGTxf7fU7lG5X6F    86        1369        65.190476  \n",
       "92615  spotify:album:4Uv86qWpGTxf7fU7lG5X6F    85        1369        65.190476  \n",
       "92718  spotify:album:4Uv86qWpGTxf7fU7lG5X6F    82        1369        65.190476  \n",
       "92825  spotify:album:4Uv86qWpGTxf7fU7lG5X6F    75        1369        65.190476  \n",
       "92930  spotify:album:4Uv86qWpGTxf7fU7lG5X6F    70        1369        65.190476  \n",
       "93030  spotify:album:4Uv86qWpGTxf7fU7lG5X6F    70        1369        65.190476  \n",
       "93132  spotify:album:4Uv86qWpGTxf7fU7lG5X6F    68        1369        65.190476  \n",
       "93238  spotify:album:4Uv86qWpGTxf7fU7lG5X6F    62        1369        65.190476  \n",
       "93351  spotify:album:4Uv86qWpGTxf7fU7lG5X6F    49        1369        65.190476  \n",
       "93473  spotify:album:4Uv86qWpGTxf7fU7lG5X6F    27        1369        65.190476  \n",
       "93588  spotify:album:4Uv86qWpGTxf7fU7lG5X6F    12        1369        65.190476  \n",
       "93693  spotify:album:4Uv86qWpGTxf7fU7lG5X6F     7        1369        65.190476  \n",
       "\n",
       "[21 rows x 29 columns]"
      ]
     },
     "execution_count": 64,
     "metadata": {},
     "output_type": "execute_result"
    }
   ],
   "source": [
    "Through_The_Wire"
   ]
  },
  {
   "cell_type": "code",
   "execution_count": 98,
   "metadata": {},
   "outputs": [
    {
     "data": {
      "application/vnd.plotly.v1+json": {
       "config": {
        "plotlyServerURL": "https://plot.ly"
       },
       "data": [
        {
         "alignmentgroup": "True",
         "hovertemplate": "date=%{x}<br>score=%{y}<extra></extra>",
         "legendgroup": "",
         "marker": {
          "color": "#636efa",
          "pattern": {
           "shape": ""
          }
         },
         "name": "",
         "offsetgroup": "",
         "orientation": "v",
         "showlegend": false,
         "textposition": "auto",
         "type": "bar",
         "x": [
          "2004-04-17T00:00:00",
          "2004-04-10T00:00:00",
          "2004-04-03T00:00:00",
          "2004-03-27T00:00:00",
          "2004-03-20T00:00:00",
          "2004-03-13T00:00:00",
          "2004-03-06T00:00:00",
          "2004-02-28T00:00:00",
          "2004-02-21T00:00:00",
          "2004-02-14T00:00:00",
          "2004-02-07T00:00:00",
          "2004-01-31T00:00:00",
          "2004-01-24T00:00:00",
          "2004-01-17T00:00:00",
          "2004-01-10T00:00:00",
          "2004-01-03T00:00:00",
          "2003-12-27T00:00:00",
          "2003-12-20T00:00:00",
          "2003-12-13T00:00:00",
          "2003-12-06T00:00:00",
          "2003-11-29T00:00:00"
         ],
         "xaxis": "x",
         "y": [
          54,
          59,
          63,
          75,
          81,
          86,
          86,
          86,
          86,
          86,
          85,
          82,
          75,
          70,
          70,
          68,
          62,
          49,
          27,
          12,
          7
         ],
         "yaxis": "y"
        }
       ],
       "layout": {
        "barmode": "relative",
        "legend": {
         "tracegroupgap": 0
        },
        "margin": {
         "t": 60
        },
        "template": {
         "data": {
          "bar": [
           {
            "error_x": {
             "color": "#2a3f5f"
            },
            "error_y": {
             "color": "#2a3f5f"
            },
            "marker": {
             "line": {
              "color": "#E5ECF6",
              "width": 0.5
             },
             "pattern": {
              "fillmode": "overlay",
              "size": 10,
              "solidity": 0.2
             }
            },
            "type": "bar"
           }
          ],
          "barpolar": [
           {
            "marker": {
             "line": {
              "color": "#E5ECF6",
              "width": 0.5
             },
             "pattern": {
              "fillmode": "overlay",
              "size": 10,
              "solidity": 0.2
             }
            },
            "type": "barpolar"
           }
          ],
          "carpet": [
           {
            "aaxis": {
             "endlinecolor": "#2a3f5f",
             "gridcolor": "white",
             "linecolor": "white",
             "minorgridcolor": "white",
             "startlinecolor": "#2a3f5f"
            },
            "baxis": {
             "endlinecolor": "#2a3f5f",
             "gridcolor": "white",
             "linecolor": "white",
             "minorgridcolor": "white",
             "startlinecolor": "#2a3f5f"
            },
            "type": "carpet"
           }
          ],
          "choropleth": [
           {
            "colorbar": {
             "outlinewidth": 0,
             "ticks": ""
            },
            "type": "choropleth"
           }
          ],
          "contour": [
           {
            "colorbar": {
             "outlinewidth": 0,
             "ticks": ""
            },
            "colorscale": [
             [
              0,
              "#0d0887"
             ],
             [
              0.1111111111111111,
              "#46039f"
             ],
             [
              0.2222222222222222,
              "#7201a8"
             ],
             [
              0.3333333333333333,
              "#9c179e"
             ],
             [
              0.4444444444444444,
              "#bd3786"
             ],
             [
              0.5555555555555556,
              "#d8576b"
             ],
             [
              0.6666666666666666,
              "#ed7953"
             ],
             [
              0.7777777777777778,
              "#fb9f3a"
             ],
             [
              0.8888888888888888,
              "#fdca26"
             ],
             [
              1,
              "#f0f921"
             ]
            ],
            "type": "contour"
           }
          ],
          "contourcarpet": [
           {
            "colorbar": {
             "outlinewidth": 0,
             "ticks": ""
            },
            "type": "contourcarpet"
           }
          ],
          "heatmap": [
           {
            "colorbar": {
             "outlinewidth": 0,
             "ticks": ""
            },
            "colorscale": [
             [
              0,
              "#0d0887"
             ],
             [
              0.1111111111111111,
              "#46039f"
             ],
             [
              0.2222222222222222,
              "#7201a8"
             ],
             [
              0.3333333333333333,
              "#9c179e"
             ],
             [
              0.4444444444444444,
              "#bd3786"
             ],
             [
              0.5555555555555556,
              "#d8576b"
             ],
             [
              0.6666666666666666,
              "#ed7953"
             ],
             [
              0.7777777777777778,
              "#fb9f3a"
             ],
             [
              0.8888888888888888,
              "#fdca26"
             ],
             [
              1,
              "#f0f921"
             ]
            ],
            "type": "heatmap"
           }
          ],
          "heatmapgl": [
           {
            "colorbar": {
             "outlinewidth": 0,
             "ticks": ""
            },
            "colorscale": [
             [
              0,
              "#0d0887"
             ],
             [
              0.1111111111111111,
              "#46039f"
             ],
             [
              0.2222222222222222,
              "#7201a8"
             ],
             [
              0.3333333333333333,
              "#9c179e"
             ],
             [
              0.4444444444444444,
              "#bd3786"
             ],
             [
              0.5555555555555556,
              "#d8576b"
             ],
             [
              0.6666666666666666,
              "#ed7953"
             ],
             [
              0.7777777777777778,
              "#fb9f3a"
             ],
             [
              0.8888888888888888,
              "#fdca26"
             ],
             [
              1,
              "#f0f921"
             ]
            ],
            "type": "heatmapgl"
           }
          ],
          "histogram": [
           {
            "marker": {
             "pattern": {
              "fillmode": "overlay",
              "size": 10,
              "solidity": 0.2
             }
            },
            "type": "histogram"
           }
          ],
          "histogram2d": [
           {
            "colorbar": {
             "outlinewidth": 0,
             "ticks": ""
            },
            "colorscale": [
             [
              0,
              "#0d0887"
             ],
             [
              0.1111111111111111,
              "#46039f"
             ],
             [
              0.2222222222222222,
              "#7201a8"
             ],
             [
              0.3333333333333333,
              "#9c179e"
             ],
             [
              0.4444444444444444,
              "#bd3786"
             ],
             [
              0.5555555555555556,
              "#d8576b"
             ],
             [
              0.6666666666666666,
              "#ed7953"
             ],
             [
              0.7777777777777778,
              "#fb9f3a"
             ],
             [
              0.8888888888888888,
              "#fdca26"
             ],
             [
              1,
              "#f0f921"
             ]
            ],
            "type": "histogram2d"
           }
          ],
          "histogram2dcontour": [
           {
            "colorbar": {
             "outlinewidth": 0,
             "ticks": ""
            },
            "colorscale": [
             [
              0,
              "#0d0887"
             ],
             [
              0.1111111111111111,
              "#46039f"
             ],
             [
              0.2222222222222222,
              "#7201a8"
             ],
             [
              0.3333333333333333,
              "#9c179e"
             ],
             [
              0.4444444444444444,
              "#bd3786"
             ],
             [
              0.5555555555555556,
              "#d8576b"
             ],
             [
              0.6666666666666666,
              "#ed7953"
             ],
             [
              0.7777777777777778,
              "#fb9f3a"
             ],
             [
              0.8888888888888888,
              "#fdca26"
             ],
             [
              1,
              "#f0f921"
             ]
            ],
            "type": "histogram2dcontour"
           }
          ],
          "mesh3d": [
           {
            "colorbar": {
             "outlinewidth": 0,
             "ticks": ""
            },
            "type": "mesh3d"
           }
          ],
          "parcoords": [
           {
            "line": {
             "colorbar": {
              "outlinewidth": 0,
              "ticks": ""
             }
            },
            "type": "parcoords"
           }
          ],
          "pie": [
           {
            "automargin": true,
            "type": "pie"
           }
          ],
          "scatter": [
           {
            "marker": {
             "colorbar": {
              "outlinewidth": 0,
              "ticks": ""
             }
            },
            "type": "scatter"
           }
          ],
          "scatter3d": [
           {
            "line": {
             "colorbar": {
              "outlinewidth": 0,
              "ticks": ""
             }
            },
            "marker": {
             "colorbar": {
              "outlinewidth": 0,
              "ticks": ""
             }
            },
            "type": "scatter3d"
           }
          ],
          "scattercarpet": [
           {
            "marker": {
             "colorbar": {
              "outlinewidth": 0,
              "ticks": ""
             }
            },
            "type": "scattercarpet"
           }
          ],
          "scattergeo": [
           {
            "marker": {
             "colorbar": {
              "outlinewidth": 0,
              "ticks": ""
             }
            },
            "type": "scattergeo"
           }
          ],
          "scattergl": [
           {
            "marker": {
             "colorbar": {
              "outlinewidth": 0,
              "ticks": ""
             }
            },
            "type": "scattergl"
           }
          ],
          "scattermapbox": [
           {
            "marker": {
             "colorbar": {
              "outlinewidth": 0,
              "ticks": ""
             }
            },
            "type": "scattermapbox"
           }
          ],
          "scatterpolar": [
           {
            "marker": {
             "colorbar": {
              "outlinewidth": 0,
              "ticks": ""
             }
            },
            "type": "scatterpolar"
           }
          ],
          "scatterpolargl": [
           {
            "marker": {
             "colorbar": {
              "outlinewidth": 0,
              "ticks": ""
             }
            },
            "type": "scatterpolargl"
           }
          ],
          "scatterternary": [
           {
            "marker": {
             "colorbar": {
              "outlinewidth": 0,
              "ticks": ""
             }
            },
            "type": "scatterternary"
           }
          ],
          "surface": [
           {
            "colorbar": {
             "outlinewidth": 0,
             "ticks": ""
            },
            "colorscale": [
             [
              0,
              "#0d0887"
             ],
             [
              0.1111111111111111,
              "#46039f"
             ],
             [
              0.2222222222222222,
              "#7201a8"
             ],
             [
              0.3333333333333333,
              "#9c179e"
             ],
             [
              0.4444444444444444,
              "#bd3786"
             ],
             [
              0.5555555555555556,
              "#d8576b"
             ],
             [
              0.6666666666666666,
              "#ed7953"
             ],
             [
              0.7777777777777778,
              "#fb9f3a"
             ],
             [
              0.8888888888888888,
              "#fdca26"
             ],
             [
              1,
              "#f0f921"
             ]
            ],
            "type": "surface"
           }
          ],
          "table": [
           {
            "cells": {
             "fill": {
              "color": "#EBF0F8"
             },
             "line": {
              "color": "white"
             }
            },
            "header": {
             "fill": {
              "color": "#C8D4E3"
             },
             "line": {
              "color": "white"
             }
            },
            "type": "table"
           }
          ]
         },
         "layout": {
          "annotationdefaults": {
           "arrowcolor": "#2a3f5f",
           "arrowhead": 0,
           "arrowwidth": 1
          },
          "autotypenumbers": "strict",
          "coloraxis": {
           "colorbar": {
            "outlinewidth": 0,
            "ticks": ""
           }
          },
          "colorscale": {
           "diverging": [
            [
             0,
             "#8e0152"
            ],
            [
             0.1,
             "#c51b7d"
            ],
            [
             0.2,
             "#de77ae"
            ],
            [
             0.3,
             "#f1b6da"
            ],
            [
             0.4,
             "#fde0ef"
            ],
            [
             0.5,
             "#f7f7f7"
            ],
            [
             0.6,
             "#e6f5d0"
            ],
            [
             0.7,
             "#b8e186"
            ],
            [
             0.8,
             "#7fbc41"
            ],
            [
             0.9,
             "#4d9221"
            ],
            [
             1,
             "#276419"
            ]
           ],
           "sequential": [
            [
             0,
             "#0d0887"
            ],
            [
             0.1111111111111111,
             "#46039f"
            ],
            [
             0.2222222222222222,
             "#7201a8"
            ],
            [
             0.3333333333333333,
             "#9c179e"
            ],
            [
             0.4444444444444444,
             "#bd3786"
            ],
            [
             0.5555555555555556,
             "#d8576b"
            ],
            [
             0.6666666666666666,
             "#ed7953"
            ],
            [
             0.7777777777777778,
             "#fb9f3a"
            ],
            [
             0.8888888888888888,
             "#fdca26"
            ],
            [
             1,
             "#f0f921"
            ]
           ],
           "sequentialminus": [
            [
             0,
             "#0d0887"
            ],
            [
             0.1111111111111111,
             "#46039f"
            ],
            [
             0.2222222222222222,
             "#7201a8"
            ],
            [
             0.3333333333333333,
             "#9c179e"
            ],
            [
             0.4444444444444444,
             "#bd3786"
            ],
            [
             0.5555555555555556,
             "#d8576b"
            ],
            [
             0.6666666666666666,
             "#ed7953"
            ],
            [
             0.7777777777777778,
             "#fb9f3a"
            ],
            [
             0.8888888888888888,
             "#fdca26"
            ],
            [
             1,
             "#f0f921"
            ]
           ]
          },
          "colorway": [
           "#636efa",
           "#EF553B",
           "#00cc96",
           "#ab63fa",
           "#FFA15A",
           "#19d3f3",
           "#FF6692",
           "#B6E880",
           "#FF97FF",
           "#FECB52"
          ],
          "font": {
           "color": "#2a3f5f"
          },
          "geo": {
           "bgcolor": "white",
           "lakecolor": "white",
           "landcolor": "#E5ECF6",
           "showlakes": true,
           "showland": true,
           "subunitcolor": "white"
          },
          "hoverlabel": {
           "align": "left"
          },
          "hovermode": "closest",
          "mapbox": {
           "style": "light"
          },
          "paper_bgcolor": "white",
          "plot_bgcolor": "#E5ECF6",
          "polar": {
           "angularaxis": {
            "gridcolor": "white",
            "linecolor": "white",
            "ticks": ""
           },
           "bgcolor": "#E5ECF6",
           "radialaxis": {
            "gridcolor": "white",
            "linecolor": "white",
            "ticks": ""
           }
          },
          "scene": {
           "xaxis": {
            "backgroundcolor": "#E5ECF6",
            "gridcolor": "white",
            "gridwidth": 2,
            "linecolor": "white",
            "showbackground": true,
            "ticks": "",
            "zerolinecolor": "white"
           },
           "yaxis": {
            "backgroundcolor": "#E5ECF6",
            "gridcolor": "white",
            "gridwidth": 2,
            "linecolor": "white",
            "showbackground": true,
            "ticks": "",
            "zerolinecolor": "white"
           },
           "zaxis": {
            "backgroundcolor": "#E5ECF6",
            "gridcolor": "white",
            "gridwidth": 2,
            "linecolor": "white",
            "showbackground": true,
            "ticks": "",
            "zerolinecolor": "white"
           }
          },
          "shapedefaults": {
           "line": {
            "color": "#2a3f5f"
           }
          },
          "ternary": {
           "aaxis": {
            "gridcolor": "white",
            "linecolor": "white",
            "ticks": ""
           },
           "baxis": {
            "gridcolor": "white",
            "linecolor": "white",
            "ticks": ""
           },
           "bgcolor": "#E5ECF6",
           "caxis": {
            "gridcolor": "white",
            "linecolor": "white",
            "ticks": ""
           }
          },
          "title": {
           "x": 0.05
          },
          "xaxis": {
           "automargin": true,
           "gridcolor": "white",
           "linecolor": "white",
           "ticks": "",
           "title": {
            "standoff": 15
           },
           "zerolinecolor": "white",
           "zerolinewidth": 2
          },
          "yaxis": {
           "automargin": true,
           "gridcolor": "white",
           "linecolor": "white",
           "ticks": "",
           "title": {
            "standoff": 15
           },
           "zerolinecolor": "white",
           "zerolinewidth": 2
          }
         }
        },
        "xaxis": {
         "anchor": "y",
         "domain": [
          0,
          1
         ],
         "title": {
          "text": "date"
         }
        },
        "yaxis": {
         "anchor": "x",
         "domain": [
          0,
          1
         ],
         "title": {
          "text": "score"
         }
        }
       }
      }
     },
     "metadata": {},
     "output_type": "display_data"
    }
   ],
   "source": [
    "fig = px.bar(Through_The_Wire, x='date', y='score')\n",
    "fig.show()"
   ]
  },
  {
   "cell_type": "code",
   "execution_count": 104,
   "metadata": {},
   "outputs": [
    {
     "data": {
      "application/vnd.plotly.v1+json": {
       "config": {
        "plotlyServerURL": "https://plot.ly"
       },
       "data": [
        {
         "alignmentgroup": "True",
         "hovertemplate": "song=%{x}<br>spotify_popularity=%{y}<extra></extra>",
         "legendgroup": "",
         "marker": {
          "color": "#636efa",
          "pattern": {
           "shape": ""
          }
         },
         "name": "",
         "offsetgroup": "",
         "orientation": "v",
         "showlegend": false,
         "textposition": "auto",
         "type": "bar",
         "x": [
          "Easy On Me",
          "Stay",
          "Industry Baby",
          "Fancy Like",
          "Bad Habits",
          "Way 2 Sexy",
          "Shivers",
          "Good 4 U",
          "Need To Know",
          "Levitating",
          "Essence",
          "Kiss Me More",
          "Heat Waves",
          "Beggin'",
          "Cold Heart (PNAU Remix)",
          "You Right",
          "Save Your Tears",
          "If I Didn't Love You",
          "Traitor",
          "Who Want Smoke??",
          "Knife Talk",
          "Meet Me At Our Spot",
          "Montero (Call Me By Your Name)",
          "Chasing After You",
          "Girls Want Girls",
          "Moth To A Flame",
          "Let's Go Brandon",
          "Thats What I Want",
          "Pepas",
          "Love Nwantiti (Ah Ah Ah)",
          "Take My Breath",
          "Happier Than Ever",
          "Wockesha",
          "Better Days",
          "Buy Dirt",
          "Ghost",
          "Lets Go Brandon",
          "Cold As You",
          "A-O-K",
          "You Should Probably Leave",
          "Thinking 'Bout You",
          "Memory I Don't Mess With",
          "Bubbly",
          "Wild Side",
          "Sharing Locations",
          "Gyalis",
          "I Was On A Boat That Day",
          "Family Ties",
          "Have Mercy",
          "Fair Trade"
         ],
         "xaxis": "x",
         "y": [
          95,
          96,
          95,
          81,
          95,
          88,
          95,
          95,
          93,
          89,
          79,
          89,
          91,
          92,
          96,
          89,
          92,
          74,
          93,
          81,
          89,
          90,
          90,
          76,
          85,
          92,
          52,
          95,
          94,
          93,
          83,
          92,
          75,
          90,
          83,
          92,
          58,
          75,
          81,
          78,
          76,
          72,
          81,
          81,
          77,
          75,
          65,
          84,
          81,
          88
         ],
         "yaxis": "y"
        }
       ],
       "layout": {
        "barmode": "relative",
        "legend": {
         "tracegroupgap": 0
        },
        "margin": {
         "t": 60
        },
        "template": {
         "data": {
          "bar": [
           {
            "error_x": {
             "color": "#2a3f5f"
            },
            "error_y": {
             "color": "#2a3f5f"
            },
            "marker": {
             "line": {
              "color": "#E5ECF6",
              "width": 0.5
             },
             "pattern": {
              "fillmode": "overlay",
              "size": 10,
              "solidity": 0.2
             }
            },
            "type": "bar"
           }
          ],
          "barpolar": [
           {
            "marker": {
             "line": {
              "color": "#E5ECF6",
              "width": 0.5
             },
             "pattern": {
              "fillmode": "overlay",
              "size": 10,
              "solidity": 0.2
             }
            },
            "type": "barpolar"
           }
          ],
          "carpet": [
           {
            "aaxis": {
             "endlinecolor": "#2a3f5f",
             "gridcolor": "white",
             "linecolor": "white",
             "minorgridcolor": "white",
             "startlinecolor": "#2a3f5f"
            },
            "baxis": {
             "endlinecolor": "#2a3f5f",
             "gridcolor": "white",
             "linecolor": "white",
             "minorgridcolor": "white",
             "startlinecolor": "#2a3f5f"
            },
            "type": "carpet"
           }
          ],
          "choropleth": [
           {
            "colorbar": {
             "outlinewidth": 0,
             "ticks": ""
            },
            "type": "choropleth"
           }
          ],
          "contour": [
           {
            "colorbar": {
             "outlinewidth": 0,
             "ticks": ""
            },
            "colorscale": [
             [
              0,
              "#0d0887"
             ],
             [
              0.1111111111111111,
              "#46039f"
             ],
             [
              0.2222222222222222,
              "#7201a8"
             ],
             [
              0.3333333333333333,
              "#9c179e"
             ],
             [
              0.4444444444444444,
              "#bd3786"
             ],
             [
              0.5555555555555556,
              "#d8576b"
             ],
             [
              0.6666666666666666,
              "#ed7953"
             ],
             [
              0.7777777777777778,
              "#fb9f3a"
             ],
             [
              0.8888888888888888,
              "#fdca26"
             ],
             [
              1,
              "#f0f921"
             ]
            ],
            "type": "contour"
           }
          ],
          "contourcarpet": [
           {
            "colorbar": {
             "outlinewidth": 0,
             "ticks": ""
            },
            "type": "contourcarpet"
           }
          ],
          "heatmap": [
           {
            "colorbar": {
             "outlinewidth": 0,
             "ticks": ""
            },
            "colorscale": [
             [
              0,
              "#0d0887"
             ],
             [
              0.1111111111111111,
              "#46039f"
             ],
             [
              0.2222222222222222,
              "#7201a8"
             ],
             [
              0.3333333333333333,
              "#9c179e"
             ],
             [
              0.4444444444444444,
              "#bd3786"
             ],
             [
              0.5555555555555556,
              "#d8576b"
             ],
             [
              0.6666666666666666,
              "#ed7953"
             ],
             [
              0.7777777777777778,
              "#fb9f3a"
             ],
             [
              0.8888888888888888,
              "#fdca26"
             ],
             [
              1,
              "#f0f921"
             ]
            ],
            "type": "heatmap"
           }
          ],
          "heatmapgl": [
           {
            "colorbar": {
             "outlinewidth": 0,
             "ticks": ""
            },
            "colorscale": [
             [
              0,
              "#0d0887"
             ],
             [
              0.1111111111111111,
              "#46039f"
             ],
             [
              0.2222222222222222,
              "#7201a8"
             ],
             [
              0.3333333333333333,
              "#9c179e"
             ],
             [
              0.4444444444444444,
              "#bd3786"
             ],
             [
              0.5555555555555556,
              "#d8576b"
             ],
             [
              0.6666666666666666,
              "#ed7953"
             ],
             [
              0.7777777777777778,
              "#fb9f3a"
             ],
             [
              0.8888888888888888,
              "#fdca26"
             ],
             [
              1,
              "#f0f921"
             ]
            ],
            "type": "heatmapgl"
           }
          ],
          "histogram": [
           {
            "marker": {
             "pattern": {
              "fillmode": "overlay",
              "size": 10,
              "solidity": 0.2
             }
            },
            "type": "histogram"
           }
          ],
          "histogram2d": [
           {
            "colorbar": {
             "outlinewidth": 0,
             "ticks": ""
            },
            "colorscale": [
             [
              0,
              "#0d0887"
             ],
             [
              0.1111111111111111,
              "#46039f"
             ],
             [
              0.2222222222222222,
              "#7201a8"
             ],
             [
              0.3333333333333333,
              "#9c179e"
             ],
             [
              0.4444444444444444,
              "#bd3786"
             ],
             [
              0.5555555555555556,
              "#d8576b"
             ],
             [
              0.6666666666666666,
              "#ed7953"
             ],
             [
              0.7777777777777778,
              "#fb9f3a"
             ],
             [
              0.8888888888888888,
              "#fdca26"
             ],
             [
              1,
              "#f0f921"
             ]
            ],
            "type": "histogram2d"
           }
          ],
          "histogram2dcontour": [
           {
            "colorbar": {
             "outlinewidth": 0,
             "ticks": ""
            },
            "colorscale": [
             [
              0,
              "#0d0887"
             ],
             [
              0.1111111111111111,
              "#46039f"
             ],
             [
              0.2222222222222222,
              "#7201a8"
             ],
             [
              0.3333333333333333,
              "#9c179e"
             ],
             [
              0.4444444444444444,
              "#bd3786"
             ],
             [
              0.5555555555555556,
              "#d8576b"
             ],
             [
              0.6666666666666666,
              "#ed7953"
             ],
             [
              0.7777777777777778,
              "#fb9f3a"
             ],
             [
              0.8888888888888888,
              "#fdca26"
             ],
             [
              1,
              "#f0f921"
             ]
            ],
            "type": "histogram2dcontour"
           }
          ],
          "mesh3d": [
           {
            "colorbar": {
             "outlinewidth": 0,
             "ticks": ""
            },
            "type": "mesh3d"
           }
          ],
          "parcoords": [
           {
            "line": {
             "colorbar": {
              "outlinewidth": 0,
              "ticks": ""
             }
            },
            "type": "parcoords"
           }
          ],
          "pie": [
           {
            "automargin": true,
            "type": "pie"
           }
          ],
          "scatter": [
           {
            "marker": {
             "colorbar": {
              "outlinewidth": 0,
              "ticks": ""
             }
            },
            "type": "scatter"
           }
          ],
          "scatter3d": [
           {
            "line": {
             "colorbar": {
              "outlinewidth": 0,
              "ticks": ""
             }
            },
            "marker": {
             "colorbar": {
              "outlinewidth": 0,
              "ticks": ""
             }
            },
            "type": "scatter3d"
           }
          ],
          "scattercarpet": [
           {
            "marker": {
             "colorbar": {
              "outlinewidth": 0,
              "ticks": ""
             }
            },
            "type": "scattercarpet"
           }
          ],
          "scattergeo": [
           {
            "marker": {
             "colorbar": {
              "outlinewidth": 0,
              "ticks": ""
             }
            },
            "type": "scattergeo"
           }
          ],
          "scattergl": [
           {
            "marker": {
             "colorbar": {
              "outlinewidth": 0,
              "ticks": ""
             }
            },
            "type": "scattergl"
           }
          ],
          "scattermapbox": [
           {
            "marker": {
             "colorbar": {
              "outlinewidth": 0,
              "ticks": ""
             }
            },
            "type": "scattermapbox"
           }
          ],
          "scatterpolar": [
           {
            "marker": {
             "colorbar": {
              "outlinewidth": 0,
              "ticks": ""
             }
            },
            "type": "scatterpolar"
           }
          ],
          "scatterpolargl": [
           {
            "marker": {
             "colorbar": {
              "outlinewidth": 0,
              "ticks": ""
             }
            },
            "type": "scatterpolargl"
           }
          ],
          "scatterternary": [
           {
            "marker": {
             "colorbar": {
              "outlinewidth": 0,
              "ticks": ""
             }
            },
            "type": "scatterternary"
           }
          ],
          "surface": [
           {
            "colorbar": {
             "outlinewidth": 0,
             "ticks": ""
            },
            "colorscale": [
             [
              0,
              "#0d0887"
             ],
             [
              0.1111111111111111,
              "#46039f"
             ],
             [
              0.2222222222222222,
              "#7201a8"
             ],
             [
              0.3333333333333333,
              "#9c179e"
             ],
             [
              0.4444444444444444,
              "#bd3786"
             ],
             [
              0.5555555555555556,
              "#d8576b"
             ],
             [
              0.6666666666666666,
              "#ed7953"
             ],
             [
              0.7777777777777778,
              "#fb9f3a"
             ],
             [
              0.8888888888888888,
              "#fdca26"
             ],
             [
              1,
              "#f0f921"
             ]
            ],
            "type": "surface"
           }
          ],
          "table": [
           {
            "cells": {
             "fill": {
              "color": "#EBF0F8"
             },
             "line": {
              "color": "white"
             }
            },
            "header": {
             "fill": {
              "color": "#C8D4E3"
             },
             "line": {
              "color": "white"
             }
            },
            "type": "table"
           }
          ]
         },
         "layout": {
          "annotationdefaults": {
           "arrowcolor": "#2a3f5f",
           "arrowhead": 0,
           "arrowwidth": 1
          },
          "autotypenumbers": "strict",
          "coloraxis": {
           "colorbar": {
            "outlinewidth": 0,
            "ticks": ""
           }
          },
          "colorscale": {
           "diverging": [
            [
             0,
             "#8e0152"
            ],
            [
             0.1,
             "#c51b7d"
            ],
            [
             0.2,
             "#de77ae"
            ],
            [
             0.3,
             "#f1b6da"
            ],
            [
             0.4,
             "#fde0ef"
            ],
            [
             0.5,
             "#f7f7f7"
            ],
            [
             0.6,
             "#e6f5d0"
            ],
            [
             0.7,
             "#b8e186"
            ],
            [
             0.8,
             "#7fbc41"
            ],
            [
             0.9,
             "#4d9221"
            ],
            [
             1,
             "#276419"
            ]
           ],
           "sequential": [
            [
             0,
             "#0d0887"
            ],
            [
             0.1111111111111111,
             "#46039f"
            ],
            [
             0.2222222222222222,
             "#7201a8"
            ],
            [
             0.3333333333333333,
             "#9c179e"
            ],
            [
             0.4444444444444444,
             "#bd3786"
            ],
            [
             0.5555555555555556,
             "#d8576b"
            ],
            [
             0.6666666666666666,
             "#ed7953"
            ],
            [
             0.7777777777777778,
             "#fb9f3a"
            ],
            [
             0.8888888888888888,
             "#fdca26"
            ],
            [
             1,
             "#f0f921"
            ]
           ],
           "sequentialminus": [
            [
             0,
             "#0d0887"
            ],
            [
             0.1111111111111111,
             "#46039f"
            ],
            [
             0.2222222222222222,
             "#7201a8"
            ],
            [
             0.3333333333333333,
             "#9c179e"
            ],
            [
             0.4444444444444444,
             "#bd3786"
            ],
            [
             0.5555555555555556,
             "#d8576b"
            ],
            [
             0.6666666666666666,
             "#ed7953"
            ],
            [
             0.7777777777777778,
             "#fb9f3a"
            ],
            [
             0.8888888888888888,
             "#fdca26"
            ],
            [
             1,
             "#f0f921"
            ]
           ]
          },
          "colorway": [
           "#636efa",
           "#EF553B",
           "#00cc96",
           "#ab63fa",
           "#FFA15A",
           "#19d3f3",
           "#FF6692",
           "#B6E880",
           "#FF97FF",
           "#FECB52"
          ],
          "font": {
           "color": "#2a3f5f"
          },
          "geo": {
           "bgcolor": "white",
           "lakecolor": "white",
           "landcolor": "#E5ECF6",
           "showlakes": true,
           "showland": true,
           "subunitcolor": "white"
          },
          "hoverlabel": {
           "align": "left"
          },
          "hovermode": "closest",
          "mapbox": {
           "style": "light"
          },
          "paper_bgcolor": "white",
          "plot_bgcolor": "#E5ECF6",
          "polar": {
           "angularaxis": {
            "gridcolor": "white",
            "linecolor": "white",
            "ticks": ""
           },
           "bgcolor": "#E5ECF6",
           "radialaxis": {
            "gridcolor": "white",
            "linecolor": "white",
            "ticks": ""
           }
          },
          "scene": {
           "xaxis": {
            "backgroundcolor": "#E5ECF6",
            "gridcolor": "white",
            "gridwidth": 2,
            "linecolor": "white",
            "showbackground": true,
            "ticks": "",
            "zerolinecolor": "white"
           },
           "yaxis": {
            "backgroundcolor": "#E5ECF6",
            "gridcolor": "white",
            "gridwidth": 2,
            "linecolor": "white",
            "showbackground": true,
            "ticks": "",
            "zerolinecolor": "white"
           },
           "zaxis": {
            "backgroundcolor": "#E5ECF6",
            "gridcolor": "white",
            "gridwidth": 2,
            "linecolor": "white",
            "showbackground": true,
            "ticks": "",
            "zerolinecolor": "white"
           }
          },
          "shapedefaults": {
           "line": {
            "color": "#2a3f5f"
           }
          },
          "ternary": {
           "aaxis": {
            "gridcolor": "white",
            "linecolor": "white",
            "ticks": ""
           },
           "baxis": {
            "gridcolor": "white",
            "linecolor": "white",
            "ticks": ""
           },
           "bgcolor": "#E5ECF6",
           "caxis": {
            "gridcolor": "white",
            "linecolor": "white",
            "ticks": ""
           }
          },
          "title": {
           "x": 0.05
          },
          "xaxis": {
           "automargin": true,
           "gridcolor": "white",
           "linecolor": "white",
           "ticks": "",
           "title": {
            "standoff": 15
           },
           "zerolinecolor": "white",
           "zerolinewidth": 2
          },
          "yaxis": {
           "automargin": true,
           "gridcolor": "white",
           "linecolor": "white",
           "ticks": "",
           "title": {
            "standoff": 15
           },
           "zerolinecolor": "white",
           "zerolinewidth": 2
          }
         }
        },
        "xaxis": {
         "anchor": "y",
         "domain": [
          0,
          1
         ],
         "title": {
          "text": "song"
         }
        },
        "yaxis": {
         "anchor": "x",
         "domain": [
          0,
          1
         ],
         "title": {
          "text": "spotify_popularity"
         }
        }
       }
      }
     },
     "metadata": {},
     "output_type": "display_data"
    }
   ],
   "source": [
    "fig = px.bar(final.head(50), x='song', y='spotify_popularity')\n",
    "fig.show()"
   ]
  },
  {
   "cell_type": "code",
   "execution_count": null,
   "metadata": {},
   "outputs": [],
   "source": []
  }
 ],
 "metadata": {
  "interpreter": {
   "hash": "210e85c458e31a8f2c053c2a54b074cdfa1df36586be642848617406f9269a8b"
  },
  "kernelspec": {
   "display_name": "Python 3.6.5 ('base')",
   "language": "python",
   "name": "python3"
  },
  "language_info": {
   "codemirror_mode": {
    "name": "ipython",
    "version": 3
   },
   "file_extension": ".py",
   "mimetype": "text/x-python",
   "name": "python",
   "nbconvert_exporter": "python",
   "pygments_lexer": "ipython3",
   "version": "3.6.5"
  },
  "orig_nbformat": 4
 },
 "nbformat": 4,
 "nbformat_minor": 2
}
