{
 "cells": [
  {
   "cell_type": "markdown",
   "metadata": {},
   "source": [
    "# Hit Song Perdection "
   ]
  },
  {
   "cell_type": "markdown",
   "metadata": {},
   "source": [
    "## Introduction"
   ]
  },
  {
   "cell_type": "markdown",
   "metadata": {},
   "source": [
    "- After collecting the data from spotify, I need to merge it with the original dataset. To have a final dataset to run a model on. "
   ]
  },
  {
   "cell_type": "code",
   "execution_count": 2,
   "metadata": {},
   "outputs": [],
   "source": [
    "# importing libraries \n",
    "import pandas as pd\n",
    "import matplotlib.pyplot as plt\n",
    "import plotly.express as px\n"
   ]
  },
  {
   "cell_type": "code",
   "execution_count": 4,
   "metadata": {},
   "outputs": [],
   "source": [
    "# loading in the original dataset and the collected dataset \n",
    "original_tracks = pd.read_csv(\"../data/original_hot_100.csv\")\n",
    "collected_spotify = pd.read_csv(\"../data/tracks_spotify_all.csv\")"
   ]
  },
  {
   "cell_type": "code",
   "execution_count": 5,
   "metadata": {},
   "outputs": [
    {
     "data": {
      "text/html": [
       "<div>\n",
       "<style scoped>\n",
       "    .dataframe tbody tr th:only-of-type {\n",
       "        vertical-align: middle;\n",
       "    }\n",
       "\n",
       "    .dataframe tbody tr th {\n",
       "        vertical-align: top;\n",
       "    }\n",
       "\n",
       "    .dataframe thead th {\n",
       "        text-align: right;\n",
       "    }\n",
       "</style>\n",
       "<table border=\"1\" class=\"dataframe\">\n",
       "  <thead>\n",
       "    <tr style=\"text-align: right;\">\n",
       "      <th></th>\n",
       "      <th>date</th>\n",
       "      <th>rank</th>\n",
       "      <th>song</th>\n",
       "      <th>artist</th>\n",
       "      <th>last-week</th>\n",
       "      <th>peak-rank</th>\n",
       "      <th>weeks-on-board</th>\n",
       "    </tr>\n",
       "  </thead>\n",
       "  <tbody>\n",
       "    <tr>\n",
       "      <th>0</th>\n",
       "      <td>2021-11-06</td>\n",
       "      <td>1</td>\n",
       "      <td>Easy On Me</td>\n",
       "      <td>Adele</td>\n",
       "      <td>1.0</td>\n",
       "      <td>1</td>\n",
       "      <td>3</td>\n",
       "    </tr>\n",
       "    <tr>\n",
       "      <th>1</th>\n",
       "      <td>2021-11-06</td>\n",
       "      <td>2</td>\n",
       "      <td>Stay</td>\n",
       "      <td>The Kid LAROI &amp; Justin Bieber</td>\n",
       "      <td>2.0</td>\n",
       "      <td>1</td>\n",
       "      <td>16</td>\n",
       "    </tr>\n",
       "    <tr>\n",
       "      <th>2</th>\n",
       "      <td>2021-11-06</td>\n",
       "      <td>3</td>\n",
       "      <td>Industry Baby</td>\n",
       "      <td>Lil Nas X &amp; Jack Harlow</td>\n",
       "      <td>3.0</td>\n",
       "      <td>1</td>\n",
       "      <td>14</td>\n",
       "    </tr>\n",
       "    <tr>\n",
       "      <th>3</th>\n",
       "      <td>2021-11-06</td>\n",
       "      <td>4</td>\n",
       "      <td>Fancy Like</td>\n",
       "      <td>Walker Hayes</td>\n",
       "      <td>4.0</td>\n",
       "      <td>3</td>\n",
       "      <td>19</td>\n",
       "    </tr>\n",
       "    <tr>\n",
       "      <th>4</th>\n",
       "      <td>2021-11-06</td>\n",
       "      <td>5</td>\n",
       "      <td>Bad Habits</td>\n",
       "      <td>Ed Sheeran</td>\n",
       "      <td>5.0</td>\n",
       "      <td>2</td>\n",
       "      <td>18</td>\n",
       "    </tr>\n",
       "  </tbody>\n",
       "</table>\n",
       "</div>"
      ],
      "text/plain": [
       "         date  rank           song                         artist  last-week  \\\n",
       "0  2021-11-06     1     Easy On Me                          Adele        1.0   \n",
       "1  2021-11-06     2           Stay  The Kid LAROI & Justin Bieber        2.0   \n",
       "2  2021-11-06     3  Industry Baby        Lil Nas X & Jack Harlow        3.0   \n",
       "3  2021-11-06     4     Fancy Like                   Walker Hayes        4.0   \n",
       "4  2021-11-06     5     Bad Habits                     Ed Sheeran        5.0   \n",
       "\n",
       "   peak-rank  weeks-on-board  \n",
       "0          1               3  \n",
       "1          1              16  \n",
       "2          1              14  \n",
       "3          3              19  \n",
       "4          2              18  "
      ]
     },
     "execution_count": 5,
     "metadata": {},
     "output_type": "execute_result"
    }
   ],
   "source": [
    "original_tracks.head()"
   ]
  },
  {
   "cell_type": "code",
   "execution_count": 6,
   "metadata": {},
   "outputs": [
    {
     "data": {
      "text/html": [
       "<div>\n",
       "<style scoped>\n",
       "    .dataframe tbody tr th:only-of-type {\n",
       "        vertical-align: middle;\n",
       "    }\n",
       "\n",
       "    .dataframe tbody tr th {\n",
       "        vertical-align: top;\n",
       "    }\n",
       "\n",
       "    .dataframe thead th {\n",
       "        text-align: right;\n",
       "    }\n",
       "</style>\n",
       "<table border=\"1\" class=\"dataframe\">\n",
       "  <thead>\n",
       "    <tr style=\"text-align: right;\">\n",
       "      <th></th>\n",
       "      <th>Unnamed: 0</th>\n",
       "      <th>Unnamed: 0.1</th>\n",
       "      <th>original_index</th>\n",
       "      <th>song</th>\n",
       "      <th>artist</th>\n",
       "      <th>primary_artist</th>\n",
       "      <th>featured_artist_1</th>\n",
       "      <th>featured_artist_2</th>\n",
       "      <th>is_collected</th>\n",
       "      <th>match_song</th>\n",
       "      <th>...</th>\n",
       "      <th>spotify_popularity</th>\n",
       "      <th>song_id</th>\n",
       "      <th>song_uri</th>\n",
       "      <th>match_artist</th>\n",
       "      <th>artist_id</th>\n",
       "      <th>release_date</th>\n",
       "      <th>Album_id</th>\n",
       "      <th>album_type</th>\n",
       "      <th>album_name</th>\n",
       "      <th>album_uri</th>\n",
       "    </tr>\n",
       "  </thead>\n",
       "  <tbody>\n",
       "    <tr>\n",
       "      <th>0</th>\n",
       "      <td>0</td>\n",
       "      <td>0</td>\n",
       "      <td>0</td>\n",
       "      <td>Easy On Me</td>\n",
       "      <td>Adele</td>\n",
       "      <td>Adele</td>\n",
       "      <td>NaN</td>\n",
       "      <td>NaN</td>\n",
       "      <td>True</td>\n",
       "      <td>Easy On Me</td>\n",
       "      <td>...</td>\n",
       "      <td>95.0</td>\n",
       "      <td>0gplL1WMoJ6iYaPgMCL0gX</td>\n",
       "      <td>spotify:track:0gplL1WMoJ6iYaPgMCL0gX</td>\n",
       "      <td>Adele</td>\n",
       "      <td>spotify:artist:4dpARuHxo51G3z768sgnrY</td>\n",
       "      <td>2021-10-14</td>\n",
       "      <td>224jZ4sUX7OhAuMwaxp86S</td>\n",
       "      <td>single</td>\n",
       "      <td>Easy On Me</td>\n",
       "      <td>spotify:album:224jZ4sUX7OhAuMwaxp86S</td>\n",
       "    </tr>\n",
       "    <tr>\n",
       "      <th>1</th>\n",
       "      <td>1</td>\n",
       "      <td>1</td>\n",
       "      <td>1</td>\n",
       "      <td>Stay</td>\n",
       "      <td>The Kid LAROI &amp; Justin Bieber</td>\n",
       "      <td>The Kid LAROI</td>\n",
       "      <td>Justin Bieber</td>\n",
       "      <td>NaN</td>\n",
       "      <td>True</td>\n",
       "      <td>STAY (with Justin Bieber)</td>\n",
       "      <td>...</td>\n",
       "      <td>96.0</td>\n",
       "      <td>5HCyWlXZPP0y6Gqq8TgA20</td>\n",
       "      <td>spotify:track:5HCyWlXZPP0y6Gqq8TgA20</td>\n",
       "      <td>The Kid LAROI</td>\n",
       "      <td>spotify:artist:2tIP7SsRs7vjIcLrU85W8J</td>\n",
       "      <td>2021-07-09</td>\n",
       "      <td>4QLAtpLNUsHEYrcHXmMIZZ</td>\n",
       "      <td>single</td>\n",
       "      <td>STAY (with Justin Bieber)</td>\n",
       "      <td>spotify:album:4QLAtpLNUsHEYrcHXmMIZZ</td>\n",
       "    </tr>\n",
       "    <tr>\n",
       "      <th>2</th>\n",
       "      <td>2</td>\n",
       "      <td>2</td>\n",
       "      <td>2</td>\n",
       "      <td>Industry Baby</td>\n",
       "      <td>Lil Nas X &amp; Jack Harlow</td>\n",
       "      <td>Lil Nas X</td>\n",
       "      <td>Jack Harlow</td>\n",
       "      <td>NaN</td>\n",
       "      <td>True</td>\n",
       "      <td>INDUSTRY BABY (feat. Jack Harlow)</td>\n",
       "      <td>...</td>\n",
       "      <td>95.0</td>\n",
       "      <td>27NovPIUIRrOZoCHxABJwK</td>\n",
       "      <td>spotify:track:27NovPIUIRrOZoCHxABJwK</td>\n",
       "      <td>Lil Nas X</td>\n",
       "      <td>spotify:artist:7jVv8c5Fj3E9VhNjxT4snq</td>\n",
       "      <td>2021-07-23</td>\n",
       "      <td>622NFw5Yk0OReMJ2XWcXUh</td>\n",
       "      <td>single</td>\n",
       "      <td>INDUSTRY BABY (feat. Jack Harlow)</td>\n",
       "      <td>spotify:album:622NFw5Yk0OReMJ2XWcXUh</td>\n",
       "    </tr>\n",
       "    <tr>\n",
       "      <th>3</th>\n",
       "      <td>3</td>\n",
       "      <td>3</td>\n",
       "      <td>3</td>\n",
       "      <td>Fancy Like</td>\n",
       "      <td>Walker Hayes</td>\n",
       "      <td>Walker Hayes</td>\n",
       "      <td>NaN</td>\n",
       "      <td>NaN</td>\n",
       "      <td>True</td>\n",
       "      <td>Fancy Like</td>\n",
       "      <td>...</td>\n",
       "      <td>81.0</td>\n",
       "      <td>3ZozFqJJlDBNIm4xqxn2ZD</td>\n",
       "      <td>spotify:track:3ZozFqJJlDBNIm4xqxn2ZD</td>\n",
       "      <td>Walker Hayes</td>\n",
       "      <td>spotify:artist:7sKxqpSqbIzphAKAhrqvlf</td>\n",
       "      <td>2021-06-04</td>\n",
       "      <td>1Lcuv3HMgEG36SkibQIspv</td>\n",
       "      <td>single</td>\n",
       "      <td>Country Stuff</td>\n",
       "      <td>spotify:album:1Lcuv3HMgEG36SkibQIspv</td>\n",
       "    </tr>\n",
       "    <tr>\n",
       "      <th>4</th>\n",
       "      <td>4</td>\n",
       "      <td>4</td>\n",
       "      <td>4</td>\n",
       "      <td>Bad Habits</td>\n",
       "      <td>Ed Sheeran</td>\n",
       "      <td>Ed Sheeran</td>\n",
       "      <td>NaN</td>\n",
       "      <td>NaN</td>\n",
       "      <td>True</td>\n",
       "      <td>Bad Habits</td>\n",
       "      <td>...</td>\n",
       "      <td>95.0</td>\n",
       "      <td>3rmo8F54jFF8OgYsqTxm5d</td>\n",
       "      <td>spotify:track:3rmo8F54jFF8OgYsqTxm5d</td>\n",
       "      <td>Ed Sheeran</td>\n",
       "      <td>spotify:artist:6eUKZXaKkcviH0Ku9w2n3V</td>\n",
       "      <td>2021-10-29</td>\n",
       "      <td>32iAEBstCjauDhyKpGjTuq</td>\n",
       "      <td>album</td>\n",
       "      <td>=</td>\n",
       "      <td>spotify:album:32iAEBstCjauDhyKpGjTuq</td>\n",
       "    </tr>\n",
       "  </tbody>\n",
       "</table>\n",
       "<p>5 rows × 21 columns</p>\n",
       "</div>"
      ],
      "text/plain": [
       "   Unnamed: 0  Unnamed: 0.1  original_index           song  \\\n",
       "0           0             0               0     Easy On Me   \n",
       "1           1             1               1           Stay   \n",
       "2           2             2               2  Industry Baby   \n",
       "3           3             3               3     Fancy Like   \n",
       "4           4             4               4     Bad Habits   \n",
       "\n",
       "                          artist primary_artist featured_artist_1  \\\n",
       "0                          Adele          Adele               NaN   \n",
       "1  The Kid LAROI & Justin Bieber  The Kid LAROI     Justin Bieber   \n",
       "2        Lil Nas X & Jack Harlow      Lil Nas X       Jack Harlow   \n",
       "3                   Walker Hayes   Walker Hayes               NaN   \n",
       "4                     Ed Sheeran     Ed Sheeran               NaN   \n",
       "\n",
       "  featured_artist_2  is_collected                         match_song  ...  \\\n",
       "0               NaN          True                         Easy On Me  ...   \n",
       "1               NaN          True          STAY (with Justin Bieber)  ...   \n",
       "2               NaN          True  INDUSTRY BABY (feat. Jack Harlow)  ...   \n",
       "3               NaN          True                         Fancy Like  ...   \n",
       "4               NaN          True                         Bad Habits  ...   \n",
       "\n",
       "   spotify_popularity                 song_id  \\\n",
       "0                95.0  0gplL1WMoJ6iYaPgMCL0gX   \n",
       "1                96.0  5HCyWlXZPP0y6Gqq8TgA20   \n",
       "2                95.0  27NovPIUIRrOZoCHxABJwK   \n",
       "3                81.0  3ZozFqJJlDBNIm4xqxn2ZD   \n",
       "4                95.0  3rmo8F54jFF8OgYsqTxm5d   \n",
       "\n",
       "                               song_uri   match_artist  \\\n",
       "0  spotify:track:0gplL1WMoJ6iYaPgMCL0gX          Adele   \n",
       "1  spotify:track:5HCyWlXZPP0y6Gqq8TgA20  The Kid LAROI   \n",
       "2  spotify:track:27NovPIUIRrOZoCHxABJwK      Lil Nas X   \n",
       "3  spotify:track:3ZozFqJJlDBNIm4xqxn2ZD   Walker Hayes   \n",
       "4  spotify:track:3rmo8F54jFF8OgYsqTxm5d     Ed Sheeran   \n",
       "\n",
       "                               artist_id release_date                Album_id  \\\n",
       "0  spotify:artist:4dpARuHxo51G3z768sgnrY   2021-10-14  224jZ4sUX7OhAuMwaxp86S   \n",
       "1  spotify:artist:2tIP7SsRs7vjIcLrU85W8J   2021-07-09  4QLAtpLNUsHEYrcHXmMIZZ   \n",
       "2  spotify:artist:7jVv8c5Fj3E9VhNjxT4snq   2021-07-23  622NFw5Yk0OReMJ2XWcXUh   \n",
       "3  spotify:artist:7sKxqpSqbIzphAKAhrqvlf   2021-06-04  1Lcuv3HMgEG36SkibQIspv   \n",
       "4  spotify:artist:6eUKZXaKkcviH0Ku9w2n3V   2021-10-29  32iAEBstCjauDhyKpGjTuq   \n",
       "\n",
       "  album_type                         album_name  \\\n",
       "0     single                         Easy On Me   \n",
       "1     single          STAY (with Justin Bieber)   \n",
       "2     single  INDUSTRY BABY (feat. Jack Harlow)   \n",
       "3     single                      Country Stuff   \n",
       "4      album                                  =   \n",
       "\n",
       "                              album_uri  \n",
       "0  spotify:album:224jZ4sUX7OhAuMwaxp86S  \n",
       "1  spotify:album:4QLAtpLNUsHEYrcHXmMIZZ  \n",
       "2  spotify:album:622NFw5Yk0OReMJ2XWcXUh  \n",
       "3  spotify:album:1Lcuv3HMgEG36SkibQIspv  \n",
       "4  spotify:album:32iAEBstCjauDhyKpGjTuq  \n",
       "\n",
       "[5 rows x 21 columns]"
      ]
     },
     "execution_count": 6,
     "metadata": {},
     "output_type": "execute_result"
    }
   ],
   "source": [
    "collected_spotify.head()"
   ]
  },
  {
   "cell_type": "code",
   "execution_count": 6,
   "metadata": {},
   "outputs": [],
   "source": [
    "#collected_spotify.rename(columns={\"song\":\"song_1\", \"artist\":\"artist_1\"}, inplace=True)"
   ]
  },
  {
   "cell_type": "code",
   "execution_count": 7,
   "metadata": {},
   "outputs": [],
   "source": [
    "#compined_data = original_tracks.join(collected_spotify.set_index(\"original_index\"))"
   ]
  },
  {
   "cell_type": "code",
   "execution_count": 8,
   "metadata": {},
   "outputs": [],
   "source": [
    "#compined_data[compined_data[\"is_collected\"]== True]"
   ]
  },
  {
   "cell_type": "code",
   "execution_count": 9,
   "metadata": {},
   "outputs": [],
   "source": [
    "#final = compined_data[compined_data[\"is_collected\"]== True]"
   ]
  },
  {
   "cell_type": "code",
   "execution_count": 10,
   "metadata": {},
   "outputs": [],
   "source": [
    "#final[[\"song\",\"match_song\",\"primary_artist\",\"match_artist\"]]\n"
   ]
  },
  {
   "cell_type": "code",
   "execution_count": 11,
   "metadata": {},
   "outputs": [],
   "source": [
    "#compined_data[compined_data[\"song\"]==\"Easy On Me\"]"
   ]
  },
  {
   "cell_type": "markdown",
   "metadata": {},
   "source": [
    "## Merging the two dataset "
   ]
  },
  {
   "cell_type": "code",
   "execution_count": 7,
   "metadata": {},
   "outputs": [],
   "source": [
    "compined_data = original_tracks.join(collected_spotify.set_index([\"song\",\"artist\"]), on=[\"song\",\"artist\"])"
   ]
  },
  {
   "cell_type": "markdown",
   "metadata": {},
   "source": [
    "- using song name and the artist name to match the correct song. "
   ]
  },
  {
   "cell_type": "code",
   "execution_count": 8,
   "metadata": {},
   "outputs": [],
   "source": [
    "final = compined_data[compined_data[\"is_collected\"]== True] "
   ]
  },
  {
   "cell_type": "markdown",
   "metadata": {},
   "source": [
    "- choosing only rows that has been collected from spotify "
   ]
  },
  {
   "cell_type": "code",
   "execution_count": 9,
   "metadata": {},
   "outputs": [
    {
     "name": "stdout",
     "output_type": "stream",
     "text": [
      "<class 'pandas.core.frame.DataFrame'>\n",
      "Int64Index: 231477 entries, 0 to 328169\n",
      "Data columns (total 26 columns):\n",
      " #   Column              Non-Null Count   Dtype  \n",
      "---  ------              --------------   -----  \n",
      " 0   date                231477 non-null  object \n",
      " 1   rank                231477 non-null  int64  \n",
      " 2   song                231477 non-null  object \n",
      " 3   artist              231477 non-null  object \n",
      " 4   last-week           211349 non-null  float64\n",
      " 5   peak-rank           231477 non-null  int64  \n",
      " 6   weeks-on-board      231477 non-null  int64  \n",
      " 7   Unnamed: 0          231477 non-null  int64  \n",
      " 8   Unnamed: 0.1        231477 non-null  int64  \n",
      " 9   original_index      231477 non-null  int64  \n",
      " 10  primary_artist      231477 non-null  object \n",
      " 11  featured_artist_1   39490 non-null   object \n",
      " 12  featured_artist_2   6228 non-null    object \n",
      " 13  is_collected        231477 non-null  bool   \n",
      " 14  match_song          231477 non-null  object \n",
      " 15  duration_ms         231477 non-null  float64\n",
      " 16  spotify_popularity  231477 non-null  float64\n",
      " 17  song_id             231477 non-null  object \n",
      " 18  song_uri            231477 non-null  object \n",
      " 19  match_artist        231477 non-null  object \n",
      " 20  artist_id           231477 non-null  object \n",
      " 21  release_date        231477 non-null  object \n",
      " 22  Album_id            231477 non-null  object \n",
      " 23  album_type          231477 non-null  object \n",
      " 24  album_name          231477 non-null  object \n",
      " 25  album_uri           231477 non-null  object \n",
      "dtypes: bool(1), float64(3), int64(6), object(16)\n",
      "memory usage: 46.1+ MB\n"
     ]
    }
   ],
   "source": [
    "final.info()"
   ]
  },
  {
   "cell_type": "markdown",
   "metadata": {},
   "source": [
    "## Cleaning the dataset after merging "
   ]
  },
  {
   "cell_type": "code",
   "execution_count": 10,
   "metadata": {},
   "outputs": [],
   "source": [
    "final_clean = final[[\"date\",\"release_date\",\"rank\",\"song\",\"match_song\",\"artist\",\"match_artist\",\"last-week\",\"peak-rank\",\"weeks-on-board\",\"duration_ms\",\"spotify_popularity\",\"album_type\"]]"
   ]
  },
  {
   "cell_type": "code",
   "execution_count": 11,
   "metadata": {},
   "outputs": [
    {
     "data": {
      "text/html": [
       "<div>\n",
       "<style scoped>\n",
       "    .dataframe tbody tr th:only-of-type {\n",
       "        vertical-align: middle;\n",
       "    }\n",
       "\n",
       "    .dataframe tbody tr th {\n",
       "        vertical-align: top;\n",
       "    }\n",
       "\n",
       "    .dataframe thead th {\n",
       "        text-align: right;\n",
       "    }\n",
       "</style>\n",
       "<table border=\"1\" class=\"dataframe\">\n",
       "  <thead>\n",
       "    <tr style=\"text-align: right;\">\n",
       "      <th></th>\n",
       "      <th>date</th>\n",
       "      <th>release_date</th>\n",
       "      <th>rank</th>\n",
       "      <th>song</th>\n",
       "      <th>match_song</th>\n",
       "      <th>artist</th>\n",
       "      <th>match_artist</th>\n",
       "      <th>last-week</th>\n",
       "      <th>peak-rank</th>\n",
       "      <th>weeks-on-board</th>\n",
       "      <th>duration_ms</th>\n",
       "      <th>spotify_popularity</th>\n",
       "      <th>album_type</th>\n",
       "    </tr>\n",
       "  </thead>\n",
       "  <tbody>\n",
       "    <tr>\n",
       "      <th>0</th>\n",
       "      <td>2021-11-06</td>\n",
       "      <td>2021-10-14</td>\n",
       "      <td>1</td>\n",
       "      <td>Easy On Me</td>\n",
       "      <td>Easy On Me</td>\n",
       "      <td>Adele</td>\n",
       "      <td>Adele</td>\n",
       "      <td>1.0</td>\n",
       "      <td>1</td>\n",
       "      <td>3</td>\n",
       "      <td>224694.0</td>\n",
       "      <td>95.0</td>\n",
       "      <td>single</td>\n",
       "    </tr>\n",
       "    <tr>\n",
       "      <th>1</th>\n",
       "      <td>2021-11-06</td>\n",
       "      <td>2021-07-09</td>\n",
       "      <td>2</td>\n",
       "      <td>Stay</td>\n",
       "      <td>STAY (with Justin Bieber)</td>\n",
       "      <td>The Kid LAROI &amp; Justin Bieber</td>\n",
       "      <td>The Kid LAROI</td>\n",
       "      <td>2.0</td>\n",
       "      <td>1</td>\n",
       "      <td>16</td>\n",
       "      <td>141805.0</td>\n",
       "      <td>96.0</td>\n",
       "      <td>single</td>\n",
       "    </tr>\n",
       "    <tr>\n",
       "      <th>2</th>\n",
       "      <td>2021-11-06</td>\n",
       "      <td>2021-07-23</td>\n",
       "      <td>3</td>\n",
       "      <td>Industry Baby</td>\n",
       "      <td>INDUSTRY BABY (feat. Jack Harlow)</td>\n",
       "      <td>Lil Nas X &amp; Jack Harlow</td>\n",
       "      <td>Lil Nas X</td>\n",
       "      <td>3.0</td>\n",
       "      <td>1</td>\n",
       "      <td>14</td>\n",
       "      <td>212000.0</td>\n",
       "      <td>95.0</td>\n",
       "      <td>single</td>\n",
       "    </tr>\n",
       "    <tr>\n",
       "      <th>3</th>\n",
       "      <td>2021-11-06</td>\n",
       "      <td>2021-06-04</td>\n",
       "      <td>4</td>\n",
       "      <td>Fancy Like</td>\n",
       "      <td>Fancy Like</td>\n",
       "      <td>Walker Hayes</td>\n",
       "      <td>Walker Hayes</td>\n",
       "      <td>4.0</td>\n",
       "      <td>3</td>\n",
       "      <td>19</td>\n",
       "      <td>161853.0</td>\n",
       "      <td>81.0</td>\n",
       "      <td>single</td>\n",
       "    </tr>\n",
       "    <tr>\n",
       "      <th>4</th>\n",
       "      <td>2021-11-06</td>\n",
       "      <td>2021-10-29</td>\n",
       "      <td>5</td>\n",
       "      <td>Bad Habits</td>\n",
       "      <td>Bad Habits</td>\n",
       "      <td>Ed Sheeran</td>\n",
       "      <td>Ed Sheeran</td>\n",
       "      <td>5.0</td>\n",
       "      <td>2</td>\n",
       "      <td>18</td>\n",
       "      <td>230746.0</td>\n",
       "      <td>95.0</td>\n",
       "      <td>album</td>\n",
       "    </tr>\n",
       "    <tr>\n",
       "      <th>...</th>\n",
       "      <td>...</td>\n",
       "      <td>...</td>\n",
       "      <td>...</td>\n",
       "      <td>...</td>\n",
       "      <td>...</td>\n",
       "      <td>...</td>\n",
       "      <td>...</td>\n",
       "      <td>...</td>\n",
       "      <td>...</td>\n",
       "      <td>...</td>\n",
       "      <td>...</td>\n",
       "      <td>...</td>\n",
       "      <td>...</td>\n",
       "    </tr>\n",
       "    <tr>\n",
       "      <th>327955</th>\n",
       "      <td>1958-12-29</td>\n",
       "      <td>1986-01-01</td>\n",
       "      <td>69</td>\n",
       "      <td>Run Rudolph Run</td>\n",
       "      <td>Run Rudolph Run - Single Version</td>\n",
       "      <td>Chuck Berry</td>\n",
       "      <td>Chuck Berry</td>\n",
       "      <td>73.0</td>\n",
       "      <td>69</td>\n",
       "      <td>3</td>\n",
       "      <td>165733.0</td>\n",
       "      <td>70.0</td>\n",
       "      <td>album</td>\n",
       "    </tr>\n",
       "    <tr>\n",
       "      <th>328043</th>\n",
       "      <td>1958-12-22</td>\n",
       "      <td>1957-12-02</td>\n",
       "      <td>57</td>\n",
       "      <td>Jingle Bell Rock</td>\n",
       "      <td>Jingle Bell Rock</td>\n",
       "      <td>Bobby Helms</td>\n",
       "      <td>Bobby Helms</td>\n",
       "      <td>NaN</td>\n",
       "      <td>57</td>\n",
       "      <td>1</td>\n",
       "      <td>130973.0</td>\n",
       "      <td>77.0</td>\n",
       "      <td>single</td>\n",
       "    </tr>\n",
       "    <tr>\n",
       "      <th>328059</th>\n",
       "      <td>1958-12-22</td>\n",
       "      <td>1986-01-01</td>\n",
       "      <td>73</td>\n",
       "      <td>Run Rudolph Run</td>\n",
       "      <td>Run Rudolph Run - Single Version</td>\n",
       "      <td>Chuck Berry</td>\n",
       "      <td>Chuck Berry</td>\n",
       "      <td>83.0</td>\n",
       "      <td>73</td>\n",
       "      <td>2</td>\n",
       "      <td>165733.0</td>\n",
       "      <td>70.0</td>\n",
       "      <td>album</td>\n",
       "    </tr>\n",
       "    <tr>\n",
       "      <th>328072</th>\n",
       "      <td>1958-12-22</td>\n",
       "      <td>1942-01-01</td>\n",
       "      <td>86</td>\n",
       "      <td>White Christmas</td>\n",
       "      <td>White Christmas</td>\n",
       "      <td>Bing Crosby</td>\n",
       "      <td>Bing Crosby</td>\n",
       "      <td>NaN</td>\n",
       "      <td>86</td>\n",
       "      <td>1</td>\n",
       "      <td>177480.0</td>\n",
       "      <td>69.0</td>\n",
       "      <td>album</td>\n",
       "    </tr>\n",
       "    <tr>\n",
       "      <th>328169</th>\n",
       "      <td>1958-12-15</td>\n",
       "      <td>1986-01-01</td>\n",
       "      <td>83</td>\n",
       "      <td>Run Rudolph Run</td>\n",
       "      <td>Run Rudolph Run - Single Version</td>\n",
       "      <td>Chuck Berry</td>\n",
       "      <td>Chuck Berry</td>\n",
       "      <td>NaN</td>\n",
       "      <td>83</td>\n",
       "      <td>1</td>\n",
       "      <td>165733.0</td>\n",
       "      <td>70.0</td>\n",
       "      <td>album</td>\n",
       "    </tr>\n",
       "  </tbody>\n",
       "</table>\n",
       "<p>231477 rows × 13 columns</p>\n",
       "</div>"
      ],
      "text/plain": [
       "              date release_date  rank              song  \\\n",
       "0       2021-11-06   2021-10-14     1        Easy On Me   \n",
       "1       2021-11-06   2021-07-09     2              Stay   \n",
       "2       2021-11-06   2021-07-23     3     Industry Baby   \n",
       "3       2021-11-06   2021-06-04     4        Fancy Like   \n",
       "4       2021-11-06   2021-10-29     5        Bad Habits   \n",
       "...            ...          ...   ...               ...   \n",
       "327955  1958-12-29   1986-01-01    69   Run Rudolph Run   \n",
       "328043  1958-12-22   1957-12-02    57  Jingle Bell Rock   \n",
       "328059  1958-12-22   1986-01-01    73   Run Rudolph Run   \n",
       "328072  1958-12-22   1942-01-01    86   White Christmas   \n",
       "328169  1958-12-15   1986-01-01    83   Run Rudolph Run   \n",
       "\n",
       "                               match_song                         artist  \\\n",
       "0                              Easy On Me                          Adele   \n",
       "1               STAY (with Justin Bieber)  The Kid LAROI & Justin Bieber   \n",
       "2       INDUSTRY BABY (feat. Jack Harlow)        Lil Nas X & Jack Harlow   \n",
       "3                              Fancy Like                   Walker Hayes   \n",
       "4                              Bad Habits                     Ed Sheeran   \n",
       "...                                   ...                            ...   \n",
       "327955   Run Rudolph Run - Single Version                    Chuck Berry   \n",
       "328043                   Jingle Bell Rock                    Bobby Helms   \n",
       "328059   Run Rudolph Run - Single Version                    Chuck Berry   \n",
       "328072                    White Christmas                    Bing Crosby   \n",
       "328169   Run Rudolph Run - Single Version                    Chuck Berry   \n",
       "\n",
       "         match_artist  last-week  peak-rank  weeks-on-board  duration_ms  \\\n",
       "0               Adele        1.0          1               3     224694.0   \n",
       "1       The Kid LAROI        2.0          1              16     141805.0   \n",
       "2           Lil Nas X        3.0          1              14     212000.0   \n",
       "3        Walker Hayes        4.0          3              19     161853.0   \n",
       "4          Ed Sheeran        5.0          2              18     230746.0   \n",
       "...               ...        ...        ...             ...          ...   \n",
       "327955    Chuck Berry       73.0         69               3     165733.0   \n",
       "328043    Bobby Helms        NaN         57               1     130973.0   \n",
       "328059    Chuck Berry       83.0         73               2     165733.0   \n",
       "328072    Bing Crosby        NaN         86               1     177480.0   \n",
       "328169    Chuck Berry        NaN         83               1     165733.0   \n",
       "\n",
       "        spotify_popularity album_type  \n",
       "0                     95.0     single  \n",
       "1                     96.0     single  \n",
       "2                     95.0     single  \n",
       "3                     81.0     single  \n",
       "4                     95.0      album  \n",
       "...                    ...        ...  \n",
       "327955                70.0      album  \n",
       "328043                77.0     single  \n",
       "328059                70.0      album  \n",
       "328072                69.0      album  \n",
       "328169                70.0      album  \n",
       "\n",
       "[231477 rows x 13 columns]"
      ]
     },
     "execution_count": 11,
     "metadata": {},
     "output_type": "execute_result"
    }
   ],
   "source": [
    "final_clean"
   ]
  },
  {
   "cell_type": "code",
   "execution_count": 12,
   "metadata": {},
   "outputs": [],
   "source": [
    "final_clean.reset_index(drop=True, inplace=True)"
   ]
  },
  {
   "cell_type": "code",
   "execution_count": 13,
   "metadata": {},
   "outputs": [
    {
     "name": "stderr",
     "output_type": "stream",
     "text": [
      "/var/folders/5n/qk5gndxn7k19r8b5gd8_w74w0000gn/T/ipykernel_1592/3553987226.py:1: SettingWithCopyWarning: \n",
      "A value is trying to be set on a copy of a slice from a DataFrame.\n",
      "Try using .loc[row_indexer,col_indexer] = value instead\n",
      "\n",
      "See the caveats in the documentation: https://pandas.pydata.org/pandas-docs/stable/user_guide/indexing.html#returning-a-view-versus-a-copy\n",
      "  final_clean[\"date\"]= pd.to_datetime(final_clean[\"date\"])\n"
     ]
    }
   ],
   "source": [
    "final_clean[\"date\"]= pd.to_datetime(final_clean[\"date\"])"
   ]
  },
  {
   "cell_type": "code",
   "execution_count": 14,
   "metadata": {},
   "outputs": [
    {
     "name": "stdout",
     "output_type": "stream",
     "text": [
      "<class 'pandas.core.frame.DataFrame'>\n",
      "RangeIndex: 231477 entries, 0 to 231476\n",
      "Data columns (total 13 columns):\n",
      " #   Column              Non-Null Count   Dtype         \n",
      "---  ------              --------------   -----         \n",
      " 0   date                231477 non-null  datetime64[ns]\n",
      " 1   release_date        231477 non-null  object        \n",
      " 2   rank                231477 non-null  int64         \n",
      " 3   song                231477 non-null  object        \n",
      " 4   match_song          231477 non-null  object        \n",
      " 5   artist              231477 non-null  object        \n",
      " 6   match_artist        231477 non-null  object        \n",
      " 7   last-week           211349 non-null  float64       \n",
      " 8   peak-rank           231477 non-null  int64         \n",
      " 9   weeks-on-board      231477 non-null  int64         \n",
      " 10  duration_ms         231477 non-null  float64       \n",
      " 11  spotify_popularity  231477 non-null  float64       \n",
      " 12  album_type          231477 non-null  object        \n",
      "dtypes: datetime64[ns](1), float64(3), int64(3), object(6)\n",
      "memory usage: 23.0+ MB\n"
     ]
    }
   ],
   "source": [
    "final_clean.info()"
   ]
  },
  {
   "cell_type": "code",
   "execution_count": 15,
   "metadata": {},
   "outputs": [],
   "source": [
    "def cal_score(x):\n",
    "    return 101-x"
   ]
  },
  {
   "cell_type": "code",
   "execution_count": 16,
   "metadata": {},
   "outputs": [
    {
     "name": "stderr",
     "output_type": "stream",
     "text": [
      "/var/folders/5n/qk5gndxn7k19r8b5gd8_w74w0000gn/T/ipykernel_1592/4279804268.py:1: SettingWithCopyWarning: \n",
      "A value is trying to be set on a copy of a slice from a DataFrame.\n",
      "Try using .loc[row_indexer,col_indexer] = value instead\n",
      "\n",
      "See the caveats in the documentation: https://pandas.pydata.org/pandas-docs/stable/user_guide/indexing.html#returning-a-view-versus-a-copy\n",
      "  final_clean[\"score\"]= final_clean[\"rank\"].apply(cal_score)\n"
     ]
    }
   ],
   "source": [
    "final_clean[\"score\"]= final_clean[\"rank\"].apply(cal_score)"
   ]
  },
  {
   "cell_type": "code",
   "execution_count": 17,
   "metadata": {},
   "outputs": [
    {
     "data": {
      "text/html": [
       "<div>\n",
       "<style scoped>\n",
       "    .dataframe tbody tr th:only-of-type {\n",
       "        vertical-align: middle;\n",
       "    }\n",
       "\n",
       "    .dataframe tbody tr th {\n",
       "        vertical-align: top;\n",
       "    }\n",
       "\n",
       "    .dataframe thead th {\n",
       "        text-align: right;\n",
       "    }\n",
       "</style>\n",
       "<table border=\"1\" class=\"dataframe\">\n",
       "  <thead>\n",
       "    <tr style=\"text-align: right;\">\n",
       "      <th></th>\n",
       "      <th>date</th>\n",
       "      <th>release_date</th>\n",
       "      <th>rank</th>\n",
       "      <th>song</th>\n",
       "      <th>match_song</th>\n",
       "      <th>artist</th>\n",
       "      <th>match_artist</th>\n",
       "      <th>last-week</th>\n",
       "      <th>peak-rank</th>\n",
       "      <th>weeks-on-board</th>\n",
       "      <th>duration_ms</th>\n",
       "      <th>spotify_popularity</th>\n",
       "      <th>album_type</th>\n",
       "      <th>score</th>\n",
       "    </tr>\n",
       "  </thead>\n",
       "  <tbody>\n",
       "    <tr>\n",
       "      <th>0</th>\n",
       "      <td>2021-11-06</td>\n",
       "      <td>2021-10-14</td>\n",
       "      <td>1</td>\n",
       "      <td>Easy On Me</td>\n",
       "      <td>Easy On Me</td>\n",
       "      <td>Adele</td>\n",
       "      <td>Adele</td>\n",
       "      <td>1.0</td>\n",
       "      <td>1</td>\n",
       "      <td>3</td>\n",
       "      <td>224694.0</td>\n",
       "      <td>95.0</td>\n",
       "      <td>single</td>\n",
       "      <td>100</td>\n",
       "    </tr>\n",
       "  </tbody>\n",
       "</table>\n",
       "</div>"
      ],
      "text/plain": [
       "        date release_date  rank        song  match_song artist match_artist  \\\n",
       "0 2021-11-06   2021-10-14     1  Easy On Me  Easy On Me  Adele        Adele   \n",
       "\n",
       "   last-week  peak-rank  weeks-on-board  duration_ms  spotify_popularity  \\\n",
       "0        1.0          1               3     224694.0                95.0   \n",
       "\n",
       "  album_type  score  \n",
       "0     single    100  "
      ]
     },
     "execution_count": 17,
     "metadata": {},
     "output_type": "execute_result"
    }
   ],
   "source": [
    "final_clean.head(1)"
   ]
  },
  {
   "cell_type": "code",
   "execution_count": 67,
   "metadata": {},
   "outputs": [
    {
     "name": "stderr",
     "output_type": "stream",
     "text": [
      "/var/folders/5n/qk5gndxn7k19r8b5gd8_w74w0000gn/T/ipykernel_2902/1481273564.py:1: SettingWithCopyWarning: \n",
      "A value is trying to be set on a copy of a slice from a DataFrame.\n",
      "Try using .loc[row_indexer,col_indexer] = value instead\n",
      "\n",
      "See the caveats in the documentation: https://pandas.pydata.org/pandas-docs/stable/user_guide/indexing.html#returning-a-view-versus-a-copy\n",
      "  final_clean[\"is_duplicate\"]= final_clean.duplicated(subset=[\"song\",\"artist\"])\n"
     ]
    }
   ],
   "source": [
    "final_clean[\"is_duplicate\"]= final_clean.duplicated(subset=[\"song\",\"artist\"])"
   ]
  },
  {
   "cell_type": "code",
   "execution_count": 71,
   "metadata": {},
   "outputs": [],
   "source": [
    "def total_score(x):\n",
    "    if final_clean.loc[x, \"is_duplicate\"] == False:\n",
    "        final_clean.loc[x ,\"total_score\"] = final_clean[final_clean[\"song\"] == final_clean.loc[x,\"song\"]][\"score\"].sum()\n",
    "    \n",
    "    "
   ]
  },
  {
   "cell_type": "code",
   "execution_count": 72,
   "metadata": {},
   "outputs": [
    {
     "name": "stderr",
     "output_type": "stream",
     "text": [
      "/usr/local/anaconda3/lib/python3.9/site-packages/pandas/core/indexing.py:1684: SettingWithCopyWarning: \n",
      "A value is trying to be set on a copy of a slice from a DataFrame.\n",
      "Try using .loc[row_indexer,col_indexer] = value instead\n",
      "\n",
      "See the caveats in the documentation: https://pandas.pydata.org/pandas-docs/stable/user_guide/indexing.html#returning-a-view-versus-a-copy\n",
      "  self.obj[key] = infer_fill_value(value)\n",
      "/usr/local/anaconda3/lib/python3.9/site-packages/pandas/core/indexing.py:1817: SettingWithCopyWarning: \n",
      "A value is trying to be set on a copy of a slice from a DataFrame.\n",
      "Try using .loc[row_indexer,col_indexer] = value instead\n",
      "\n",
      "See the caveats in the documentation: https://pandas.pydata.org/pandas-docs/stable/user_guide/indexing.html#returning-a-view-versus-a-copy\n",
      "  self._setitem_single_column(loc, value, pi)\n"
     ]
    }
   ],
   "source": [
    "for i in range(len(final_clean)):\n",
    "    total_score(i)"
   ]
  },
  {
   "cell_type": "code",
   "execution_count": 73,
   "metadata": {},
   "outputs": [
    {
     "data": {
      "text/html": [
       "<div>\n",
       "<style scoped>\n",
       "    .dataframe tbody tr th:only-of-type {\n",
       "        vertical-align: middle;\n",
       "    }\n",
       "\n",
       "    .dataframe tbody tr th {\n",
       "        vertical-align: top;\n",
       "    }\n",
       "\n",
       "    .dataframe thead th {\n",
       "        text-align: right;\n",
       "    }\n",
       "</style>\n",
       "<table border=\"1\" class=\"dataframe\">\n",
       "  <thead>\n",
       "    <tr style=\"text-align: right;\">\n",
       "      <th></th>\n",
       "      <th>date</th>\n",
       "      <th>release_date</th>\n",
       "      <th>rank</th>\n",
       "      <th>song</th>\n",
       "      <th>match_song</th>\n",
       "      <th>artist</th>\n",
       "      <th>match_artist</th>\n",
       "      <th>last-week</th>\n",
       "      <th>peak-rank</th>\n",
       "      <th>weeks-on-board</th>\n",
       "      <th>duration_ms</th>\n",
       "      <th>spotify_popularity</th>\n",
       "      <th>album_type</th>\n",
       "      <th>score</th>\n",
       "      <th>is_duplicate</th>\n",
       "      <th>total_score</th>\n",
       "    </tr>\n",
       "  </thead>\n",
       "  <tbody>\n",
       "    <tr>\n",
       "      <th>0</th>\n",
       "      <td>2021-11-06</td>\n",
       "      <td>2021-10-14</td>\n",
       "      <td>1</td>\n",
       "      <td>Easy On Me</td>\n",
       "      <td>Easy On Me</td>\n",
       "      <td>Adele</td>\n",
       "      <td>Adele</td>\n",
       "      <td>1.0</td>\n",
       "      <td>1</td>\n",
       "      <td>3</td>\n",
       "      <td>224694.0</td>\n",
       "      <td>95.0</td>\n",
       "      <td>single</td>\n",
       "      <td>100</td>\n",
       "      <td>False</td>\n",
       "      <td>233.0</td>\n",
       "    </tr>\n",
       "    <tr>\n",
       "      <th>1</th>\n",
       "      <td>2021-11-06</td>\n",
       "      <td>2021-07-09</td>\n",
       "      <td>2</td>\n",
       "      <td>Stay</td>\n",
       "      <td>STAY (with Justin Bieber)</td>\n",
       "      <td>The Kid LAROI &amp; Justin Bieber</td>\n",
       "      <td>The Kid LAROI</td>\n",
       "      <td>2.0</td>\n",
       "      <td>1</td>\n",
       "      <td>16</td>\n",
       "      <td>141805.0</td>\n",
       "      <td>96.0</td>\n",
       "      <td>single</td>\n",
       "      <td>99</td>\n",
       "      <td>False</td>\n",
       "      <td>12945.0</td>\n",
       "    </tr>\n",
       "    <tr>\n",
       "      <th>2</th>\n",
       "      <td>2021-11-06</td>\n",
       "      <td>2021-07-23</td>\n",
       "      <td>3</td>\n",
       "      <td>Industry Baby</td>\n",
       "      <td>INDUSTRY BABY (feat. Jack Harlow)</td>\n",
       "      <td>Lil Nas X &amp; Jack Harlow</td>\n",
       "      <td>Lil Nas X</td>\n",
       "      <td>3.0</td>\n",
       "      <td>1</td>\n",
       "      <td>14</td>\n",
       "      <td>212000.0</td>\n",
       "      <td>95.0</td>\n",
       "      <td>single</td>\n",
       "      <td>98</td>\n",
       "      <td>False</td>\n",
       "      <td>1338.0</td>\n",
       "    </tr>\n",
       "    <tr>\n",
       "      <th>3</th>\n",
       "      <td>2021-11-06</td>\n",
       "      <td>2021-06-04</td>\n",
       "      <td>4</td>\n",
       "      <td>Fancy Like</td>\n",
       "      <td>Fancy Like</td>\n",
       "      <td>Walker Hayes</td>\n",
       "      <td>Walker Hayes</td>\n",
       "      <td>4.0</td>\n",
       "      <td>3</td>\n",
       "      <td>19</td>\n",
       "      <td>161853.0</td>\n",
       "      <td>81.0</td>\n",
       "      <td>single</td>\n",
       "      <td>97</td>\n",
       "      <td>False</td>\n",
       "      <td>1652.0</td>\n",
       "    </tr>\n",
       "    <tr>\n",
       "      <th>4</th>\n",
       "      <td>2021-11-06</td>\n",
       "      <td>2021-10-29</td>\n",
       "      <td>5</td>\n",
       "      <td>Bad Habits</td>\n",
       "      <td>Bad Habits</td>\n",
       "      <td>Ed Sheeran</td>\n",
       "      <td>Ed Sheeran</td>\n",
       "      <td>5.0</td>\n",
       "      <td>2</td>\n",
       "      <td>18</td>\n",
       "      <td>230746.0</td>\n",
       "      <td>95.0</td>\n",
       "      <td>album</td>\n",
       "      <td>96</td>\n",
       "      <td>False</td>\n",
       "      <td>1984.0</td>\n",
       "    </tr>\n",
       "    <tr>\n",
       "      <th>...</th>\n",
       "      <td>...</td>\n",
       "      <td>...</td>\n",
       "      <td>...</td>\n",
       "      <td>...</td>\n",
       "      <td>...</td>\n",
       "      <td>...</td>\n",
       "      <td>...</td>\n",
       "      <td>...</td>\n",
       "      <td>...</td>\n",
       "      <td>...</td>\n",
       "      <td>...</td>\n",
       "      <td>...</td>\n",
       "      <td>...</td>\n",
       "      <td>...</td>\n",
       "      <td>...</td>\n",
       "      <td>...</td>\n",
       "    </tr>\n",
       "    <tr>\n",
       "      <th>231472</th>\n",
       "      <td>1958-12-29</td>\n",
       "      <td>1986-01-01</td>\n",
       "      <td>69</td>\n",
       "      <td>Run Rudolph Run</td>\n",
       "      <td>Run Rudolph Run - Single Version</td>\n",
       "      <td>Chuck Berry</td>\n",
       "      <td>Chuck Berry</td>\n",
       "      <td>73.0</td>\n",
       "      <td>69</td>\n",
       "      <td>3</td>\n",
       "      <td>165733.0</td>\n",
       "      <td>70.0</td>\n",
       "      <td>album</td>\n",
       "      <td>32</td>\n",
       "      <td>True</td>\n",
       "      <td>NaN</td>\n",
       "    </tr>\n",
       "    <tr>\n",
       "      <th>231473</th>\n",
       "      <td>1958-12-22</td>\n",
       "      <td>1957-12-02</td>\n",
       "      <td>57</td>\n",
       "      <td>Jingle Bell Rock</td>\n",
       "      <td>Jingle Bell Rock</td>\n",
       "      <td>Bobby Helms</td>\n",
       "      <td>Bobby Helms</td>\n",
       "      <td>NaN</td>\n",
       "      <td>57</td>\n",
       "      <td>1</td>\n",
       "      <td>130973.0</td>\n",
       "      <td>77.0</td>\n",
       "      <td>single</td>\n",
       "      <td>44</td>\n",
       "      <td>True</td>\n",
       "      <td>NaN</td>\n",
       "    </tr>\n",
       "    <tr>\n",
       "      <th>231474</th>\n",
       "      <td>1958-12-22</td>\n",
       "      <td>1986-01-01</td>\n",
       "      <td>73</td>\n",
       "      <td>Run Rudolph Run</td>\n",
       "      <td>Run Rudolph Run - Single Version</td>\n",
       "      <td>Chuck Berry</td>\n",
       "      <td>Chuck Berry</td>\n",
       "      <td>83.0</td>\n",
       "      <td>73</td>\n",
       "      <td>2</td>\n",
       "      <td>165733.0</td>\n",
       "      <td>70.0</td>\n",
       "      <td>album</td>\n",
       "      <td>28</td>\n",
       "      <td>True</td>\n",
       "      <td>NaN</td>\n",
       "    </tr>\n",
       "    <tr>\n",
       "      <th>231475</th>\n",
       "      <td>1958-12-22</td>\n",
       "      <td>1942-01-01</td>\n",
       "      <td>86</td>\n",
       "      <td>White Christmas</td>\n",
       "      <td>White Christmas</td>\n",
       "      <td>Bing Crosby</td>\n",
       "      <td>Bing Crosby</td>\n",
       "      <td>NaN</td>\n",
       "      <td>86</td>\n",
       "      <td>1</td>\n",
       "      <td>177480.0</td>\n",
       "      <td>69.0</td>\n",
       "      <td>album</td>\n",
       "      <td>15</td>\n",
       "      <td>True</td>\n",
       "      <td>NaN</td>\n",
       "    </tr>\n",
       "    <tr>\n",
       "      <th>231476</th>\n",
       "      <td>1958-12-15</td>\n",
       "      <td>1986-01-01</td>\n",
       "      <td>83</td>\n",
       "      <td>Run Rudolph Run</td>\n",
       "      <td>Run Rudolph Run - Single Version</td>\n",
       "      <td>Chuck Berry</td>\n",
       "      <td>Chuck Berry</td>\n",
       "      <td>NaN</td>\n",
       "      <td>83</td>\n",
       "      <td>1</td>\n",
       "      <td>165733.0</td>\n",
       "      <td>70.0</td>\n",
       "      <td>album</td>\n",
       "      <td>18</td>\n",
       "      <td>True</td>\n",
       "      <td>NaN</td>\n",
       "    </tr>\n",
       "  </tbody>\n",
       "</table>\n",
       "<p>231477 rows × 16 columns</p>\n",
       "</div>"
      ],
      "text/plain": [
       "             date release_date  rank              song  \\\n",
       "0      2021-11-06   2021-10-14     1        Easy On Me   \n",
       "1      2021-11-06   2021-07-09     2              Stay   \n",
       "2      2021-11-06   2021-07-23     3     Industry Baby   \n",
       "3      2021-11-06   2021-06-04     4        Fancy Like   \n",
       "4      2021-11-06   2021-10-29     5        Bad Habits   \n",
       "...           ...          ...   ...               ...   \n",
       "231472 1958-12-29   1986-01-01    69   Run Rudolph Run   \n",
       "231473 1958-12-22   1957-12-02    57  Jingle Bell Rock   \n",
       "231474 1958-12-22   1986-01-01    73   Run Rudolph Run   \n",
       "231475 1958-12-22   1942-01-01    86   White Christmas   \n",
       "231476 1958-12-15   1986-01-01    83   Run Rudolph Run   \n",
       "\n",
       "                               match_song                         artist  \\\n",
       "0                              Easy On Me                          Adele   \n",
       "1               STAY (with Justin Bieber)  The Kid LAROI & Justin Bieber   \n",
       "2       INDUSTRY BABY (feat. Jack Harlow)        Lil Nas X & Jack Harlow   \n",
       "3                              Fancy Like                   Walker Hayes   \n",
       "4                              Bad Habits                     Ed Sheeran   \n",
       "...                                   ...                            ...   \n",
       "231472   Run Rudolph Run - Single Version                    Chuck Berry   \n",
       "231473                   Jingle Bell Rock                    Bobby Helms   \n",
       "231474   Run Rudolph Run - Single Version                    Chuck Berry   \n",
       "231475                    White Christmas                    Bing Crosby   \n",
       "231476   Run Rudolph Run - Single Version                    Chuck Berry   \n",
       "\n",
       "         match_artist  last-week  peak-rank  weeks-on-board  duration_ms  \\\n",
       "0               Adele        1.0          1               3     224694.0   \n",
       "1       The Kid LAROI        2.0          1              16     141805.0   \n",
       "2           Lil Nas X        3.0          1              14     212000.0   \n",
       "3        Walker Hayes        4.0          3              19     161853.0   \n",
       "4          Ed Sheeran        5.0          2              18     230746.0   \n",
       "...               ...        ...        ...             ...          ...   \n",
       "231472    Chuck Berry       73.0         69               3     165733.0   \n",
       "231473    Bobby Helms        NaN         57               1     130973.0   \n",
       "231474    Chuck Berry       83.0         73               2     165733.0   \n",
       "231475    Bing Crosby        NaN         86               1     177480.0   \n",
       "231476    Chuck Berry        NaN         83               1     165733.0   \n",
       "\n",
       "        spotify_popularity album_type  score  is_duplicate  total_score  \n",
       "0                     95.0     single    100         False        233.0  \n",
       "1                     96.0     single     99         False      12945.0  \n",
       "2                     95.0     single     98         False       1338.0  \n",
       "3                     81.0     single     97         False       1652.0  \n",
       "4                     95.0      album     96         False       1984.0  \n",
       "...                    ...        ...    ...           ...          ...  \n",
       "231472                70.0      album     32          True          NaN  \n",
       "231473                77.0     single     44          True          NaN  \n",
       "231474                70.0      album     28          True          NaN  \n",
       "231475                69.0      album     15          True          NaN  \n",
       "231476                70.0      album     18          True          NaN  \n",
       "\n",
       "[231477 rows x 16 columns]"
      ]
     },
     "execution_count": 73,
     "metadata": {},
     "output_type": "execute_result"
    }
   ],
   "source": [
    "final_clean"
   ]
  },
  {
   "cell_type": "code",
   "execution_count": 74,
   "metadata": {},
   "outputs": [
    {
     "name": "stdout",
     "output_type": "stream",
     "text": [
      "<class 'pandas.core.frame.DataFrame'>\n",
      "RangeIndex: 231477 entries, 0 to 231476\n",
      "Data columns (total 16 columns):\n",
      " #   Column              Non-Null Count   Dtype         \n",
      "---  ------              --------------   -----         \n",
      " 0   date                231477 non-null  datetime64[ns]\n",
      " 1   release_date        231477 non-null  object        \n",
      " 2   rank                231477 non-null  int64         \n",
      " 3   song                231477 non-null  object        \n",
      " 4   match_song          231477 non-null  object        \n",
      " 5   artist              231477 non-null  object        \n",
      " 6   match_artist        231477 non-null  object        \n",
      " 7   last-week           211349 non-null  float64       \n",
      " 8   peak-rank           231477 non-null  int64         \n",
      " 9   weeks-on-board      231477 non-null  int64         \n",
      " 10  duration_ms         231477 non-null  float64       \n",
      " 11  spotify_popularity  231477 non-null  float64       \n",
      " 12  album_type          231477 non-null  object        \n",
      " 13  score               231477 non-null  int64         \n",
      " 14  is_duplicate        231477 non-null  bool          \n",
      " 15  total_score         18155 non-null   float64       \n",
      "dtypes: bool(1), datetime64[ns](1), float64(4), int64(4), object(6)\n",
      "memory usage: 26.7+ MB\n"
     ]
    }
   ],
   "source": [
    "final_clean.info()"
   ]
  },
  {
   "cell_type": "code",
   "execution_count": 37,
   "metadata": {},
   "outputs": [
    {
     "data": {
      "text/html": [
       "<div>\n",
       "<style scoped>\n",
       "    .dataframe tbody tr th:only-of-type {\n",
       "        vertical-align: middle;\n",
       "    }\n",
       "\n",
       "    .dataframe tbody tr th {\n",
       "        vertical-align: top;\n",
       "    }\n",
       "\n",
       "    .dataframe thead th {\n",
       "        text-align: right;\n",
       "    }\n",
       "</style>\n",
       "<table border=\"1\" class=\"dataframe\">\n",
       "  <thead>\n",
       "    <tr style=\"text-align: right;\">\n",
       "      <th></th>\n",
       "      <th>date</th>\n",
       "      <th>release_date</th>\n",
       "      <th>rank</th>\n",
       "      <th>song</th>\n",
       "      <th>match_song</th>\n",
       "      <th>artist</th>\n",
       "      <th>match_artist</th>\n",
       "      <th>last-week</th>\n",
       "      <th>peak-rank</th>\n",
       "      <th>weeks-on-board</th>\n",
       "      <th>duration_ms</th>\n",
       "      <th>spotify_popularity</th>\n",
       "      <th>album_type</th>\n",
       "      <th>score</th>\n",
       "    </tr>\n",
       "  </thead>\n",
       "  <tbody>\n",
       "    <tr>\n",
       "      <th>99992</th>\n",
       "      <td>2001-05-26</td>\n",
       "      <td>2001-03-12</td>\n",
       "      <td>99</td>\n",
       "      <td>One More Time</td>\n",
       "      <td>One More Time</td>\n",
       "      <td>Daft Punk</td>\n",
       "      <td>Daft Punk</td>\n",
       "      <td>96.0</td>\n",
       "      <td>61</td>\n",
       "      <td>16</td>\n",
       "      <td>320357.0</td>\n",
       "      <td>80.0</td>\n",
       "      <td>album</td>\n",
       "      <td>2</td>\n",
       "    </tr>\n",
       "    <tr>\n",
       "      <th>100074</th>\n",
       "      <td>2001-05-19</td>\n",
       "      <td>2001-03-12</td>\n",
       "      <td>96</td>\n",
       "      <td>One More Time</td>\n",
       "      <td>One More Time</td>\n",
       "      <td>Daft Punk</td>\n",
       "      <td>Daft Punk</td>\n",
       "      <td>95.0</td>\n",
       "      <td>61</td>\n",
       "      <td>15</td>\n",
       "      <td>320357.0</td>\n",
       "      <td>80.0</td>\n",
       "      <td>album</td>\n",
       "      <td>5</td>\n",
       "    </tr>\n",
       "    <tr>\n",
       "      <th>100156</th>\n",
       "      <td>2001-05-12</td>\n",
       "      <td>2001-03-12</td>\n",
       "      <td>95</td>\n",
       "      <td>One More Time</td>\n",
       "      <td>One More Time</td>\n",
       "      <td>Daft Punk</td>\n",
       "      <td>Daft Punk</td>\n",
       "      <td>88.0</td>\n",
       "      <td>61</td>\n",
       "      <td>14</td>\n",
       "      <td>320357.0</td>\n",
       "      <td>80.0</td>\n",
       "      <td>album</td>\n",
       "      <td>6</td>\n",
       "    </tr>\n",
       "    <tr>\n",
       "      <th>100232</th>\n",
       "      <td>2001-05-05</td>\n",
       "      <td>2001-03-12</td>\n",
       "      <td>88</td>\n",
       "      <td>One More Time</td>\n",
       "      <td>One More Time</td>\n",
       "      <td>Daft Punk</td>\n",
       "      <td>Daft Punk</td>\n",
       "      <td>82.0</td>\n",
       "      <td>61</td>\n",
       "      <td>13</td>\n",
       "      <td>320357.0</td>\n",
       "      <td>80.0</td>\n",
       "      <td>album</td>\n",
       "      <td>13</td>\n",
       "    </tr>\n",
       "    <tr>\n",
       "      <th>100311</th>\n",
       "      <td>2001-04-28</td>\n",
       "      <td>2001-03-12</td>\n",
       "      <td>82</td>\n",
       "      <td>One More Time</td>\n",
       "      <td>One More Time</td>\n",
       "      <td>Daft Punk</td>\n",
       "      <td>Daft Punk</td>\n",
       "      <td>72.0</td>\n",
       "      <td>61</td>\n",
       "      <td>12</td>\n",
       "      <td>320357.0</td>\n",
       "      <td>80.0</td>\n",
       "      <td>album</td>\n",
       "      <td>19</td>\n",
       "    </tr>\n",
       "    <tr>\n",
       "      <th>100383</th>\n",
       "      <td>2001-04-21</td>\n",
       "      <td>2001-03-12</td>\n",
       "      <td>72</td>\n",
       "      <td>One More Time</td>\n",
       "      <td>One More Time</td>\n",
       "      <td>Daft Punk</td>\n",
       "      <td>Daft Punk</td>\n",
       "      <td>69.0</td>\n",
       "      <td>61</td>\n",
       "      <td>11</td>\n",
       "      <td>320357.0</td>\n",
       "      <td>80.0</td>\n",
       "      <td>album</td>\n",
       "      <td>29</td>\n",
       "    </tr>\n",
       "    <tr>\n",
       "      <th>100461</th>\n",
       "      <td>2001-04-14</td>\n",
       "      <td>2001-03-12</td>\n",
       "      <td>69</td>\n",
       "      <td>One More Time</td>\n",
       "      <td>One More Time</td>\n",
       "      <td>Daft Punk</td>\n",
       "      <td>Daft Punk</td>\n",
       "      <td>66.0</td>\n",
       "      <td>61</td>\n",
       "      <td>10</td>\n",
       "      <td>320357.0</td>\n",
       "      <td>80.0</td>\n",
       "      <td>album</td>\n",
       "      <td>32</td>\n",
       "    </tr>\n",
       "    <tr>\n",
       "      <th>100537</th>\n",
       "      <td>2001-04-07</td>\n",
       "      <td>2001-03-12</td>\n",
       "      <td>66</td>\n",
       "      <td>One More Time</td>\n",
       "      <td>One More Time</td>\n",
       "      <td>Daft Punk</td>\n",
       "      <td>Daft Punk</td>\n",
       "      <td>69.0</td>\n",
       "      <td>61</td>\n",
       "      <td>9</td>\n",
       "      <td>320357.0</td>\n",
       "      <td>80.0</td>\n",
       "      <td>album</td>\n",
       "      <td>35</td>\n",
       "    </tr>\n",
       "    <tr>\n",
       "      <th>100619</th>\n",
       "      <td>2001-03-31</td>\n",
       "      <td>2001-03-12</td>\n",
       "      <td>69</td>\n",
       "      <td>One More Time</td>\n",
       "      <td>One More Time</td>\n",
       "      <td>Daft Punk</td>\n",
       "      <td>Daft Punk</td>\n",
       "      <td>61.0</td>\n",
       "      <td>61</td>\n",
       "      <td>8</td>\n",
       "      <td>320357.0</td>\n",
       "      <td>80.0</td>\n",
       "      <td>album</td>\n",
       "      <td>32</td>\n",
       "    </tr>\n",
       "    <tr>\n",
       "      <th>100697</th>\n",
       "      <td>2001-03-24</td>\n",
       "      <td>2001-03-12</td>\n",
       "      <td>61</td>\n",
       "      <td>One More Time</td>\n",
       "      <td>One More Time</td>\n",
       "      <td>Daft Punk</td>\n",
       "      <td>Daft Punk</td>\n",
       "      <td>66.0</td>\n",
       "      <td>61</td>\n",
       "      <td>7</td>\n",
       "      <td>320357.0</td>\n",
       "      <td>80.0</td>\n",
       "      <td>album</td>\n",
       "      <td>40</td>\n",
       "    </tr>\n",
       "    <tr>\n",
       "      <th>100786</th>\n",
       "      <td>2001-03-17</td>\n",
       "      <td>2001-03-12</td>\n",
       "      <td>66</td>\n",
       "      <td>One More Time</td>\n",
       "      <td>One More Time</td>\n",
       "      <td>Daft Punk</td>\n",
       "      <td>Daft Punk</td>\n",
       "      <td>69.0</td>\n",
       "      <td>66</td>\n",
       "      <td>6</td>\n",
       "      <td>320357.0</td>\n",
       "      <td>80.0</td>\n",
       "      <td>album</td>\n",
       "      <td>35</td>\n",
       "    </tr>\n",
       "    <tr>\n",
       "      <th>100871</th>\n",
       "      <td>2001-03-10</td>\n",
       "      <td>2001-03-12</td>\n",
       "      <td>69</td>\n",
       "      <td>One More Time</td>\n",
       "      <td>One More Time</td>\n",
       "      <td>Daft Punk</td>\n",
       "      <td>Daft Punk</td>\n",
       "      <td>81.0</td>\n",
       "      <td>69</td>\n",
       "      <td>5</td>\n",
       "      <td>320357.0</td>\n",
       "      <td>80.0</td>\n",
       "      <td>album</td>\n",
       "      <td>32</td>\n",
       "    </tr>\n",
       "    <tr>\n",
       "      <th>100966</th>\n",
       "      <td>2001-03-03</td>\n",
       "      <td>2001-03-12</td>\n",
       "      <td>81</td>\n",
       "      <td>One More Time</td>\n",
       "      <td>One More Time</td>\n",
       "      <td>Daft Punk</td>\n",
       "      <td>Daft Punk</td>\n",
       "      <td>87.0</td>\n",
       "      <td>81</td>\n",
       "      <td>4</td>\n",
       "      <td>320357.0</td>\n",
       "      <td>80.0</td>\n",
       "      <td>album</td>\n",
       "      <td>20</td>\n",
       "    </tr>\n",
       "    <tr>\n",
       "      <th>101060</th>\n",
       "      <td>2001-02-24</td>\n",
       "      <td>2001-03-12</td>\n",
       "      <td>87</td>\n",
       "      <td>One More Time</td>\n",
       "      <td>One More Time</td>\n",
       "      <td>Daft Punk</td>\n",
       "      <td>Daft Punk</td>\n",
       "      <td>89.0</td>\n",
       "      <td>87</td>\n",
       "      <td>3</td>\n",
       "      <td>320357.0</td>\n",
       "      <td>80.0</td>\n",
       "      <td>album</td>\n",
       "      <td>14</td>\n",
       "    </tr>\n",
       "    <tr>\n",
       "      <th>101148</th>\n",
       "      <td>2001-02-17</td>\n",
       "      <td>2001-03-12</td>\n",
       "      <td>89</td>\n",
       "      <td>One More Time</td>\n",
       "      <td>One More Time</td>\n",
       "      <td>Daft Punk</td>\n",
       "      <td>Daft Punk</td>\n",
       "      <td>89.0</td>\n",
       "      <td>89</td>\n",
       "      <td>2</td>\n",
       "      <td>320357.0</td>\n",
       "      <td>80.0</td>\n",
       "      <td>album</td>\n",
       "      <td>12</td>\n",
       "    </tr>\n",
       "    <tr>\n",
       "      <th>101234</th>\n",
       "      <td>2001-02-10</td>\n",
       "      <td>2001-03-12</td>\n",
       "      <td>89</td>\n",
       "      <td>One More Time</td>\n",
       "      <td>One More Time</td>\n",
       "      <td>Daft Punk</td>\n",
       "      <td>Daft Punk</td>\n",
       "      <td>NaN</td>\n",
       "      <td>89</td>\n",
       "      <td>1</td>\n",
       "      <td>320357.0</td>\n",
       "      <td>80.0</td>\n",
       "      <td>album</td>\n",
       "      <td>12</td>\n",
       "    </tr>\n",
       "    <tr>\n",
       "      <th>115612</th>\n",
       "      <td>1998-01-10</td>\n",
       "      <td>1997-01-17</td>\n",
       "      <td>79</td>\n",
       "      <td>Around The World</td>\n",
       "      <td>Around the World</td>\n",
       "      <td>Daft Punk</td>\n",
       "      <td>Daft Punk</td>\n",
       "      <td>75.0</td>\n",
       "      <td>61</td>\n",
       "      <td>20</td>\n",
       "      <td>429533.0</td>\n",
       "      <td>77.0</td>\n",
       "      <td>album</td>\n",
       "      <td>22</td>\n",
       "    </tr>\n",
       "    <tr>\n",
       "      <th>115692</th>\n",
       "      <td>1998-01-03</td>\n",
       "      <td>1997-01-17</td>\n",
       "      <td>75</td>\n",
       "      <td>Around The World</td>\n",
       "      <td>Around the World</td>\n",
       "      <td>Daft Punk</td>\n",
       "      <td>Daft Punk</td>\n",
       "      <td>81.0</td>\n",
       "      <td>61</td>\n",
       "      <td>19</td>\n",
       "      <td>429533.0</td>\n",
       "      <td>77.0</td>\n",
       "      <td>album</td>\n",
       "      <td>26</td>\n",
       "    </tr>\n",
       "    <tr>\n",
       "      <th>115780</th>\n",
       "      <td>1997-12-27</td>\n",
       "      <td>1997-01-17</td>\n",
       "      <td>81</td>\n",
       "      <td>Around The World</td>\n",
       "      <td>Around the World</td>\n",
       "      <td>Daft Punk</td>\n",
       "      <td>Daft Punk</td>\n",
       "      <td>79.0</td>\n",
       "      <td>61</td>\n",
       "      <td>18</td>\n",
       "      <td>429533.0</td>\n",
       "      <td>77.0</td>\n",
       "      <td>album</td>\n",
       "      <td>20</td>\n",
       "    </tr>\n",
       "    <tr>\n",
       "      <th>115861</th>\n",
       "      <td>1997-12-20</td>\n",
       "      <td>1997-01-17</td>\n",
       "      <td>79</td>\n",
       "      <td>Around The World</td>\n",
       "      <td>Around the World</td>\n",
       "      <td>Daft Punk</td>\n",
       "      <td>Daft Punk</td>\n",
       "      <td>78.0</td>\n",
       "      <td>61</td>\n",
       "      <td>17</td>\n",
       "      <td>429533.0</td>\n",
       "      <td>77.0</td>\n",
       "      <td>album</td>\n",
       "      <td>22</td>\n",
       "    </tr>\n",
       "    <tr>\n",
       "      <th>115941</th>\n",
       "      <td>1997-12-13</td>\n",
       "      <td>1997-01-17</td>\n",
       "      <td>78</td>\n",
       "      <td>Around The World</td>\n",
       "      <td>Around the World</td>\n",
       "      <td>Daft Punk</td>\n",
       "      <td>Daft Punk</td>\n",
       "      <td>75.0</td>\n",
       "      <td>61</td>\n",
       "      <td>16</td>\n",
       "      <td>429533.0</td>\n",
       "      <td>77.0</td>\n",
       "      <td>album</td>\n",
       "      <td>23</td>\n",
       "    </tr>\n",
       "    <tr>\n",
       "      <th>116019</th>\n",
       "      <td>1997-12-06</td>\n",
       "      <td>1997-01-17</td>\n",
       "      <td>75</td>\n",
       "      <td>Around The World</td>\n",
       "      <td>Around the World</td>\n",
       "      <td>Daft Punk</td>\n",
       "      <td>Daft Punk</td>\n",
       "      <td>70.0</td>\n",
       "      <td>61</td>\n",
       "      <td>15</td>\n",
       "      <td>429533.0</td>\n",
       "      <td>77.0</td>\n",
       "      <td>album</td>\n",
       "      <td>26</td>\n",
       "    </tr>\n",
       "    <tr>\n",
       "      <th>116095</th>\n",
       "      <td>1997-11-29</td>\n",
       "      <td>1997-01-17</td>\n",
       "      <td>70</td>\n",
       "      <td>Around The World</td>\n",
       "      <td>Around the World</td>\n",
       "      <td>Daft Punk</td>\n",
       "      <td>Daft Punk</td>\n",
       "      <td>71.0</td>\n",
       "      <td>61</td>\n",
       "      <td>14</td>\n",
       "      <td>429533.0</td>\n",
       "      <td>77.0</td>\n",
       "      <td>album</td>\n",
       "      <td>31</td>\n",
       "    </tr>\n",
       "    <tr>\n",
       "      <th>116178</th>\n",
       "      <td>1997-11-22</td>\n",
       "      <td>1997-01-17</td>\n",
       "      <td>71</td>\n",
       "      <td>Around The World</td>\n",
       "      <td>Around the World</td>\n",
       "      <td>Daft Punk</td>\n",
       "      <td>Daft Punk</td>\n",
       "      <td>72.0</td>\n",
       "      <td>61</td>\n",
       "      <td>13</td>\n",
       "      <td>429533.0</td>\n",
       "      <td>77.0</td>\n",
       "      <td>album</td>\n",
       "      <td>30</td>\n",
       "    </tr>\n",
       "    <tr>\n",
       "      <th>116260</th>\n",
       "      <td>1997-11-15</td>\n",
       "      <td>1997-01-17</td>\n",
       "      <td>72</td>\n",
       "      <td>Around The World</td>\n",
       "      <td>Around the World</td>\n",
       "      <td>Daft Punk</td>\n",
       "      <td>Daft Punk</td>\n",
       "      <td>64.0</td>\n",
       "      <td>61</td>\n",
       "      <td>12</td>\n",
       "      <td>429533.0</td>\n",
       "      <td>77.0</td>\n",
       "      <td>album</td>\n",
       "      <td>29</td>\n",
       "    </tr>\n",
       "    <tr>\n",
       "      <th>116336</th>\n",
       "      <td>1997-11-08</td>\n",
       "      <td>1997-01-17</td>\n",
       "      <td>64</td>\n",
       "      <td>Around The World</td>\n",
       "      <td>Around the World</td>\n",
       "      <td>Daft Punk</td>\n",
       "      <td>Daft Punk</td>\n",
       "      <td>64.0</td>\n",
       "      <td>61</td>\n",
       "      <td>11</td>\n",
       "      <td>429533.0</td>\n",
       "      <td>77.0</td>\n",
       "      <td>album</td>\n",
       "      <td>37</td>\n",
       "    </tr>\n",
       "    <tr>\n",
       "      <th>116415</th>\n",
       "      <td>1997-11-01</td>\n",
       "      <td>1997-01-17</td>\n",
       "      <td>64</td>\n",
       "      <td>Around The World</td>\n",
       "      <td>Around the World</td>\n",
       "      <td>Daft Punk</td>\n",
       "      <td>Daft Punk</td>\n",
       "      <td>64.0</td>\n",
       "      <td>61</td>\n",
       "      <td>10</td>\n",
       "      <td>429533.0</td>\n",
       "      <td>77.0</td>\n",
       "      <td>album</td>\n",
       "      <td>37</td>\n",
       "    </tr>\n",
       "    <tr>\n",
       "      <th>116492</th>\n",
       "      <td>1997-10-25</td>\n",
       "      <td>1997-01-17</td>\n",
       "      <td>64</td>\n",
       "      <td>Around The World</td>\n",
       "      <td>Around the World</td>\n",
       "      <td>Daft Punk</td>\n",
       "      <td>Daft Punk</td>\n",
       "      <td>66.0</td>\n",
       "      <td>61</td>\n",
       "      <td>9</td>\n",
       "      <td>429533.0</td>\n",
       "      <td>77.0</td>\n",
       "      <td>album</td>\n",
       "      <td>37</td>\n",
       "    </tr>\n",
       "    <tr>\n",
       "      <th>116569</th>\n",
       "      <td>1997-10-18</td>\n",
       "      <td>1997-01-17</td>\n",
       "      <td>66</td>\n",
       "      <td>Around The World</td>\n",
       "      <td>Around the World</td>\n",
       "      <td>Daft Punk</td>\n",
       "      <td>Daft Punk</td>\n",
       "      <td>61.0</td>\n",
       "      <td>61</td>\n",
       "      <td>8</td>\n",
       "      <td>429533.0</td>\n",
       "      <td>77.0</td>\n",
       "      <td>album</td>\n",
       "      <td>35</td>\n",
       "    </tr>\n",
       "    <tr>\n",
       "      <th>116643</th>\n",
       "      <td>1997-10-11</td>\n",
       "      <td>1997-01-17</td>\n",
       "      <td>61</td>\n",
       "      <td>Around The World</td>\n",
       "      <td>Around the World</td>\n",
       "      <td>Daft Punk</td>\n",
       "      <td>Daft Punk</td>\n",
       "      <td>61.0</td>\n",
       "      <td>61</td>\n",
       "      <td>7</td>\n",
       "      <td>429533.0</td>\n",
       "      <td>77.0</td>\n",
       "      <td>album</td>\n",
       "      <td>40</td>\n",
       "    </tr>\n",
       "    <tr>\n",
       "      <th>116722</th>\n",
       "      <td>1997-10-04</td>\n",
       "      <td>1997-01-17</td>\n",
       "      <td>61</td>\n",
       "      <td>Around The World</td>\n",
       "      <td>Around the World</td>\n",
       "      <td>Daft Punk</td>\n",
       "      <td>Daft Punk</td>\n",
       "      <td>66.0</td>\n",
       "      <td>61</td>\n",
       "      <td>6</td>\n",
       "      <td>429533.0</td>\n",
       "      <td>77.0</td>\n",
       "      <td>album</td>\n",
       "      <td>40</td>\n",
       "    </tr>\n",
       "    <tr>\n",
       "      <th>116803</th>\n",
       "      <td>1997-09-27</td>\n",
       "      <td>1997-01-17</td>\n",
       "      <td>66</td>\n",
       "      <td>Around The World</td>\n",
       "      <td>Around the World</td>\n",
       "      <td>Daft Punk</td>\n",
       "      <td>Daft Punk</td>\n",
       "      <td>66.0</td>\n",
       "      <td>66</td>\n",
       "      <td>5</td>\n",
       "      <td>429533.0</td>\n",
       "      <td>77.0</td>\n",
       "      <td>album</td>\n",
       "      <td>35</td>\n",
       "    </tr>\n",
       "    <tr>\n",
       "      <th>116877</th>\n",
       "      <td>1997-09-20</td>\n",
       "      <td>1997-01-17</td>\n",
       "      <td>66</td>\n",
       "      <td>Around The World</td>\n",
       "      <td>Around the World</td>\n",
       "      <td>Daft Punk</td>\n",
       "      <td>Daft Punk</td>\n",
       "      <td>66.0</td>\n",
       "      <td>66</td>\n",
       "      <td>4</td>\n",
       "      <td>429533.0</td>\n",
       "      <td>77.0</td>\n",
       "      <td>album</td>\n",
       "      <td>35</td>\n",
       "    </tr>\n",
       "    <tr>\n",
       "      <th>116956</th>\n",
       "      <td>1997-09-13</td>\n",
       "      <td>1997-01-17</td>\n",
       "      <td>66</td>\n",
       "      <td>Around The World</td>\n",
       "      <td>Around the World</td>\n",
       "      <td>Daft Punk</td>\n",
       "      <td>Daft Punk</td>\n",
       "      <td>66.0</td>\n",
       "      <td>66</td>\n",
       "      <td>3</td>\n",
       "      <td>429533.0</td>\n",
       "      <td>77.0</td>\n",
       "      <td>album</td>\n",
       "      <td>35</td>\n",
       "    </tr>\n",
       "    <tr>\n",
       "      <th>117031</th>\n",
       "      <td>1997-09-06</td>\n",
       "      <td>1997-01-17</td>\n",
       "      <td>66</td>\n",
       "      <td>Around The World</td>\n",
       "      <td>Around the World</td>\n",
       "      <td>Daft Punk</td>\n",
       "      <td>Daft Punk</td>\n",
       "      <td>68.0</td>\n",
       "      <td>66</td>\n",
       "      <td>2</td>\n",
       "      <td>429533.0</td>\n",
       "      <td>77.0</td>\n",
       "      <td>album</td>\n",
       "      <td>35</td>\n",
       "    </tr>\n",
       "    <tr>\n",
       "      <th>117110</th>\n",
       "      <td>1997-08-30</td>\n",
       "      <td>1997-01-17</td>\n",
       "      <td>68</td>\n",
       "      <td>Around The World</td>\n",
       "      <td>Around the World</td>\n",
       "      <td>Daft Punk</td>\n",
       "      <td>Daft Punk</td>\n",
       "      <td>NaN</td>\n",
       "      <td>68</td>\n",
       "      <td>1</td>\n",
       "      <td>429533.0</td>\n",
       "      <td>77.0</td>\n",
       "      <td>album</td>\n",
       "      <td>33</td>\n",
       "    </tr>\n",
       "  </tbody>\n",
       "</table>\n",
       "</div>"
      ],
      "text/plain": [
       "             date release_date  rank              song        match_song  \\\n",
       "99992  2001-05-26   2001-03-12    99     One More Time     One More Time   \n",
       "100074 2001-05-19   2001-03-12    96     One More Time     One More Time   \n",
       "100156 2001-05-12   2001-03-12    95     One More Time     One More Time   \n",
       "100232 2001-05-05   2001-03-12    88     One More Time     One More Time   \n",
       "100311 2001-04-28   2001-03-12    82     One More Time     One More Time   \n",
       "100383 2001-04-21   2001-03-12    72     One More Time     One More Time   \n",
       "100461 2001-04-14   2001-03-12    69     One More Time     One More Time   \n",
       "100537 2001-04-07   2001-03-12    66     One More Time     One More Time   \n",
       "100619 2001-03-31   2001-03-12    69     One More Time     One More Time   \n",
       "100697 2001-03-24   2001-03-12    61     One More Time     One More Time   \n",
       "100786 2001-03-17   2001-03-12    66     One More Time     One More Time   \n",
       "100871 2001-03-10   2001-03-12    69     One More Time     One More Time   \n",
       "100966 2001-03-03   2001-03-12    81     One More Time     One More Time   \n",
       "101060 2001-02-24   2001-03-12    87     One More Time     One More Time   \n",
       "101148 2001-02-17   2001-03-12    89     One More Time     One More Time   \n",
       "101234 2001-02-10   2001-03-12    89     One More Time     One More Time   \n",
       "115612 1998-01-10   1997-01-17    79  Around The World  Around the World   \n",
       "115692 1998-01-03   1997-01-17    75  Around The World  Around the World   \n",
       "115780 1997-12-27   1997-01-17    81  Around The World  Around the World   \n",
       "115861 1997-12-20   1997-01-17    79  Around The World  Around the World   \n",
       "115941 1997-12-13   1997-01-17    78  Around The World  Around the World   \n",
       "116019 1997-12-06   1997-01-17    75  Around The World  Around the World   \n",
       "116095 1997-11-29   1997-01-17    70  Around The World  Around the World   \n",
       "116178 1997-11-22   1997-01-17    71  Around The World  Around the World   \n",
       "116260 1997-11-15   1997-01-17    72  Around The World  Around the World   \n",
       "116336 1997-11-08   1997-01-17    64  Around The World  Around the World   \n",
       "116415 1997-11-01   1997-01-17    64  Around The World  Around the World   \n",
       "116492 1997-10-25   1997-01-17    64  Around The World  Around the World   \n",
       "116569 1997-10-18   1997-01-17    66  Around The World  Around the World   \n",
       "116643 1997-10-11   1997-01-17    61  Around The World  Around the World   \n",
       "116722 1997-10-04   1997-01-17    61  Around The World  Around the World   \n",
       "116803 1997-09-27   1997-01-17    66  Around The World  Around the World   \n",
       "116877 1997-09-20   1997-01-17    66  Around The World  Around the World   \n",
       "116956 1997-09-13   1997-01-17    66  Around The World  Around the World   \n",
       "117031 1997-09-06   1997-01-17    66  Around The World  Around the World   \n",
       "117110 1997-08-30   1997-01-17    68  Around The World  Around the World   \n",
       "\n",
       "           artist match_artist  last-week  peak-rank  weeks-on-board  \\\n",
       "99992   Daft Punk    Daft Punk       96.0         61              16   \n",
       "100074  Daft Punk    Daft Punk       95.0         61              15   \n",
       "100156  Daft Punk    Daft Punk       88.0         61              14   \n",
       "100232  Daft Punk    Daft Punk       82.0         61              13   \n",
       "100311  Daft Punk    Daft Punk       72.0         61              12   \n",
       "100383  Daft Punk    Daft Punk       69.0         61              11   \n",
       "100461  Daft Punk    Daft Punk       66.0         61              10   \n",
       "100537  Daft Punk    Daft Punk       69.0         61               9   \n",
       "100619  Daft Punk    Daft Punk       61.0         61               8   \n",
       "100697  Daft Punk    Daft Punk       66.0         61               7   \n",
       "100786  Daft Punk    Daft Punk       69.0         66               6   \n",
       "100871  Daft Punk    Daft Punk       81.0         69               5   \n",
       "100966  Daft Punk    Daft Punk       87.0         81               4   \n",
       "101060  Daft Punk    Daft Punk       89.0         87               3   \n",
       "101148  Daft Punk    Daft Punk       89.0         89               2   \n",
       "101234  Daft Punk    Daft Punk        NaN         89               1   \n",
       "115612  Daft Punk    Daft Punk       75.0         61              20   \n",
       "115692  Daft Punk    Daft Punk       81.0         61              19   \n",
       "115780  Daft Punk    Daft Punk       79.0         61              18   \n",
       "115861  Daft Punk    Daft Punk       78.0         61              17   \n",
       "115941  Daft Punk    Daft Punk       75.0         61              16   \n",
       "116019  Daft Punk    Daft Punk       70.0         61              15   \n",
       "116095  Daft Punk    Daft Punk       71.0         61              14   \n",
       "116178  Daft Punk    Daft Punk       72.0         61              13   \n",
       "116260  Daft Punk    Daft Punk       64.0         61              12   \n",
       "116336  Daft Punk    Daft Punk       64.0         61              11   \n",
       "116415  Daft Punk    Daft Punk       64.0         61              10   \n",
       "116492  Daft Punk    Daft Punk       66.0         61               9   \n",
       "116569  Daft Punk    Daft Punk       61.0         61               8   \n",
       "116643  Daft Punk    Daft Punk       61.0         61               7   \n",
       "116722  Daft Punk    Daft Punk       66.0         61               6   \n",
       "116803  Daft Punk    Daft Punk       66.0         66               5   \n",
       "116877  Daft Punk    Daft Punk       66.0         66               4   \n",
       "116956  Daft Punk    Daft Punk       66.0         66               3   \n",
       "117031  Daft Punk    Daft Punk       68.0         66               2   \n",
       "117110  Daft Punk    Daft Punk        NaN         68               1   \n",
       "\n",
       "        duration_ms  spotify_popularity album_type  score  \n",
       "99992      320357.0                80.0      album      2  \n",
       "100074     320357.0                80.0      album      5  \n",
       "100156     320357.0                80.0      album      6  \n",
       "100232     320357.0                80.0      album     13  \n",
       "100311     320357.0                80.0      album     19  \n",
       "100383     320357.0                80.0      album     29  \n",
       "100461     320357.0                80.0      album     32  \n",
       "100537     320357.0                80.0      album     35  \n",
       "100619     320357.0                80.0      album     32  \n",
       "100697     320357.0                80.0      album     40  \n",
       "100786     320357.0                80.0      album     35  \n",
       "100871     320357.0                80.0      album     32  \n",
       "100966     320357.0                80.0      album     20  \n",
       "101060     320357.0                80.0      album     14  \n",
       "101148     320357.0                80.0      album     12  \n",
       "101234     320357.0                80.0      album     12  \n",
       "115612     429533.0                77.0      album     22  \n",
       "115692     429533.0                77.0      album     26  \n",
       "115780     429533.0                77.0      album     20  \n",
       "115861     429533.0                77.0      album     22  \n",
       "115941     429533.0                77.0      album     23  \n",
       "116019     429533.0                77.0      album     26  \n",
       "116095     429533.0                77.0      album     31  \n",
       "116178     429533.0                77.0      album     30  \n",
       "116260     429533.0                77.0      album     29  \n",
       "116336     429533.0                77.0      album     37  \n",
       "116415     429533.0                77.0      album     37  \n",
       "116492     429533.0                77.0      album     37  \n",
       "116569     429533.0                77.0      album     35  \n",
       "116643     429533.0                77.0      album     40  \n",
       "116722     429533.0                77.0      album     40  \n",
       "116803     429533.0                77.0      album     35  \n",
       "116877     429533.0                77.0      album     35  \n",
       "116956     429533.0                77.0      album     35  \n",
       "117031     429533.0                77.0      album     35  \n",
       "117110     429533.0                77.0      album     33  "
      ]
     },
     "execution_count": 37,
     "metadata": {},
     "output_type": "execute_result"
    }
   ],
   "source": [
    "final_clean[final_clean[\"artist\"] == \"Daft Punk\"]"
   ]
  },
  {
   "cell_type": "code",
   "execution_count": 38,
   "metadata": {},
   "outputs": [
    {
     "data": {
      "application/vnd.plotly.v1+json": {
       "config": {
        "plotlyServerURL": "https://plot.ly"
       },
       "data": [
        {
         "alignmentgroup": "True",
         "hovertemplate": "date=%{x}<br>score=%{y}<extra></extra>",
         "legendgroup": "",
         "marker": {
          "color": "#636efa",
          "pattern": {
           "shape": ""
          }
         },
         "name": "",
         "offsetgroup": "",
         "orientation": "v",
         "showlegend": false,
         "textposition": "auto",
         "type": "bar",
         "x": [
          "2001-05-26T00:00:00",
          "2001-05-19T00:00:00",
          "2001-05-12T00:00:00",
          "2001-05-05T00:00:00",
          "2001-04-28T00:00:00",
          "2001-04-21T00:00:00",
          "2001-04-14T00:00:00",
          "2001-04-07T00:00:00",
          "2001-03-31T00:00:00",
          "2001-03-24T00:00:00",
          "2001-03-17T00:00:00",
          "2001-03-10T00:00:00",
          "2001-03-03T00:00:00",
          "2001-02-24T00:00:00",
          "2001-02-17T00:00:00",
          "2001-02-10T00:00:00",
          "1997-08-09T00:00:00",
          "1997-08-02T00:00:00",
          "1997-07-26T00:00:00",
          "1997-07-19T00:00:00",
          "1997-07-12T00:00:00",
          "1997-07-05T00:00:00",
          "1997-06-28T00:00:00",
          "1997-06-21T00:00:00",
          "1997-06-14T00:00:00",
          "1997-06-07T00:00:00",
          "1997-05-31T00:00:00",
          "1997-05-24T00:00:00",
          "1997-05-17T00:00:00",
          "1997-05-10T00:00:00",
          "1997-05-03T00:00:00",
          "1997-04-26T00:00:00",
          "1997-04-19T00:00:00",
          "1997-04-12T00:00:00",
          "1997-04-05T00:00:00",
          "1997-03-29T00:00:00"
         ],
         "xaxis": "x",
         "y": [
          2,
          5,
          6,
          13,
          19,
          29,
          32,
          35,
          32,
          40,
          35,
          32,
          20,
          14,
          12,
          12,
          36,
          36,
          33,
          36,
          49,
          48,
          48,
          48,
          51,
          48,
          56,
          60,
          66,
          68,
          68,
          74,
          74,
          74,
          72,
          68
         ],
         "yaxis": "y"
        }
       ],
       "layout": {
        "barmode": "relative",
        "legend": {
         "tracegroupgap": 0
        },
        "margin": {
         "t": 60
        },
        "template": {
         "data": {
          "bar": [
           {
            "error_x": {
             "color": "#2a3f5f"
            },
            "error_y": {
             "color": "#2a3f5f"
            },
            "marker": {
             "line": {
              "color": "#E5ECF6",
              "width": 0.5
             },
             "pattern": {
              "fillmode": "overlay",
              "size": 10,
              "solidity": 0.2
             }
            },
            "type": "bar"
           }
          ],
          "barpolar": [
           {
            "marker": {
             "line": {
              "color": "#E5ECF6",
              "width": 0.5
             },
             "pattern": {
              "fillmode": "overlay",
              "size": 10,
              "solidity": 0.2
             }
            },
            "type": "barpolar"
           }
          ],
          "carpet": [
           {
            "aaxis": {
             "endlinecolor": "#2a3f5f",
             "gridcolor": "white",
             "linecolor": "white",
             "minorgridcolor": "white",
             "startlinecolor": "#2a3f5f"
            },
            "baxis": {
             "endlinecolor": "#2a3f5f",
             "gridcolor": "white",
             "linecolor": "white",
             "minorgridcolor": "white",
             "startlinecolor": "#2a3f5f"
            },
            "type": "carpet"
           }
          ],
          "choropleth": [
           {
            "colorbar": {
             "outlinewidth": 0,
             "ticks": ""
            },
            "type": "choropleth"
           }
          ],
          "contour": [
           {
            "colorbar": {
             "outlinewidth": 0,
             "ticks": ""
            },
            "colorscale": [
             [
              0,
              "#0d0887"
             ],
             [
              0.1111111111111111,
              "#46039f"
             ],
             [
              0.2222222222222222,
              "#7201a8"
             ],
             [
              0.3333333333333333,
              "#9c179e"
             ],
             [
              0.4444444444444444,
              "#bd3786"
             ],
             [
              0.5555555555555556,
              "#d8576b"
             ],
             [
              0.6666666666666666,
              "#ed7953"
             ],
             [
              0.7777777777777778,
              "#fb9f3a"
             ],
             [
              0.8888888888888888,
              "#fdca26"
             ],
             [
              1,
              "#f0f921"
             ]
            ],
            "type": "contour"
           }
          ],
          "contourcarpet": [
           {
            "colorbar": {
             "outlinewidth": 0,
             "ticks": ""
            },
            "type": "contourcarpet"
           }
          ],
          "heatmap": [
           {
            "colorbar": {
             "outlinewidth": 0,
             "ticks": ""
            },
            "colorscale": [
             [
              0,
              "#0d0887"
             ],
             [
              0.1111111111111111,
              "#46039f"
             ],
             [
              0.2222222222222222,
              "#7201a8"
             ],
             [
              0.3333333333333333,
              "#9c179e"
             ],
             [
              0.4444444444444444,
              "#bd3786"
             ],
             [
              0.5555555555555556,
              "#d8576b"
             ],
             [
              0.6666666666666666,
              "#ed7953"
             ],
             [
              0.7777777777777778,
              "#fb9f3a"
             ],
             [
              0.8888888888888888,
              "#fdca26"
             ],
             [
              1,
              "#f0f921"
             ]
            ],
            "type": "heatmap"
           }
          ],
          "heatmapgl": [
           {
            "colorbar": {
             "outlinewidth": 0,
             "ticks": ""
            },
            "colorscale": [
             [
              0,
              "#0d0887"
             ],
             [
              0.1111111111111111,
              "#46039f"
             ],
             [
              0.2222222222222222,
              "#7201a8"
             ],
             [
              0.3333333333333333,
              "#9c179e"
             ],
             [
              0.4444444444444444,
              "#bd3786"
             ],
             [
              0.5555555555555556,
              "#d8576b"
             ],
             [
              0.6666666666666666,
              "#ed7953"
             ],
             [
              0.7777777777777778,
              "#fb9f3a"
             ],
             [
              0.8888888888888888,
              "#fdca26"
             ],
             [
              1,
              "#f0f921"
             ]
            ],
            "type": "heatmapgl"
           }
          ],
          "histogram": [
           {
            "marker": {
             "pattern": {
              "fillmode": "overlay",
              "size": 10,
              "solidity": 0.2
             }
            },
            "type": "histogram"
           }
          ],
          "histogram2d": [
           {
            "colorbar": {
             "outlinewidth": 0,
             "ticks": ""
            },
            "colorscale": [
             [
              0,
              "#0d0887"
             ],
             [
              0.1111111111111111,
              "#46039f"
             ],
             [
              0.2222222222222222,
              "#7201a8"
             ],
             [
              0.3333333333333333,
              "#9c179e"
             ],
             [
              0.4444444444444444,
              "#bd3786"
             ],
             [
              0.5555555555555556,
              "#d8576b"
             ],
             [
              0.6666666666666666,
              "#ed7953"
             ],
             [
              0.7777777777777778,
              "#fb9f3a"
             ],
             [
              0.8888888888888888,
              "#fdca26"
             ],
             [
              1,
              "#f0f921"
             ]
            ],
            "type": "histogram2d"
           }
          ],
          "histogram2dcontour": [
           {
            "colorbar": {
             "outlinewidth": 0,
             "ticks": ""
            },
            "colorscale": [
             [
              0,
              "#0d0887"
             ],
             [
              0.1111111111111111,
              "#46039f"
             ],
             [
              0.2222222222222222,
              "#7201a8"
             ],
             [
              0.3333333333333333,
              "#9c179e"
             ],
             [
              0.4444444444444444,
              "#bd3786"
             ],
             [
              0.5555555555555556,
              "#d8576b"
             ],
             [
              0.6666666666666666,
              "#ed7953"
             ],
             [
              0.7777777777777778,
              "#fb9f3a"
             ],
             [
              0.8888888888888888,
              "#fdca26"
             ],
             [
              1,
              "#f0f921"
             ]
            ],
            "type": "histogram2dcontour"
           }
          ],
          "mesh3d": [
           {
            "colorbar": {
             "outlinewidth": 0,
             "ticks": ""
            },
            "type": "mesh3d"
           }
          ],
          "parcoords": [
           {
            "line": {
             "colorbar": {
              "outlinewidth": 0,
              "ticks": ""
             }
            },
            "type": "parcoords"
           }
          ],
          "pie": [
           {
            "automargin": true,
            "type": "pie"
           }
          ],
          "scatter": [
           {
            "marker": {
             "colorbar": {
              "outlinewidth": 0,
              "ticks": ""
             }
            },
            "type": "scatter"
           }
          ],
          "scatter3d": [
           {
            "line": {
             "colorbar": {
              "outlinewidth": 0,
              "ticks": ""
             }
            },
            "marker": {
             "colorbar": {
              "outlinewidth": 0,
              "ticks": ""
             }
            },
            "type": "scatter3d"
           }
          ],
          "scattercarpet": [
           {
            "marker": {
             "colorbar": {
              "outlinewidth": 0,
              "ticks": ""
             }
            },
            "type": "scattercarpet"
           }
          ],
          "scattergeo": [
           {
            "marker": {
             "colorbar": {
              "outlinewidth": 0,
              "ticks": ""
             }
            },
            "type": "scattergeo"
           }
          ],
          "scattergl": [
           {
            "marker": {
             "colorbar": {
              "outlinewidth": 0,
              "ticks": ""
             }
            },
            "type": "scattergl"
           }
          ],
          "scattermapbox": [
           {
            "marker": {
             "colorbar": {
              "outlinewidth": 0,
              "ticks": ""
             }
            },
            "type": "scattermapbox"
           }
          ],
          "scatterpolar": [
           {
            "marker": {
             "colorbar": {
              "outlinewidth": 0,
              "ticks": ""
             }
            },
            "type": "scatterpolar"
           }
          ],
          "scatterpolargl": [
           {
            "marker": {
             "colorbar": {
              "outlinewidth": 0,
              "ticks": ""
             }
            },
            "type": "scatterpolargl"
           }
          ],
          "scatterternary": [
           {
            "marker": {
             "colorbar": {
              "outlinewidth": 0,
              "ticks": ""
             }
            },
            "type": "scatterternary"
           }
          ],
          "surface": [
           {
            "colorbar": {
             "outlinewidth": 0,
             "ticks": ""
            },
            "colorscale": [
             [
              0,
              "#0d0887"
             ],
             [
              0.1111111111111111,
              "#46039f"
             ],
             [
              0.2222222222222222,
              "#7201a8"
             ],
             [
              0.3333333333333333,
              "#9c179e"
             ],
             [
              0.4444444444444444,
              "#bd3786"
             ],
             [
              0.5555555555555556,
              "#d8576b"
             ],
             [
              0.6666666666666666,
              "#ed7953"
             ],
             [
              0.7777777777777778,
              "#fb9f3a"
             ],
             [
              0.8888888888888888,
              "#fdca26"
             ],
             [
              1,
              "#f0f921"
             ]
            ],
            "type": "surface"
           }
          ],
          "table": [
           {
            "cells": {
             "fill": {
              "color": "#EBF0F8"
             },
             "line": {
              "color": "white"
             }
            },
            "header": {
             "fill": {
              "color": "#C8D4E3"
             },
             "line": {
              "color": "white"
             }
            },
            "type": "table"
           }
          ]
         },
         "layout": {
          "annotationdefaults": {
           "arrowcolor": "#2a3f5f",
           "arrowhead": 0,
           "arrowwidth": 1
          },
          "autotypenumbers": "strict",
          "coloraxis": {
           "colorbar": {
            "outlinewidth": 0,
            "ticks": ""
           }
          },
          "colorscale": {
           "diverging": [
            [
             0,
             "#8e0152"
            ],
            [
             0.1,
             "#c51b7d"
            ],
            [
             0.2,
             "#de77ae"
            ],
            [
             0.3,
             "#f1b6da"
            ],
            [
             0.4,
             "#fde0ef"
            ],
            [
             0.5,
             "#f7f7f7"
            ],
            [
             0.6,
             "#e6f5d0"
            ],
            [
             0.7,
             "#b8e186"
            ],
            [
             0.8,
             "#7fbc41"
            ],
            [
             0.9,
             "#4d9221"
            ],
            [
             1,
             "#276419"
            ]
           ],
           "sequential": [
            [
             0,
             "#0d0887"
            ],
            [
             0.1111111111111111,
             "#46039f"
            ],
            [
             0.2222222222222222,
             "#7201a8"
            ],
            [
             0.3333333333333333,
             "#9c179e"
            ],
            [
             0.4444444444444444,
             "#bd3786"
            ],
            [
             0.5555555555555556,
             "#d8576b"
            ],
            [
             0.6666666666666666,
             "#ed7953"
            ],
            [
             0.7777777777777778,
             "#fb9f3a"
            ],
            [
             0.8888888888888888,
             "#fdca26"
            ],
            [
             1,
             "#f0f921"
            ]
           ],
           "sequentialminus": [
            [
             0,
             "#0d0887"
            ],
            [
             0.1111111111111111,
             "#46039f"
            ],
            [
             0.2222222222222222,
             "#7201a8"
            ],
            [
             0.3333333333333333,
             "#9c179e"
            ],
            [
             0.4444444444444444,
             "#bd3786"
            ],
            [
             0.5555555555555556,
             "#d8576b"
            ],
            [
             0.6666666666666666,
             "#ed7953"
            ],
            [
             0.7777777777777778,
             "#fb9f3a"
            ],
            [
             0.8888888888888888,
             "#fdca26"
            ],
            [
             1,
             "#f0f921"
            ]
           ]
          },
          "colorway": [
           "#636efa",
           "#EF553B",
           "#00cc96",
           "#ab63fa",
           "#FFA15A",
           "#19d3f3",
           "#FF6692",
           "#B6E880",
           "#FF97FF",
           "#FECB52"
          ],
          "font": {
           "color": "#2a3f5f"
          },
          "geo": {
           "bgcolor": "white",
           "lakecolor": "white",
           "landcolor": "#E5ECF6",
           "showlakes": true,
           "showland": true,
           "subunitcolor": "white"
          },
          "hoverlabel": {
           "align": "left"
          },
          "hovermode": "closest",
          "mapbox": {
           "style": "light"
          },
          "paper_bgcolor": "white",
          "plot_bgcolor": "#E5ECF6",
          "polar": {
           "angularaxis": {
            "gridcolor": "white",
            "linecolor": "white",
            "ticks": ""
           },
           "bgcolor": "#E5ECF6",
           "radialaxis": {
            "gridcolor": "white",
            "linecolor": "white",
            "ticks": ""
           }
          },
          "scene": {
           "xaxis": {
            "backgroundcolor": "#E5ECF6",
            "gridcolor": "white",
            "gridwidth": 2,
            "linecolor": "white",
            "showbackground": true,
            "ticks": "",
            "zerolinecolor": "white"
           },
           "yaxis": {
            "backgroundcolor": "#E5ECF6",
            "gridcolor": "white",
            "gridwidth": 2,
            "linecolor": "white",
            "showbackground": true,
            "ticks": "",
            "zerolinecolor": "white"
           },
           "zaxis": {
            "backgroundcolor": "#E5ECF6",
            "gridcolor": "white",
            "gridwidth": 2,
            "linecolor": "white",
            "showbackground": true,
            "ticks": "",
            "zerolinecolor": "white"
           }
          },
          "shapedefaults": {
           "line": {
            "color": "#2a3f5f"
           }
          },
          "ternary": {
           "aaxis": {
            "gridcolor": "white",
            "linecolor": "white",
            "ticks": ""
           },
           "baxis": {
            "gridcolor": "white",
            "linecolor": "white",
            "ticks": ""
           },
           "bgcolor": "#E5ECF6",
           "caxis": {
            "gridcolor": "white",
            "linecolor": "white",
            "ticks": ""
           }
          },
          "title": {
           "x": 0.05
          },
          "xaxis": {
           "automargin": true,
           "gridcolor": "white",
           "linecolor": "white",
           "ticks": "",
           "title": {
            "standoff": 15
           },
           "zerolinecolor": "white",
           "zerolinewidth": 2
          },
          "yaxis": {
           "automargin": true,
           "gridcolor": "white",
           "linecolor": "white",
           "ticks": "",
           "title": {
            "standoff": 15
           },
           "zerolinecolor": "white",
           "zerolinewidth": 2
          }
         }
        },
        "xaxis": {
         "anchor": "y",
         "domain": [
          0,
          1
         ],
         "title": {
          "text": "date"
         }
        },
        "yaxis": {
         "anchor": "x",
         "domain": [
          0,
          1
         ],
         "title": {
          "text": "score"
         }
        }
       }
      }
     },
     "metadata": {},
     "output_type": "display_data"
    }
   ],
   "source": [
    "\n",
    "fig = px.bar(final_clean[final_clean[\"song\"] == \"One More Time\"], x='date', y='score')\n",
    "fig.show()"
   ]
  },
  {
   "cell_type": "code",
   "execution_count": 39,
   "metadata": {},
   "outputs": [
    {
     "data": {
      "application/vnd.plotly.v1+json": {
       "config": {
        "plotlyServerURL": "https://plot.ly"
       },
       "data": [
        {
         "alignmentgroup": "True",
         "hovertemplate": "date=%{x}<br>score=%{y}<extra></extra>",
         "legendgroup": "",
         "marker": {
          "color": "#636efa",
          "pattern": {
           "shape": ""
          }
         },
         "name": "",
         "offsetgroup": "",
         "orientation": "v",
         "showlegend": false,
         "textposition": "auto",
         "type": "bar",
         "x": [
          "2001-05-26T00:00:00",
          "2001-05-19T00:00:00",
          "2001-05-12T00:00:00",
          "2001-05-05T00:00:00",
          "2001-04-28T00:00:00",
          "2001-04-21T00:00:00",
          "2001-04-14T00:00:00",
          "2001-04-07T00:00:00",
          "2001-03-31T00:00:00",
          "2001-03-24T00:00:00",
          "2001-03-17T00:00:00",
          "2001-03-10T00:00:00",
          "2001-03-03T00:00:00",
          "2001-02-24T00:00:00",
          "2001-02-17T00:00:00",
          "2001-02-10T00:00:00"
         ],
         "xaxis": "x",
         "y": [
          2,
          5,
          6,
          13,
          19,
          29,
          32,
          35,
          32,
          40,
          35,
          32,
          20,
          14,
          12,
          12
         ],
         "yaxis": "y"
        }
       ],
       "layout": {
        "barmode": "relative",
        "legend": {
         "tracegroupgap": 0
        },
        "margin": {
         "t": 60
        },
        "template": {
         "data": {
          "bar": [
           {
            "error_x": {
             "color": "#2a3f5f"
            },
            "error_y": {
             "color": "#2a3f5f"
            },
            "marker": {
             "line": {
              "color": "#E5ECF6",
              "width": 0.5
             },
             "pattern": {
              "fillmode": "overlay",
              "size": 10,
              "solidity": 0.2
             }
            },
            "type": "bar"
           }
          ],
          "barpolar": [
           {
            "marker": {
             "line": {
              "color": "#E5ECF6",
              "width": 0.5
             },
             "pattern": {
              "fillmode": "overlay",
              "size": 10,
              "solidity": 0.2
             }
            },
            "type": "barpolar"
           }
          ],
          "carpet": [
           {
            "aaxis": {
             "endlinecolor": "#2a3f5f",
             "gridcolor": "white",
             "linecolor": "white",
             "minorgridcolor": "white",
             "startlinecolor": "#2a3f5f"
            },
            "baxis": {
             "endlinecolor": "#2a3f5f",
             "gridcolor": "white",
             "linecolor": "white",
             "minorgridcolor": "white",
             "startlinecolor": "#2a3f5f"
            },
            "type": "carpet"
           }
          ],
          "choropleth": [
           {
            "colorbar": {
             "outlinewidth": 0,
             "ticks": ""
            },
            "type": "choropleth"
           }
          ],
          "contour": [
           {
            "colorbar": {
             "outlinewidth": 0,
             "ticks": ""
            },
            "colorscale": [
             [
              0,
              "#0d0887"
             ],
             [
              0.1111111111111111,
              "#46039f"
             ],
             [
              0.2222222222222222,
              "#7201a8"
             ],
             [
              0.3333333333333333,
              "#9c179e"
             ],
             [
              0.4444444444444444,
              "#bd3786"
             ],
             [
              0.5555555555555556,
              "#d8576b"
             ],
             [
              0.6666666666666666,
              "#ed7953"
             ],
             [
              0.7777777777777778,
              "#fb9f3a"
             ],
             [
              0.8888888888888888,
              "#fdca26"
             ],
             [
              1,
              "#f0f921"
             ]
            ],
            "type": "contour"
           }
          ],
          "contourcarpet": [
           {
            "colorbar": {
             "outlinewidth": 0,
             "ticks": ""
            },
            "type": "contourcarpet"
           }
          ],
          "heatmap": [
           {
            "colorbar": {
             "outlinewidth": 0,
             "ticks": ""
            },
            "colorscale": [
             [
              0,
              "#0d0887"
             ],
             [
              0.1111111111111111,
              "#46039f"
             ],
             [
              0.2222222222222222,
              "#7201a8"
             ],
             [
              0.3333333333333333,
              "#9c179e"
             ],
             [
              0.4444444444444444,
              "#bd3786"
             ],
             [
              0.5555555555555556,
              "#d8576b"
             ],
             [
              0.6666666666666666,
              "#ed7953"
             ],
             [
              0.7777777777777778,
              "#fb9f3a"
             ],
             [
              0.8888888888888888,
              "#fdca26"
             ],
             [
              1,
              "#f0f921"
             ]
            ],
            "type": "heatmap"
           }
          ],
          "heatmapgl": [
           {
            "colorbar": {
             "outlinewidth": 0,
             "ticks": ""
            },
            "colorscale": [
             [
              0,
              "#0d0887"
             ],
             [
              0.1111111111111111,
              "#46039f"
             ],
             [
              0.2222222222222222,
              "#7201a8"
             ],
             [
              0.3333333333333333,
              "#9c179e"
             ],
             [
              0.4444444444444444,
              "#bd3786"
             ],
             [
              0.5555555555555556,
              "#d8576b"
             ],
             [
              0.6666666666666666,
              "#ed7953"
             ],
             [
              0.7777777777777778,
              "#fb9f3a"
             ],
             [
              0.8888888888888888,
              "#fdca26"
             ],
             [
              1,
              "#f0f921"
             ]
            ],
            "type": "heatmapgl"
           }
          ],
          "histogram": [
           {
            "marker": {
             "pattern": {
              "fillmode": "overlay",
              "size": 10,
              "solidity": 0.2
             }
            },
            "type": "histogram"
           }
          ],
          "histogram2d": [
           {
            "colorbar": {
             "outlinewidth": 0,
             "ticks": ""
            },
            "colorscale": [
             [
              0,
              "#0d0887"
             ],
             [
              0.1111111111111111,
              "#46039f"
             ],
             [
              0.2222222222222222,
              "#7201a8"
             ],
             [
              0.3333333333333333,
              "#9c179e"
             ],
             [
              0.4444444444444444,
              "#bd3786"
             ],
             [
              0.5555555555555556,
              "#d8576b"
             ],
             [
              0.6666666666666666,
              "#ed7953"
             ],
             [
              0.7777777777777778,
              "#fb9f3a"
             ],
             [
              0.8888888888888888,
              "#fdca26"
             ],
             [
              1,
              "#f0f921"
             ]
            ],
            "type": "histogram2d"
           }
          ],
          "histogram2dcontour": [
           {
            "colorbar": {
             "outlinewidth": 0,
             "ticks": ""
            },
            "colorscale": [
             [
              0,
              "#0d0887"
             ],
             [
              0.1111111111111111,
              "#46039f"
             ],
             [
              0.2222222222222222,
              "#7201a8"
             ],
             [
              0.3333333333333333,
              "#9c179e"
             ],
             [
              0.4444444444444444,
              "#bd3786"
             ],
             [
              0.5555555555555556,
              "#d8576b"
             ],
             [
              0.6666666666666666,
              "#ed7953"
             ],
             [
              0.7777777777777778,
              "#fb9f3a"
             ],
             [
              0.8888888888888888,
              "#fdca26"
             ],
             [
              1,
              "#f0f921"
             ]
            ],
            "type": "histogram2dcontour"
           }
          ],
          "mesh3d": [
           {
            "colorbar": {
             "outlinewidth": 0,
             "ticks": ""
            },
            "type": "mesh3d"
           }
          ],
          "parcoords": [
           {
            "line": {
             "colorbar": {
              "outlinewidth": 0,
              "ticks": ""
             }
            },
            "type": "parcoords"
           }
          ],
          "pie": [
           {
            "automargin": true,
            "type": "pie"
           }
          ],
          "scatter": [
           {
            "marker": {
             "colorbar": {
              "outlinewidth": 0,
              "ticks": ""
             }
            },
            "type": "scatter"
           }
          ],
          "scatter3d": [
           {
            "line": {
             "colorbar": {
              "outlinewidth": 0,
              "ticks": ""
             }
            },
            "marker": {
             "colorbar": {
              "outlinewidth": 0,
              "ticks": ""
             }
            },
            "type": "scatter3d"
           }
          ],
          "scattercarpet": [
           {
            "marker": {
             "colorbar": {
              "outlinewidth": 0,
              "ticks": ""
             }
            },
            "type": "scattercarpet"
           }
          ],
          "scattergeo": [
           {
            "marker": {
             "colorbar": {
              "outlinewidth": 0,
              "ticks": ""
             }
            },
            "type": "scattergeo"
           }
          ],
          "scattergl": [
           {
            "marker": {
             "colorbar": {
              "outlinewidth": 0,
              "ticks": ""
             }
            },
            "type": "scattergl"
           }
          ],
          "scattermapbox": [
           {
            "marker": {
             "colorbar": {
              "outlinewidth": 0,
              "ticks": ""
             }
            },
            "type": "scattermapbox"
           }
          ],
          "scatterpolar": [
           {
            "marker": {
             "colorbar": {
              "outlinewidth": 0,
              "ticks": ""
             }
            },
            "type": "scatterpolar"
           }
          ],
          "scatterpolargl": [
           {
            "marker": {
             "colorbar": {
              "outlinewidth": 0,
              "ticks": ""
             }
            },
            "type": "scatterpolargl"
           }
          ],
          "scatterternary": [
           {
            "marker": {
             "colorbar": {
              "outlinewidth": 0,
              "ticks": ""
             }
            },
            "type": "scatterternary"
           }
          ],
          "surface": [
           {
            "colorbar": {
             "outlinewidth": 0,
             "ticks": ""
            },
            "colorscale": [
             [
              0,
              "#0d0887"
             ],
             [
              0.1111111111111111,
              "#46039f"
             ],
             [
              0.2222222222222222,
              "#7201a8"
             ],
             [
              0.3333333333333333,
              "#9c179e"
             ],
             [
              0.4444444444444444,
              "#bd3786"
             ],
             [
              0.5555555555555556,
              "#d8576b"
             ],
             [
              0.6666666666666666,
              "#ed7953"
             ],
             [
              0.7777777777777778,
              "#fb9f3a"
             ],
             [
              0.8888888888888888,
              "#fdca26"
             ],
             [
              1,
              "#f0f921"
             ]
            ],
            "type": "surface"
           }
          ],
          "table": [
           {
            "cells": {
             "fill": {
              "color": "#EBF0F8"
             },
             "line": {
              "color": "white"
             }
            },
            "header": {
             "fill": {
              "color": "#C8D4E3"
             },
             "line": {
              "color": "white"
             }
            },
            "type": "table"
           }
          ]
         },
         "layout": {
          "annotationdefaults": {
           "arrowcolor": "#2a3f5f",
           "arrowhead": 0,
           "arrowwidth": 1
          },
          "autotypenumbers": "strict",
          "coloraxis": {
           "colorbar": {
            "outlinewidth": 0,
            "ticks": ""
           }
          },
          "colorscale": {
           "diverging": [
            [
             0,
             "#8e0152"
            ],
            [
             0.1,
             "#c51b7d"
            ],
            [
             0.2,
             "#de77ae"
            ],
            [
             0.3,
             "#f1b6da"
            ],
            [
             0.4,
             "#fde0ef"
            ],
            [
             0.5,
             "#f7f7f7"
            ],
            [
             0.6,
             "#e6f5d0"
            ],
            [
             0.7,
             "#b8e186"
            ],
            [
             0.8,
             "#7fbc41"
            ],
            [
             0.9,
             "#4d9221"
            ],
            [
             1,
             "#276419"
            ]
           ],
           "sequential": [
            [
             0,
             "#0d0887"
            ],
            [
             0.1111111111111111,
             "#46039f"
            ],
            [
             0.2222222222222222,
             "#7201a8"
            ],
            [
             0.3333333333333333,
             "#9c179e"
            ],
            [
             0.4444444444444444,
             "#bd3786"
            ],
            [
             0.5555555555555556,
             "#d8576b"
            ],
            [
             0.6666666666666666,
             "#ed7953"
            ],
            [
             0.7777777777777778,
             "#fb9f3a"
            ],
            [
             0.8888888888888888,
             "#fdca26"
            ],
            [
             1,
             "#f0f921"
            ]
           ],
           "sequentialminus": [
            [
             0,
             "#0d0887"
            ],
            [
             0.1111111111111111,
             "#46039f"
            ],
            [
             0.2222222222222222,
             "#7201a8"
            ],
            [
             0.3333333333333333,
             "#9c179e"
            ],
            [
             0.4444444444444444,
             "#bd3786"
            ],
            [
             0.5555555555555556,
             "#d8576b"
            ],
            [
             0.6666666666666666,
             "#ed7953"
            ],
            [
             0.7777777777777778,
             "#fb9f3a"
            ],
            [
             0.8888888888888888,
             "#fdca26"
            ],
            [
             1,
             "#f0f921"
            ]
           ]
          },
          "colorway": [
           "#636efa",
           "#EF553B",
           "#00cc96",
           "#ab63fa",
           "#FFA15A",
           "#19d3f3",
           "#FF6692",
           "#B6E880",
           "#FF97FF",
           "#FECB52"
          ],
          "font": {
           "color": "#2a3f5f"
          },
          "geo": {
           "bgcolor": "white",
           "lakecolor": "white",
           "landcolor": "#E5ECF6",
           "showlakes": true,
           "showland": true,
           "subunitcolor": "white"
          },
          "hoverlabel": {
           "align": "left"
          },
          "hovermode": "closest",
          "mapbox": {
           "style": "light"
          },
          "paper_bgcolor": "white",
          "plot_bgcolor": "#E5ECF6",
          "polar": {
           "angularaxis": {
            "gridcolor": "white",
            "linecolor": "white",
            "ticks": ""
           },
           "bgcolor": "#E5ECF6",
           "radialaxis": {
            "gridcolor": "white",
            "linecolor": "white",
            "ticks": ""
           }
          },
          "scene": {
           "xaxis": {
            "backgroundcolor": "#E5ECF6",
            "gridcolor": "white",
            "gridwidth": 2,
            "linecolor": "white",
            "showbackground": true,
            "ticks": "",
            "zerolinecolor": "white"
           },
           "yaxis": {
            "backgroundcolor": "#E5ECF6",
            "gridcolor": "white",
            "gridwidth": 2,
            "linecolor": "white",
            "showbackground": true,
            "ticks": "",
            "zerolinecolor": "white"
           },
           "zaxis": {
            "backgroundcolor": "#E5ECF6",
            "gridcolor": "white",
            "gridwidth": 2,
            "linecolor": "white",
            "showbackground": true,
            "ticks": "",
            "zerolinecolor": "white"
           }
          },
          "shapedefaults": {
           "line": {
            "color": "#2a3f5f"
           }
          },
          "ternary": {
           "aaxis": {
            "gridcolor": "white",
            "linecolor": "white",
            "ticks": ""
           },
           "baxis": {
            "gridcolor": "white",
            "linecolor": "white",
            "ticks": ""
           },
           "bgcolor": "#E5ECF6",
           "caxis": {
            "gridcolor": "white",
            "linecolor": "white",
            "ticks": ""
           }
          },
          "title": {
           "x": 0.05
          },
          "xaxis": {
           "automargin": true,
           "gridcolor": "white",
           "linecolor": "white",
           "ticks": "",
           "title": {
            "standoff": 15
           },
           "zerolinecolor": "white",
           "zerolinewidth": 2
          },
          "yaxis": {
           "automargin": true,
           "gridcolor": "white",
           "linecolor": "white",
           "ticks": "",
           "title": {
            "standoff": 15
           },
           "zerolinecolor": "white",
           "zerolinewidth": 2
          }
         }
        },
        "xaxis": {
         "anchor": "y",
         "domain": [
          0,
          1
         ],
         "title": {
          "text": "date"
         }
        },
        "yaxis": {
         "anchor": "x",
         "domain": [
          0,
          1
         ],
         "title": {
          "text": "score"
         }
        }
       }
      }
     },
     "metadata": {},
     "output_type": "display_data"
    }
   ],
   "source": [
    "fig = px.bar(final_clean[(final_clean[\"song\"] == \"One More Time\") & (final_clean[\"artist\"]==\"Daft Punk\")], x='date', y='score')\n",
    "fig.show()"
   ]
  },
  {
   "cell_type": "code",
   "execution_count": null,
   "metadata": {},
   "outputs": [
    {
     "data": {
      "application/vnd.plotly.v1+json": {
       "config": {
        "plotlyServerURL": "https://plot.ly"
       },
       "data": [
        {
         "alignmentgroup": "True",
         "hovertemplate": "song=%{x}<br>spotify_popularity=%{y}<extra></extra>",
         "legendgroup": "",
         "marker": {
          "color": "#636efa",
          "pattern": {
           "shape": ""
          }
         },
         "name": "",
         "offsetgroup": "",
         "orientation": "v",
         "showlegend": false,
         "textposition": "auto",
         "type": "bar",
         "x": [
          "Easy On Me",
          "Stay",
          "Industry Baby",
          "Fancy Like",
          "Bad Habits",
          "Way 2 Sexy",
          "Shivers",
          "Good 4 U",
          "Need To Know",
          "Levitating",
          "Essence",
          "Kiss Me More",
          "Heat Waves",
          "Beggin'",
          "Cold Heart (PNAU Remix)",
          "You Right",
          "Save Your Tears",
          "If I Didn't Love You",
          "Traitor",
          "Who Want Smoke??",
          "Knife Talk",
          "Meet Me At Our Spot",
          "Montero (Call Me By Your Name)",
          "Chasing After You",
          "Girls Want Girls",
          "Moth To A Flame",
          "Let's Go Brandon",
          "Thats What I Want",
          "Pepas",
          "Love Nwantiti (Ah Ah Ah)",
          "Take My Breath",
          "Happier Than Ever",
          "Wockesha",
          "Better Days",
          "Buy Dirt",
          "Ghost",
          "Lets Go Brandon",
          "Cold As You",
          "A-O-K",
          "You Should Probably Leave",
          "Thinking 'Bout You",
          "Memory I Don't Mess With",
          "Bubbly",
          "Wild Side",
          "Sharing Locations",
          "Gyalis",
          "I Was On A Boat That Day",
          "Family Ties",
          "Have Mercy",
          "Fair Trade"
         ],
         "xaxis": "x",
         "y": [
          95,
          96,
          95,
          81,
          95,
          88,
          95,
          95,
          93,
          89,
          79,
          89,
          91,
          92,
          96,
          89,
          92,
          74,
          93,
          81,
          89,
          90,
          90,
          76,
          85,
          92,
          52,
          95,
          94,
          93,
          83,
          92,
          75,
          90,
          83,
          92,
          58,
          75,
          81,
          78,
          76,
          72,
          81,
          81,
          77,
          75,
          65,
          84,
          81,
          88
         ],
         "yaxis": "y"
        }
       ],
       "layout": {
        "barmode": "relative",
        "legend": {
         "tracegroupgap": 0
        },
        "margin": {
         "t": 60
        },
        "template": {
         "data": {
          "bar": [
           {
            "error_x": {
             "color": "#2a3f5f"
            },
            "error_y": {
             "color": "#2a3f5f"
            },
            "marker": {
             "line": {
              "color": "#E5ECF6",
              "width": 0.5
             },
             "pattern": {
              "fillmode": "overlay",
              "size": 10,
              "solidity": 0.2
             }
            },
            "type": "bar"
           }
          ],
          "barpolar": [
           {
            "marker": {
             "line": {
              "color": "#E5ECF6",
              "width": 0.5
             },
             "pattern": {
              "fillmode": "overlay",
              "size": 10,
              "solidity": 0.2
             }
            },
            "type": "barpolar"
           }
          ],
          "carpet": [
           {
            "aaxis": {
             "endlinecolor": "#2a3f5f",
             "gridcolor": "white",
             "linecolor": "white",
             "minorgridcolor": "white",
             "startlinecolor": "#2a3f5f"
            },
            "baxis": {
             "endlinecolor": "#2a3f5f",
             "gridcolor": "white",
             "linecolor": "white",
             "minorgridcolor": "white",
             "startlinecolor": "#2a3f5f"
            },
            "type": "carpet"
           }
          ],
          "choropleth": [
           {
            "colorbar": {
             "outlinewidth": 0,
             "ticks": ""
            },
            "type": "choropleth"
           }
          ],
          "contour": [
           {
            "colorbar": {
             "outlinewidth": 0,
             "ticks": ""
            },
            "colorscale": [
             [
              0,
              "#0d0887"
             ],
             [
              0.1111111111111111,
              "#46039f"
             ],
             [
              0.2222222222222222,
              "#7201a8"
             ],
             [
              0.3333333333333333,
              "#9c179e"
             ],
             [
              0.4444444444444444,
              "#bd3786"
             ],
             [
              0.5555555555555556,
              "#d8576b"
             ],
             [
              0.6666666666666666,
              "#ed7953"
             ],
             [
              0.7777777777777778,
              "#fb9f3a"
             ],
             [
              0.8888888888888888,
              "#fdca26"
             ],
             [
              1,
              "#f0f921"
             ]
            ],
            "type": "contour"
           }
          ],
          "contourcarpet": [
           {
            "colorbar": {
             "outlinewidth": 0,
             "ticks": ""
            },
            "type": "contourcarpet"
           }
          ],
          "heatmap": [
           {
            "colorbar": {
             "outlinewidth": 0,
             "ticks": ""
            },
            "colorscale": [
             [
              0,
              "#0d0887"
             ],
             [
              0.1111111111111111,
              "#46039f"
             ],
             [
              0.2222222222222222,
              "#7201a8"
             ],
             [
              0.3333333333333333,
              "#9c179e"
             ],
             [
              0.4444444444444444,
              "#bd3786"
             ],
             [
              0.5555555555555556,
              "#d8576b"
             ],
             [
              0.6666666666666666,
              "#ed7953"
             ],
             [
              0.7777777777777778,
              "#fb9f3a"
             ],
             [
              0.8888888888888888,
              "#fdca26"
             ],
             [
              1,
              "#f0f921"
             ]
            ],
            "type": "heatmap"
           }
          ],
          "heatmapgl": [
           {
            "colorbar": {
             "outlinewidth": 0,
             "ticks": ""
            },
            "colorscale": [
             [
              0,
              "#0d0887"
             ],
             [
              0.1111111111111111,
              "#46039f"
             ],
             [
              0.2222222222222222,
              "#7201a8"
             ],
             [
              0.3333333333333333,
              "#9c179e"
             ],
             [
              0.4444444444444444,
              "#bd3786"
             ],
             [
              0.5555555555555556,
              "#d8576b"
             ],
             [
              0.6666666666666666,
              "#ed7953"
             ],
             [
              0.7777777777777778,
              "#fb9f3a"
             ],
             [
              0.8888888888888888,
              "#fdca26"
             ],
             [
              1,
              "#f0f921"
             ]
            ],
            "type": "heatmapgl"
           }
          ],
          "histogram": [
           {
            "marker": {
             "pattern": {
              "fillmode": "overlay",
              "size": 10,
              "solidity": 0.2
             }
            },
            "type": "histogram"
           }
          ],
          "histogram2d": [
           {
            "colorbar": {
             "outlinewidth": 0,
             "ticks": ""
            },
            "colorscale": [
             [
              0,
              "#0d0887"
             ],
             [
              0.1111111111111111,
              "#46039f"
             ],
             [
              0.2222222222222222,
              "#7201a8"
             ],
             [
              0.3333333333333333,
              "#9c179e"
             ],
             [
              0.4444444444444444,
              "#bd3786"
             ],
             [
              0.5555555555555556,
              "#d8576b"
             ],
             [
              0.6666666666666666,
              "#ed7953"
             ],
             [
              0.7777777777777778,
              "#fb9f3a"
             ],
             [
              0.8888888888888888,
              "#fdca26"
             ],
             [
              1,
              "#f0f921"
             ]
            ],
            "type": "histogram2d"
           }
          ],
          "histogram2dcontour": [
           {
            "colorbar": {
             "outlinewidth": 0,
             "ticks": ""
            },
            "colorscale": [
             [
              0,
              "#0d0887"
             ],
             [
              0.1111111111111111,
              "#46039f"
             ],
             [
              0.2222222222222222,
              "#7201a8"
             ],
             [
              0.3333333333333333,
              "#9c179e"
             ],
             [
              0.4444444444444444,
              "#bd3786"
             ],
             [
              0.5555555555555556,
              "#d8576b"
             ],
             [
              0.6666666666666666,
              "#ed7953"
             ],
             [
              0.7777777777777778,
              "#fb9f3a"
             ],
             [
              0.8888888888888888,
              "#fdca26"
             ],
             [
              1,
              "#f0f921"
             ]
            ],
            "type": "histogram2dcontour"
           }
          ],
          "mesh3d": [
           {
            "colorbar": {
             "outlinewidth": 0,
             "ticks": ""
            },
            "type": "mesh3d"
           }
          ],
          "parcoords": [
           {
            "line": {
             "colorbar": {
              "outlinewidth": 0,
              "ticks": ""
             }
            },
            "type": "parcoords"
           }
          ],
          "pie": [
           {
            "automargin": true,
            "type": "pie"
           }
          ],
          "scatter": [
           {
            "marker": {
             "colorbar": {
              "outlinewidth": 0,
              "ticks": ""
             }
            },
            "type": "scatter"
           }
          ],
          "scatter3d": [
           {
            "line": {
             "colorbar": {
              "outlinewidth": 0,
              "ticks": ""
             }
            },
            "marker": {
             "colorbar": {
              "outlinewidth": 0,
              "ticks": ""
             }
            },
            "type": "scatter3d"
           }
          ],
          "scattercarpet": [
           {
            "marker": {
             "colorbar": {
              "outlinewidth": 0,
              "ticks": ""
             }
            },
            "type": "scattercarpet"
           }
          ],
          "scattergeo": [
           {
            "marker": {
             "colorbar": {
              "outlinewidth": 0,
              "ticks": ""
             }
            },
            "type": "scattergeo"
           }
          ],
          "scattergl": [
           {
            "marker": {
             "colorbar": {
              "outlinewidth": 0,
              "ticks": ""
             }
            },
            "type": "scattergl"
           }
          ],
          "scattermapbox": [
           {
            "marker": {
             "colorbar": {
              "outlinewidth": 0,
              "ticks": ""
             }
            },
            "type": "scattermapbox"
           }
          ],
          "scatterpolar": [
           {
            "marker": {
             "colorbar": {
              "outlinewidth": 0,
              "ticks": ""
             }
            },
            "type": "scatterpolar"
           }
          ],
          "scatterpolargl": [
           {
            "marker": {
             "colorbar": {
              "outlinewidth": 0,
              "ticks": ""
             }
            },
            "type": "scatterpolargl"
           }
          ],
          "scatterternary": [
           {
            "marker": {
             "colorbar": {
              "outlinewidth": 0,
              "ticks": ""
             }
            },
            "type": "scatterternary"
           }
          ],
          "surface": [
           {
            "colorbar": {
             "outlinewidth": 0,
             "ticks": ""
            },
            "colorscale": [
             [
              0,
              "#0d0887"
             ],
             [
              0.1111111111111111,
              "#46039f"
             ],
             [
              0.2222222222222222,
              "#7201a8"
             ],
             [
              0.3333333333333333,
              "#9c179e"
             ],
             [
              0.4444444444444444,
              "#bd3786"
             ],
             [
              0.5555555555555556,
              "#d8576b"
             ],
             [
              0.6666666666666666,
              "#ed7953"
             ],
             [
              0.7777777777777778,
              "#fb9f3a"
             ],
             [
              0.8888888888888888,
              "#fdca26"
             ],
             [
              1,
              "#f0f921"
             ]
            ],
            "type": "surface"
           }
          ],
          "table": [
           {
            "cells": {
             "fill": {
              "color": "#EBF0F8"
             },
             "line": {
              "color": "white"
             }
            },
            "header": {
             "fill": {
              "color": "#C8D4E3"
             },
             "line": {
              "color": "white"
             }
            },
            "type": "table"
           }
          ]
         },
         "layout": {
          "annotationdefaults": {
           "arrowcolor": "#2a3f5f",
           "arrowhead": 0,
           "arrowwidth": 1
          },
          "autotypenumbers": "strict",
          "coloraxis": {
           "colorbar": {
            "outlinewidth": 0,
            "ticks": ""
           }
          },
          "colorscale": {
           "diverging": [
            [
             0,
             "#8e0152"
            ],
            [
             0.1,
             "#c51b7d"
            ],
            [
             0.2,
             "#de77ae"
            ],
            [
             0.3,
             "#f1b6da"
            ],
            [
             0.4,
             "#fde0ef"
            ],
            [
             0.5,
             "#f7f7f7"
            ],
            [
             0.6,
             "#e6f5d0"
            ],
            [
             0.7,
             "#b8e186"
            ],
            [
             0.8,
             "#7fbc41"
            ],
            [
             0.9,
             "#4d9221"
            ],
            [
             1,
             "#276419"
            ]
           ],
           "sequential": [
            [
             0,
             "#0d0887"
            ],
            [
             0.1111111111111111,
             "#46039f"
            ],
            [
             0.2222222222222222,
             "#7201a8"
            ],
            [
             0.3333333333333333,
             "#9c179e"
            ],
            [
             0.4444444444444444,
             "#bd3786"
            ],
            [
             0.5555555555555556,
             "#d8576b"
            ],
            [
             0.6666666666666666,
             "#ed7953"
            ],
            [
             0.7777777777777778,
             "#fb9f3a"
            ],
            [
             0.8888888888888888,
             "#fdca26"
            ],
            [
             1,
             "#f0f921"
            ]
           ],
           "sequentialminus": [
            [
             0,
             "#0d0887"
            ],
            [
             0.1111111111111111,
             "#46039f"
            ],
            [
             0.2222222222222222,
             "#7201a8"
            ],
            [
             0.3333333333333333,
             "#9c179e"
            ],
            [
             0.4444444444444444,
             "#bd3786"
            ],
            [
             0.5555555555555556,
             "#d8576b"
            ],
            [
             0.6666666666666666,
             "#ed7953"
            ],
            [
             0.7777777777777778,
             "#fb9f3a"
            ],
            [
             0.8888888888888888,
             "#fdca26"
            ],
            [
             1,
             "#f0f921"
            ]
           ]
          },
          "colorway": [
           "#636efa",
           "#EF553B",
           "#00cc96",
           "#ab63fa",
           "#FFA15A",
           "#19d3f3",
           "#FF6692",
           "#B6E880",
           "#FF97FF",
           "#FECB52"
          ],
          "font": {
           "color": "#2a3f5f"
          },
          "geo": {
           "bgcolor": "white",
           "lakecolor": "white",
           "landcolor": "#E5ECF6",
           "showlakes": true,
           "showland": true,
           "subunitcolor": "white"
          },
          "hoverlabel": {
           "align": "left"
          },
          "hovermode": "closest",
          "mapbox": {
           "style": "light"
          },
          "paper_bgcolor": "white",
          "plot_bgcolor": "#E5ECF6",
          "polar": {
           "angularaxis": {
            "gridcolor": "white",
            "linecolor": "white",
            "ticks": ""
           },
           "bgcolor": "#E5ECF6",
           "radialaxis": {
            "gridcolor": "white",
            "linecolor": "white",
            "ticks": ""
           }
          },
          "scene": {
           "xaxis": {
            "backgroundcolor": "#E5ECF6",
            "gridcolor": "white",
            "gridwidth": 2,
            "linecolor": "white",
            "showbackground": true,
            "ticks": "",
            "zerolinecolor": "white"
           },
           "yaxis": {
            "backgroundcolor": "#E5ECF6",
            "gridcolor": "white",
            "gridwidth": 2,
            "linecolor": "white",
            "showbackground": true,
            "ticks": "",
            "zerolinecolor": "white"
           },
           "zaxis": {
            "backgroundcolor": "#E5ECF6",
            "gridcolor": "white",
            "gridwidth": 2,
            "linecolor": "white",
            "showbackground": true,
            "ticks": "",
            "zerolinecolor": "white"
           }
          },
          "shapedefaults": {
           "line": {
            "color": "#2a3f5f"
           }
          },
          "ternary": {
           "aaxis": {
            "gridcolor": "white",
            "linecolor": "white",
            "ticks": ""
           },
           "baxis": {
            "gridcolor": "white",
            "linecolor": "white",
            "ticks": ""
           },
           "bgcolor": "#E5ECF6",
           "caxis": {
            "gridcolor": "white",
            "linecolor": "white",
            "ticks": ""
           }
          },
          "title": {
           "x": 0.05
          },
          "xaxis": {
           "automargin": true,
           "gridcolor": "white",
           "linecolor": "white",
           "ticks": "",
           "title": {
            "standoff": 15
           },
           "zerolinecolor": "white",
           "zerolinewidth": 2
          },
          "yaxis": {
           "automargin": true,
           "gridcolor": "white",
           "linecolor": "white",
           "ticks": "",
           "title": {
            "standoff": 15
           },
           "zerolinecolor": "white",
           "zerolinewidth": 2
          }
         }
        },
        "xaxis": {
         "anchor": "y",
         "domain": [
          0,
          1
         ],
         "title": {
          "text": "song"
         }
        },
        "yaxis": {
         "anchor": "x",
         "domain": [
          0,
          1
         ],
         "title": {
          "text": "spotify_popularity"
         }
        }
       }
      }
     },
     "metadata": {},
     "output_type": "display_data"
    }
   ],
   "source": [
    "fig = px.bar(final.head(50), x='song', y='spotify_popularity')\n",
    "fig.show()"
   ]
  },
  {
   "cell_type": "code",
   "execution_count": null,
   "metadata": {},
   "outputs": [],
   "source": [
    "fig = px.bar(final.head(50), x='song', y='spotify_popularity')\n",
    "fig.show()"
   ]
  },
  {
   "cell_type": "code",
   "execution_count": 75,
   "metadata": {},
   "outputs": [],
   "source": [
    "final_clean.to_csv(\"../data/final_for_models.csv\")"
   ]
  },
  {
   "cell_type": "code",
   "execution_count": null,
   "metadata": {},
   "outputs": [
    {
     "data": {
      "text/html": [
       "<div>\n",
       "<style scoped>\n",
       "    .dataframe tbody tr th:only-of-type {\n",
       "        vertical-align: middle;\n",
       "    }\n",
       "\n",
       "    .dataframe tbody tr th {\n",
       "        vertical-align: top;\n",
       "    }\n",
       "\n",
       "    .dataframe thead th {\n",
       "        text-align: right;\n",
       "    }\n",
       "</style>\n",
       "<table border=\"1\" class=\"dataframe\">\n",
       "  <thead>\n",
       "    <tr style=\"text-align: right;\">\n",
       "      <th></th>\n",
       "      <th>date</th>\n",
       "      <th>release_date</th>\n",
       "      <th>rank</th>\n",
       "      <th>song</th>\n",
       "      <th>match_song</th>\n",
       "      <th>artist</th>\n",
       "      <th>match_artist</th>\n",
       "      <th>last-week</th>\n",
       "      <th>peak-rank</th>\n",
       "      <th>weeks-on-board</th>\n",
       "      <th>duration_ms</th>\n",
       "      <th>spotify_popularity</th>\n",
       "      <th>album_type</th>\n",
       "      <th>score</th>\n",
       "      <th>total_score</th>\n",
       "    </tr>\n",
       "  </thead>\n",
       "  <tbody>\n",
       "    <tr>\n",
       "      <th>0</th>\n",
       "      <td>2021-11-06</td>\n",
       "      <td>2021-10-14</td>\n",
       "      <td>1</td>\n",
       "      <td>Easy On Me</td>\n",
       "      <td>Easy On Me</td>\n",
       "      <td>Adele</td>\n",
       "      <td>Adele</td>\n",
       "      <td>1.0</td>\n",
       "      <td>1</td>\n",
       "      <td>3</td>\n",
       "      <td>224694.0</td>\n",
       "      <td>95.0</td>\n",
       "      <td>single</td>\n",
       "      <td>100</td>\n",
       "      <td>233.0</td>\n",
       "    </tr>\n",
       "    <tr>\n",
       "      <th>1</th>\n",
       "      <td>2021-11-06</td>\n",
       "      <td>2021-07-09</td>\n",
       "      <td>2</td>\n",
       "      <td>Stay</td>\n",
       "      <td>STAY (with Justin Bieber)</td>\n",
       "      <td>The Kid LAROI &amp; Justin Bieber</td>\n",
       "      <td>The Kid LAROI</td>\n",
       "      <td>2.0</td>\n",
       "      <td>1</td>\n",
       "      <td>16</td>\n",
       "      <td>141805.0</td>\n",
       "      <td>96.0</td>\n",
       "      <td>single</td>\n",
       "      <td>99</td>\n",
       "      <td>12945.0</td>\n",
       "    </tr>\n",
       "    <tr>\n",
       "      <th>2</th>\n",
       "      <td>2021-11-06</td>\n",
       "      <td>2021-07-23</td>\n",
       "      <td>3</td>\n",
       "      <td>Industry Baby</td>\n",
       "      <td>INDUSTRY BABY (feat. Jack Harlow)</td>\n",
       "      <td>Lil Nas X &amp; Jack Harlow</td>\n",
       "      <td>Lil Nas X</td>\n",
       "      <td>3.0</td>\n",
       "      <td>1</td>\n",
       "      <td>14</td>\n",
       "      <td>212000.0</td>\n",
       "      <td>95.0</td>\n",
       "      <td>single</td>\n",
       "      <td>98</td>\n",
       "      <td>1338.0</td>\n",
       "    </tr>\n",
       "    <tr>\n",
       "      <th>3</th>\n",
       "      <td>2021-11-06</td>\n",
       "      <td>2021-06-04</td>\n",
       "      <td>4</td>\n",
       "      <td>Fancy Like</td>\n",
       "      <td>Fancy Like</td>\n",
       "      <td>Walker Hayes</td>\n",
       "      <td>Walker Hayes</td>\n",
       "      <td>4.0</td>\n",
       "      <td>3</td>\n",
       "      <td>19</td>\n",
       "      <td>161853.0</td>\n",
       "      <td>81.0</td>\n",
       "      <td>single</td>\n",
       "      <td>97</td>\n",
       "      <td>1652.0</td>\n",
       "    </tr>\n",
       "    <tr>\n",
       "      <th>4</th>\n",
       "      <td>2021-11-06</td>\n",
       "      <td>2021-10-29</td>\n",
       "      <td>5</td>\n",
       "      <td>Bad Habits</td>\n",
       "      <td>Bad Habits</td>\n",
       "      <td>Ed Sheeran</td>\n",
       "      <td>Ed Sheeran</td>\n",
       "      <td>5.0</td>\n",
       "      <td>2</td>\n",
       "      <td>18</td>\n",
       "      <td>230746.0</td>\n",
       "      <td>95.0</td>\n",
       "      <td>album</td>\n",
       "      <td>96</td>\n",
       "      <td>1984.0</td>\n",
       "    </tr>\n",
       "    <tr>\n",
       "      <th>...</th>\n",
       "      <td>...</td>\n",
       "      <td>...</td>\n",
       "      <td>...</td>\n",
       "      <td>...</td>\n",
       "      <td>...</td>\n",
       "      <td>...</td>\n",
       "      <td>...</td>\n",
       "      <td>...</td>\n",
       "      <td>...</td>\n",
       "      <td>...</td>\n",
       "      <td>...</td>\n",
       "      <td>...</td>\n",
       "      <td>...</td>\n",
       "      <td>...</td>\n",
       "      <td>...</td>\n",
       "    </tr>\n",
       "    <tr>\n",
       "      <th>327955</th>\n",
       "      <td>1958-12-29</td>\n",
       "      <td>1986-01-01</td>\n",
       "      <td>69</td>\n",
       "      <td>Run Rudolph Run</td>\n",
       "      <td>Run Rudolph Run - Single Version</td>\n",
       "      <td>Chuck Berry</td>\n",
       "      <td>Chuck Berry</td>\n",
       "      <td>73.0</td>\n",
       "      <td>69</td>\n",
       "      <td>3</td>\n",
       "      <td>165733.0</td>\n",
       "      <td>70.0</td>\n",
       "      <td>album</td>\n",
       "      <td>32</td>\n",
       "      <td>NaN</td>\n",
       "    </tr>\n",
       "    <tr>\n",
       "      <th>328043</th>\n",
       "      <td>1958-12-22</td>\n",
       "      <td>1957-12-02</td>\n",
       "      <td>57</td>\n",
       "      <td>Jingle Bell Rock</td>\n",
       "      <td>Jingle Bell Rock</td>\n",
       "      <td>Bobby Helms</td>\n",
       "      <td>Bobby Helms</td>\n",
       "      <td>NaN</td>\n",
       "      <td>57</td>\n",
       "      <td>1</td>\n",
       "      <td>130973.0</td>\n",
       "      <td>77.0</td>\n",
       "      <td>single</td>\n",
       "      <td>44</td>\n",
       "      <td>NaN</td>\n",
       "    </tr>\n",
       "    <tr>\n",
       "      <th>328059</th>\n",
       "      <td>1958-12-22</td>\n",
       "      <td>1986-01-01</td>\n",
       "      <td>73</td>\n",
       "      <td>Run Rudolph Run</td>\n",
       "      <td>Run Rudolph Run - Single Version</td>\n",
       "      <td>Chuck Berry</td>\n",
       "      <td>Chuck Berry</td>\n",
       "      <td>83.0</td>\n",
       "      <td>73</td>\n",
       "      <td>2</td>\n",
       "      <td>165733.0</td>\n",
       "      <td>70.0</td>\n",
       "      <td>album</td>\n",
       "      <td>28</td>\n",
       "      <td>NaN</td>\n",
       "    </tr>\n",
       "    <tr>\n",
       "      <th>328072</th>\n",
       "      <td>1958-12-22</td>\n",
       "      <td>1942-01-01</td>\n",
       "      <td>86</td>\n",
       "      <td>White Christmas</td>\n",
       "      <td>White Christmas</td>\n",
       "      <td>Bing Crosby</td>\n",
       "      <td>Bing Crosby</td>\n",
       "      <td>NaN</td>\n",
       "      <td>86</td>\n",
       "      <td>1</td>\n",
       "      <td>177480.0</td>\n",
       "      <td>69.0</td>\n",
       "      <td>album</td>\n",
       "      <td>15</td>\n",
       "      <td>NaN</td>\n",
       "    </tr>\n",
       "    <tr>\n",
       "      <th>328169</th>\n",
       "      <td>1958-12-15</td>\n",
       "      <td>1986-01-01</td>\n",
       "      <td>83</td>\n",
       "      <td>Run Rudolph Run</td>\n",
       "      <td>Run Rudolph Run - Single Version</td>\n",
       "      <td>Chuck Berry</td>\n",
       "      <td>Chuck Berry</td>\n",
       "      <td>NaN</td>\n",
       "      <td>83</td>\n",
       "      <td>1</td>\n",
       "      <td>165733.0</td>\n",
       "      <td>70.0</td>\n",
       "      <td>album</td>\n",
       "      <td>18</td>\n",
       "      <td>NaN</td>\n",
       "    </tr>\n",
       "  </tbody>\n",
       "</table>\n",
       "<p>231477 rows × 15 columns</p>\n",
       "</div>"
      ],
      "text/plain": [
       "             date release_date  rank              song  \\\n",
       "0      2021-11-06   2021-10-14     1        Easy On Me   \n",
       "1      2021-11-06   2021-07-09     2              Stay   \n",
       "2      2021-11-06   2021-07-23     3     Industry Baby   \n",
       "3      2021-11-06   2021-06-04     4        Fancy Like   \n",
       "4      2021-11-06   2021-10-29     5        Bad Habits   \n",
       "...           ...          ...   ...               ...   \n",
       "327955 1958-12-29   1986-01-01    69   Run Rudolph Run   \n",
       "328043 1958-12-22   1957-12-02    57  Jingle Bell Rock   \n",
       "328059 1958-12-22   1986-01-01    73   Run Rudolph Run   \n",
       "328072 1958-12-22   1942-01-01    86   White Christmas   \n",
       "328169 1958-12-15   1986-01-01    83   Run Rudolph Run   \n",
       "\n",
       "                               match_song                         artist  \\\n",
       "0                              Easy On Me                          Adele   \n",
       "1               STAY (with Justin Bieber)  The Kid LAROI & Justin Bieber   \n",
       "2       INDUSTRY BABY (feat. Jack Harlow)        Lil Nas X & Jack Harlow   \n",
       "3                              Fancy Like                   Walker Hayes   \n",
       "4                              Bad Habits                     Ed Sheeran   \n",
       "...                                   ...                            ...   \n",
       "327955   Run Rudolph Run - Single Version                    Chuck Berry   \n",
       "328043                   Jingle Bell Rock                    Bobby Helms   \n",
       "328059   Run Rudolph Run - Single Version                    Chuck Berry   \n",
       "328072                    White Christmas                    Bing Crosby   \n",
       "328169   Run Rudolph Run - Single Version                    Chuck Berry   \n",
       "\n",
       "         match_artist  last-week  peak-rank  weeks-on-board  duration_ms  \\\n",
       "0               Adele        1.0          1               3     224694.0   \n",
       "1       The Kid LAROI        2.0          1              16     141805.0   \n",
       "2           Lil Nas X        3.0          1              14     212000.0   \n",
       "3        Walker Hayes        4.0          3              19     161853.0   \n",
       "4          Ed Sheeran        5.0          2              18     230746.0   \n",
       "...               ...        ...        ...             ...          ...   \n",
       "327955    Chuck Berry       73.0         69               3     165733.0   \n",
       "328043    Bobby Helms        NaN         57               1     130973.0   \n",
       "328059    Chuck Berry       83.0         73               2     165733.0   \n",
       "328072    Bing Crosby        NaN         86               1     177480.0   \n",
       "328169    Chuck Berry        NaN         83               1     165733.0   \n",
       "\n",
       "        spotify_popularity album_type  score  total_score  \n",
       "0                     95.0     single    100        233.0  \n",
       "1                     96.0     single     99      12945.0  \n",
       "2                     95.0     single     98       1338.0  \n",
       "3                     81.0     single     97       1652.0  \n",
       "4                     95.0      album     96       1984.0  \n",
       "...                    ...        ...    ...          ...  \n",
       "327955                70.0      album     32          NaN  \n",
       "328043                77.0     single     44          NaN  \n",
       "328059                70.0      album     28          NaN  \n",
       "328072                69.0      album     15          NaN  \n",
       "328169                70.0      album     18          NaN  \n",
       "\n",
       "[231477 rows x 15 columns]"
      ]
     },
     "execution_count": 26,
     "metadata": {},
     "output_type": "execute_result"
    }
   ],
   "source": [
    "final_clean"
   ]
  },
  {
   "cell_type": "code",
   "execution_count": 45,
   "metadata": {},
   "outputs": [
    {
     "data": {
      "text/html": [
       "<div>\n",
       "<style scoped>\n",
       "    .dataframe tbody tr th:only-of-type {\n",
       "        vertical-align: middle;\n",
       "    }\n",
       "\n",
       "    .dataframe tbody tr th {\n",
       "        vertical-align: top;\n",
       "    }\n",
       "\n",
       "    .dataframe thead th {\n",
       "        text-align: right;\n",
       "    }\n",
       "</style>\n",
       "<table border=\"1\" class=\"dataframe\">\n",
       "  <thead>\n",
       "    <tr style=\"text-align: right;\">\n",
       "      <th></th>\n",
       "      <th>date</th>\n",
       "      <th>release_date</th>\n",
       "      <th>rank</th>\n",
       "      <th>song</th>\n",
       "      <th>match_song</th>\n",
       "      <th>artist</th>\n",
       "      <th>match_artist</th>\n",
       "      <th>last-week</th>\n",
       "      <th>peak-rank</th>\n",
       "      <th>weeks-on-board</th>\n",
       "      <th>duration_ms</th>\n",
       "      <th>spotify_popularity</th>\n",
       "      <th>album_type</th>\n",
       "      <th>score</th>\n",
       "      <th>total_score</th>\n",
       "    </tr>\n",
       "  </thead>\n",
       "  <tbody>\n",
       "    <tr>\n",
       "      <th>0</th>\n",
       "      <td>2021-11-06</td>\n",
       "      <td>2021-10-14</td>\n",
       "      <td>1</td>\n",
       "      <td>Easy On Me</td>\n",
       "      <td>Easy On Me</td>\n",
       "      <td>Adele</td>\n",
       "      <td>Adele</td>\n",
       "      <td>1.0</td>\n",
       "      <td>1</td>\n",
       "      <td>3</td>\n",
       "      <td>224694.0</td>\n",
       "      <td>95.0</td>\n",
       "      <td>single</td>\n",
       "      <td>100</td>\n",
       "      <td>233.0</td>\n",
       "    </tr>\n",
       "    <tr>\n",
       "      <th>1</th>\n",
       "      <td>2021-11-06</td>\n",
       "      <td>2021-07-09</td>\n",
       "      <td>2</td>\n",
       "      <td>Stay</td>\n",
       "      <td>STAY (with Justin Bieber)</td>\n",
       "      <td>The Kid LAROI &amp; Justin Bieber</td>\n",
       "      <td>The Kid LAROI</td>\n",
       "      <td>2.0</td>\n",
       "      <td>1</td>\n",
       "      <td>16</td>\n",
       "      <td>141805.0</td>\n",
       "      <td>96.0</td>\n",
       "      <td>single</td>\n",
       "      <td>99</td>\n",
       "      <td>12945.0</td>\n",
       "    </tr>\n",
       "    <tr>\n",
       "      <th>2</th>\n",
       "      <td>2021-11-06</td>\n",
       "      <td>2021-07-23</td>\n",
       "      <td>3</td>\n",
       "      <td>Industry Baby</td>\n",
       "      <td>INDUSTRY BABY (feat. Jack Harlow)</td>\n",
       "      <td>Lil Nas X &amp; Jack Harlow</td>\n",
       "      <td>Lil Nas X</td>\n",
       "      <td>3.0</td>\n",
       "      <td>1</td>\n",
       "      <td>14</td>\n",
       "      <td>212000.0</td>\n",
       "      <td>95.0</td>\n",
       "      <td>single</td>\n",
       "      <td>98</td>\n",
       "      <td>1338.0</td>\n",
       "    </tr>\n",
       "    <tr>\n",
       "      <th>3</th>\n",
       "      <td>2021-11-06</td>\n",
       "      <td>2021-06-04</td>\n",
       "      <td>4</td>\n",
       "      <td>Fancy Like</td>\n",
       "      <td>Fancy Like</td>\n",
       "      <td>Walker Hayes</td>\n",
       "      <td>Walker Hayes</td>\n",
       "      <td>4.0</td>\n",
       "      <td>3</td>\n",
       "      <td>19</td>\n",
       "      <td>161853.0</td>\n",
       "      <td>81.0</td>\n",
       "      <td>single</td>\n",
       "      <td>97</td>\n",
       "      <td>1652.0</td>\n",
       "    </tr>\n",
       "    <tr>\n",
       "      <th>4</th>\n",
       "      <td>2021-11-06</td>\n",
       "      <td>2021-10-29</td>\n",
       "      <td>5</td>\n",
       "      <td>Bad Habits</td>\n",
       "      <td>Bad Habits</td>\n",
       "      <td>Ed Sheeran</td>\n",
       "      <td>Ed Sheeran</td>\n",
       "      <td>5.0</td>\n",
       "      <td>2</td>\n",
       "      <td>18</td>\n",
       "      <td>230746.0</td>\n",
       "      <td>95.0</td>\n",
       "      <td>album</td>\n",
       "      <td>96</td>\n",
       "      <td>1984.0</td>\n",
       "    </tr>\n",
       "    <tr>\n",
       "      <th>...</th>\n",
       "      <td>...</td>\n",
       "      <td>...</td>\n",
       "      <td>...</td>\n",
       "      <td>...</td>\n",
       "      <td>...</td>\n",
       "      <td>...</td>\n",
       "      <td>...</td>\n",
       "      <td>...</td>\n",
       "      <td>...</td>\n",
       "      <td>...</td>\n",
       "      <td>...</td>\n",
       "      <td>...</td>\n",
       "      <td>...</td>\n",
       "      <td>...</td>\n",
       "      <td>...</td>\n",
       "    </tr>\n",
       "    <tr>\n",
       "      <th>231472</th>\n",
       "      <td>1958-12-29</td>\n",
       "      <td>1986-01-01</td>\n",
       "      <td>69</td>\n",
       "      <td>Run Rudolph Run</td>\n",
       "      <td>Run Rudolph Run - Single Version</td>\n",
       "      <td>Chuck Berry</td>\n",
       "      <td>Chuck Berry</td>\n",
       "      <td>73.0</td>\n",
       "      <td>69</td>\n",
       "      <td>3</td>\n",
       "      <td>165733.0</td>\n",
       "      <td>70.0</td>\n",
       "      <td>album</td>\n",
       "      <td>32</td>\n",
       "      <td>NaN</td>\n",
       "    </tr>\n",
       "    <tr>\n",
       "      <th>231473</th>\n",
       "      <td>1958-12-22</td>\n",
       "      <td>1957-12-02</td>\n",
       "      <td>57</td>\n",
       "      <td>Jingle Bell Rock</td>\n",
       "      <td>Jingle Bell Rock</td>\n",
       "      <td>Bobby Helms</td>\n",
       "      <td>Bobby Helms</td>\n",
       "      <td>NaN</td>\n",
       "      <td>57</td>\n",
       "      <td>1</td>\n",
       "      <td>130973.0</td>\n",
       "      <td>77.0</td>\n",
       "      <td>single</td>\n",
       "      <td>44</td>\n",
       "      <td>NaN</td>\n",
       "    </tr>\n",
       "    <tr>\n",
       "      <th>231474</th>\n",
       "      <td>1958-12-22</td>\n",
       "      <td>1986-01-01</td>\n",
       "      <td>73</td>\n",
       "      <td>Run Rudolph Run</td>\n",
       "      <td>Run Rudolph Run - Single Version</td>\n",
       "      <td>Chuck Berry</td>\n",
       "      <td>Chuck Berry</td>\n",
       "      <td>83.0</td>\n",
       "      <td>73</td>\n",
       "      <td>2</td>\n",
       "      <td>165733.0</td>\n",
       "      <td>70.0</td>\n",
       "      <td>album</td>\n",
       "      <td>28</td>\n",
       "      <td>NaN</td>\n",
       "    </tr>\n",
       "    <tr>\n",
       "      <th>231475</th>\n",
       "      <td>1958-12-22</td>\n",
       "      <td>1942-01-01</td>\n",
       "      <td>86</td>\n",
       "      <td>White Christmas</td>\n",
       "      <td>White Christmas</td>\n",
       "      <td>Bing Crosby</td>\n",
       "      <td>Bing Crosby</td>\n",
       "      <td>NaN</td>\n",
       "      <td>86</td>\n",
       "      <td>1</td>\n",
       "      <td>177480.0</td>\n",
       "      <td>69.0</td>\n",
       "      <td>album</td>\n",
       "      <td>15</td>\n",
       "      <td>NaN</td>\n",
       "    </tr>\n",
       "    <tr>\n",
       "      <th>231476</th>\n",
       "      <td>1958-12-15</td>\n",
       "      <td>1986-01-01</td>\n",
       "      <td>83</td>\n",
       "      <td>Run Rudolph Run</td>\n",
       "      <td>Run Rudolph Run - Single Version</td>\n",
       "      <td>Chuck Berry</td>\n",
       "      <td>Chuck Berry</td>\n",
       "      <td>NaN</td>\n",
       "      <td>83</td>\n",
       "      <td>1</td>\n",
       "      <td>165733.0</td>\n",
       "      <td>70.0</td>\n",
       "      <td>album</td>\n",
       "      <td>18</td>\n",
       "      <td>NaN</td>\n",
       "    </tr>\n",
       "  </tbody>\n",
       "</table>\n",
       "<p>231477 rows × 15 columns</p>\n",
       "</div>"
      ],
      "text/plain": [
       "             date release_date  rank              song  \\\n",
       "0      2021-11-06   2021-10-14     1        Easy On Me   \n",
       "1      2021-11-06   2021-07-09     2              Stay   \n",
       "2      2021-11-06   2021-07-23     3     Industry Baby   \n",
       "3      2021-11-06   2021-06-04     4        Fancy Like   \n",
       "4      2021-11-06   2021-10-29     5        Bad Habits   \n",
       "...           ...          ...   ...               ...   \n",
       "231472 1958-12-29   1986-01-01    69   Run Rudolph Run   \n",
       "231473 1958-12-22   1957-12-02    57  Jingle Bell Rock   \n",
       "231474 1958-12-22   1986-01-01    73   Run Rudolph Run   \n",
       "231475 1958-12-22   1942-01-01    86   White Christmas   \n",
       "231476 1958-12-15   1986-01-01    83   Run Rudolph Run   \n",
       "\n",
       "                               match_song                         artist  \\\n",
       "0                              Easy On Me                          Adele   \n",
       "1               STAY (with Justin Bieber)  The Kid LAROI & Justin Bieber   \n",
       "2       INDUSTRY BABY (feat. Jack Harlow)        Lil Nas X & Jack Harlow   \n",
       "3                              Fancy Like                   Walker Hayes   \n",
       "4                              Bad Habits                     Ed Sheeran   \n",
       "...                                   ...                            ...   \n",
       "231472   Run Rudolph Run - Single Version                    Chuck Berry   \n",
       "231473                   Jingle Bell Rock                    Bobby Helms   \n",
       "231474   Run Rudolph Run - Single Version                    Chuck Berry   \n",
       "231475                    White Christmas                    Bing Crosby   \n",
       "231476   Run Rudolph Run - Single Version                    Chuck Berry   \n",
       "\n",
       "         match_artist  last-week  peak-rank  weeks-on-board  duration_ms  \\\n",
       "0               Adele        1.0          1               3     224694.0   \n",
       "1       The Kid LAROI        2.0          1              16     141805.0   \n",
       "2           Lil Nas X        3.0          1              14     212000.0   \n",
       "3        Walker Hayes        4.0          3              19     161853.0   \n",
       "4          Ed Sheeran        5.0          2              18     230746.0   \n",
       "...               ...        ...        ...             ...          ...   \n",
       "231472    Chuck Berry       73.0         69               3     165733.0   \n",
       "231473    Bobby Helms        NaN         57               1     130973.0   \n",
       "231474    Chuck Berry       83.0         73               2     165733.0   \n",
       "231475    Bing Crosby        NaN         86               1     177480.0   \n",
       "231476    Chuck Berry        NaN         83               1     165733.0   \n",
       "\n",
       "        spotify_popularity album_type  score  total_score  \n",
       "0                     95.0     single    100        233.0  \n",
       "1                     96.0     single     99      12945.0  \n",
       "2                     95.0     single     98       1338.0  \n",
       "3                     81.0     single     97       1652.0  \n",
       "4                     95.0      album     96       1984.0  \n",
       "...                    ...        ...    ...          ...  \n",
       "231472                70.0      album     32          NaN  \n",
       "231473                77.0     single     44          NaN  \n",
       "231474                70.0      album     28          NaN  \n",
       "231475                69.0      album     15          NaN  \n",
       "231476                70.0      album     18          NaN  \n",
       "\n",
       "[231477 rows x 15 columns]"
      ]
     },
     "execution_count": 45,
     "metadata": {},
     "output_type": "execute_result"
    }
   ],
   "source": [
    "final_clean"
   ]
  },
  {
   "cell_type": "code",
   "execution_count": 45,
   "metadata": {},
   "outputs": [
    {
     "data": {
      "text/plain": [
       "Int64Index([2021, 2020, 2019, 2018, 2017, 2016, 2015, 2014, 2013, 2012, 2011,\n",
       "            2010, 2009, 2008, 2007, 2006, 2005, 2004, 2003, 2002, 2001, 2000,\n",
       "            1999, 1998, 1997, 1996, 1995, 1994, 1993, 1992, 1991, 1990, 1989,\n",
       "            1988, 1987, 1986, 1985, 1984, 1983, 1982, 1981, 1980, 1979, 1978,\n",
       "            1977, 1976, 1975, 1974, 1973, 1972, 1971, 1970, 1969, 1968, 1967,\n",
       "            1966, 1965, 1964, 1963, 1962, 1961, 1960, 1959, 1958],\n",
       "           dtype='int64', name='date')"
      ]
     },
     "execution_count": 45,
     "metadata": {},
     "output_type": "execute_result"
    }
   ],
   "source": [
    "pd.DatetimeIndex(final_clean['date']).year.unique()"
   ]
  },
  {
   "cell_type": "code",
   "execution_count": 46,
   "metadata": {},
   "outputs": [
    {
     "ename": "ValueError",
     "evalue": "All arguments should have the same length. The length of argument `y` is 231477, whereas the length of  previously-processed arguments ['x'] is 64",
     "output_type": "error",
     "traceback": [
      "\u001b[0;31m---------------------------------------------------------------------------\u001b[0m",
      "\u001b[0;31mValueError\u001b[0m                                Traceback (most recent call last)",
      "\u001b[0;32m/var/folders/5n/qk5gndxn7k19r8b5gd8_w74w0000gn/T/ipykernel_1592/1618278000.py\u001b[0m in \u001b[0;36m<module>\u001b[0;34m\u001b[0m\n\u001b[1;32m      1\u001b[0m \u001b[0mx\u001b[0m \u001b[0;34m=\u001b[0m \u001b[0mpd\u001b[0m\u001b[0;34m.\u001b[0m\u001b[0mDatetimeIndex\u001b[0m\u001b[0;34m(\u001b[0m\u001b[0mfinal_clean\u001b[0m\u001b[0;34m[\u001b[0m\u001b[0;34m'date'\u001b[0m\u001b[0;34m]\u001b[0m\u001b[0;34m)\u001b[0m\u001b[0;34m.\u001b[0m\u001b[0myear\u001b[0m\u001b[0;34m.\u001b[0m\u001b[0munique\u001b[0m\u001b[0;34m(\u001b[0m\u001b[0;34m)\u001b[0m\u001b[0;34m\u001b[0m\u001b[0;34m\u001b[0m\u001b[0m\n\u001b[1;32m      2\u001b[0m \u001b[0;34m\u001b[0m\u001b[0m\n\u001b[0;32m----> 3\u001b[0;31m \u001b[0mfig\u001b[0m \u001b[0;34m=\u001b[0m \u001b[0mpx\u001b[0m\u001b[0;34m.\u001b[0m\u001b[0mbar\u001b[0m\u001b[0;34m(\u001b[0m\u001b[0mfinal_clean\u001b[0m\u001b[0;34m,\u001b[0m \u001b[0mx\u001b[0m\u001b[0;34m)\u001b[0m\u001b[0;34m\u001b[0m\u001b[0;34m\u001b[0m\u001b[0m\n\u001b[0m\u001b[1;32m      4\u001b[0m \u001b[0mfig\u001b[0m\u001b[0;34m.\u001b[0m\u001b[0mshow\u001b[0m\u001b[0;34m(\u001b[0m\u001b[0;34m)\u001b[0m\u001b[0;34m\u001b[0m\u001b[0;34m\u001b[0m\u001b[0m\n",
      "\u001b[0;32m/usr/local/anaconda3/lib/python3.9/site-packages/plotly/express/_chart_types.py\u001b[0m in \u001b[0;36mbar\u001b[0;34m(data_frame, x, y, color, pattern_shape, facet_row, facet_col, facet_col_wrap, facet_row_spacing, facet_col_spacing, hover_name, hover_data, custom_data, text, base, error_x, error_x_minus, error_y, error_y_minus, animation_frame, animation_group, category_orders, labels, color_discrete_sequence, color_discrete_map, color_continuous_scale, pattern_shape_sequence, pattern_shape_map, range_color, color_continuous_midpoint, opacity, orientation, barmode, log_x, log_y, range_x, range_y, text_auto, title, template, width, height)\u001b[0m\n\u001b[1;32m    366\u001b[0m     \u001b[0mmark\u001b[0m\u001b[0;34m.\u001b[0m\u001b[0;34m\u001b[0m\u001b[0;34m\u001b[0m\u001b[0m\n\u001b[1;32m    367\u001b[0m     \"\"\"\n\u001b[0;32m--> 368\u001b[0;31m     return make_figure(\n\u001b[0m\u001b[1;32m    369\u001b[0m         \u001b[0margs\u001b[0m\u001b[0;34m=\u001b[0m\u001b[0mlocals\u001b[0m\u001b[0;34m(\u001b[0m\u001b[0;34m)\u001b[0m\u001b[0;34m,\u001b[0m\u001b[0;34m\u001b[0m\u001b[0;34m\u001b[0m\u001b[0m\n\u001b[1;32m    370\u001b[0m         \u001b[0mconstructor\u001b[0m\u001b[0;34m=\u001b[0m\u001b[0mgo\u001b[0m\u001b[0;34m.\u001b[0m\u001b[0mBar\u001b[0m\u001b[0;34m,\u001b[0m\u001b[0;34m\u001b[0m\u001b[0;34m\u001b[0m\u001b[0m\n",
      "\u001b[0;32m/usr/local/anaconda3/lib/python3.9/site-packages/plotly/express/_core.py\u001b[0m in \u001b[0;36mmake_figure\u001b[0;34m(args, constructor, trace_patch, layout_patch)\u001b[0m\n\u001b[1;32m   1943\u001b[0m     \u001b[0mapply_default_cascade\u001b[0m\u001b[0;34m(\u001b[0m\u001b[0margs\u001b[0m\u001b[0;34m)\u001b[0m\u001b[0;34m\u001b[0m\u001b[0;34m\u001b[0m\u001b[0m\n\u001b[1;32m   1944\u001b[0m \u001b[0;34m\u001b[0m\u001b[0m\n\u001b[0;32m-> 1945\u001b[0;31m     \u001b[0margs\u001b[0m \u001b[0;34m=\u001b[0m \u001b[0mbuild_dataframe\u001b[0m\u001b[0;34m(\u001b[0m\u001b[0margs\u001b[0m\u001b[0;34m,\u001b[0m \u001b[0mconstructor\u001b[0m\u001b[0;34m)\u001b[0m\u001b[0;34m\u001b[0m\u001b[0;34m\u001b[0m\u001b[0m\n\u001b[0m\u001b[1;32m   1946\u001b[0m     \u001b[0;32mif\u001b[0m \u001b[0mconstructor\u001b[0m \u001b[0;32min\u001b[0m \u001b[0;34m[\u001b[0m\u001b[0mgo\u001b[0m\u001b[0;34m.\u001b[0m\u001b[0mTreemap\u001b[0m\u001b[0;34m,\u001b[0m \u001b[0mgo\u001b[0m\u001b[0;34m.\u001b[0m\u001b[0mSunburst\u001b[0m\u001b[0;34m,\u001b[0m \u001b[0mgo\u001b[0m\u001b[0;34m.\u001b[0m\u001b[0mIcicle\u001b[0m\u001b[0;34m]\u001b[0m \u001b[0;32mand\u001b[0m \u001b[0margs\u001b[0m\u001b[0;34m[\u001b[0m\u001b[0;34m\"path\"\u001b[0m\u001b[0;34m]\u001b[0m \u001b[0;32mis\u001b[0m \u001b[0;32mnot\u001b[0m \u001b[0;32mNone\u001b[0m\u001b[0;34m:\u001b[0m\u001b[0;34m\u001b[0m\u001b[0;34m\u001b[0m\u001b[0m\n\u001b[1;32m   1947\u001b[0m         \u001b[0margs\u001b[0m \u001b[0;34m=\u001b[0m \u001b[0mprocess_dataframe_hierarchy\u001b[0m\u001b[0;34m(\u001b[0m\u001b[0margs\u001b[0m\u001b[0;34m)\u001b[0m\u001b[0;34m\u001b[0m\u001b[0;34m\u001b[0m\u001b[0m\n",
      "\u001b[0;32m/usr/local/anaconda3/lib/python3.9/site-packages/plotly/express/_core.py\u001b[0m in \u001b[0;36mbuild_dataframe\u001b[0;34m(args, constructor)\u001b[0m\n\u001b[1;32m   1403\u001b[0m     \u001b[0;31m# now that things have been prepped, we do the systematic rewriting of `args`\u001b[0m\u001b[0;34m\u001b[0m\u001b[0;34m\u001b[0m\u001b[0m\n\u001b[1;32m   1404\u001b[0m \u001b[0;34m\u001b[0m\u001b[0m\n\u001b[0;32m-> 1405\u001b[0;31m     df_output, wide_id_vars = process_args_into_dataframe(\n\u001b[0m\u001b[1;32m   1406\u001b[0m         \u001b[0margs\u001b[0m\u001b[0;34m,\u001b[0m \u001b[0mwide_mode\u001b[0m\u001b[0;34m,\u001b[0m \u001b[0mvar_name\u001b[0m\u001b[0;34m,\u001b[0m \u001b[0mvalue_name\u001b[0m\u001b[0;34m\u001b[0m\u001b[0;34m\u001b[0m\u001b[0m\n\u001b[1;32m   1407\u001b[0m     )\n",
      "\u001b[0;32m/usr/local/anaconda3/lib/python3.9/site-packages/plotly/express/_core.py\u001b[0m in \u001b[0;36mprocess_args_into_dataframe\u001b[0;34m(args, wide_mode, var_name, value_name)\u001b[0m\n\u001b[1;32m   1243\u001b[0m \u001b[0;34m\u001b[0m\u001b[0m\n\u001b[1;32m   1244\u001b[0m                 \u001b[0;32mif\u001b[0m \u001b[0mlength\u001b[0m \u001b[0;32mand\u001b[0m \u001b[0mlen\u001b[0m\u001b[0;34m(\u001b[0m\u001b[0margument\u001b[0m\u001b[0;34m)\u001b[0m \u001b[0;34m!=\u001b[0m \u001b[0mlength\u001b[0m\u001b[0;34m:\u001b[0m\u001b[0;34m\u001b[0m\u001b[0;34m\u001b[0m\u001b[0m\n\u001b[0;32m-> 1245\u001b[0;31m                     raise ValueError(\n\u001b[0m\u001b[1;32m   1246\u001b[0m                         \u001b[0;34m\"All arguments should have the same length. \"\u001b[0m\u001b[0;34m\u001b[0m\u001b[0;34m\u001b[0m\u001b[0m\n\u001b[1;32m   1247\u001b[0m                         \u001b[0;34m\"The length of argument `%s` is %d, whereas the \"\u001b[0m\u001b[0;34m\u001b[0m\u001b[0;34m\u001b[0m\u001b[0m\n",
      "\u001b[0;31mValueError\u001b[0m: All arguments should have the same length. The length of argument `y` is 231477, whereas the length of  previously-processed arguments ['x'] is 64"
     ]
    }
   ],
   "source": [
    "x = pd.DatetimeIndex(final_clean['date']).year.unique()\n",
    "\n",
    "fig = px.bar(final_clean, x)\n",
    "fig.show()"
   ]
  },
  {
   "cell_type": "code",
   "execution_count": null,
   "metadata": {},
   "outputs": [],
   "source": []
  }
 ],
 "metadata": {
  "interpreter": {
   "hash": "210e85c458e31a8f2c053c2a54b074cdfa1df36586be642848617406f9269a8b"
  },
  "kernelspec": {
   "display_name": "Python 3.6.5 ('base')",
   "language": "python",
   "name": "python3"
  },
  "language_info": {
   "codemirror_mode": {
    "name": "ipython",
    "version": 3
   },
   "file_extension": ".py",
   "mimetype": "text/x-python",
   "name": "python",
   "nbconvert_exporter": "python",
   "pygments_lexer": "ipython3",
   "version": "3.9.7"
  },
  "orig_nbformat": 4
 },
 "nbformat": 4,
 "nbformat_minor": 2
}
