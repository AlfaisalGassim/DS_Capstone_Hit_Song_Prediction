{
 "cells": [
  {
   "cell_type": "markdown",
   "metadata": {},
   "source": [
    "# Hit Song Perdection "
   ]
  },
  {
   "cell_type": "markdown",
   "metadata": {},
   "source": [
    "## Introduction"
   ]
  },
  {
   "cell_type": "markdown",
   "metadata": {},
   "source": [
    "- After collecting the data from spotify, I need to merge it with the original dataset. To have a final dataset to run a model on. "
   ]
  },
  {
   "cell_type": "code",
   "execution_count": 1,
   "metadata": {},
   "outputs": [],
   "source": [
    "# importing libraries \n",
    "import pandas as pd\n",
    "import matplotlib.pyplot as plt\n",
    "import plotly.express as px\n"
   ]
  },
  {
   "cell_type": "code",
   "execution_count": 2,
   "metadata": {},
   "outputs": [],
   "source": [
    "# loading in the original dataset and the collected dataset \n",
    "original_tracks = pd.read_csv(\"../data/original_hot_100.csv\")\n",
    "collected_spotify = pd.read_csv(\"../data/tracks_spotify_all.csv\")"
   ]
  },
  {
   "cell_type": "code",
   "execution_count": 3,
   "metadata": {},
   "outputs": [
    {
     "data": {
      "text/html": [
       "<div>\n",
       "<style scoped>\n",
       "    .dataframe tbody tr th:only-of-type {\n",
       "        vertical-align: middle;\n",
       "    }\n",
       "\n",
       "    .dataframe tbody tr th {\n",
       "        vertical-align: top;\n",
       "    }\n",
       "\n",
       "    .dataframe thead th {\n",
       "        text-align: right;\n",
       "    }\n",
       "</style>\n",
       "<table border=\"1\" class=\"dataframe\">\n",
       "  <thead>\n",
       "    <tr style=\"text-align: right;\">\n",
       "      <th></th>\n",
       "      <th>date</th>\n",
       "      <th>rank</th>\n",
       "      <th>song</th>\n",
       "      <th>artist</th>\n",
       "      <th>last-week</th>\n",
       "      <th>peak-rank</th>\n",
       "      <th>weeks-on-board</th>\n",
       "    </tr>\n",
       "  </thead>\n",
       "  <tbody>\n",
       "    <tr>\n",
       "      <th>0</th>\n",
       "      <td>2021-11-06</td>\n",
       "      <td>1</td>\n",
       "      <td>Easy On Me</td>\n",
       "      <td>Adele</td>\n",
       "      <td>1.0</td>\n",
       "      <td>1</td>\n",
       "      <td>3</td>\n",
       "    </tr>\n",
       "    <tr>\n",
       "      <th>1</th>\n",
       "      <td>2021-11-06</td>\n",
       "      <td>2</td>\n",
       "      <td>Stay</td>\n",
       "      <td>The Kid LAROI &amp; Justin Bieber</td>\n",
       "      <td>2.0</td>\n",
       "      <td>1</td>\n",
       "      <td>16</td>\n",
       "    </tr>\n",
       "    <tr>\n",
       "      <th>2</th>\n",
       "      <td>2021-11-06</td>\n",
       "      <td>3</td>\n",
       "      <td>Industry Baby</td>\n",
       "      <td>Lil Nas X &amp; Jack Harlow</td>\n",
       "      <td>3.0</td>\n",
       "      <td>1</td>\n",
       "      <td>14</td>\n",
       "    </tr>\n",
       "    <tr>\n",
       "      <th>3</th>\n",
       "      <td>2021-11-06</td>\n",
       "      <td>4</td>\n",
       "      <td>Fancy Like</td>\n",
       "      <td>Walker Hayes</td>\n",
       "      <td>4.0</td>\n",
       "      <td>3</td>\n",
       "      <td>19</td>\n",
       "    </tr>\n",
       "    <tr>\n",
       "      <th>4</th>\n",
       "      <td>2021-11-06</td>\n",
       "      <td>5</td>\n",
       "      <td>Bad Habits</td>\n",
       "      <td>Ed Sheeran</td>\n",
       "      <td>5.0</td>\n",
       "      <td>2</td>\n",
       "      <td>18</td>\n",
       "    </tr>\n",
       "  </tbody>\n",
       "</table>\n",
       "</div>"
      ],
      "text/plain": [
       "         date  rank           song                         artist  last-week  \\\n",
       "0  2021-11-06     1     Easy On Me                          Adele        1.0   \n",
       "1  2021-11-06     2           Stay  The Kid LAROI & Justin Bieber        2.0   \n",
       "2  2021-11-06     3  Industry Baby        Lil Nas X & Jack Harlow        3.0   \n",
       "3  2021-11-06     4     Fancy Like                   Walker Hayes        4.0   \n",
       "4  2021-11-06     5     Bad Habits                     Ed Sheeran        5.0   \n",
       "\n",
       "   peak-rank  weeks-on-board  \n",
       "0          1               3  \n",
       "1          1              16  \n",
       "2          1              14  \n",
       "3          3              19  \n",
       "4          2              18  "
      ]
     },
     "execution_count": 3,
     "metadata": {},
     "output_type": "execute_result"
    }
   ],
   "source": [
    "original_tracks.head()"
   ]
  },
  {
   "cell_type": "code",
   "execution_count": 4,
   "metadata": {},
   "outputs": [
    {
     "data": {
      "text/html": [
       "<div>\n",
       "<style scoped>\n",
       "    .dataframe tbody tr th:only-of-type {\n",
       "        vertical-align: middle;\n",
       "    }\n",
       "\n",
       "    .dataframe tbody tr th {\n",
       "        vertical-align: top;\n",
       "    }\n",
       "\n",
       "    .dataframe thead th {\n",
       "        text-align: right;\n",
       "    }\n",
       "</style>\n",
       "<table border=\"1\" class=\"dataframe\">\n",
       "  <thead>\n",
       "    <tr style=\"text-align: right;\">\n",
       "      <th></th>\n",
       "      <th>Unnamed: 0</th>\n",
       "      <th>Unnamed: 0.1</th>\n",
       "      <th>original_index</th>\n",
       "      <th>song</th>\n",
       "      <th>artist</th>\n",
       "      <th>primary_artist</th>\n",
       "      <th>featured_artist_1</th>\n",
       "      <th>featured_artist_2</th>\n",
       "      <th>is_collected</th>\n",
       "      <th>match_song</th>\n",
       "      <th>...</th>\n",
       "      <th>spotify_popularity</th>\n",
       "      <th>song_id</th>\n",
       "      <th>song_uri</th>\n",
       "      <th>match_artist</th>\n",
       "      <th>artist_id</th>\n",
       "      <th>release_date</th>\n",
       "      <th>Album_id</th>\n",
       "      <th>album_type</th>\n",
       "      <th>album_name</th>\n",
       "      <th>album_uri</th>\n",
       "    </tr>\n",
       "  </thead>\n",
       "  <tbody>\n",
       "    <tr>\n",
       "      <th>0</th>\n",
       "      <td>0</td>\n",
       "      <td>0</td>\n",
       "      <td>0</td>\n",
       "      <td>Easy On Me</td>\n",
       "      <td>Adele</td>\n",
       "      <td>Adele</td>\n",
       "      <td>NaN</td>\n",
       "      <td>NaN</td>\n",
       "      <td>True</td>\n",
       "      <td>Easy On Me</td>\n",
       "      <td>...</td>\n",
       "      <td>95.0</td>\n",
       "      <td>0gplL1WMoJ6iYaPgMCL0gX</td>\n",
       "      <td>spotify:track:0gplL1WMoJ6iYaPgMCL0gX</td>\n",
       "      <td>Adele</td>\n",
       "      <td>spotify:artist:4dpARuHxo51G3z768sgnrY</td>\n",
       "      <td>2021-10-14</td>\n",
       "      <td>224jZ4sUX7OhAuMwaxp86S</td>\n",
       "      <td>single</td>\n",
       "      <td>Easy On Me</td>\n",
       "      <td>spotify:album:224jZ4sUX7OhAuMwaxp86S</td>\n",
       "    </tr>\n",
       "    <tr>\n",
       "      <th>1</th>\n",
       "      <td>1</td>\n",
       "      <td>1</td>\n",
       "      <td>1</td>\n",
       "      <td>Stay</td>\n",
       "      <td>The Kid LAROI &amp; Justin Bieber</td>\n",
       "      <td>The Kid LAROI</td>\n",
       "      <td>Justin Bieber</td>\n",
       "      <td>NaN</td>\n",
       "      <td>True</td>\n",
       "      <td>STAY (with Justin Bieber)</td>\n",
       "      <td>...</td>\n",
       "      <td>96.0</td>\n",
       "      <td>5HCyWlXZPP0y6Gqq8TgA20</td>\n",
       "      <td>spotify:track:5HCyWlXZPP0y6Gqq8TgA20</td>\n",
       "      <td>The Kid LAROI</td>\n",
       "      <td>spotify:artist:2tIP7SsRs7vjIcLrU85W8J</td>\n",
       "      <td>2021-07-09</td>\n",
       "      <td>4QLAtpLNUsHEYrcHXmMIZZ</td>\n",
       "      <td>single</td>\n",
       "      <td>STAY (with Justin Bieber)</td>\n",
       "      <td>spotify:album:4QLAtpLNUsHEYrcHXmMIZZ</td>\n",
       "    </tr>\n",
       "    <tr>\n",
       "      <th>2</th>\n",
       "      <td>2</td>\n",
       "      <td>2</td>\n",
       "      <td>2</td>\n",
       "      <td>Industry Baby</td>\n",
       "      <td>Lil Nas X &amp; Jack Harlow</td>\n",
       "      <td>Lil Nas X</td>\n",
       "      <td>Jack Harlow</td>\n",
       "      <td>NaN</td>\n",
       "      <td>True</td>\n",
       "      <td>INDUSTRY BABY (feat. Jack Harlow)</td>\n",
       "      <td>...</td>\n",
       "      <td>95.0</td>\n",
       "      <td>27NovPIUIRrOZoCHxABJwK</td>\n",
       "      <td>spotify:track:27NovPIUIRrOZoCHxABJwK</td>\n",
       "      <td>Lil Nas X</td>\n",
       "      <td>spotify:artist:7jVv8c5Fj3E9VhNjxT4snq</td>\n",
       "      <td>2021-07-23</td>\n",
       "      <td>622NFw5Yk0OReMJ2XWcXUh</td>\n",
       "      <td>single</td>\n",
       "      <td>INDUSTRY BABY (feat. Jack Harlow)</td>\n",
       "      <td>spotify:album:622NFw5Yk0OReMJ2XWcXUh</td>\n",
       "    </tr>\n",
       "    <tr>\n",
       "      <th>3</th>\n",
       "      <td>3</td>\n",
       "      <td>3</td>\n",
       "      <td>3</td>\n",
       "      <td>Fancy Like</td>\n",
       "      <td>Walker Hayes</td>\n",
       "      <td>Walker Hayes</td>\n",
       "      <td>NaN</td>\n",
       "      <td>NaN</td>\n",
       "      <td>True</td>\n",
       "      <td>Fancy Like</td>\n",
       "      <td>...</td>\n",
       "      <td>81.0</td>\n",
       "      <td>3ZozFqJJlDBNIm4xqxn2ZD</td>\n",
       "      <td>spotify:track:3ZozFqJJlDBNIm4xqxn2ZD</td>\n",
       "      <td>Walker Hayes</td>\n",
       "      <td>spotify:artist:7sKxqpSqbIzphAKAhrqvlf</td>\n",
       "      <td>2021-06-04</td>\n",
       "      <td>1Lcuv3HMgEG36SkibQIspv</td>\n",
       "      <td>single</td>\n",
       "      <td>Country Stuff</td>\n",
       "      <td>spotify:album:1Lcuv3HMgEG36SkibQIspv</td>\n",
       "    </tr>\n",
       "    <tr>\n",
       "      <th>4</th>\n",
       "      <td>4</td>\n",
       "      <td>4</td>\n",
       "      <td>4</td>\n",
       "      <td>Bad Habits</td>\n",
       "      <td>Ed Sheeran</td>\n",
       "      <td>Ed Sheeran</td>\n",
       "      <td>NaN</td>\n",
       "      <td>NaN</td>\n",
       "      <td>True</td>\n",
       "      <td>Bad Habits</td>\n",
       "      <td>...</td>\n",
       "      <td>95.0</td>\n",
       "      <td>3rmo8F54jFF8OgYsqTxm5d</td>\n",
       "      <td>spotify:track:3rmo8F54jFF8OgYsqTxm5d</td>\n",
       "      <td>Ed Sheeran</td>\n",
       "      <td>spotify:artist:6eUKZXaKkcviH0Ku9w2n3V</td>\n",
       "      <td>2021-10-29</td>\n",
       "      <td>32iAEBstCjauDhyKpGjTuq</td>\n",
       "      <td>album</td>\n",
       "      <td>=</td>\n",
       "      <td>spotify:album:32iAEBstCjauDhyKpGjTuq</td>\n",
       "    </tr>\n",
       "  </tbody>\n",
       "</table>\n",
       "<p>5 rows × 21 columns</p>\n",
       "</div>"
      ],
      "text/plain": [
       "   Unnamed: 0  Unnamed: 0.1  original_index           song  \\\n",
       "0           0             0               0     Easy On Me   \n",
       "1           1             1               1           Stay   \n",
       "2           2             2               2  Industry Baby   \n",
       "3           3             3               3     Fancy Like   \n",
       "4           4             4               4     Bad Habits   \n",
       "\n",
       "                          artist primary_artist featured_artist_1  \\\n",
       "0                          Adele          Adele               NaN   \n",
       "1  The Kid LAROI & Justin Bieber  The Kid LAROI     Justin Bieber   \n",
       "2        Lil Nas X & Jack Harlow      Lil Nas X       Jack Harlow   \n",
       "3                   Walker Hayes   Walker Hayes               NaN   \n",
       "4                     Ed Sheeran     Ed Sheeran               NaN   \n",
       "\n",
       "  featured_artist_2  is_collected                         match_song  ...  \\\n",
       "0               NaN          True                         Easy On Me  ...   \n",
       "1               NaN          True          STAY (with Justin Bieber)  ...   \n",
       "2               NaN          True  INDUSTRY BABY (feat. Jack Harlow)  ...   \n",
       "3               NaN          True                         Fancy Like  ...   \n",
       "4               NaN          True                         Bad Habits  ...   \n",
       "\n",
       "   spotify_popularity                 song_id  \\\n",
       "0                95.0  0gplL1WMoJ6iYaPgMCL0gX   \n",
       "1                96.0  5HCyWlXZPP0y6Gqq8TgA20   \n",
       "2                95.0  27NovPIUIRrOZoCHxABJwK   \n",
       "3                81.0  3ZozFqJJlDBNIm4xqxn2ZD   \n",
       "4                95.0  3rmo8F54jFF8OgYsqTxm5d   \n",
       "\n",
       "                               song_uri   match_artist  \\\n",
       "0  spotify:track:0gplL1WMoJ6iYaPgMCL0gX          Adele   \n",
       "1  spotify:track:5HCyWlXZPP0y6Gqq8TgA20  The Kid LAROI   \n",
       "2  spotify:track:27NovPIUIRrOZoCHxABJwK      Lil Nas X   \n",
       "3  spotify:track:3ZozFqJJlDBNIm4xqxn2ZD   Walker Hayes   \n",
       "4  spotify:track:3rmo8F54jFF8OgYsqTxm5d     Ed Sheeran   \n",
       "\n",
       "                               artist_id release_date                Album_id  \\\n",
       "0  spotify:artist:4dpARuHxo51G3z768sgnrY   2021-10-14  224jZ4sUX7OhAuMwaxp86S   \n",
       "1  spotify:artist:2tIP7SsRs7vjIcLrU85W8J   2021-07-09  4QLAtpLNUsHEYrcHXmMIZZ   \n",
       "2  spotify:artist:7jVv8c5Fj3E9VhNjxT4snq   2021-07-23  622NFw5Yk0OReMJ2XWcXUh   \n",
       "3  spotify:artist:7sKxqpSqbIzphAKAhrqvlf   2021-06-04  1Lcuv3HMgEG36SkibQIspv   \n",
       "4  spotify:artist:6eUKZXaKkcviH0Ku9w2n3V   2021-10-29  32iAEBstCjauDhyKpGjTuq   \n",
       "\n",
       "  album_type                         album_name  \\\n",
       "0     single                         Easy On Me   \n",
       "1     single          STAY (with Justin Bieber)   \n",
       "2     single  INDUSTRY BABY (feat. Jack Harlow)   \n",
       "3     single                      Country Stuff   \n",
       "4      album                                  =   \n",
       "\n",
       "                              album_uri  \n",
       "0  spotify:album:224jZ4sUX7OhAuMwaxp86S  \n",
       "1  spotify:album:4QLAtpLNUsHEYrcHXmMIZZ  \n",
       "2  spotify:album:622NFw5Yk0OReMJ2XWcXUh  \n",
       "3  spotify:album:1Lcuv3HMgEG36SkibQIspv  \n",
       "4  spotify:album:32iAEBstCjauDhyKpGjTuq  \n",
       "\n",
       "[5 rows x 21 columns]"
      ]
     },
     "execution_count": 4,
     "metadata": {},
     "output_type": "execute_result"
    }
   ],
   "source": [
    "collected_spotify.head()"
   ]
  },
  {
   "cell_type": "code",
   "execution_count": 22,
   "metadata": {},
   "outputs": [],
   "source": [
    "#collected_spotify.rename(columns={\"song\":\"song_1\", \"artist\":\"artist_1\"}, inplace=True)"
   ]
  },
  {
   "cell_type": "code",
   "execution_count": 23,
   "metadata": {},
   "outputs": [],
   "source": [
    "#compined_data = original_tracks.join(collected_spotify.set_index(\"original_index\"))"
   ]
  },
  {
   "cell_type": "code",
   "execution_count": 24,
   "metadata": {},
   "outputs": [],
   "source": [
    "#compined_data[compined_data[\"is_collected\"]== True]"
   ]
  },
  {
   "cell_type": "code",
   "execution_count": 25,
   "metadata": {},
   "outputs": [],
   "source": [
    "#final = compined_data[compined_data[\"is_collected\"]== True]"
   ]
  },
  {
   "cell_type": "code",
   "execution_count": 26,
   "metadata": {},
   "outputs": [],
   "source": [
    "#final[[\"song\",\"match_song\",\"primary_artist\",\"match_artist\"]]\n"
   ]
  },
  {
   "cell_type": "code",
   "execution_count": 27,
   "metadata": {},
   "outputs": [],
   "source": [
    "#compined_data[compined_data[\"song\"]==\"Easy On Me\"]"
   ]
  },
  {
   "cell_type": "markdown",
   "metadata": {},
   "source": [
    "## Merging the two dataset "
   ]
  },
  {
   "cell_type": "code",
   "execution_count": 5,
   "metadata": {},
   "outputs": [],
   "source": [
    "compined_data = original_tracks.join(collected_spotify.set_index([\"song\",\"artist\"]), on=[\"song\",\"artist\"])"
   ]
  },
  {
   "cell_type": "markdown",
   "metadata": {},
   "source": [
    "- using song name and the artist name to match the correct song. "
   ]
  },
  {
   "cell_type": "code",
   "execution_count": 6,
   "metadata": {},
   "outputs": [],
   "source": [
    "final = compined_data[compined_data[\"is_collected\"]== True]"
   ]
  },
  {
   "cell_type": "markdown",
   "metadata": {},
   "source": [
    "- choosing only rows that has been collected from spotify "
   ]
  },
  {
   "cell_type": "code",
   "execution_count": 7,
   "metadata": {},
   "outputs": [
    {
     "name": "stdout",
     "output_type": "stream",
     "text": [
      "<class 'pandas.core.frame.DataFrame'>\n",
      "Int64Index: 231477 entries, 0 to 328169\n",
      "Data columns (total 26 columns):\n",
      " #   Column              Non-Null Count   Dtype  \n",
      "---  ------              --------------   -----  \n",
      " 0   date                231477 non-null  object \n",
      " 1   rank                231477 non-null  int64  \n",
      " 2   song                231477 non-null  object \n",
      " 3   artist              231477 non-null  object \n",
      " 4   last-week           211349 non-null  float64\n",
      " 5   peak-rank           231477 non-null  int64  \n",
      " 6   weeks-on-board      231477 non-null  int64  \n",
      " 7   Unnamed: 0          231477 non-null  int64  \n",
      " 8   Unnamed: 0.1        231477 non-null  int64  \n",
      " 9   original_index      231477 non-null  int64  \n",
      " 10  primary_artist      231477 non-null  object \n",
      " 11  featured_artist_1   39490 non-null   object \n",
      " 12  featured_artist_2   6228 non-null    object \n",
      " 13  is_collected        231477 non-null  bool   \n",
      " 14  match_song          231477 non-null  object \n",
      " 15  duration_ms         231477 non-null  float64\n",
      " 16  spotify_popularity  231477 non-null  float64\n",
      " 17  song_id             231477 non-null  object \n",
      " 18  song_uri            231477 non-null  object \n",
      " 19  match_artist        231477 non-null  object \n",
      " 20  artist_id           231477 non-null  object \n",
      " 21  release_date        231477 non-null  object \n",
      " 22  Album_id            231477 non-null  object \n",
      " 23  album_type          231477 non-null  object \n",
      " 24  album_name          231477 non-null  object \n",
      " 25  album_uri           231477 non-null  object \n",
      "dtypes: bool(1), float64(3), int64(6), object(16)\n",
      "memory usage: 46.1+ MB\n"
     ]
    }
   ],
   "source": [
    "final.info()"
   ]
  },
  {
   "cell_type": "markdown",
   "metadata": {},
   "source": [
    "## Cleaning the dataset after merging "
   ]
  },
  {
   "cell_type": "code",
   "execution_count": 8,
   "metadata": {},
   "outputs": [],
   "source": [
    "final_clean = final[[\"date\",\"release_date\",\"rank\",\"song\",\"match_song\",\"artist\",\"match_artist\",\"last-week\",\"peak-rank\",\"weeks-on-board\",\"duration_ms\",\"spotify_popularity\",\"album_type\"]]"
   ]
  },
  {
   "cell_type": "code",
   "execution_count": 9,
   "metadata": {},
   "outputs": [
    {
     "data": {
      "text/html": [
       "<div>\n",
       "<style scoped>\n",
       "    .dataframe tbody tr th:only-of-type {\n",
       "        vertical-align: middle;\n",
       "    }\n",
       "\n",
       "    .dataframe tbody tr th {\n",
       "        vertical-align: top;\n",
       "    }\n",
       "\n",
       "    .dataframe thead th {\n",
       "        text-align: right;\n",
       "    }\n",
       "</style>\n",
       "<table border=\"1\" class=\"dataframe\">\n",
       "  <thead>\n",
       "    <tr style=\"text-align: right;\">\n",
       "      <th></th>\n",
       "      <th>date</th>\n",
       "      <th>release_date</th>\n",
       "      <th>rank</th>\n",
       "      <th>song</th>\n",
       "      <th>match_song</th>\n",
       "      <th>artist</th>\n",
       "      <th>match_artist</th>\n",
       "      <th>last-week</th>\n",
       "      <th>peak-rank</th>\n",
       "      <th>weeks-on-board</th>\n",
       "      <th>duration_ms</th>\n",
       "      <th>spotify_popularity</th>\n",
       "      <th>album_type</th>\n",
       "    </tr>\n",
       "  </thead>\n",
       "  <tbody>\n",
       "    <tr>\n",
       "      <th>0</th>\n",
       "      <td>2021-11-06</td>\n",
       "      <td>2021-10-14</td>\n",
       "      <td>1</td>\n",
       "      <td>Easy On Me</td>\n",
       "      <td>Easy On Me</td>\n",
       "      <td>Adele</td>\n",
       "      <td>Adele</td>\n",
       "      <td>1.0</td>\n",
       "      <td>1</td>\n",
       "      <td>3</td>\n",
       "      <td>224694.0</td>\n",
       "      <td>95.0</td>\n",
       "      <td>single</td>\n",
       "    </tr>\n",
       "    <tr>\n",
       "      <th>1</th>\n",
       "      <td>2021-11-06</td>\n",
       "      <td>2021-07-09</td>\n",
       "      <td>2</td>\n",
       "      <td>Stay</td>\n",
       "      <td>STAY (with Justin Bieber)</td>\n",
       "      <td>The Kid LAROI &amp; Justin Bieber</td>\n",
       "      <td>The Kid LAROI</td>\n",
       "      <td>2.0</td>\n",
       "      <td>1</td>\n",
       "      <td>16</td>\n",
       "      <td>141805.0</td>\n",
       "      <td>96.0</td>\n",
       "      <td>single</td>\n",
       "    </tr>\n",
       "    <tr>\n",
       "      <th>2</th>\n",
       "      <td>2021-11-06</td>\n",
       "      <td>2021-07-23</td>\n",
       "      <td>3</td>\n",
       "      <td>Industry Baby</td>\n",
       "      <td>INDUSTRY BABY (feat. Jack Harlow)</td>\n",
       "      <td>Lil Nas X &amp; Jack Harlow</td>\n",
       "      <td>Lil Nas X</td>\n",
       "      <td>3.0</td>\n",
       "      <td>1</td>\n",
       "      <td>14</td>\n",
       "      <td>212000.0</td>\n",
       "      <td>95.0</td>\n",
       "      <td>single</td>\n",
       "    </tr>\n",
       "    <tr>\n",
       "      <th>3</th>\n",
       "      <td>2021-11-06</td>\n",
       "      <td>2021-06-04</td>\n",
       "      <td>4</td>\n",
       "      <td>Fancy Like</td>\n",
       "      <td>Fancy Like</td>\n",
       "      <td>Walker Hayes</td>\n",
       "      <td>Walker Hayes</td>\n",
       "      <td>4.0</td>\n",
       "      <td>3</td>\n",
       "      <td>19</td>\n",
       "      <td>161853.0</td>\n",
       "      <td>81.0</td>\n",
       "      <td>single</td>\n",
       "    </tr>\n",
       "    <tr>\n",
       "      <th>4</th>\n",
       "      <td>2021-11-06</td>\n",
       "      <td>2021-10-29</td>\n",
       "      <td>5</td>\n",
       "      <td>Bad Habits</td>\n",
       "      <td>Bad Habits</td>\n",
       "      <td>Ed Sheeran</td>\n",
       "      <td>Ed Sheeran</td>\n",
       "      <td>5.0</td>\n",
       "      <td>2</td>\n",
       "      <td>18</td>\n",
       "      <td>230746.0</td>\n",
       "      <td>95.0</td>\n",
       "      <td>album</td>\n",
       "    </tr>\n",
       "    <tr>\n",
       "      <th>...</th>\n",
       "      <td>...</td>\n",
       "      <td>...</td>\n",
       "      <td>...</td>\n",
       "      <td>...</td>\n",
       "      <td>...</td>\n",
       "      <td>...</td>\n",
       "      <td>...</td>\n",
       "      <td>...</td>\n",
       "      <td>...</td>\n",
       "      <td>...</td>\n",
       "      <td>...</td>\n",
       "      <td>...</td>\n",
       "      <td>...</td>\n",
       "    </tr>\n",
       "    <tr>\n",
       "      <th>327955</th>\n",
       "      <td>1958-12-29</td>\n",
       "      <td>1986-01-01</td>\n",
       "      <td>69</td>\n",
       "      <td>Run Rudolph Run</td>\n",
       "      <td>Run Rudolph Run - Single Version</td>\n",
       "      <td>Chuck Berry</td>\n",
       "      <td>Chuck Berry</td>\n",
       "      <td>73.0</td>\n",
       "      <td>69</td>\n",
       "      <td>3</td>\n",
       "      <td>165733.0</td>\n",
       "      <td>70.0</td>\n",
       "      <td>album</td>\n",
       "    </tr>\n",
       "    <tr>\n",
       "      <th>328043</th>\n",
       "      <td>1958-12-22</td>\n",
       "      <td>1957-12-02</td>\n",
       "      <td>57</td>\n",
       "      <td>Jingle Bell Rock</td>\n",
       "      <td>Jingle Bell Rock</td>\n",
       "      <td>Bobby Helms</td>\n",
       "      <td>Bobby Helms</td>\n",
       "      <td>NaN</td>\n",
       "      <td>57</td>\n",
       "      <td>1</td>\n",
       "      <td>130973.0</td>\n",
       "      <td>77.0</td>\n",
       "      <td>single</td>\n",
       "    </tr>\n",
       "    <tr>\n",
       "      <th>328059</th>\n",
       "      <td>1958-12-22</td>\n",
       "      <td>1986-01-01</td>\n",
       "      <td>73</td>\n",
       "      <td>Run Rudolph Run</td>\n",
       "      <td>Run Rudolph Run - Single Version</td>\n",
       "      <td>Chuck Berry</td>\n",
       "      <td>Chuck Berry</td>\n",
       "      <td>83.0</td>\n",
       "      <td>73</td>\n",
       "      <td>2</td>\n",
       "      <td>165733.0</td>\n",
       "      <td>70.0</td>\n",
       "      <td>album</td>\n",
       "    </tr>\n",
       "    <tr>\n",
       "      <th>328072</th>\n",
       "      <td>1958-12-22</td>\n",
       "      <td>1942-01-01</td>\n",
       "      <td>86</td>\n",
       "      <td>White Christmas</td>\n",
       "      <td>White Christmas</td>\n",
       "      <td>Bing Crosby</td>\n",
       "      <td>Bing Crosby</td>\n",
       "      <td>NaN</td>\n",
       "      <td>86</td>\n",
       "      <td>1</td>\n",
       "      <td>177480.0</td>\n",
       "      <td>69.0</td>\n",
       "      <td>album</td>\n",
       "    </tr>\n",
       "    <tr>\n",
       "      <th>328169</th>\n",
       "      <td>1958-12-15</td>\n",
       "      <td>1986-01-01</td>\n",
       "      <td>83</td>\n",
       "      <td>Run Rudolph Run</td>\n",
       "      <td>Run Rudolph Run - Single Version</td>\n",
       "      <td>Chuck Berry</td>\n",
       "      <td>Chuck Berry</td>\n",
       "      <td>NaN</td>\n",
       "      <td>83</td>\n",
       "      <td>1</td>\n",
       "      <td>165733.0</td>\n",
       "      <td>70.0</td>\n",
       "      <td>album</td>\n",
       "    </tr>\n",
       "  </tbody>\n",
       "</table>\n",
       "<p>231477 rows × 13 columns</p>\n",
       "</div>"
      ],
      "text/plain": [
       "              date release_date  rank              song  \\\n",
       "0       2021-11-06   2021-10-14     1        Easy On Me   \n",
       "1       2021-11-06   2021-07-09     2              Stay   \n",
       "2       2021-11-06   2021-07-23     3     Industry Baby   \n",
       "3       2021-11-06   2021-06-04     4        Fancy Like   \n",
       "4       2021-11-06   2021-10-29     5        Bad Habits   \n",
       "...            ...          ...   ...               ...   \n",
       "327955  1958-12-29   1986-01-01    69   Run Rudolph Run   \n",
       "328043  1958-12-22   1957-12-02    57  Jingle Bell Rock   \n",
       "328059  1958-12-22   1986-01-01    73   Run Rudolph Run   \n",
       "328072  1958-12-22   1942-01-01    86   White Christmas   \n",
       "328169  1958-12-15   1986-01-01    83   Run Rudolph Run   \n",
       "\n",
       "                               match_song                         artist  \\\n",
       "0                              Easy On Me                          Adele   \n",
       "1               STAY (with Justin Bieber)  The Kid LAROI & Justin Bieber   \n",
       "2       INDUSTRY BABY (feat. Jack Harlow)        Lil Nas X & Jack Harlow   \n",
       "3                              Fancy Like                   Walker Hayes   \n",
       "4                              Bad Habits                     Ed Sheeran   \n",
       "...                                   ...                            ...   \n",
       "327955   Run Rudolph Run - Single Version                    Chuck Berry   \n",
       "328043                   Jingle Bell Rock                    Bobby Helms   \n",
       "328059   Run Rudolph Run - Single Version                    Chuck Berry   \n",
       "328072                    White Christmas                    Bing Crosby   \n",
       "328169   Run Rudolph Run - Single Version                    Chuck Berry   \n",
       "\n",
       "         match_artist  last-week  peak-rank  weeks-on-board  duration_ms  \\\n",
       "0               Adele        1.0          1               3     224694.0   \n",
       "1       The Kid LAROI        2.0          1              16     141805.0   \n",
       "2           Lil Nas X        3.0          1              14     212000.0   \n",
       "3        Walker Hayes        4.0          3              19     161853.0   \n",
       "4          Ed Sheeran        5.0          2              18     230746.0   \n",
       "...               ...        ...        ...             ...          ...   \n",
       "327955    Chuck Berry       73.0         69               3     165733.0   \n",
       "328043    Bobby Helms        NaN         57               1     130973.0   \n",
       "328059    Chuck Berry       83.0         73               2     165733.0   \n",
       "328072    Bing Crosby        NaN         86               1     177480.0   \n",
       "328169    Chuck Berry        NaN         83               1     165733.0   \n",
       "\n",
       "        spotify_popularity album_type  \n",
       "0                     95.0     single  \n",
       "1                     96.0     single  \n",
       "2                     95.0     single  \n",
       "3                     81.0     single  \n",
       "4                     95.0      album  \n",
       "...                    ...        ...  \n",
       "327955                70.0      album  \n",
       "328043                77.0     single  \n",
       "328059                70.0      album  \n",
       "328072                69.0      album  \n",
       "328169                70.0      album  \n",
       "\n",
       "[231477 rows x 13 columns]"
      ]
     },
     "execution_count": 9,
     "metadata": {},
     "output_type": "execute_result"
    }
   ],
   "source": [
    "final_clean"
   ]
  },
  {
   "cell_type": "code",
   "execution_count": 10,
   "metadata": {},
   "outputs": [
    {
     "data": {
      "text/html": [
       "<div>\n",
       "<style scoped>\n",
       "    .dataframe tbody tr th:only-of-type {\n",
       "        vertical-align: middle;\n",
       "    }\n",
       "\n",
       "    .dataframe tbody tr th {\n",
       "        vertical-align: top;\n",
       "    }\n",
       "\n",
       "    .dataframe thead th {\n",
       "        text-align: right;\n",
       "    }\n",
       "</style>\n",
       "<table border=\"1\" class=\"dataframe\">\n",
       "  <thead>\n",
       "    <tr style=\"text-align: right;\">\n",
       "      <th></th>\n",
       "      <th>date</th>\n",
       "      <th>release_date</th>\n",
       "      <th>rank</th>\n",
       "      <th>song</th>\n",
       "      <th>match_song</th>\n",
       "      <th>artist</th>\n",
       "      <th>match_artist</th>\n",
       "      <th>last-week</th>\n",
       "      <th>peak-rank</th>\n",
       "      <th>weeks-on-board</th>\n",
       "      <th>duration_ms</th>\n",
       "      <th>spotify_popularity</th>\n",
       "      <th>album_type</th>\n",
       "    </tr>\n",
       "  </thead>\n",
       "  <tbody>\n",
       "    <tr>\n",
       "      <th>0</th>\n",
       "      <td>2021-11-06</td>\n",
       "      <td>2021-10-14</td>\n",
       "      <td>1</td>\n",
       "      <td>Easy On Me</td>\n",
       "      <td>Easy On Me</td>\n",
       "      <td>Adele</td>\n",
       "      <td>Adele</td>\n",
       "      <td>1.0</td>\n",
       "      <td>1</td>\n",
       "      <td>3</td>\n",
       "      <td>224694.0</td>\n",
       "      <td>95.0</td>\n",
       "      <td>single</td>\n",
       "    </tr>\n",
       "    <tr>\n",
       "      <th>1</th>\n",
       "      <td>2021-11-06</td>\n",
       "      <td>2021-07-09</td>\n",
       "      <td>2</td>\n",
       "      <td>Stay</td>\n",
       "      <td>STAY (with Justin Bieber)</td>\n",
       "      <td>The Kid LAROI &amp; Justin Bieber</td>\n",
       "      <td>The Kid LAROI</td>\n",
       "      <td>2.0</td>\n",
       "      <td>1</td>\n",
       "      <td>16</td>\n",
       "      <td>141805.0</td>\n",
       "      <td>96.0</td>\n",
       "      <td>single</td>\n",
       "    </tr>\n",
       "    <tr>\n",
       "      <th>2</th>\n",
       "      <td>2021-11-06</td>\n",
       "      <td>2021-07-23</td>\n",
       "      <td>3</td>\n",
       "      <td>Industry Baby</td>\n",
       "      <td>INDUSTRY BABY (feat. Jack Harlow)</td>\n",
       "      <td>Lil Nas X &amp; Jack Harlow</td>\n",
       "      <td>Lil Nas X</td>\n",
       "      <td>3.0</td>\n",
       "      <td>1</td>\n",
       "      <td>14</td>\n",
       "      <td>212000.0</td>\n",
       "      <td>95.0</td>\n",
       "      <td>single</td>\n",
       "    </tr>\n",
       "    <tr>\n",
       "      <th>3</th>\n",
       "      <td>2021-11-06</td>\n",
       "      <td>2021-06-04</td>\n",
       "      <td>4</td>\n",
       "      <td>Fancy Like</td>\n",
       "      <td>Fancy Like</td>\n",
       "      <td>Walker Hayes</td>\n",
       "      <td>Walker Hayes</td>\n",
       "      <td>4.0</td>\n",
       "      <td>3</td>\n",
       "      <td>19</td>\n",
       "      <td>161853.0</td>\n",
       "      <td>81.0</td>\n",
       "      <td>single</td>\n",
       "    </tr>\n",
       "    <tr>\n",
       "      <th>4</th>\n",
       "      <td>2021-11-06</td>\n",
       "      <td>2021-10-29</td>\n",
       "      <td>5</td>\n",
       "      <td>Bad Habits</td>\n",
       "      <td>Bad Habits</td>\n",
       "      <td>Ed Sheeran</td>\n",
       "      <td>Ed Sheeran</td>\n",
       "      <td>5.0</td>\n",
       "      <td>2</td>\n",
       "      <td>18</td>\n",
       "      <td>230746.0</td>\n",
       "      <td>95.0</td>\n",
       "      <td>album</td>\n",
       "    </tr>\n",
       "    <tr>\n",
       "      <th>...</th>\n",
       "      <td>...</td>\n",
       "      <td>...</td>\n",
       "      <td>...</td>\n",
       "      <td>...</td>\n",
       "      <td>...</td>\n",
       "      <td>...</td>\n",
       "      <td>...</td>\n",
       "      <td>...</td>\n",
       "      <td>...</td>\n",
       "      <td>...</td>\n",
       "      <td>...</td>\n",
       "      <td>...</td>\n",
       "      <td>...</td>\n",
       "    </tr>\n",
       "    <tr>\n",
       "      <th>231472</th>\n",
       "      <td>1958-12-29</td>\n",
       "      <td>1986-01-01</td>\n",
       "      <td>69</td>\n",
       "      <td>Run Rudolph Run</td>\n",
       "      <td>Run Rudolph Run - Single Version</td>\n",
       "      <td>Chuck Berry</td>\n",
       "      <td>Chuck Berry</td>\n",
       "      <td>73.0</td>\n",
       "      <td>69</td>\n",
       "      <td>3</td>\n",
       "      <td>165733.0</td>\n",
       "      <td>70.0</td>\n",
       "      <td>album</td>\n",
       "    </tr>\n",
       "    <tr>\n",
       "      <th>231473</th>\n",
       "      <td>1958-12-22</td>\n",
       "      <td>1957-12-02</td>\n",
       "      <td>57</td>\n",
       "      <td>Jingle Bell Rock</td>\n",
       "      <td>Jingle Bell Rock</td>\n",
       "      <td>Bobby Helms</td>\n",
       "      <td>Bobby Helms</td>\n",
       "      <td>NaN</td>\n",
       "      <td>57</td>\n",
       "      <td>1</td>\n",
       "      <td>130973.0</td>\n",
       "      <td>77.0</td>\n",
       "      <td>single</td>\n",
       "    </tr>\n",
       "    <tr>\n",
       "      <th>231474</th>\n",
       "      <td>1958-12-22</td>\n",
       "      <td>1986-01-01</td>\n",
       "      <td>73</td>\n",
       "      <td>Run Rudolph Run</td>\n",
       "      <td>Run Rudolph Run - Single Version</td>\n",
       "      <td>Chuck Berry</td>\n",
       "      <td>Chuck Berry</td>\n",
       "      <td>83.0</td>\n",
       "      <td>73</td>\n",
       "      <td>2</td>\n",
       "      <td>165733.0</td>\n",
       "      <td>70.0</td>\n",
       "      <td>album</td>\n",
       "    </tr>\n",
       "    <tr>\n",
       "      <th>231475</th>\n",
       "      <td>1958-12-22</td>\n",
       "      <td>1942-01-01</td>\n",
       "      <td>86</td>\n",
       "      <td>White Christmas</td>\n",
       "      <td>White Christmas</td>\n",
       "      <td>Bing Crosby</td>\n",
       "      <td>Bing Crosby</td>\n",
       "      <td>NaN</td>\n",
       "      <td>86</td>\n",
       "      <td>1</td>\n",
       "      <td>177480.0</td>\n",
       "      <td>69.0</td>\n",
       "      <td>album</td>\n",
       "    </tr>\n",
       "    <tr>\n",
       "      <th>231476</th>\n",
       "      <td>1958-12-15</td>\n",
       "      <td>1986-01-01</td>\n",
       "      <td>83</td>\n",
       "      <td>Run Rudolph Run</td>\n",
       "      <td>Run Rudolph Run - Single Version</td>\n",
       "      <td>Chuck Berry</td>\n",
       "      <td>Chuck Berry</td>\n",
       "      <td>NaN</td>\n",
       "      <td>83</td>\n",
       "      <td>1</td>\n",
       "      <td>165733.0</td>\n",
       "      <td>70.0</td>\n",
       "      <td>album</td>\n",
       "    </tr>\n",
       "  </tbody>\n",
       "</table>\n",
       "<p>231477 rows × 13 columns</p>\n",
       "</div>"
      ],
      "text/plain": [
       "              date release_date  rank              song  \\\n",
       "0       2021-11-06   2021-10-14     1        Easy On Me   \n",
       "1       2021-11-06   2021-07-09     2              Stay   \n",
       "2       2021-11-06   2021-07-23     3     Industry Baby   \n",
       "3       2021-11-06   2021-06-04     4        Fancy Like   \n",
       "4       2021-11-06   2021-10-29     5        Bad Habits   \n",
       "...            ...          ...   ...               ...   \n",
       "231472  1958-12-29   1986-01-01    69   Run Rudolph Run   \n",
       "231473  1958-12-22   1957-12-02    57  Jingle Bell Rock   \n",
       "231474  1958-12-22   1986-01-01    73   Run Rudolph Run   \n",
       "231475  1958-12-22   1942-01-01    86   White Christmas   \n",
       "231476  1958-12-15   1986-01-01    83   Run Rudolph Run   \n",
       "\n",
       "                               match_song                         artist  \\\n",
       "0                              Easy On Me                          Adele   \n",
       "1               STAY (with Justin Bieber)  The Kid LAROI & Justin Bieber   \n",
       "2       INDUSTRY BABY (feat. Jack Harlow)        Lil Nas X & Jack Harlow   \n",
       "3                              Fancy Like                   Walker Hayes   \n",
       "4                              Bad Habits                     Ed Sheeran   \n",
       "...                                   ...                            ...   \n",
       "231472   Run Rudolph Run - Single Version                    Chuck Berry   \n",
       "231473                   Jingle Bell Rock                    Bobby Helms   \n",
       "231474   Run Rudolph Run - Single Version                    Chuck Berry   \n",
       "231475                    White Christmas                    Bing Crosby   \n",
       "231476   Run Rudolph Run - Single Version                    Chuck Berry   \n",
       "\n",
       "         match_artist  last-week  peak-rank  weeks-on-board  duration_ms  \\\n",
       "0               Adele        1.0          1               3     224694.0   \n",
       "1       The Kid LAROI        2.0          1              16     141805.0   \n",
       "2           Lil Nas X        3.0          1              14     212000.0   \n",
       "3        Walker Hayes        4.0          3              19     161853.0   \n",
       "4          Ed Sheeran        5.0          2              18     230746.0   \n",
       "...               ...        ...        ...             ...          ...   \n",
       "231472    Chuck Berry       73.0         69               3     165733.0   \n",
       "231473    Bobby Helms        NaN         57               1     130973.0   \n",
       "231474    Chuck Berry       83.0         73               2     165733.0   \n",
       "231475    Bing Crosby        NaN         86               1     177480.0   \n",
       "231476    Chuck Berry        NaN         83               1     165733.0   \n",
       "\n",
       "        spotify_popularity album_type  \n",
       "0                     95.0     single  \n",
       "1                     96.0     single  \n",
       "2                     95.0     single  \n",
       "3                     81.0     single  \n",
       "4                     95.0      album  \n",
       "...                    ...        ...  \n",
       "231472                70.0      album  \n",
       "231473                77.0     single  \n",
       "231474                70.0      album  \n",
       "231475                69.0      album  \n",
       "231476                70.0      album  \n",
       "\n",
       "[231477 rows x 13 columns]"
      ]
     },
     "execution_count": 10,
     "metadata": {},
     "output_type": "execute_result"
    }
   ],
   "source": [
    "final_clean.reset_index(drop=True)"
   ]
  },
  {
   "cell_type": "code",
   "execution_count": 20,
   "metadata": {},
   "outputs": [],
   "source": [
    "#final[[\"date\",\"release_date\",\"rank\",\"song\",\"match_song\",\"artist\",\"match_artist\",\"last-week\",\"peak-rank\",\"weeks-on-board\",\"duration_ms\",\"spotify_popularity\",\"album_type\"]]"
   ]
  },
  {
   "cell_type": "code",
   "execution_count": 11,
   "metadata": {},
   "outputs": [
    {
     "name": "stderr",
     "output_type": "stream",
     "text": [
      "/var/folders/5n/qk5gndxn7k19r8b5gd8_w74w0000gn/T/ipykernel_2079/3553987226.py:1: SettingWithCopyWarning: \n",
      "A value is trying to be set on a copy of a slice from a DataFrame.\n",
      "Try using .loc[row_indexer,col_indexer] = value instead\n",
      "\n",
      "See the caveats in the documentation: https://pandas.pydata.org/pandas-docs/stable/user_guide/indexing.html#returning-a-view-versus-a-copy\n",
      "  final_clean[\"date\"]= pd.to_datetime(final_clean[\"date\"])\n"
     ]
    }
   ],
   "source": [
    "final_clean[\"date\"]= pd.to_datetime(final_clean[\"date\"])"
   ]
  },
  {
   "cell_type": "code",
   "execution_count": 12,
   "metadata": {},
   "outputs": [
    {
     "name": "stdout",
     "output_type": "stream",
     "text": [
      "<class 'pandas.core.frame.DataFrame'>\n",
      "Int64Index: 231477 entries, 0 to 328169\n",
      "Data columns (total 13 columns):\n",
      " #   Column              Non-Null Count   Dtype         \n",
      "---  ------              --------------   -----         \n",
      " 0   date                231477 non-null  datetime64[ns]\n",
      " 1   release_date        231477 non-null  object        \n",
      " 2   rank                231477 non-null  int64         \n",
      " 3   song                231477 non-null  object        \n",
      " 4   match_song          231477 non-null  object        \n",
      " 5   artist              231477 non-null  object        \n",
      " 6   match_artist        231477 non-null  object        \n",
      " 7   last-week           211349 non-null  float64       \n",
      " 8   peak-rank           231477 non-null  int64         \n",
      " 9   weeks-on-board      231477 non-null  int64         \n",
      " 10  duration_ms         231477 non-null  float64       \n",
      " 11  spotify_popularity  231477 non-null  float64       \n",
      " 12  album_type          231477 non-null  object        \n",
      "dtypes: datetime64[ns](1), float64(3), int64(3), object(6)\n",
      "memory usage: 24.7+ MB\n"
     ]
    }
   ],
   "source": [
    "final_clean.info()"
   ]
  },
  {
   "cell_type": "code",
   "execution_count": 49,
   "metadata": {},
   "outputs": [],
   "source": [
    "#Through_The_Wire =final_clean[(final[\"primary_artist\"] == \"Kanye West\") & (final_clean[\"song\"] == \"Through The Wire\")]"
   ]
  },
  {
   "cell_type": "code",
   "execution_count": 13,
   "metadata": {},
   "outputs": [],
   "source": [
    "def cal_score(x):\n",
    "    return 101-x"
   ]
  },
  {
   "cell_type": "code",
   "execution_count": 14,
   "metadata": {},
   "outputs": [
    {
     "name": "stderr",
     "output_type": "stream",
     "text": [
      "/var/folders/5n/qk5gndxn7k19r8b5gd8_w74w0000gn/T/ipykernel_2079/4279804268.py:1: SettingWithCopyWarning: \n",
      "A value is trying to be set on a copy of a slice from a DataFrame.\n",
      "Try using .loc[row_indexer,col_indexer] = value instead\n",
      "\n",
      "See the caveats in the documentation: https://pandas.pydata.org/pandas-docs/stable/user_guide/indexing.html#returning-a-view-versus-a-copy\n",
      "  final_clean[\"score\"]= final_clean[\"rank\"].apply(cal_score)\n"
     ]
    }
   ],
   "source": [
    "final_clean[\"score\"]= final_clean[\"rank\"].apply(cal_score)"
   ]
  },
  {
   "cell_type": "code",
   "execution_count": 15,
   "metadata": {},
   "outputs": [
    {
     "data": {
      "text/html": [
       "<div>\n",
       "<style scoped>\n",
       "    .dataframe tbody tr th:only-of-type {\n",
       "        vertical-align: middle;\n",
       "    }\n",
       "\n",
       "    .dataframe tbody tr th {\n",
       "        vertical-align: top;\n",
       "    }\n",
       "\n",
       "    .dataframe thead th {\n",
       "        text-align: right;\n",
       "    }\n",
       "</style>\n",
       "<table border=\"1\" class=\"dataframe\">\n",
       "  <thead>\n",
       "    <tr style=\"text-align: right;\">\n",
       "      <th></th>\n",
       "      <th>date</th>\n",
       "      <th>release_date</th>\n",
       "      <th>rank</th>\n",
       "      <th>song</th>\n",
       "      <th>match_song</th>\n",
       "      <th>artist</th>\n",
       "      <th>match_artist</th>\n",
       "      <th>last-week</th>\n",
       "      <th>peak-rank</th>\n",
       "      <th>weeks-on-board</th>\n",
       "      <th>duration_ms</th>\n",
       "      <th>spotify_popularity</th>\n",
       "      <th>album_type</th>\n",
       "      <th>score</th>\n",
       "    </tr>\n",
       "  </thead>\n",
       "  <tbody>\n",
       "    <tr>\n",
       "      <th>0</th>\n",
       "      <td>2021-11-06</td>\n",
       "      <td>2021-10-14</td>\n",
       "      <td>1</td>\n",
       "      <td>Easy On Me</td>\n",
       "      <td>Easy On Me</td>\n",
       "      <td>Adele</td>\n",
       "      <td>Adele</td>\n",
       "      <td>1.0</td>\n",
       "      <td>1</td>\n",
       "      <td>3</td>\n",
       "      <td>224694.0</td>\n",
       "      <td>95.0</td>\n",
       "      <td>single</td>\n",
       "      <td>100</td>\n",
       "    </tr>\n",
       "    <tr>\n",
       "      <th>1</th>\n",
       "      <td>2021-11-06</td>\n",
       "      <td>2021-07-09</td>\n",
       "      <td>2</td>\n",
       "      <td>Stay</td>\n",
       "      <td>STAY (with Justin Bieber)</td>\n",
       "      <td>The Kid LAROI &amp; Justin Bieber</td>\n",
       "      <td>The Kid LAROI</td>\n",
       "      <td>2.0</td>\n",
       "      <td>1</td>\n",
       "      <td>16</td>\n",
       "      <td>141805.0</td>\n",
       "      <td>96.0</td>\n",
       "      <td>single</td>\n",
       "      <td>99</td>\n",
       "    </tr>\n",
       "    <tr>\n",
       "      <th>2</th>\n",
       "      <td>2021-11-06</td>\n",
       "      <td>2021-07-23</td>\n",
       "      <td>3</td>\n",
       "      <td>Industry Baby</td>\n",
       "      <td>INDUSTRY BABY (feat. Jack Harlow)</td>\n",
       "      <td>Lil Nas X &amp; Jack Harlow</td>\n",
       "      <td>Lil Nas X</td>\n",
       "      <td>3.0</td>\n",
       "      <td>1</td>\n",
       "      <td>14</td>\n",
       "      <td>212000.0</td>\n",
       "      <td>95.0</td>\n",
       "      <td>single</td>\n",
       "      <td>98</td>\n",
       "    </tr>\n",
       "    <tr>\n",
       "      <th>3</th>\n",
       "      <td>2021-11-06</td>\n",
       "      <td>2021-06-04</td>\n",
       "      <td>4</td>\n",
       "      <td>Fancy Like</td>\n",
       "      <td>Fancy Like</td>\n",
       "      <td>Walker Hayes</td>\n",
       "      <td>Walker Hayes</td>\n",
       "      <td>4.0</td>\n",
       "      <td>3</td>\n",
       "      <td>19</td>\n",
       "      <td>161853.0</td>\n",
       "      <td>81.0</td>\n",
       "      <td>single</td>\n",
       "      <td>97</td>\n",
       "    </tr>\n",
       "    <tr>\n",
       "      <th>4</th>\n",
       "      <td>2021-11-06</td>\n",
       "      <td>2021-10-29</td>\n",
       "      <td>5</td>\n",
       "      <td>Bad Habits</td>\n",
       "      <td>Bad Habits</td>\n",
       "      <td>Ed Sheeran</td>\n",
       "      <td>Ed Sheeran</td>\n",
       "      <td>5.0</td>\n",
       "      <td>2</td>\n",
       "      <td>18</td>\n",
       "      <td>230746.0</td>\n",
       "      <td>95.0</td>\n",
       "      <td>album</td>\n",
       "      <td>96</td>\n",
       "    </tr>\n",
       "    <tr>\n",
       "      <th>5</th>\n",
       "      <td>2021-11-06</td>\n",
       "      <td>2021-09-03</td>\n",
       "      <td>6</td>\n",
       "      <td>Way 2 Sexy</td>\n",
       "      <td>Way 2 Sexy (with Future &amp; Young Thug)</td>\n",
       "      <td>Drake Featuring Future &amp; Young Thug</td>\n",
       "      <td>Drake</td>\n",
       "      <td>6.0</td>\n",
       "      <td>1</td>\n",
       "      <td>8</td>\n",
       "      <td>257604.0</td>\n",
       "      <td>88.0</td>\n",
       "      <td>album</td>\n",
       "      <td>95</td>\n",
       "    </tr>\n",
       "    <tr>\n",
       "      <th>6</th>\n",
       "      <td>2021-11-06</td>\n",
       "      <td>2021-10-29</td>\n",
       "      <td>7</td>\n",
       "      <td>Shivers</td>\n",
       "      <td>Shivers</td>\n",
       "      <td>Ed Sheeran</td>\n",
       "      <td>Ed Sheeran</td>\n",
       "      <td>9.0</td>\n",
       "      <td>7</td>\n",
       "      <td>7</td>\n",
       "      <td>207853.0</td>\n",
       "      <td>95.0</td>\n",
       "      <td>album</td>\n",
       "      <td>94</td>\n",
       "    </tr>\n",
       "    <tr>\n",
       "      <th>7</th>\n",
       "      <td>2021-11-06</td>\n",
       "      <td>2021-05-21</td>\n",
       "      <td>8</td>\n",
       "      <td>Good 4 U</td>\n",
       "      <td>good 4 u</td>\n",
       "      <td>Olivia Rodrigo</td>\n",
       "      <td>Olivia Rodrigo</td>\n",
       "      <td>7.0</td>\n",
       "      <td>1</td>\n",
       "      <td>24</td>\n",
       "      <td>178146.0</td>\n",
       "      <td>95.0</td>\n",
       "      <td>album</td>\n",
       "      <td>93</td>\n",
       "    </tr>\n",
       "    <tr>\n",
       "      <th>8</th>\n",
       "      <td>2021-11-06</td>\n",
       "      <td>2021-06-25</td>\n",
       "      <td>9</td>\n",
       "      <td>Need To Know</td>\n",
       "      <td>Need to Know</td>\n",
       "      <td>Doja Cat</td>\n",
       "      <td>Doja Cat</td>\n",
       "      <td>11.0</td>\n",
       "      <td>9</td>\n",
       "      <td>20</td>\n",
       "      <td>210560.0</td>\n",
       "      <td>93.0</td>\n",
       "      <td>album</td>\n",
       "      <td>92</td>\n",
       "    </tr>\n",
       "    <tr>\n",
       "      <th>9</th>\n",
       "      <td>2021-11-06</td>\n",
       "      <td>2020-03-27</td>\n",
       "      <td>10</td>\n",
       "      <td>Levitating</td>\n",
       "      <td>Levitating (feat. DaBaby)</td>\n",
       "      <td>Dua Lipa</td>\n",
       "      <td>Dua Lipa</td>\n",
       "      <td>8.0</td>\n",
       "      <td>2</td>\n",
       "      <td>56</td>\n",
       "      <td>203064.0</td>\n",
       "      <td>89.0</td>\n",
       "      <td>album</td>\n",
       "      <td>91</td>\n",
       "    </tr>\n",
       "    <tr>\n",
       "      <th>10</th>\n",
       "      <td>2021-11-06</td>\n",
       "      <td>2020-10-29</td>\n",
       "      <td>11</td>\n",
       "      <td>Essence</td>\n",
       "      <td>Essence (feat. Tems)</td>\n",
       "      <td>Wizkid Featuring Justin Bieber &amp; Tems</td>\n",
       "      <td>WizKid</td>\n",
       "      <td>12.0</td>\n",
       "      <td>9</td>\n",
       "      <td>17</td>\n",
       "      <td>248040.0</td>\n",
       "      <td>79.0</td>\n",
       "      <td>album</td>\n",
       "      <td>90</td>\n",
       "    </tr>\n",
       "    <tr>\n",
       "      <th>11</th>\n",
       "      <td>2021-11-06</td>\n",
       "      <td>2021-04-09</td>\n",
       "      <td>12</td>\n",
       "      <td>Kiss Me More</td>\n",
       "      <td>Kiss Me More (feat. SZA)</td>\n",
       "      <td>Doja Cat Featuring SZA</td>\n",
       "      <td>Doja Cat</td>\n",
       "      <td>10.0</td>\n",
       "      <td>3</td>\n",
       "      <td>29</td>\n",
       "      <td>208866.0</td>\n",
       "      <td>89.0</td>\n",
       "      <td>single</td>\n",
       "      <td>89</td>\n",
       "    </tr>\n",
       "    <tr>\n",
       "      <th>12</th>\n",
       "      <td>2021-11-06</td>\n",
       "      <td>2020-08-07</td>\n",
       "      <td>13</td>\n",
       "      <td>Heat Waves</td>\n",
       "      <td>Heat Waves</td>\n",
       "      <td>Glass Animals</td>\n",
       "      <td>Glass Animals</td>\n",
       "      <td>14.0</td>\n",
       "      <td>12</td>\n",
       "      <td>41</td>\n",
       "      <td>238805.0</td>\n",
       "      <td>91.0</td>\n",
       "      <td>album</td>\n",
       "      <td>88</td>\n",
       "    </tr>\n",
       "    <tr>\n",
       "      <th>13</th>\n",
       "      <td>2021-11-06</td>\n",
       "      <td>2017-12-08</td>\n",
       "      <td>14</td>\n",
       "      <td>Beggin'</td>\n",
       "      <td>Beggin'</td>\n",
       "      <td>Maneskin</td>\n",
       "      <td>Måneskin</td>\n",
       "      <td>15.0</td>\n",
       "      <td>14</td>\n",
       "      <td>18</td>\n",
       "      <td>211560.0</td>\n",
       "      <td>92.0</td>\n",
       "      <td>album</td>\n",
       "      <td>87</td>\n",
       "    </tr>\n",
       "    <tr>\n",
       "      <th>14</th>\n",
       "      <td>2021-11-06</td>\n",
       "      <td>2021-08-13</td>\n",
       "      <td>15</td>\n",
       "      <td>Cold Heart (PNAU Remix)</td>\n",
       "      <td>Cold Heart - PNAU Remix</td>\n",
       "      <td>Elton John &amp; Dua Lipa</td>\n",
       "      <td>Elton John</td>\n",
       "      <td>21.0</td>\n",
       "      <td>15</td>\n",
       "      <td>8</td>\n",
       "      <td>202735.0</td>\n",
       "      <td>96.0</td>\n",
       "      <td>single</td>\n",
       "      <td>86</td>\n",
       "    </tr>\n",
       "    <tr>\n",
       "      <th>15</th>\n",
       "      <td>2021-11-06</td>\n",
       "      <td>2021-06-25</td>\n",
       "      <td>16</td>\n",
       "      <td>You Right</td>\n",
       "      <td>You Right</td>\n",
       "      <td>Doja Cat &amp; The Weeknd</td>\n",
       "      <td>Doja Cat</td>\n",
       "      <td>16.0</td>\n",
       "      <td>11</td>\n",
       "      <td>18</td>\n",
       "      <td>186173.0</td>\n",
       "      <td>89.0</td>\n",
       "      <td>album</td>\n",
       "      <td>85</td>\n",
       "    </tr>\n",
       "    <tr>\n",
       "      <th>16</th>\n",
       "      <td>2021-11-06</td>\n",
       "      <td>2021-04-23</td>\n",
       "      <td>17</td>\n",
       "      <td>Save Your Tears</td>\n",
       "      <td>Save Your Tears (with Ariana Grande) (Remix)</td>\n",
       "      <td>The Weeknd &amp; Ariana Grande</td>\n",
       "      <td>The Weeknd</td>\n",
       "      <td>17.0</td>\n",
       "      <td>1</td>\n",
       "      <td>46</td>\n",
       "      <td>191013.0</td>\n",
       "      <td>92.0</td>\n",
       "      <td>single</td>\n",
       "      <td>84</td>\n",
       "    </tr>\n",
       "    <tr>\n",
       "      <th>17</th>\n",
       "      <td>2021-11-06</td>\n",
       "      <td>2021-07-23</td>\n",
       "      <td>18</td>\n",
       "      <td>If I Didn't Love You</td>\n",
       "      <td>If I Didn't Love You</td>\n",
       "      <td>Jason Aldean &amp; Carrie Underwood</td>\n",
       "      <td>Jason Aldean</td>\n",
       "      <td>23.0</td>\n",
       "      <td>15</td>\n",
       "      <td>14</td>\n",
       "      <td>212030.0</td>\n",
       "      <td>74.0</td>\n",
       "      <td>single</td>\n",
       "      <td>83</td>\n",
       "    </tr>\n",
       "    <tr>\n",
       "      <th>18</th>\n",
       "      <td>2021-11-06</td>\n",
       "      <td>2021-05-21</td>\n",
       "      <td>19</td>\n",
       "      <td>Traitor</td>\n",
       "      <td>traitor</td>\n",
       "      <td>Olivia Rodrigo</td>\n",
       "      <td>Olivia Rodrigo</td>\n",
       "      <td>22.0</td>\n",
       "      <td>9</td>\n",
       "      <td>23</td>\n",
       "      <td>229226.0</td>\n",
       "      <td>93.0</td>\n",
       "      <td>album</td>\n",
       "      <td>82</td>\n",
       "    </tr>\n",
       "    <tr>\n",
       "      <th>20</th>\n",
       "      <td>2021-11-06</td>\n",
       "      <td>2021-10-08</td>\n",
       "      <td>21</td>\n",
       "      <td>Who Want Smoke??</td>\n",
       "      <td>Who Want Smoke?? (feat. G Herbo, Lil Durk &amp; 21...</td>\n",
       "      <td>Nardo Wick Featuring G Herbo, Lil Durk &amp; 21 Sa...</td>\n",
       "      <td>Nardo Wick</td>\n",
       "      <td>19.0</td>\n",
       "      <td>17</td>\n",
       "      <td>3</td>\n",
       "      <td>279853.0</td>\n",
       "      <td>81.0</td>\n",
       "      <td>single</td>\n",
       "      <td>80</td>\n",
       "    </tr>\n",
       "    <tr>\n",
       "      <th>21</th>\n",
       "      <td>2021-11-06</td>\n",
       "      <td>2021-09-03</td>\n",
       "      <td>22</td>\n",
       "      <td>Knife Talk</td>\n",
       "      <td>Knife Talk (with 21 Savage ft. Project Pat)</td>\n",
       "      <td>Drake Featuring 21 Savage &amp; Project Pat</td>\n",
       "      <td>Drake</td>\n",
       "      <td>18.0</td>\n",
       "      <td>4</td>\n",
       "      <td>8</td>\n",
       "      <td>242965.0</td>\n",
       "      <td>89.0</td>\n",
       "      <td>album</td>\n",
       "      <td>79</td>\n",
       "    </tr>\n",
       "  </tbody>\n",
       "</table>\n",
       "</div>"
      ],
      "text/plain": [
       "         date release_date  rank                     song  \\\n",
       "0  2021-11-06   2021-10-14     1               Easy On Me   \n",
       "1  2021-11-06   2021-07-09     2                     Stay   \n",
       "2  2021-11-06   2021-07-23     3            Industry Baby   \n",
       "3  2021-11-06   2021-06-04     4               Fancy Like   \n",
       "4  2021-11-06   2021-10-29     5               Bad Habits   \n",
       "5  2021-11-06   2021-09-03     6               Way 2 Sexy   \n",
       "6  2021-11-06   2021-10-29     7                  Shivers   \n",
       "7  2021-11-06   2021-05-21     8                 Good 4 U   \n",
       "8  2021-11-06   2021-06-25     9             Need To Know   \n",
       "9  2021-11-06   2020-03-27    10               Levitating   \n",
       "10 2021-11-06   2020-10-29    11                  Essence   \n",
       "11 2021-11-06   2021-04-09    12             Kiss Me More   \n",
       "12 2021-11-06   2020-08-07    13               Heat Waves   \n",
       "13 2021-11-06   2017-12-08    14                  Beggin'   \n",
       "14 2021-11-06   2021-08-13    15  Cold Heart (PNAU Remix)   \n",
       "15 2021-11-06   2021-06-25    16                You Right   \n",
       "16 2021-11-06   2021-04-23    17          Save Your Tears   \n",
       "17 2021-11-06   2021-07-23    18     If I Didn't Love You   \n",
       "18 2021-11-06   2021-05-21    19                  Traitor   \n",
       "20 2021-11-06   2021-10-08    21         Who Want Smoke??   \n",
       "21 2021-11-06   2021-09-03    22               Knife Talk   \n",
       "\n",
       "                                           match_song  \\\n",
       "0                                          Easy On Me   \n",
       "1                           STAY (with Justin Bieber)   \n",
       "2                   INDUSTRY BABY (feat. Jack Harlow)   \n",
       "3                                          Fancy Like   \n",
       "4                                          Bad Habits   \n",
       "5               Way 2 Sexy (with Future & Young Thug)   \n",
       "6                                             Shivers   \n",
       "7                                            good 4 u   \n",
       "8                                        Need to Know   \n",
       "9                           Levitating (feat. DaBaby)   \n",
       "10                               Essence (feat. Tems)   \n",
       "11                           Kiss Me More (feat. SZA)   \n",
       "12                                         Heat Waves   \n",
       "13                                            Beggin'   \n",
       "14                            Cold Heart - PNAU Remix   \n",
       "15                                          You Right   \n",
       "16       Save Your Tears (with Ariana Grande) (Remix)   \n",
       "17                               If I Didn't Love You   \n",
       "18                                            traitor   \n",
       "20  Who Want Smoke?? (feat. G Herbo, Lil Durk & 21...   \n",
       "21        Knife Talk (with 21 Savage ft. Project Pat)   \n",
       "\n",
       "                                               artist    match_artist  \\\n",
       "0                                               Adele           Adele   \n",
       "1                       The Kid LAROI & Justin Bieber   The Kid LAROI   \n",
       "2                             Lil Nas X & Jack Harlow       Lil Nas X   \n",
       "3                                        Walker Hayes    Walker Hayes   \n",
       "4                                          Ed Sheeran      Ed Sheeran   \n",
       "5                 Drake Featuring Future & Young Thug           Drake   \n",
       "6                                          Ed Sheeran      Ed Sheeran   \n",
       "7                                      Olivia Rodrigo  Olivia Rodrigo   \n",
       "8                                            Doja Cat        Doja Cat   \n",
       "9                                            Dua Lipa        Dua Lipa   \n",
       "10              Wizkid Featuring Justin Bieber & Tems          WizKid   \n",
       "11                             Doja Cat Featuring SZA        Doja Cat   \n",
       "12                                      Glass Animals   Glass Animals   \n",
       "13                                           Maneskin        Måneskin   \n",
       "14                              Elton John & Dua Lipa      Elton John   \n",
       "15                              Doja Cat & The Weeknd        Doja Cat   \n",
       "16                         The Weeknd & Ariana Grande      The Weeknd   \n",
       "17                    Jason Aldean & Carrie Underwood    Jason Aldean   \n",
       "18                                     Olivia Rodrigo  Olivia Rodrigo   \n",
       "20  Nardo Wick Featuring G Herbo, Lil Durk & 21 Sa...      Nardo Wick   \n",
       "21            Drake Featuring 21 Savage & Project Pat           Drake   \n",
       "\n",
       "    last-week  peak-rank  weeks-on-board  duration_ms  spotify_popularity  \\\n",
       "0         1.0          1               3     224694.0                95.0   \n",
       "1         2.0          1              16     141805.0                96.0   \n",
       "2         3.0          1              14     212000.0                95.0   \n",
       "3         4.0          3              19     161853.0                81.0   \n",
       "4         5.0          2              18     230746.0                95.0   \n",
       "5         6.0          1               8     257604.0                88.0   \n",
       "6         9.0          7               7     207853.0                95.0   \n",
       "7         7.0          1              24     178146.0                95.0   \n",
       "8        11.0          9              20     210560.0                93.0   \n",
       "9         8.0          2              56     203064.0                89.0   \n",
       "10       12.0          9              17     248040.0                79.0   \n",
       "11       10.0          3              29     208866.0                89.0   \n",
       "12       14.0         12              41     238805.0                91.0   \n",
       "13       15.0         14              18     211560.0                92.0   \n",
       "14       21.0         15               8     202735.0                96.0   \n",
       "15       16.0         11              18     186173.0                89.0   \n",
       "16       17.0          1              46     191013.0                92.0   \n",
       "17       23.0         15              14     212030.0                74.0   \n",
       "18       22.0          9              23     229226.0                93.0   \n",
       "20       19.0         17               3     279853.0                81.0   \n",
       "21       18.0          4               8     242965.0                89.0   \n",
       "\n",
       "   album_type  score  \n",
       "0      single    100  \n",
       "1      single     99  \n",
       "2      single     98  \n",
       "3      single     97  \n",
       "4       album     96  \n",
       "5       album     95  \n",
       "6       album     94  \n",
       "7       album     93  \n",
       "8       album     92  \n",
       "9       album     91  \n",
       "10      album     90  \n",
       "11     single     89  \n",
       "12      album     88  \n",
       "13      album     87  \n",
       "14     single     86  \n",
       "15      album     85  \n",
       "16     single     84  \n",
       "17     single     83  \n",
       "18      album     82  \n",
       "20     single     80  \n",
       "21      album     79  "
      ]
     },
     "execution_count": 15,
     "metadata": {},
     "output_type": "execute_result"
    }
   ],
   "source": [
    "final_clean.head(21)"
   ]
  },
  {
   "cell_type": "code",
   "execution_count": 46,
   "metadata": {},
   "outputs": [
    {
     "data": {
      "text/plain": [
       "1369"
      ]
     },
     "execution_count": 46,
     "metadata": {},
     "output_type": "execute_result"
    }
   ],
   "source": [
    "final_clean[final_clean[\"song\"] == \"Through The Wire\"][\"score\"].sum()"
   ]
  },
  {
   "cell_type": "code",
   "execution_count": 85,
   "metadata": {},
   "outputs": [
    {
     "data": {
      "text/plain": [
       "date                                                2021-11-06 00:00:00\n",
       "release_date                                                 2021-10-08\n",
       "rank                                                                 21\n",
       "song                                                   Who Want Smoke??\n",
       "match_song            Who Want Smoke?? (feat. G Herbo, Lil Durk & 21...\n",
       "artist                Nardo Wick Featuring G Herbo, Lil Durk & 21 Sa...\n",
       "match_artist                                                 Nardo Wick\n",
       "last-week                                                          19.0\n",
       "peak-rank                                                            17\n",
       "weeks-on-board                                                        3\n",
       "duration_ms                                                    279853.0\n",
       "spotify_popularity                                                 81.0\n",
       "album_type                                                       single\n",
       "score                                                                80\n",
       "total_score                                                         NaN\n",
       "Name: 20, dtype: object"
      ]
     },
     "execution_count": 85,
     "metadata": {},
     "output_type": "execute_result"
    }
   ],
   "source": [
    "final_clean.loc[]"
   ]
  },
  {
   "cell_type": "code",
   "execution_count": 55,
   "metadata": {},
   "outputs": [
    {
     "ename": "KeyError",
     "evalue": "0",
     "output_type": "error",
     "traceback": [
      "\u001b[0;31m---------------------------------------------------------------------------\u001b[0m",
      "\u001b[0;31mKeyError\u001b[0m                                  Traceback (most recent call last)",
      "\u001b[0;32m/usr/local/anaconda3/lib/python3.9/site-packages/pandas/core/indexes/base.py\u001b[0m in \u001b[0;36mget_loc\u001b[0;34m(self, key, method, tolerance)\u001b[0m\n\u001b[1;32m   3360\u001b[0m             \u001b[0;32mtry\u001b[0m\u001b[0;34m:\u001b[0m\u001b[0;34m\u001b[0m\u001b[0;34m\u001b[0m\u001b[0m\n\u001b[0;32m-> 3361\u001b[0;31m                 \u001b[0;32mreturn\u001b[0m \u001b[0mself\u001b[0m\u001b[0;34m.\u001b[0m\u001b[0m_engine\u001b[0m\u001b[0;34m.\u001b[0m\u001b[0mget_loc\u001b[0m\u001b[0;34m(\u001b[0m\u001b[0mcasted_key\u001b[0m\u001b[0;34m)\u001b[0m\u001b[0;34m\u001b[0m\u001b[0;34m\u001b[0m\u001b[0m\n\u001b[0m\u001b[1;32m   3362\u001b[0m             \u001b[0;32mexcept\u001b[0m \u001b[0mKeyError\u001b[0m \u001b[0;32mas\u001b[0m \u001b[0merr\u001b[0m\u001b[0;34m:\u001b[0m\u001b[0;34m\u001b[0m\u001b[0;34m\u001b[0m\u001b[0m\n",
      "\u001b[0;32m/usr/local/anaconda3/lib/python3.9/site-packages/pandas/_libs/index.pyx\u001b[0m in \u001b[0;36mpandas._libs.index.IndexEngine.get_loc\u001b[0;34m()\u001b[0m\n",
      "\u001b[0;32m/usr/local/anaconda3/lib/python3.9/site-packages/pandas/_libs/index.pyx\u001b[0m in \u001b[0;36mpandas._libs.index.IndexEngine.get_loc\u001b[0;34m()\u001b[0m\n",
      "\u001b[0;32mpandas/_libs/hashtable_class_helper.pxi\u001b[0m in \u001b[0;36mpandas._libs.hashtable.PyObjectHashTable.get_item\u001b[0;34m()\u001b[0m\n",
      "\u001b[0;32mpandas/_libs/hashtable_class_helper.pxi\u001b[0m in \u001b[0;36mpandas._libs.hashtable.PyObjectHashTable.get_item\u001b[0;34m()\u001b[0m\n",
      "\u001b[0;31mKeyError\u001b[0m: 0",
      "\nThe above exception was the direct cause of the following exception:\n",
      "\u001b[0;31mKeyError\u001b[0m                                  Traceback (most recent call last)",
      "\u001b[0;32m/var/folders/5n/qk5gndxn7k19r8b5gd8_w74w0000gn/T/ipykernel_1353/2817090163.py\u001b[0m in \u001b[0;36m<module>\u001b[0;34m\u001b[0m\n\u001b[0;32m----> 1\u001b[0;31m \u001b[0mfinal_clean\u001b[0m\u001b[0;34m[\u001b[0m\u001b[0mfinal_clean\u001b[0m\u001b[0;34m[\u001b[0m\u001b[0;34m\"song\"\u001b[0m\u001b[0;34m]\u001b[0m \u001b[0;34m==\u001b[0m \u001b[0mfinal_clean\u001b[0m\u001b[0;34m[\u001b[0m\u001b[0;36m0\u001b[0m\u001b[0;34m]\u001b[0m\u001b[0;34m]\u001b[0m\u001b[0;34m\u001b[0m\u001b[0;34m\u001b[0m\u001b[0m\n\u001b[0m",
      "\u001b[0;32m/usr/local/anaconda3/lib/python3.9/site-packages/pandas/core/frame.py\u001b[0m in \u001b[0;36m__getitem__\u001b[0;34m(self, key)\u001b[0m\n\u001b[1;32m   3456\u001b[0m             \u001b[0;32mif\u001b[0m \u001b[0mself\u001b[0m\u001b[0;34m.\u001b[0m\u001b[0mcolumns\u001b[0m\u001b[0;34m.\u001b[0m\u001b[0mnlevels\u001b[0m \u001b[0;34m>\u001b[0m \u001b[0;36m1\u001b[0m\u001b[0;34m:\u001b[0m\u001b[0;34m\u001b[0m\u001b[0;34m\u001b[0m\u001b[0m\n\u001b[1;32m   3457\u001b[0m                 \u001b[0;32mreturn\u001b[0m \u001b[0mself\u001b[0m\u001b[0;34m.\u001b[0m\u001b[0m_getitem_multilevel\u001b[0m\u001b[0;34m(\u001b[0m\u001b[0mkey\u001b[0m\u001b[0;34m)\u001b[0m\u001b[0;34m\u001b[0m\u001b[0;34m\u001b[0m\u001b[0m\n\u001b[0;32m-> 3458\u001b[0;31m             \u001b[0mindexer\u001b[0m \u001b[0;34m=\u001b[0m \u001b[0mself\u001b[0m\u001b[0;34m.\u001b[0m\u001b[0mcolumns\u001b[0m\u001b[0;34m.\u001b[0m\u001b[0mget_loc\u001b[0m\u001b[0;34m(\u001b[0m\u001b[0mkey\u001b[0m\u001b[0;34m)\u001b[0m\u001b[0;34m\u001b[0m\u001b[0;34m\u001b[0m\u001b[0m\n\u001b[0m\u001b[1;32m   3459\u001b[0m             \u001b[0;32mif\u001b[0m \u001b[0mis_integer\u001b[0m\u001b[0;34m(\u001b[0m\u001b[0mindexer\u001b[0m\u001b[0;34m)\u001b[0m\u001b[0;34m:\u001b[0m\u001b[0;34m\u001b[0m\u001b[0;34m\u001b[0m\u001b[0m\n\u001b[1;32m   3460\u001b[0m                 \u001b[0mindexer\u001b[0m \u001b[0;34m=\u001b[0m \u001b[0;34m[\u001b[0m\u001b[0mindexer\u001b[0m\u001b[0;34m]\u001b[0m\u001b[0;34m\u001b[0m\u001b[0;34m\u001b[0m\u001b[0m\n",
      "\u001b[0;32m/usr/local/anaconda3/lib/python3.9/site-packages/pandas/core/indexes/base.py\u001b[0m in \u001b[0;36mget_loc\u001b[0;34m(self, key, method, tolerance)\u001b[0m\n\u001b[1;32m   3361\u001b[0m                 \u001b[0;32mreturn\u001b[0m \u001b[0mself\u001b[0m\u001b[0;34m.\u001b[0m\u001b[0m_engine\u001b[0m\u001b[0;34m.\u001b[0m\u001b[0mget_loc\u001b[0m\u001b[0;34m(\u001b[0m\u001b[0mcasted_key\u001b[0m\u001b[0;34m)\u001b[0m\u001b[0;34m\u001b[0m\u001b[0;34m\u001b[0m\u001b[0m\n\u001b[1;32m   3362\u001b[0m             \u001b[0;32mexcept\u001b[0m \u001b[0mKeyError\u001b[0m \u001b[0;32mas\u001b[0m \u001b[0merr\u001b[0m\u001b[0;34m:\u001b[0m\u001b[0;34m\u001b[0m\u001b[0;34m\u001b[0m\u001b[0m\n\u001b[0;32m-> 3363\u001b[0;31m                 \u001b[0;32mraise\u001b[0m \u001b[0mKeyError\u001b[0m\u001b[0;34m(\u001b[0m\u001b[0mkey\u001b[0m\u001b[0;34m)\u001b[0m \u001b[0;32mfrom\u001b[0m \u001b[0merr\u001b[0m\u001b[0;34m\u001b[0m\u001b[0;34m\u001b[0m\u001b[0m\n\u001b[0m\u001b[1;32m   3364\u001b[0m \u001b[0;34m\u001b[0m\u001b[0m\n\u001b[1;32m   3365\u001b[0m         \u001b[0;32mif\u001b[0m \u001b[0mis_scalar\u001b[0m\u001b[0;34m(\u001b[0m\u001b[0mkey\u001b[0m\u001b[0;34m)\u001b[0m \u001b[0;32mand\u001b[0m \u001b[0misna\u001b[0m\u001b[0;34m(\u001b[0m\u001b[0mkey\u001b[0m\u001b[0;34m)\u001b[0m \u001b[0;32mand\u001b[0m \u001b[0;32mnot\u001b[0m \u001b[0mself\u001b[0m\u001b[0;34m.\u001b[0m\u001b[0mhasnans\u001b[0m\u001b[0;34m:\u001b[0m\u001b[0;34m\u001b[0m\u001b[0;34m\u001b[0m\u001b[0m\n",
      "\u001b[0;31mKeyError\u001b[0m: 0"
     ]
    }
   ],
   "source": [
    "final_clean[final_clean[\"song\"] == final_clean[0]]"
   ]
  },
  {
   "cell_type": "code",
   "execution_count": 22,
   "metadata": {},
   "outputs": [],
   "source": [
    "def total_score(x):\n",
    "    if final_clean[final_clean[\"song\"] == final_clean.loc[x,\"song\"]][\"score\"] != None:\n",
    "        final_clean.loc[x ,\"total_score\"] = final_clean[final_clean[\"song\"] == final_clean.loc[x,\"song\"]][\"score\"].sum()\n",
    "    \n",
    "    "
   ]
  },
  {
   "cell_type": "code",
   "execution_count": 23,
   "metadata": {},
   "outputs": [
    {
     "ename": "ValueError",
     "evalue": "The truth value of a Series is ambiguous. Use a.empty, a.bool(), a.item(), a.any() or a.all().",
     "output_type": "error",
     "traceback": [
      "\u001b[0;31m---------------------------------------------------------------------------\u001b[0m",
      "\u001b[0;31mValueError\u001b[0m                                Traceback (most recent call last)",
      "\u001b[0;32m/var/folders/5n/qk5gndxn7k19r8b5gd8_w74w0000gn/T/ipykernel_2079/276268553.py\u001b[0m in \u001b[0;36m<module>\u001b[0;34m\u001b[0m\n\u001b[1;32m      1\u001b[0m \u001b[0;32mfor\u001b[0m \u001b[0mi\u001b[0m \u001b[0;32min\u001b[0m \u001b[0mrange\u001b[0m\u001b[0;34m(\u001b[0m\u001b[0mlen\u001b[0m\u001b[0;34m(\u001b[0m\u001b[0mfinal_clean\u001b[0m\u001b[0;34m)\u001b[0m\u001b[0;34m)\u001b[0m\u001b[0;34m:\u001b[0m\u001b[0;34m\u001b[0m\u001b[0;34m\u001b[0m\u001b[0m\n\u001b[0;32m----> 2\u001b[0;31m     \u001b[0mtotal_score\u001b[0m\u001b[0;34m(\u001b[0m\u001b[0mi\u001b[0m\u001b[0;34m)\u001b[0m\u001b[0;34m\u001b[0m\u001b[0;34m\u001b[0m\u001b[0m\n\u001b[0m",
      "\u001b[0;32m/var/folders/5n/qk5gndxn7k19r8b5gd8_w74w0000gn/T/ipykernel_2079/81930498.py\u001b[0m in \u001b[0;36mtotal_score\u001b[0;34m(x)\u001b[0m\n\u001b[1;32m      1\u001b[0m \u001b[0;32mdef\u001b[0m \u001b[0mtotal_score\u001b[0m\u001b[0;34m(\u001b[0m\u001b[0mx\u001b[0m\u001b[0;34m)\u001b[0m\u001b[0;34m:\u001b[0m\u001b[0;34m\u001b[0m\u001b[0;34m\u001b[0m\u001b[0m\n\u001b[0;32m----> 2\u001b[0;31m     \u001b[0;32mif\u001b[0m \u001b[0mfinal_clean\u001b[0m\u001b[0;34m[\u001b[0m\u001b[0mfinal_clean\u001b[0m\u001b[0;34m[\u001b[0m\u001b[0;34m\"song\"\u001b[0m\u001b[0;34m]\u001b[0m \u001b[0;34m==\u001b[0m \u001b[0mfinal_clean\u001b[0m\u001b[0;34m.\u001b[0m\u001b[0mloc\u001b[0m\u001b[0;34m[\u001b[0m\u001b[0mx\u001b[0m\u001b[0;34m,\u001b[0m\u001b[0;34m\"song\"\u001b[0m\u001b[0;34m]\u001b[0m\u001b[0;34m]\u001b[0m\u001b[0;34m[\u001b[0m\u001b[0;34m\"score\"\u001b[0m\u001b[0;34m]\u001b[0m \u001b[0;34m!=\u001b[0m \u001b[0;32mNone\u001b[0m\u001b[0;34m:\u001b[0m\u001b[0;34m\u001b[0m\u001b[0;34m\u001b[0m\u001b[0m\n\u001b[0m\u001b[1;32m      3\u001b[0m         \u001b[0mfinal_clean\u001b[0m\u001b[0;34m.\u001b[0m\u001b[0mloc\u001b[0m\u001b[0;34m[\u001b[0m\u001b[0mx\u001b[0m \u001b[0;34m,\u001b[0m\u001b[0;34m\"total_score\"\u001b[0m\u001b[0;34m]\u001b[0m \u001b[0;34m=\u001b[0m \u001b[0mfinal_clean\u001b[0m\u001b[0;34m[\u001b[0m\u001b[0mfinal_clean\u001b[0m\u001b[0;34m[\u001b[0m\u001b[0;34m\"song\"\u001b[0m\u001b[0;34m]\u001b[0m \u001b[0;34m==\u001b[0m \u001b[0mfinal_clean\u001b[0m\u001b[0;34m.\u001b[0m\u001b[0mloc\u001b[0m\u001b[0;34m[\u001b[0m\u001b[0mx\u001b[0m\u001b[0;34m,\u001b[0m\u001b[0;34m\"song\"\u001b[0m\u001b[0;34m]\u001b[0m\u001b[0;34m]\u001b[0m\u001b[0;34m[\u001b[0m\u001b[0;34m\"score\"\u001b[0m\u001b[0;34m]\u001b[0m\u001b[0;34m.\u001b[0m\u001b[0msum\u001b[0m\u001b[0;34m(\u001b[0m\u001b[0;34m)\u001b[0m\u001b[0;34m\u001b[0m\u001b[0;34m\u001b[0m\u001b[0m\n\u001b[1;32m      4\u001b[0m \u001b[0;34m\u001b[0m\u001b[0m\n\u001b[1;32m      5\u001b[0m \u001b[0;34m\u001b[0m\u001b[0m\n",
      "\u001b[0;32m/usr/local/anaconda3/lib/python3.9/site-packages/pandas/core/generic.py\u001b[0m in \u001b[0;36m__nonzero__\u001b[0;34m(self)\u001b[0m\n\u001b[1;32m   1535\u001b[0m     \u001b[0;34m@\u001b[0m\u001b[0mfinal\u001b[0m\u001b[0;34m\u001b[0m\u001b[0;34m\u001b[0m\u001b[0m\n\u001b[1;32m   1536\u001b[0m     \u001b[0;32mdef\u001b[0m \u001b[0m__nonzero__\u001b[0m\u001b[0;34m(\u001b[0m\u001b[0mself\u001b[0m\u001b[0;34m)\u001b[0m\u001b[0;34m:\u001b[0m\u001b[0;34m\u001b[0m\u001b[0;34m\u001b[0m\u001b[0m\n\u001b[0;32m-> 1537\u001b[0;31m         raise ValueError(\n\u001b[0m\u001b[1;32m   1538\u001b[0m             \u001b[0;34mf\"The truth value of a {type(self).__name__} is ambiguous. \"\u001b[0m\u001b[0;34m\u001b[0m\u001b[0;34m\u001b[0m\u001b[0m\n\u001b[1;32m   1539\u001b[0m             \u001b[0;34m\"Use a.empty, a.bool(), a.item(), a.any() or a.all().\"\u001b[0m\u001b[0;34m\u001b[0m\u001b[0;34m\u001b[0m\u001b[0m\n",
      "\u001b[0;31mValueError\u001b[0m: The truth value of a Series is ambiguous. Use a.empty, a.bool(), a.item(), a.any() or a.all()."
     ]
    }
   ],
   "source": [
    "for i in range(len(final_clean)):\n",
    "    total_score(i)"
   ]
  },
  {
   "cell_type": "code",
   "execution_count": 62,
   "metadata": {},
   "outputs": [
    {
     "data": {
      "text/plain": [
       "21"
      ]
     },
     "execution_count": 62,
     "metadata": {},
     "output_type": "execute_result"
    }
   ],
   "source": [
    "Through_The_Wire[\"song\"].count()"
   ]
  },
  {
   "cell_type": "code",
   "execution_count": 63,
   "metadata": {},
   "outputs": [
    {
     "name": "stderr",
     "output_type": "stream",
     "text": [
      "D:\\Users\\Alfaisal\\Anaconda3\\lib\\site-packages\\ipykernel_launcher.py:1: SettingWithCopyWarning: \n",
      "A value is trying to be set on a copy of a slice from a DataFrame.\n",
      "Try using .loc[row_indexer,col_indexer] = value instead\n",
      "\n",
      "See the caveats in the documentation: https://pandas.pydata.org/pandas-docs/stable/user_guide/indexing.html#returning-a-view-versus-a-copy\n",
      "  \"\"\"Entry point for launching an IPython kernel.\n"
     ]
    }
   ],
   "source": [
    "Through_The_Wire[\"socre_percentage\"] = Through_The_Wire[\"total_score\"] / Through_The_Wire[\"song\"].count()"
   ]
  },
  {
   "cell_type": "code",
   "execution_count": 24,
   "metadata": {},
   "outputs": [
    {
     "data": {
      "application/vnd.plotly.v1+json": {
       "config": {
        "plotlyServerURL": "https://plot.ly"
       },
       "data": [
        {
         "alignmentgroup": "True",
         "hovertemplate": "date=%{x}<br>score=%{y}<extra></extra>",
         "legendgroup": "",
         "marker": {
          "color": "#636efa",
          "pattern": {
           "shape": ""
          }
         },
         "name": "",
         "offsetgroup": "",
         "orientation": "v",
         "showlegend": false,
         "textposition": "auto",
         "type": "bar",
         "x": [
          "2004-04-17T00:00:00",
          "2004-04-10T00:00:00",
          "2004-04-03T00:00:00",
          "2004-03-27T00:00:00",
          "2004-03-20T00:00:00",
          "2004-03-13T00:00:00",
          "2004-03-06T00:00:00",
          "2004-02-28T00:00:00",
          "2004-02-21T00:00:00",
          "2004-02-14T00:00:00",
          "2004-02-07T00:00:00",
          "2004-01-31T00:00:00",
          "2004-01-24T00:00:00",
          "2004-01-17T00:00:00",
          "2004-01-10T00:00:00",
          "2004-01-03T00:00:00",
          "2003-12-27T00:00:00",
          "2003-12-20T00:00:00",
          "2003-12-13T00:00:00",
          "2003-12-06T00:00:00",
          "2003-11-29T00:00:00"
         ],
         "xaxis": "x",
         "y": [
          54,
          59,
          63,
          75,
          81,
          86,
          86,
          86,
          86,
          86,
          85,
          82,
          75,
          70,
          70,
          68,
          62,
          49,
          27,
          12,
          7
         ],
         "yaxis": "y"
        }
       ],
       "layout": {
        "barmode": "relative",
        "legend": {
         "tracegroupgap": 0
        },
        "margin": {
         "t": 60
        },
        "template": {
         "data": {
          "bar": [
           {
            "error_x": {
             "color": "#2a3f5f"
            },
            "error_y": {
             "color": "#2a3f5f"
            },
            "marker": {
             "line": {
              "color": "#E5ECF6",
              "width": 0.5
             },
             "pattern": {
              "fillmode": "overlay",
              "size": 10,
              "solidity": 0.2
             }
            },
            "type": "bar"
           }
          ],
          "barpolar": [
           {
            "marker": {
             "line": {
              "color": "#E5ECF6",
              "width": 0.5
             },
             "pattern": {
              "fillmode": "overlay",
              "size": 10,
              "solidity": 0.2
             }
            },
            "type": "barpolar"
           }
          ],
          "carpet": [
           {
            "aaxis": {
             "endlinecolor": "#2a3f5f",
             "gridcolor": "white",
             "linecolor": "white",
             "minorgridcolor": "white",
             "startlinecolor": "#2a3f5f"
            },
            "baxis": {
             "endlinecolor": "#2a3f5f",
             "gridcolor": "white",
             "linecolor": "white",
             "minorgridcolor": "white",
             "startlinecolor": "#2a3f5f"
            },
            "type": "carpet"
           }
          ],
          "choropleth": [
           {
            "colorbar": {
             "outlinewidth": 0,
             "ticks": ""
            },
            "type": "choropleth"
           }
          ],
          "contour": [
           {
            "colorbar": {
             "outlinewidth": 0,
             "ticks": ""
            },
            "colorscale": [
             [
              0,
              "#0d0887"
             ],
             [
              0.1111111111111111,
              "#46039f"
             ],
             [
              0.2222222222222222,
              "#7201a8"
             ],
             [
              0.3333333333333333,
              "#9c179e"
             ],
             [
              0.4444444444444444,
              "#bd3786"
             ],
             [
              0.5555555555555556,
              "#d8576b"
             ],
             [
              0.6666666666666666,
              "#ed7953"
             ],
             [
              0.7777777777777778,
              "#fb9f3a"
             ],
             [
              0.8888888888888888,
              "#fdca26"
             ],
             [
              1,
              "#f0f921"
             ]
            ],
            "type": "contour"
           }
          ],
          "contourcarpet": [
           {
            "colorbar": {
             "outlinewidth": 0,
             "ticks": ""
            },
            "type": "contourcarpet"
           }
          ],
          "heatmap": [
           {
            "colorbar": {
             "outlinewidth": 0,
             "ticks": ""
            },
            "colorscale": [
             [
              0,
              "#0d0887"
             ],
             [
              0.1111111111111111,
              "#46039f"
             ],
             [
              0.2222222222222222,
              "#7201a8"
             ],
             [
              0.3333333333333333,
              "#9c179e"
             ],
             [
              0.4444444444444444,
              "#bd3786"
             ],
             [
              0.5555555555555556,
              "#d8576b"
             ],
             [
              0.6666666666666666,
              "#ed7953"
             ],
             [
              0.7777777777777778,
              "#fb9f3a"
             ],
             [
              0.8888888888888888,
              "#fdca26"
             ],
             [
              1,
              "#f0f921"
             ]
            ],
            "type": "heatmap"
           }
          ],
          "heatmapgl": [
           {
            "colorbar": {
             "outlinewidth": 0,
             "ticks": ""
            },
            "colorscale": [
             [
              0,
              "#0d0887"
             ],
             [
              0.1111111111111111,
              "#46039f"
             ],
             [
              0.2222222222222222,
              "#7201a8"
             ],
             [
              0.3333333333333333,
              "#9c179e"
             ],
             [
              0.4444444444444444,
              "#bd3786"
             ],
             [
              0.5555555555555556,
              "#d8576b"
             ],
             [
              0.6666666666666666,
              "#ed7953"
             ],
             [
              0.7777777777777778,
              "#fb9f3a"
             ],
             [
              0.8888888888888888,
              "#fdca26"
             ],
             [
              1,
              "#f0f921"
             ]
            ],
            "type": "heatmapgl"
           }
          ],
          "histogram": [
           {
            "marker": {
             "pattern": {
              "fillmode": "overlay",
              "size": 10,
              "solidity": 0.2
             }
            },
            "type": "histogram"
           }
          ],
          "histogram2d": [
           {
            "colorbar": {
             "outlinewidth": 0,
             "ticks": ""
            },
            "colorscale": [
             [
              0,
              "#0d0887"
             ],
             [
              0.1111111111111111,
              "#46039f"
             ],
             [
              0.2222222222222222,
              "#7201a8"
             ],
             [
              0.3333333333333333,
              "#9c179e"
             ],
             [
              0.4444444444444444,
              "#bd3786"
             ],
             [
              0.5555555555555556,
              "#d8576b"
             ],
             [
              0.6666666666666666,
              "#ed7953"
             ],
             [
              0.7777777777777778,
              "#fb9f3a"
             ],
             [
              0.8888888888888888,
              "#fdca26"
             ],
             [
              1,
              "#f0f921"
             ]
            ],
            "type": "histogram2d"
           }
          ],
          "histogram2dcontour": [
           {
            "colorbar": {
             "outlinewidth": 0,
             "ticks": ""
            },
            "colorscale": [
             [
              0,
              "#0d0887"
             ],
             [
              0.1111111111111111,
              "#46039f"
             ],
             [
              0.2222222222222222,
              "#7201a8"
             ],
             [
              0.3333333333333333,
              "#9c179e"
             ],
             [
              0.4444444444444444,
              "#bd3786"
             ],
             [
              0.5555555555555556,
              "#d8576b"
             ],
             [
              0.6666666666666666,
              "#ed7953"
             ],
             [
              0.7777777777777778,
              "#fb9f3a"
             ],
             [
              0.8888888888888888,
              "#fdca26"
             ],
             [
              1,
              "#f0f921"
             ]
            ],
            "type": "histogram2dcontour"
           }
          ],
          "mesh3d": [
           {
            "colorbar": {
             "outlinewidth": 0,
             "ticks": ""
            },
            "type": "mesh3d"
           }
          ],
          "parcoords": [
           {
            "line": {
             "colorbar": {
              "outlinewidth": 0,
              "ticks": ""
             }
            },
            "type": "parcoords"
           }
          ],
          "pie": [
           {
            "automargin": true,
            "type": "pie"
           }
          ],
          "scatter": [
           {
            "marker": {
             "colorbar": {
              "outlinewidth": 0,
              "ticks": ""
             }
            },
            "type": "scatter"
           }
          ],
          "scatter3d": [
           {
            "line": {
             "colorbar": {
              "outlinewidth": 0,
              "ticks": ""
             }
            },
            "marker": {
             "colorbar": {
              "outlinewidth": 0,
              "ticks": ""
             }
            },
            "type": "scatter3d"
           }
          ],
          "scattercarpet": [
           {
            "marker": {
             "colorbar": {
              "outlinewidth": 0,
              "ticks": ""
             }
            },
            "type": "scattercarpet"
           }
          ],
          "scattergeo": [
           {
            "marker": {
             "colorbar": {
              "outlinewidth": 0,
              "ticks": ""
             }
            },
            "type": "scattergeo"
           }
          ],
          "scattergl": [
           {
            "marker": {
             "colorbar": {
              "outlinewidth": 0,
              "ticks": ""
             }
            },
            "type": "scattergl"
           }
          ],
          "scattermapbox": [
           {
            "marker": {
             "colorbar": {
              "outlinewidth": 0,
              "ticks": ""
             }
            },
            "type": "scattermapbox"
           }
          ],
          "scatterpolar": [
           {
            "marker": {
             "colorbar": {
              "outlinewidth": 0,
              "ticks": ""
             }
            },
            "type": "scatterpolar"
           }
          ],
          "scatterpolargl": [
           {
            "marker": {
             "colorbar": {
              "outlinewidth": 0,
              "ticks": ""
             }
            },
            "type": "scatterpolargl"
           }
          ],
          "scatterternary": [
           {
            "marker": {
             "colorbar": {
              "outlinewidth": 0,
              "ticks": ""
             }
            },
            "type": "scatterternary"
           }
          ],
          "surface": [
           {
            "colorbar": {
             "outlinewidth": 0,
             "ticks": ""
            },
            "colorscale": [
             [
              0,
              "#0d0887"
             ],
             [
              0.1111111111111111,
              "#46039f"
             ],
             [
              0.2222222222222222,
              "#7201a8"
             ],
             [
              0.3333333333333333,
              "#9c179e"
             ],
             [
              0.4444444444444444,
              "#bd3786"
             ],
             [
              0.5555555555555556,
              "#d8576b"
             ],
             [
              0.6666666666666666,
              "#ed7953"
             ],
             [
              0.7777777777777778,
              "#fb9f3a"
             ],
             [
              0.8888888888888888,
              "#fdca26"
             ],
             [
              1,
              "#f0f921"
             ]
            ],
            "type": "surface"
           }
          ],
          "table": [
           {
            "cells": {
             "fill": {
              "color": "#EBF0F8"
             },
             "line": {
              "color": "white"
             }
            },
            "header": {
             "fill": {
              "color": "#C8D4E3"
             },
             "line": {
              "color": "white"
             }
            },
            "type": "table"
           }
          ]
         },
         "layout": {
          "annotationdefaults": {
           "arrowcolor": "#2a3f5f",
           "arrowhead": 0,
           "arrowwidth": 1
          },
          "autotypenumbers": "strict",
          "coloraxis": {
           "colorbar": {
            "outlinewidth": 0,
            "ticks": ""
           }
          },
          "colorscale": {
           "diverging": [
            [
             0,
             "#8e0152"
            ],
            [
             0.1,
             "#c51b7d"
            ],
            [
             0.2,
             "#de77ae"
            ],
            [
             0.3,
             "#f1b6da"
            ],
            [
             0.4,
             "#fde0ef"
            ],
            [
             0.5,
             "#f7f7f7"
            ],
            [
             0.6,
             "#e6f5d0"
            ],
            [
             0.7,
             "#b8e186"
            ],
            [
             0.8,
             "#7fbc41"
            ],
            [
             0.9,
             "#4d9221"
            ],
            [
             1,
             "#276419"
            ]
           ],
           "sequential": [
            [
             0,
             "#0d0887"
            ],
            [
             0.1111111111111111,
             "#46039f"
            ],
            [
             0.2222222222222222,
             "#7201a8"
            ],
            [
             0.3333333333333333,
             "#9c179e"
            ],
            [
             0.4444444444444444,
             "#bd3786"
            ],
            [
             0.5555555555555556,
             "#d8576b"
            ],
            [
             0.6666666666666666,
             "#ed7953"
            ],
            [
             0.7777777777777778,
             "#fb9f3a"
            ],
            [
             0.8888888888888888,
             "#fdca26"
            ],
            [
             1,
             "#f0f921"
            ]
           ],
           "sequentialminus": [
            [
             0,
             "#0d0887"
            ],
            [
             0.1111111111111111,
             "#46039f"
            ],
            [
             0.2222222222222222,
             "#7201a8"
            ],
            [
             0.3333333333333333,
             "#9c179e"
            ],
            [
             0.4444444444444444,
             "#bd3786"
            ],
            [
             0.5555555555555556,
             "#d8576b"
            ],
            [
             0.6666666666666666,
             "#ed7953"
            ],
            [
             0.7777777777777778,
             "#fb9f3a"
            ],
            [
             0.8888888888888888,
             "#fdca26"
            ],
            [
             1,
             "#f0f921"
            ]
           ]
          },
          "colorway": [
           "#636efa",
           "#EF553B",
           "#00cc96",
           "#ab63fa",
           "#FFA15A",
           "#19d3f3",
           "#FF6692",
           "#B6E880",
           "#FF97FF",
           "#FECB52"
          ],
          "font": {
           "color": "#2a3f5f"
          },
          "geo": {
           "bgcolor": "white",
           "lakecolor": "white",
           "landcolor": "#E5ECF6",
           "showlakes": true,
           "showland": true,
           "subunitcolor": "white"
          },
          "hoverlabel": {
           "align": "left"
          },
          "hovermode": "closest",
          "mapbox": {
           "style": "light"
          },
          "paper_bgcolor": "white",
          "plot_bgcolor": "#E5ECF6",
          "polar": {
           "angularaxis": {
            "gridcolor": "white",
            "linecolor": "white",
            "ticks": ""
           },
           "bgcolor": "#E5ECF6",
           "radialaxis": {
            "gridcolor": "white",
            "linecolor": "white",
            "ticks": ""
           }
          },
          "scene": {
           "xaxis": {
            "backgroundcolor": "#E5ECF6",
            "gridcolor": "white",
            "gridwidth": 2,
            "linecolor": "white",
            "showbackground": true,
            "ticks": "",
            "zerolinecolor": "white"
           },
           "yaxis": {
            "backgroundcolor": "#E5ECF6",
            "gridcolor": "white",
            "gridwidth": 2,
            "linecolor": "white",
            "showbackground": true,
            "ticks": "",
            "zerolinecolor": "white"
           },
           "zaxis": {
            "backgroundcolor": "#E5ECF6",
            "gridcolor": "white",
            "gridwidth": 2,
            "linecolor": "white",
            "showbackground": true,
            "ticks": "",
            "zerolinecolor": "white"
           }
          },
          "shapedefaults": {
           "line": {
            "color": "#2a3f5f"
           }
          },
          "ternary": {
           "aaxis": {
            "gridcolor": "white",
            "linecolor": "white",
            "ticks": ""
           },
           "baxis": {
            "gridcolor": "white",
            "linecolor": "white",
            "ticks": ""
           },
           "bgcolor": "#E5ECF6",
           "caxis": {
            "gridcolor": "white",
            "linecolor": "white",
            "ticks": ""
           }
          },
          "title": {
           "x": 0.05
          },
          "xaxis": {
           "automargin": true,
           "gridcolor": "white",
           "linecolor": "white",
           "ticks": "",
           "title": {
            "standoff": 15
           },
           "zerolinecolor": "white",
           "zerolinewidth": 2
          },
          "yaxis": {
           "automargin": true,
           "gridcolor": "white",
           "linecolor": "white",
           "ticks": "",
           "title": {
            "standoff": 15
           },
           "zerolinecolor": "white",
           "zerolinewidth": 2
          }
         }
        },
        "xaxis": {
         "anchor": "y",
         "domain": [
          0,
          1
         ],
         "title": {
          "text": "date"
         }
        },
        "yaxis": {
         "anchor": "x",
         "domain": [
          0,
          1
         ],
         "title": {
          "text": "score"
         }
        }
       }
      }
     },
     "metadata": {},
     "output_type": "display_data"
    }
   ],
   "source": [
    "fig = px.bar(final_clean[final_clean[\"song\"] == \"Through The Wire\"], x='date', y='score')\n",
    "fig.show()"
   ]
  },
  {
   "cell_type": "code",
   "execution_count": 104,
   "metadata": {},
   "outputs": [
    {
     "data": {
      "application/vnd.plotly.v1+json": {
       "config": {
        "plotlyServerURL": "https://plot.ly"
       },
       "data": [
        {
         "alignmentgroup": "True",
         "hovertemplate": "song=%{x}<br>spotify_popularity=%{y}<extra></extra>",
         "legendgroup": "",
         "marker": {
          "color": "#636efa",
          "pattern": {
           "shape": ""
          }
         },
         "name": "",
         "offsetgroup": "",
         "orientation": "v",
         "showlegend": false,
         "textposition": "auto",
         "type": "bar",
         "x": [
          "Easy On Me",
          "Stay",
          "Industry Baby",
          "Fancy Like",
          "Bad Habits",
          "Way 2 Sexy",
          "Shivers",
          "Good 4 U",
          "Need To Know",
          "Levitating",
          "Essence",
          "Kiss Me More",
          "Heat Waves",
          "Beggin'",
          "Cold Heart (PNAU Remix)",
          "You Right",
          "Save Your Tears",
          "If I Didn't Love You",
          "Traitor",
          "Who Want Smoke??",
          "Knife Talk",
          "Meet Me At Our Spot",
          "Montero (Call Me By Your Name)",
          "Chasing After You",
          "Girls Want Girls",
          "Moth To A Flame",
          "Let's Go Brandon",
          "Thats What I Want",
          "Pepas",
          "Love Nwantiti (Ah Ah Ah)",
          "Take My Breath",
          "Happier Than Ever",
          "Wockesha",
          "Better Days",
          "Buy Dirt",
          "Ghost",
          "Lets Go Brandon",
          "Cold As You",
          "A-O-K",
          "You Should Probably Leave",
          "Thinking 'Bout You",
          "Memory I Don't Mess With",
          "Bubbly",
          "Wild Side",
          "Sharing Locations",
          "Gyalis",
          "I Was On A Boat That Day",
          "Family Ties",
          "Have Mercy",
          "Fair Trade"
         ],
         "xaxis": "x",
         "y": [
          95,
          96,
          95,
          81,
          95,
          88,
          95,
          95,
          93,
          89,
          79,
          89,
          91,
          92,
          96,
          89,
          92,
          74,
          93,
          81,
          89,
          90,
          90,
          76,
          85,
          92,
          52,
          95,
          94,
          93,
          83,
          92,
          75,
          90,
          83,
          92,
          58,
          75,
          81,
          78,
          76,
          72,
          81,
          81,
          77,
          75,
          65,
          84,
          81,
          88
         ],
         "yaxis": "y"
        }
       ],
       "layout": {
        "barmode": "relative",
        "legend": {
         "tracegroupgap": 0
        },
        "margin": {
         "t": 60
        },
        "template": {
         "data": {
          "bar": [
           {
            "error_x": {
             "color": "#2a3f5f"
            },
            "error_y": {
             "color": "#2a3f5f"
            },
            "marker": {
             "line": {
              "color": "#E5ECF6",
              "width": 0.5
             },
             "pattern": {
              "fillmode": "overlay",
              "size": 10,
              "solidity": 0.2
             }
            },
            "type": "bar"
           }
          ],
          "barpolar": [
           {
            "marker": {
             "line": {
              "color": "#E5ECF6",
              "width": 0.5
             },
             "pattern": {
              "fillmode": "overlay",
              "size": 10,
              "solidity": 0.2
             }
            },
            "type": "barpolar"
           }
          ],
          "carpet": [
           {
            "aaxis": {
             "endlinecolor": "#2a3f5f",
             "gridcolor": "white",
             "linecolor": "white",
             "minorgridcolor": "white",
             "startlinecolor": "#2a3f5f"
            },
            "baxis": {
             "endlinecolor": "#2a3f5f",
             "gridcolor": "white",
             "linecolor": "white",
             "minorgridcolor": "white",
             "startlinecolor": "#2a3f5f"
            },
            "type": "carpet"
           }
          ],
          "choropleth": [
           {
            "colorbar": {
             "outlinewidth": 0,
             "ticks": ""
            },
            "type": "choropleth"
           }
          ],
          "contour": [
           {
            "colorbar": {
             "outlinewidth": 0,
             "ticks": ""
            },
            "colorscale": [
             [
              0,
              "#0d0887"
             ],
             [
              0.1111111111111111,
              "#46039f"
             ],
             [
              0.2222222222222222,
              "#7201a8"
             ],
             [
              0.3333333333333333,
              "#9c179e"
             ],
             [
              0.4444444444444444,
              "#bd3786"
             ],
             [
              0.5555555555555556,
              "#d8576b"
             ],
             [
              0.6666666666666666,
              "#ed7953"
             ],
             [
              0.7777777777777778,
              "#fb9f3a"
             ],
             [
              0.8888888888888888,
              "#fdca26"
             ],
             [
              1,
              "#f0f921"
             ]
            ],
            "type": "contour"
           }
          ],
          "contourcarpet": [
           {
            "colorbar": {
             "outlinewidth": 0,
             "ticks": ""
            },
            "type": "contourcarpet"
           }
          ],
          "heatmap": [
           {
            "colorbar": {
             "outlinewidth": 0,
             "ticks": ""
            },
            "colorscale": [
             [
              0,
              "#0d0887"
             ],
             [
              0.1111111111111111,
              "#46039f"
             ],
             [
              0.2222222222222222,
              "#7201a8"
             ],
             [
              0.3333333333333333,
              "#9c179e"
             ],
             [
              0.4444444444444444,
              "#bd3786"
             ],
             [
              0.5555555555555556,
              "#d8576b"
             ],
             [
              0.6666666666666666,
              "#ed7953"
             ],
             [
              0.7777777777777778,
              "#fb9f3a"
             ],
             [
              0.8888888888888888,
              "#fdca26"
             ],
             [
              1,
              "#f0f921"
             ]
            ],
            "type": "heatmap"
           }
          ],
          "heatmapgl": [
           {
            "colorbar": {
             "outlinewidth": 0,
             "ticks": ""
            },
            "colorscale": [
             [
              0,
              "#0d0887"
             ],
             [
              0.1111111111111111,
              "#46039f"
             ],
             [
              0.2222222222222222,
              "#7201a8"
             ],
             [
              0.3333333333333333,
              "#9c179e"
             ],
             [
              0.4444444444444444,
              "#bd3786"
             ],
             [
              0.5555555555555556,
              "#d8576b"
             ],
             [
              0.6666666666666666,
              "#ed7953"
             ],
             [
              0.7777777777777778,
              "#fb9f3a"
             ],
             [
              0.8888888888888888,
              "#fdca26"
             ],
             [
              1,
              "#f0f921"
             ]
            ],
            "type": "heatmapgl"
           }
          ],
          "histogram": [
           {
            "marker": {
             "pattern": {
              "fillmode": "overlay",
              "size": 10,
              "solidity": 0.2
             }
            },
            "type": "histogram"
           }
          ],
          "histogram2d": [
           {
            "colorbar": {
             "outlinewidth": 0,
             "ticks": ""
            },
            "colorscale": [
             [
              0,
              "#0d0887"
             ],
             [
              0.1111111111111111,
              "#46039f"
             ],
             [
              0.2222222222222222,
              "#7201a8"
             ],
             [
              0.3333333333333333,
              "#9c179e"
             ],
             [
              0.4444444444444444,
              "#bd3786"
             ],
             [
              0.5555555555555556,
              "#d8576b"
             ],
             [
              0.6666666666666666,
              "#ed7953"
             ],
             [
              0.7777777777777778,
              "#fb9f3a"
             ],
             [
              0.8888888888888888,
              "#fdca26"
             ],
             [
              1,
              "#f0f921"
             ]
            ],
            "type": "histogram2d"
           }
          ],
          "histogram2dcontour": [
           {
            "colorbar": {
             "outlinewidth": 0,
             "ticks": ""
            },
            "colorscale": [
             [
              0,
              "#0d0887"
             ],
             [
              0.1111111111111111,
              "#46039f"
             ],
             [
              0.2222222222222222,
              "#7201a8"
             ],
             [
              0.3333333333333333,
              "#9c179e"
             ],
             [
              0.4444444444444444,
              "#bd3786"
             ],
             [
              0.5555555555555556,
              "#d8576b"
             ],
             [
              0.6666666666666666,
              "#ed7953"
             ],
             [
              0.7777777777777778,
              "#fb9f3a"
             ],
             [
              0.8888888888888888,
              "#fdca26"
             ],
             [
              1,
              "#f0f921"
             ]
            ],
            "type": "histogram2dcontour"
           }
          ],
          "mesh3d": [
           {
            "colorbar": {
             "outlinewidth": 0,
             "ticks": ""
            },
            "type": "mesh3d"
           }
          ],
          "parcoords": [
           {
            "line": {
             "colorbar": {
              "outlinewidth": 0,
              "ticks": ""
             }
            },
            "type": "parcoords"
           }
          ],
          "pie": [
           {
            "automargin": true,
            "type": "pie"
           }
          ],
          "scatter": [
           {
            "marker": {
             "colorbar": {
              "outlinewidth": 0,
              "ticks": ""
             }
            },
            "type": "scatter"
           }
          ],
          "scatter3d": [
           {
            "line": {
             "colorbar": {
              "outlinewidth": 0,
              "ticks": ""
             }
            },
            "marker": {
             "colorbar": {
              "outlinewidth": 0,
              "ticks": ""
             }
            },
            "type": "scatter3d"
           }
          ],
          "scattercarpet": [
           {
            "marker": {
             "colorbar": {
              "outlinewidth": 0,
              "ticks": ""
             }
            },
            "type": "scattercarpet"
           }
          ],
          "scattergeo": [
           {
            "marker": {
             "colorbar": {
              "outlinewidth": 0,
              "ticks": ""
             }
            },
            "type": "scattergeo"
           }
          ],
          "scattergl": [
           {
            "marker": {
             "colorbar": {
              "outlinewidth": 0,
              "ticks": ""
             }
            },
            "type": "scattergl"
           }
          ],
          "scattermapbox": [
           {
            "marker": {
             "colorbar": {
              "outlinewidth": 0,
              "ticks": ""
             }
            },
            "type": "scattermapbox"
           }
          ],
          "scatterpolar": [
           {
            "marker": {
             "colorbar": {
              "outlinewidth": 0,
              "ticks": ""
             }
            },
            "type": "scatterpolar"
           }
          ],
          "scatterpolargl": [
           {
            "marker": {
             "colorbar": {
              "outlinewidth": 0,
              "ticks": ""
             }
            },
            "type": "scatterpolargl"
           }
          ],
          "scatterternary": [
           {
            "marker": {
             "colorbar": {
              "outlinewidth": 0,
              "ticks": ""
             }
            },
            "type": "scatterternary"
           }
          ],
          "surface": [
           {
            "colorbar": {
             "outlinewidth": 0,
             "ticks": ""
            },
            "colorscale": [
             [
              0,
              "#0d0887"
             ],
             [
              0.1111111111111111,
              "#46039f"
             ],
             [
              0.2222222222222222,
              "#7201a8"
             ],
             [
              0.3333333333333333,
              "#9c179e"
             ],
             [
              0.4444444444444444,
              "#bd3786"
             ],
             [
              0.5555555555555556,
              "#d8576b"
             ],
             [
              0.6666666666666666,
              "#ed7953"
             ],
             [
              0.7777777777777778,
              "#fb9f3a"
             ],
             [
              0.8888888888888888,
              "#fdca26"
             ],
             [
              1,
              "#f0f921"
             ]
            ],
            "type": "surface"
           }
          ],
          "table": [
           {
            "cells": {
             "fill": {
              "color": "#EBF0F8"
             },
             "line": {
              "color": "white"
             }
            },
            "header": {
             "fill": {
              "color": "#C8D4E3"
             },
             "line": {
              "color": "white"
             }
            },
            "type": "table"
           }
          ]
         },
         "layout": {
          "annotationdefaults": {
           "arrowcolor": "#2a3f5f",
           "arrowhead": 0,
           "arrowwidth": 1
          },
          "autotypenumbers": "strict",
          "coloraxis": {
           "colorbar": {
            "outlinewidth": 0,
            "ticks": ""
           }
          },
          "colorscale": {
           "diverging": [
            [
             0,
             "#8e0152"
            ],
            [
             0.1,
             "#c51b7d"
            ],
            [
             0.2,
             "#de77ae"
            ],
            [
             0.3,
             "#f1b6da"
            ],
            [
             0.4,
             "#fde0ef"
            ],
            [
             0.5,
             "#f7f7f7"
            ],
            [
             0.6,
             "#e6f5d0"
            ],
            [
             0.7,
             "#b8e186"
            ],
            [
             0.8,
             "#7fbc41"
            ],
            [
             0.9,
             "#4d9221"
            ],
            [
             1,
             "#276419"
            ]
           ],
           "sequential": [
            [
             0,
             "#0d0887"
            ],
            [
             0.1111111111111111,
             "#46039f"
            ],
            [
             0.2222222222222222,
             "#7201a8"
            ],
            [
             0.3333333333333333,
             "#9c179e"
            ],
            [
             0.4444444444444444,
             "#bd3786"
            ],
            [
             0.5555555555555556,
             "#d8576b"
            ],
            [
             0.6666666666666666,
             "#ed7953"
            ],
            [
             0.7777777777777778,
             "#fb9f3a"
            ],
            [
             0.8888888888888888,
             "#fdca26"
            ],
            [
             1,
             "#f0f921"
            ]
           ],
           "sequentialminus": [
            [
             0,
             "#0d0887"
            ],
            [
             0.1111111111111111,
             "#46039f"
            ],
            [
             0.2222222222222222,
             "#7201a8"
            ],
            [
             0.3333333333333333,
             "#9c179e"
            ],
            [
             0.4444444444444444,
             "#bd3786"
            ],
            [
             0.5555555555555556,
             "#d8576b"
            ],
            [
             0.6666666666666666,
             "#ed7953"
            ],
            [
             0.7777777777777778,
             "#fb9f3a"
            ],
            [
             0.8888888888888888,
             "#fdca26"
            ],
            [
             1,
             "#f0f921"
            ]
           ]
          },
          "colorway": [
           "#636efa",
           "#EF553B",
           "#00cc96",
           "#ab63fa",
           "#FFA15A",
           "#19d3f3",
           "#FF6692",
           "#B6E880",
           "#FF97FF",
           "#FECB52"
          ],
          "font": {
           "color": "#2a3f5f"
          },
          "geo": {
           "bgcolor": "white",
           "lakecolor": "white",
           "landcolor": "#E5ECF6",
           "showlakes": true,
           "showland": true,
           "subunitcolor": "white"
          },
          "hoverlabel": {
           "align": "left"
          },
          "hovermode": "closest",
          "mapbox": {
           "style": "light"
          },
          "paper_bgcolor": "white",
          "plot_bgcolor": "#E5ECF6",
          "polar": {
           "angularaxis": {
            "gridcolor": "white",
            "linecolor": "white",
            "ticks": ""
           },
           "bgcolor": "#E5ECF6",
           "radialaxis": {
            "gridcolor": "white",
            "linecolor": "white",
            "ticks": ""
           }
          },
          "scene": {
           "xaxis": {
            "backgroundcolor": "#E5ECF6",
            "gridcolor": "white",
            "gridwidth": 2,
            "linecolor": "white",
            "showbackground": true,
            "ticks": "",
            "zerolinecolor": "white"
           },
           "yaxis": {
            "backgroundcolor": "#E5ECF6",
            "gridcolor": "white",
            "gridwidth": 2,
            "linecolor": "white",
            "showbackground": true,
            "ticks": "",
            "zerolinecolor": "white"
           },
           "zaxis": {
            "backgroundcolor": "#E5ECF6",
            "gridcolor": "white",
            "gridwidth": 2,
            "linecolor": "white",
            "showbackground": true,
            "ticks": "",
            "zerolinecolor": "white"
           }
          },
          "shapedefaults": {
           "line": {
            "color": "#2a3f5f"
           }
          },
          "ternary": {
           "aaxis": {
            "gridcolor": "white",
            "linecolor": "white",
            "ticks": ""
           },
           "baxis": {
            "gridcolor": "white",
            "linecolor": "white",
            "ticks": ""
           },
           "bgcolor": "#E5ECF6",
           "caxis": {
            "gridcolor": "white",
            "linecolor": "white",
            "ticks": ""
           }
          },
          "title": {
           "x": 0.05
          },
          "xaxis": {
           "automargin": true,
           "gridcolor": "white",
           "linecolor": "white",
           "ticks": "",
           "title": {
            "standoff": 15
           },
           "zerolinecolor": "white",
           "zerolinewidth": 2
          },
          "yaxis": {
           "automargin": true,
           "gridcolor": "white",
           "linecolor": "white",
           "ticks": "",
           "title": {
            "standoff": 15
           },
           "zerolinecolor": "white",
           "zerolinewidth": 2
          }
         }
        },
        "xaxis": {
         "anchor": "y",
         "domain": [
          0,
          1
         ],
         "title": {
          "text": "song"
         }
        },
        "yaxis": {
         "anchor": "x",
         "domain": [
          0,
          1
         ],
         "title": {
          "text": "spotify_popularity"
         }
        }
       }
      }
     },
     "metadata": {},
     "output_type": "display_data"
    }
   ],
   "source": [
    "fig = px.bar(final.head(50), x='song', y='spotify_popularity')\n",
    "fig.show()"
   ]
  },
  {
   "cell_type": "code",
   "execution_count": 25,
   "metadata": {},
   "outputs": [],
   "source": [
    "final_clean.to_csv(\"../data/final_for_models.csv\")"
   ]
  },
  {
   "cell_type": "code",
   "execution_count": 26,
   "metadata": {},
   "outputs": [
    {
     "data": {
      "text/html": [
       "<div>\n",
       "<style scoped>\n",
       "    .dataframe tbody tr th:only-of-type {\n",
       "        vertical-align: middle;\n",
       "    }\n",
       "\n",
       "    .dataframe tbody tr th {\n",
       "        vertical-align: top;\n",
       "    }\n",
       "\n",
       "    .dataframe thead th {\n",
       "        text-align: right;\n",
       "    }\n",
       "</style>\n",
       "<table border=\"1\" class=\"dataframe\">\n",
       "  <thead>\n",
       "    <tr style=\"text-align: right;\">\n",
       "      <th></th>\n",
       "      <th>date</th>\n",
       "      <th>release_date</th>\n",
       "      <th>rank</th>\n",
       "      <th>song</th>\n",
       "      <th>match_song</th>\n",
       "      <th>artist</th>\n",
       "      <th>match_artist</th>\n",
       "      <th>last-week</th>\n",
       "      <th>peak-rank</th>\n",
       "      <th>weeks-on-board</th>\n",
       "      <th>duration_ms</th>\n",
       "      <th>spotify_popularity</th>\n",
       "      <th>album_type</th>\n",
       "      <th>score</th>\n",
       "      <th>total_score</th>\n",
       "    </tr>\n",
       "  </thead>\n",
       "  <tbody>\n",
       "    <tr>\n",
       "      <th>0</th>\n",
       "      <td>2021-11-06</td>\n",
       "      <td>2021-10-14</td>\n",
       "      <td>1</td>\n",
       "      <td>Easy On Me</td>\n",
       "      <td>Easy On Me</td>\n",
       "      <td>Adele</td>\n",
       "      <td>Adele</td>\n",
       "      <td>1.0</td>\n",
       "      <td>1</td>\n",
       "      <td>3</td>\n",
       "      <td>224694.0</td>\n",
       "      <td>95.0</td>\n",
       "      <td>single</td>\n",
       "      <td>100</td>\n",
       "      <td>233.0</td>\n",
       "    </tr>\n",
       "    <tr>\n",
       "      <th>1</th>\n",
       "      <td>2021-11-06</td>\n",
       "      <td>2021-07-09</td>\n",
       "      <td>2</td>\n",
       "      <td>Stay</td>\n",
       "      <td>STAY (with Justin Bieber)</td>\n",
       "      <td>The Kid LAROI &amp; Justin Bieber</td>\n",
       "      <td>The Kid LAROI</td>\n",
       "      <td>2.0</td>\n",
       "      <td>1</td>\n",
       "      <td>16</td>\n",
       "      <td>141805.0</td>\n",
       "      <td>96.0</td>\n",
       "      <td>single</td>\n",
       "      <td>99</td>\n",
       "      <td>12945.0</td>\n",
       "    </tr>\n",
       "    <tr>\n",
       "      <th>2</th>\n",
       "      <td>2021-11-06</td>\n",
       "      <td>2021-07-23</td>\n",
       "      <td>3</td>\n",
       "      <td>Industry Baby</td>\n",
       "      <td>INDUSTRY BABY (feat. Jack Harlow)</td>\n",
       "      <td>Lil Nas X &amp; Jack Harlow</td>\n",
       "      <td>Lil Nas X</td>\n",
       "      <td>3.0</td>\n",
       "      <td>1</td>\n",
       "      <td>14</td>\n",
       "      <td>212000.0</td>\n",
       "      <td>95.0</td>\n",
       "      <td>single</td>\n",
       "      <td>98</td>\n",
       "      <td>1338.0</td>\n",
       "    </tr>\n",
       "    <tr>\n",
       "      <th>3</th>\n",
       "      <td>2021-11-06</td>\n",
       "      <td>2021-06-04</td>\n",
       "      <td>4</td>\n",
       "      <td>Fancy Like</td>\n",
       "      <td>Fancy Like</td>\n",
       "      <td>Walker Hayes</td>\n",
       "      <td>Walker Hayes</td>\n",
       "      <td>4.0</td>\n",
       "      <td>3</td>\n",
       "      <td>19</td>\n",
       "      <td>161853.0</td>\n",
       "      <td>81.0</td>\n",
       "      <td>single</td>\n",
       "      <td>97</td>\n",
       "      <td>1652.0</td>\n",
       "    </tr>\n",
       "    <tr>\n",
       "      <th>4</th>\n",
       "      <td>2021-11-06</td>\n",
       "      <td>2021-10-29</td>\n",
       "      <td>5</td>\n",
       "      <td>Bad Habits</td>\n",
       "      <td>Bad Habits</td>\n",
       "      <td>Ed Sheeran</td>\n",
       "      <td>Ed Sheeran</td>\n",
       "      <td>5.0</td>\n",
       "      <td>2</td>\n",
       "      <td>18</td>\n",
       "      <td>230746.0</td>\n",
       "      <td>95.0</td>\n",
       "      <td>album</td>\n",
       "      <td>96</td>\n",
       "      <td>1984.0</td>\n",
       "    </tr>\n",
       "    <tr>\n",
       "      <th>...</th>\n",
       "      <td>...</td>\n",
       "      <td>...</td>\n",
       "      <td>...</td>\n",
       "      <td>...</td>\n",
       "      <td>...</td>\n",
       "      <td>...</td>\n",
       "      <td>...</td>\n",
       "      <td>...</td>\n",
       "      <td>...</td>\n",
       "      <td>...</td>\n",
       "      <td>...</td>\n",
       "      <td>...</td>\n",
       "      <td>...</td>\n",
       "      <td>...</td>\n",
       "      <td>...</td>\n",
       "    </tr>\n",
       "    <tr>\n",
       "      <th>327955</th>\n",
       "      <td>1958-12-29</td>\n",
       "      <td>1986-01-01</td>\n",
       "      <td>69</td>\n",
       "      <td>Run Rudolph Run</td>\n",
       "      <td>Run Rudolph Run - Single Version</td>\n",
       "      <td>Chuck Berry</td>\n",
       "      <td>Chuck Berry</td>\n",
       "      <td>73.0</td>\n",
       "      <td>69</td>\n",
       "      <td>3</td>\n",
       "      <td>165733.0</td>\n",
       "      <td>70.0</td>\n",
       "      <td>album</td>\n",
       "      <td>32</td>\n",
       "      <td>NaN</td>\n",
       "    </tr>\n",
       "    <tr>\n",
       "      <th>328043</th>\n",
       "      <td>1958-12-22</td>\n",
       "      <td>1957-12-02</td>\n",
       "      <td>57</td>\n",
       "      <td>Jingle Bell Rock</td>\n",
       "      <td>Jingle Bell Rock</td>\n",
       "      <td>Bobby Helms</td>\n",
       "      <td>Bobby Helms</td>\n",
       "      <td>NaN</td>\n",
       "      <td>57</td>\n",
       "      <td>1</td>\n",
       "      <td>130973.0</td>\n",
       "      <td>77.0</td>\n",
       "      <td>single</td>\n",
       "      <td>44</td>\n",
       "      <td>NaN</td>\n",
       "    </tr>\n",
       "    <tr>\n",
       "      <th>328059</th>\n",
       "      <td>1958-12-22</td>\n",
       "      <td>1986-01-01</td>\n",
       "      <td>73</td>\n",
       "      <td>Run Rudolph Run</td>\n",
       "      <td>Run Rudolph Run - Single Version</td>\n",
       "      <td>Chuck Berry</td>\n",
       "      <td>Chuck Berry</td>\n",
       "      <td>83.0</td>\n",
       "      <td>73</td>\n",
       "      <td>2</td>\n",
       "      <td>165733.0</td>\n",
       "      <td>70.0</td>\n",
       "      <td>album</td>\n",
       "      <td>28</td>\n",
       "      <td>NaN</td>\n",
       "    </tr>\n",
       "    <tr>\n",
       "      <th>328072</th>\n",
       "      <td>1958-12-22</td>\n",
       "      <td>1942-01-01</td>\n",
       "      <td>86</td>\n",
       "      <td>White Christmas</td>\n",
       "      <td>White Christmas</td>\n",
       "      <td>Bing Crosby</td>\n",
       "      <td>Bing Crosby</td>\n",
       "      <td>NaN</td>\n",
       "      <td>86</td>\n",
       "      <td>1</td>\n",
       "      <td>177480.0</td>\n",
       "      <td>69.0</td>\n",
       "      <td>album</td>\n",
       "      <td>15</td>\n",
       "      <td>NaN</td>\n",
       "    </tr>\n",
       "    <tr>\n",
       "      <th>328169</th>\n",
       "      <td>1958-12-15</td>\n",
       "      <td>1986-01-01</td>\n",
       "      <td>83</td>\n",
       "      <td>Run Rudolph Run</td>\n",
       "      <td>Run Rudolph Run - Single Version</td>\n",
       "      <td>Chuck Berry</td>\n",
       "      <td>Chuck Berry</td>\n",
       "      <td>NaN</td>\n",
       "      <td>83</td>\n",
       "      <td>1</td>\n",
       "      <td>165733.0</td>\n",
       "      <td>70.0</td>\n",
       "      <td>album</td>\n",
       "      <td>18</td>\n",
       "      <td>NaN</td>\n",
       "    </tr>\n",
       "  </tbody>\n",
       "</table>\n",
       "<p>231477 rows × 15 columns</p>\n",
       "</div>"
      ],
      "text/plain": [
       "             date release_date  rank              song  \\\n",
       "0      2021-11-06   2021-10-14     1        Easy On Me   \n",
       "1      2021-11-06   2021-07-09     2              Stay   \n",
       "2      2021-11-06   2021-07-23     3     Industry Baby   \n",
       "3      2021-11-06   2021-06-04     4        Fancy Like   \n",
       "4      2021-11-06   2021-10-29     5        Bad Habits   \n",
       "...           ...          ...   ...               ...   \n",
       "327955 1958-12-29   1986-01-01    69   Run Rudolph Run   \n",
       "328043 1958-12-22   1957-12-02    57  Jingle Bell Rock   \n",
       "328059 1958-12-22   1986-01-01    73   Run Rudolph Run   \n",
       "328072 1958-12-22   1942-01-01    86   White Christmas   \n",
       "328169 1958-12-15   1986-01-01    83   Run Rudolph Run   \n",
       "\n",
       "                               match_song                         artist  \\\n",
       "0                              Easy On Me                          Adele   \n",
       "1               STAY (with Justin Bieber)  The Kid LAROI & Justin Bieber   \n",
       "2       INDUSTRY BABY (feat. Jack Harlow)        Lil Nas X & Jack Harlow   \n",
       "3                              Fancy Like                   Walker Hayes   \n",
       "4                              Bad Habits                     Ed Sheeran   \n",
       "...                                   ...                            ...   \n",
       "327955   Run Rudolph Run - Single Version                    Chuck Berry   \n",
       "328043                   Jingle Bell Rock                    Bobby Helms   \n",
       "328059   Run Rudolph Run - Single Version                    Chuck Berry   \n",
       "328072                    White Christmas                    Bing Crosby   \n",
       "328169   Run Rudolph Run - Single Version                    Chuck Berry   \n",
       "\n",
       "         match_artist  last-week  peak-rank  weeks-on-board  duration_ms  \\\n",
       "0               Adele        1.0          1               3     224694.0   \n",
       "1       The Kid LAROI        2.0          1              16     141805.0   \n",
       "2           Lil Nas X        3.0          1              14     212000.0   \n",
       "3        Walker Hayes        4.0          3              19     161853.0   \n",
       "4          Ed Sheeran        5.0          2              18     230746.0   \n",
       "...               ...        ...        ...             ...          ...   \n",
       "327955    Chuck Berry       73.0         69               3     165733.0   \n",
       "328043    Bobby Helms        NaN         57               1     130973.0   \n",
       "328059    Chuck Berry       83.0         73               2     165733.0   \n",
       "328072    Bing Crosby        NaN         86               1     177480.0   \n",
       "328169    Chuck Berry        NaN         83               1     165733.0   \n",
       "\n",
       "        spotify_popularity album_type  score  total_score  \n",
       "0                     95.0     single    100        233.0  \n",
       "1                     96.0     single     99      12945.0  \n",
       "2                     95.0     single     98       1338.0  \n",
       "3                     81.0     single     97       1652.0  \n",
       "4                     95.0      album     96       1984.0  \n",
       "...                    ...        ...    ...          ...  \n",
       "327955                70.0      album     32          NaN  \n",
       "328043                77.0     single     44          NaN  \n",
       "328059                70.0      album     28          NaN  \n",
       "328072                69.0      album     15          NaN  \n",
       "328169                70.0      album     18          NaN  \n",
       "\n",
       "[231477 rows x 15 columns]"
      ]
     },
     "execution_count": 26,
     "metadata": {},
     "output_type": "execute_result"
    }
   ],
   "source": [
    "final_clean"
   ]
  }
 ],
 "metadata": {
  "interpreter": {
   "hash": "210e85c458e31a8f2c053c2a54b074cdfa1df36586be642848617406f9269a8b"
  },
  "kernelspec": {
   "display_name": "Python 3.6.5 ('base')",
   "language": "python",
   "name": "python3"
  },
  "language_info": {
   "codemirror_mode": {
    "name": "ipython",
    "version": 3
   },
   "file_extension": ".py",
   "mimetype": "text/x-python",
   "name": "python",
   "nbconvert_exporter": "python",
   "pygments_lexer": "ipython3",
   "version": "3.9.7"
  },
  "orig_nbformat": 4
 },
 "nbformat": 4,
 "nbformat_minor": 2
}
