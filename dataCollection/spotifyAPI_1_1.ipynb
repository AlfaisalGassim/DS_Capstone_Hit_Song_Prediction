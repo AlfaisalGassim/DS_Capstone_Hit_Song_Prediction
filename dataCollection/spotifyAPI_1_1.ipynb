{
 "cells": [
  {
   "cell_type": "code",
   "execution_count": 56,
   "metadata": {},
   "outputs": [],
   "source": [
    "import requests\n",
    "import datetime\n",
    "import base64\n",
    "from urllib.parse import urlencode\n",
    "import pandas as pd\n",
    "import numpy as np\n",
    "import time\n",
    "from tqdm import tqdm"
   ]
  },
  {
   "cell_type": "code",
   "execution_count": 2,
   "metadata": {},
   "outputs": [],
   "source": [
    "client_id = '86241dc85057485b9d020a85673e5c1d'\n",
    "client_secret = '67e6e25d4d5c43e3abb36860e8fc1355'"
   ]
  },
  {
   "cell_type": "code",
   "execution_count": 98,
   "metadata": {},
   "outputs": [],
   "source": [
    "class SpotifyAPI(object):\n",
    "    access_token = None\n",
    "    access_token_expires = datetime.datetime.now()\n",
    "    access_token_did_expire = True\n",
    "    client_id = None\n",
    "    client_secret = None\n",
    "    token_url = \"https://accounts.spotify.com/api/token\"\n",
    "    \n",
    "    def __init__(self, client_id, client_secret, *args, **kwargs):\n",
    "        super().__init__(*args, **kwargs)\n",
    "        self.client_id = client_id\n",
    "        self.client_secret = client_secret\n",
    "\n",
    "    def get_client_credentials(self):\n",
    "        \"\"\"\n",
    "        Returns a base64 encoded string\n",
    "        \"\"\"\n",
    "        client_id = self.client_id\n",
    "        client_secret = self.client_secret\n",
    "        if client_secret == None or client_id == None:\n",
    "            raise Exception(\"You must set client_id and client_secret\")\n",
    "        client_creds = f\"{client_id}:{client_secret}\"\n",
    "        client_creds_b64 = base64.b64encode(client_creds.encode())\n",
    "        return client_creds_b64.decode()\n",
    "    \n",
    "    def get_token_headers(self):\n",
    "        client_creds_b64 = self.get_client_credentials()\n",
    "        return {\n",
    "            \"Authorization\": f\"Basic {client_creds_b64}\"\n",
    "        }\n",
    "    \n",
    "    def get_token_data(self):\n",
    "        return {\n",
    "            \"grant_type\": \"client_credentials\"\n",
    "        } \n",
    "    \n",
    "    def perform_auth(self):\n",
    "        token_url = self.token_url\n",
    "        token_data = self.get_token_data()\n",
    "        token_headers = self.get_token_headers()\n",
    "        r = requests.post(token_url, data=token_data, headers=token_headers)\n",
    "        if r.status_code not in range(200, 299):\n",
    "            raise Exception(\"Could not authenticate client.\")\n",
    "            # return False\n",
    "        data = r.json()\n",
    "        now = datetime.datetime.now()\n",
    "        access_token = data['access_token']\n",
    "        expires_in = data['expires_in'] # seconds\n",
    "        expires = now + datetime.timedelta(seconds=expires_in)\n",
    "        self.access_token = access_token\n",
    "        self.access_token_expires = expires\n",
    "        self.access_token_did_expire = expires < now\n",
    "        return True\n",
    "    \n",
    "    def get_access_token(self):\n",
    "        token = self.access_token\n",
    "        expires = self.access_token_expires\n",
    "        now = datetime.datetime.now()\n",
    "        if expires < now:\n",
    "            self.perform_auth()\n",
    "            return self.get_access_token()\n",
    "        elif token == None:\n",
    "            self.perform_auth()\n",
    "            return self.get_access_token() \n",
    "        return token\n",
    "    \n",
    "    def get_resource_header(self):\n",
    "        access_token = self.get_access_token()\n",
    "        headers = {\n",
    "            \"Authorization\": f\"Bearer {access_token}\"\n",
    "        }\n",
    "        return headers\n",
    "        \n",
    "        \n",
    "    def get_resource(self, lookup_id, resource_type='albums', version='v1'):\n",
    "        endpoint = f\"https://api.spotify.com/{version}/{resource_type}/{lookup_id}\"\n",
    "        headers = self.get_resource_header()\n",
    "        r = requests.get(endpoint, headers=headers)\n",
    "        if r.status_code not in range(200, 299):\n",
    "            return {}\n",
    "        return r.json()\n",
    "    \n",
    "    def get_album(self, _id):\n",
    "        return self.get_resource(_id, resource_type='albums')\n",
    "    \n",
    "    def get_artist(self, _id):\n",
    "        return self.get_resource(_id, resource_type='artists')\n",
    "    \n",
    "    def base_search(self, query_params): # type\n",
    "        headers = self.get_resource_header()\n",
    "        endpoint = \"https://api.spotify.com/v1/search\"\n",
    "        lookup_url = f\"{endpoint}?{query_params}\"\n",
    "        r = requests.get(lookup_url, headers=headers)\n",
    "        if r.status_code not in range(200, 299):  \n",
    "            return {}\n",
    "        return r.json()\n",
    "    \n",
    "    def search(self, query=None, operator=None, operator_query=None, search_type='artist' ):\n",
    "        if query == None:\n",
    "            raise Exception(\"A query is required\")\n",
    "        if isinstance(query, dict):\n",
    "            query = \" \".join([f\"{k}:{v}\" for k,v in query.items()])\n",
    "        if operator != None and operator_query != None:\n",
    "            if operator.lower() == \"or\" or operator.lower() == \"not\":\n",
    "                operator = operator.upper()\n",
    "                if isinstance(operator_query, str):\n",
    "                    query = f\"{query} {operator} {operator_query}\"\n",
    "        query_params = urlencode({\"q\": query, \"type\": search_type.lower()})\n",
    "        #print(query_params)\n",
    "        return self.base_search(query_params)"
   ]
  },
  {
   "cell_type": "code",
   "execution_count": 4,
   "metadata": {},
   "outputs": [],
   "source": [
    "spotify = SpotifyAPI(client_id, client_secret)"
   ]
  },
  {
   "cell_type": "code",
   "execution_count": 72,
   "metadata": {},
   "outputs": [],
   "source": [
    "tracks = pd.read_csv('../data/unique_songs.csv')"
   ]
  },
  {
   "cell_type": "code",
   "execution_count": 73,
   "metadata": {},
   "outputs": [
    {
     "data": {
      "text/html": [
       "<div>\n",
       "<style scoped>\n",
       "    .dataframe tbody tr th:only-of-type {\n",
       "        vertical-align: middle;\n",
       "    }\n",
       "\n",
       "    .dataframe tbody tr th {\n",
       "        vertical-align: top;\n",
       "    }\n",
       "\n",
       "    .dataframe thead th {\n",
       "        text-align: right;\n",
       "    }\n",
       "</style>\n",
       "<table border=\"1\" class=\"dataframe\">\n",
       "  <thead>\n",
       "    <tr style=\"text-align: right;\">\n",
       "      <th></th>\n",
       "      <th>Unnamed: 0</th>\n",
       "      <th>song</th>\n",
       "      <th>artist</th>\n",
       "      <th>primary_artist</th>\n",
       "      <th>featured_artist_1</th>\n",
       "      <th>featured_artist_2</th>\n",
       "    </tr>\n",
       "  </thead>\n",
       "  <tbody>\n",
       "    <tr>\n",
       "      <th>0</th>\n",
       "      <td>0</td>\n",
       "      <td>Easy On Me</td>\n",
       "      <td>Adele</td>\n",
       "      <td>Adele</td>\n",
       "      <td>NaN</td>\n",
       "      <td>NaN</td>\n",
       "    </tr>\n",
       "    <tr>\n",
       "      <th>1</th>\n",
       "      <td>1</td>\n",
       "      <td>Stay</td>\n",
       "      <td>The Kid LAROI &amp; Justin Bieber</td>\n",
       "      <td>The Kid LAROI</td>\n",
       "      <td>Justin Bieber</td>\n",
       "      <td>NaN</td>\n",
       "    </tr>\n",
       "    <tr>\n",
       "      <th>2</th>\n",
       "      <td>2</td>\n",
       "      <td>Industry Baby</td>\n",
       "      <td>Lil Nas X &amp; Jack Harlow</td>\n",
       "      <td>Lil Nas X</td>\n",
       "      <td>Jack Harlow</td>\n",
       "      <td>NaN</td>\n",
       "    </tr>\n",
       "    <tr>\n",
       "      <th>3</th>\n",
       "      <td>3</td>\n",
       "      <td>Fancy Like</td>\n",
       "      <td>Walker Hayes</td>\n",
       "      <td>Walker Hayes</td>\n",
       "      <td>NaN</td>\n",
       "      <td>NaN</td>\n",
       "    </tr>\n",
       "    <tr>\n",
       "      <th>4</th>\n",
       "      <td>4</td>\n",
       "      <td>Bad Habits</td>\n",
       "      <td>Ed Sheeran</td>\n",
       "      <td>Ed Sheeran</td>\n",
       "      <td>NaN</td>\n",
       "      <td>NaN</td>\n",
       "    </tr>\n",
       "  </tbody>\n",
       "</table>\n",
       "</div>"
      ],
      "text/plain": [
       "   Unnamed: 0           song                         artist primary_artist  \\\n",
       "0           0     Easy On Me                          Adele          Adele   \n",
       "1           1           Stay  The Kid LAROI & Justin Bieber  The Kid LAROI   \n",
       "2           2  Industry Baby        Lil Nas X & Jack Harlow      Lil Nas X   \n",
       "3           3     Fancy Like                   Walker Hayes   Walker Hayes   \n",
       "4           4     Bad Habits                     Ed Sheeran     Ed Sheeran   \n",
       "\n",
       "  featured_artist_1 featured_artist_2  \n",
       "0               NaN               NaN  \n",
       "1     Justin Bieber               NaN  \n",
       "2       Jack Harlow               NaN  \n",
       "3               NaN               NaN  \n",
       "4               NaN               NaN  "
      ]
     },
     "execution_count": 73,
     "metadata": {},
     "output_type": "execute_result"
    }
   ],
   "source": [
    "tracks.head()"
   ]
  },
  {
   "cell_type": "code",
   "execution_count": 74,
   "metadata": {},
   "outputs": [
    {
     "name": "stdout",
     "output_type": "stream",
     "text": [
      "<class 'pandas.core.frame.DataFrame'>\n",
      "RangeIndex: 29681 entries, 0 to 29680\n",
      "Data columns (total 6 columns):\n",
      " #   Column             Non-Null Count  Dtype \n",
      "---  ------             --------------  ----- \n",
      " 0   Unnamed: 0         29681 non-null  int64 \n",
      " 1   song               29681 non-null  object\n",
      " 2   artist             29681 non-null  object\n",
      " 3   primary_artist     29681 non-null  object\n",
      " 4   featured_artist_1  4367 non-null   object\n",
      " 5   featured_artist_2  592 non-null    object\n",
      "dtypes: int64(1), object(5)\n",
      "memory usage: 1.4+ MB\n"
     ]
    }
   ],
   "source": [
    "tracks.info()"
   ]
  },
  {
   "cell_type": "code",
   "execution_count": 75,
   "metadata": {},
   "outputs": [],
   "source": [
    "tracks_spotify = tracks[[\"song\",\"primary_artist\"]]"
   ]
  },
  {
   "cell_type": "code",
   "execution_count": 76,
   "metadata": {},
   "outputs": [
    {
     "data": {
      "text/html": [
       "<div>\n",
       "<style scoped>\n",
       "    .dataframe tbody tr th:only-of-type {\n",
       "        vertical-align: middle;\n",
       "    }\n",
       "\n",
       "    .dataframe tbody tr th {\n",
       "        vertical-align: top;\n",
       "    }\n",
       "\n",
       "    .dataframe thead th {\n",
       "        text-align: right;\n",
       "    }\n",
       "</style>\n",
       "<table border=\"1\" class=\"dataframe\">\n",
       "  <thead>\n",
       "    <tr style=\"text-align: right;\">\n",
       "      <th></th>\n",
       "      <th>song</th>\n",
       "      <th>primary_artist</th>\n",
       "    </tr>\n",
       "  </thead>\n",
       "  <tbody>\n",
       "    <tr>\n",
       "      <th>0</th>\n",
       "      <td>Easy On Me</td>\n",
       "      <td>Adele</td>\n",
       "    </tr>\n",
       "    <tr>\n",
       "      <th>1</th>\n",
       "      <td>Stay</td>\n",
       "      <td>The Kid LAROI</td>\n",
       "    </tr>\n",
       "    <tr>\n",
       "      <th>2</th>\n",
       "      <td>Industry Baby</td>\n",
       "      <td>Lil Nas X</td>\n",
       "    </tr>\n",
       "    <tr>\n",
       "      <th>3</th>\n",
       "      <td>Fancy Like</td>\n",
       "      <td>Walker Hayes</td>\n",
       "    </tr>\n",
       "    <tr>\n",
       "      <th>4</th>\n",
       "      <td>Bad Habits</td>\n",
       "      <td>Ed Sheeran</td>\n",
       "    </tr>\n",
       "  </tbody>\n",
       "</table>\n",
       "</div>"
      ],
      "text/plain": [
       "            song primary_artist\n",
       "0     Easy On Me          Adele\n",
       "1           Stay  The Kid LAROI\n",
       "2  Industry Baby      Lil Nas X\n",
       "3     Fancy Like   Walker Hayes\n",
       "4     Bad Habits     Ed Sheeran"
      ]
     },
     "execution_count": 76,
     "metadata": {},
     "output_type": "execute_result"
    }
   ],
   "source": [
    "tracks_spotify.head()"
   ]
  },
  {
   "cell_type": "code",
   "execution_count": 77,
   "metadata": {},
   "outputs": [
    {
     "name": "stderr",
     "output_type": "stream",
     "text": [
      "D:\\Users\\Alfaisal\\Anaconda3\\lib\\site-packages\\ipykernel_launcher.py:1: SettingWithCopyWarning: \n",
      "A value is trying to be set on a copy of a slice from a DataFrame.\n",
      "Try using .loc[row_indexer,col_indexer] = value instead\n",
      "\n",
      "See the caveats in the documentation: https://pandas.pydata.org/pandas-docs/stable/user_guide/indexing.html#returning-a-view-versus-a-copy\n",
      "  \"\"\"Entry point for launching an IPython kernel.\n"
     ]
    }
   ],
   "source": [
    "tracks_spotify[\"is_collected\"] = False"
   ]
  },
  {
   "cell_type": "code",
   "execution_count": 78,
   "metadata": {},
   "outputs": [
    {
     "data": {
      "text/html": [
       "<div>\n",
       "<style scoped>\n",
       "    .dataframe tbody tr th:only-of-type {\n",
       "        vertical-align: middle;\n",
       "    }\n",
       "\n",
       "    .dataframe tbody tr th {\n",
       "        vertical-align: top;\n",
       "    }\n",
       "\n",
       "    .dataframe thead th {\n",
       "        text-align: right;\n",
       "    }\n",
       "</style>\n",
       "<table border=\"1\" class=\"dataframe\">\n",
       "  <thead>\n",
       "    <tr style=\"text-align: right;\">\n",
       "      <th></th>\n",
       "      <th>song</th>\n",
       "      <th>primary_artist</th>\n",
       "      <th>is_collected</th>\n",
       "    </tr>\n",
       "  </thead>\n",
       "  <tbody>\n",
       "    <tr>\n",
       "      <th>0</th>\n",
       "      <td>Easy On Me</td>\n",
       "      <td>Adele</td>\n",
       "      <td>False</td>\n",
       "    </tr>\n",
       "    <tr>\n",
       "      <th>1</th>\n",
       "      <td>Stay</td>\n",
       "      <td>The Kid LAROI</td>\n",
       "      <td>False</td>\n",
       "    </tr>\n",
       "    <tr>\n",
       "      <th>2</th>\n",
       "      <td>Industry Baby</td>\n",
       "      <td>Lil Nas X</td>\n",
       "      <td>False</td>\n",
       "    </tr>\n",
       "    <tr>\n",
       "      <th>3</th>\n",
       "      <td>Fancy Like</td>\n",
       "      <td>Walker Hayes</td>\n",
       "      <td>False</td>\n",
       "    </tr>\n",
       "    <tr>\n",
       "      <th>4</th>\n",
       "      <td>Bad Habits</td>\n",
       "      <td>Ed Sheeran</td>\n",
       "      <td>False</td>\n",
       "    </tr>\n",
       "    <tr>\n",
       "      <th>...</th>\n",
       "      <td>...</td>\n",
       "      <td>...</td>\n",
       "      <td>...</td>\n",
       "    </tr>\n",
       "    <tr>\n",
       "      <th>29676</th>\n",
       "      <td>Stay</td>\n",
       "      <td>The Ames Brothers</td>\n",
       "      <td>False</td>\n",
       "    </tr>\n",
       "    <tr>\n",
       "      <th>29677</th>\n",
       "      <td>Over And Over</td>\n",
       "      <td>Thurston Harris</td>\n",
       "      <td>False</td>\n",
       "    </tr>\n",
       "    <tr>\n",
       "      <th>29678</th>\n",
       "      <td>Little Serenade</td>\n",
       "      <td>The Ames Brothers</td>\n",
       "      <td>False</td>\n",
       "    </tr>\n",
       "    <tr>\n",
       "      <th>29679</th>\n",
       "      <td>I'll Get By (As Long As I Have You)</td>\n",
       "      <td>Billy Williams</td>\n",
       "      <td>False</td>\n",
       "    </tr>\n",
       "    <tr>\n",
       "      <th>29680</th>\n",
       "      <td>Judy</td>\n",
       "      <td>Frankie Vaughan</td>\n",
       "      <td>False</td>\n",
       "    </tr>\n",
       "  </tbody>\n",
       "</table>\n",
       "<p>29681 rows × 3 columns</p>\n",
       "</div>"
      ],
      "text/plain": [
       "                                      song     primary_artist  is_collected\n",
       "0                               Easy On Me              Adele         False\n",
       "1                                     Stay      The Kid LAROI         False\n",
       "2                            Industry Baby          Lil Nas X         False\n",
       "3                               Fancy Like       Walker Hayes         False\n",
       "4                               Bad Habits         Ed Sheeran         False\n",
       "...                                    ...                ...           ...\n",
       "29676                                 Stay  The Ames Brothers         False\n",
       "29677                        Over And Over    Thurston Harris         False\n",
       "29678                      Little Serenade  The Ames Brothers         False\n",
       "29679  I'll Get By (As Long As I Have You)     Billy Williams         False\n",
       "29680                                 Judy    Frankie Vaughan         False\n",
       "\n",
       "[29681 rows x 3 columns]"
      ]
     },
     "execution_count": 78,
     "metadata": {},
     "output_type": "execute_result"
    }
   ],
   "source": [
    "tracks_spotify"
   ]
  },
  {
   "cell_type": "code",
   "execution_count": 100,
   "metadata": {},
   "outputs": [],
   "source": [
    "def get_info(i):\n",
    "    sp_song = tracks_spotify.loc[i,\"song\"]\n",
    "    sp_artist = tracks_spotify.loc[i,\"primary_artist\"]\n",
    "    spot_song = spotify.search({\"track\": sp_song , \"artist\":sp_artist }, search_type='Track')\n",
    "    tracks_spotify.loc[i,\"match_song\"] = spot_song['tracks']['items'][0][\"name\"]\n",
    "    tracks_spotify.loc[i,\"duration_ms\"] = spot_song['tracks']['items'][0][\"duration_ms\"]\n",
    "    tracks_spotify.loc[i,\"spotify_popularity\"] = spot_song['tracks']['items'][0][\"popularity\"]\n",
    "    tracks_spotify.loc[i,\"song_id\"] = spot_song['tracks']['items'][0][\"id\"]\n",
    "    tracks_spotify.loc[i,\"song_uri\"] = spot_song['tracks'][\"items\"][0][\"uri\"]\n",
    "    \n",
    "    #artist info\n",
    "    tracks_spotify.loc[i,\"match_artist\"] =spot_song['tracks']['items'][0]['artists'][0]['name']\n",
    "    tracks_spotify.loc[i,\"artist_id\"] = spot_song['tracks'][\"items\"][0][\"artists\"][0]['id']\n",
    "    tracks_spotify.loc[i,\"artist_id\"] = spot_song['tracks'][\"items\"][0][\"artists\"][0]['uri']\n",
    "    #album info\n",
    "    tracks_spotify.loc[i,\"release_date\"] = spot_song['tracks'][\"items\"][0][\"album\"]['release_date']\n",
    "    tracks_spotify.loc[i,\"Album_id\"] = spot_song['tracks'][\"items\"][0][\"album\"]['id']\n",
    "    tracks_spotify.loc[i,\"album_type\"] = spot_song['tracks'][\"items\"][0][\"album\"]['album_type']\n",
    "    tracks_spotify.loc[i,\"album_name\"] = spot_song['tracks'][\"items\"][0][\"album\"]['name']\n",
    "    tracks_spotify.loc[i,\"album_uri\"] = spot_song['tracks'][\"items\"][0][\"album\"]['uri']\n",
    "    \n",
    "    tracks_spotify.loc[i,\"is_collected\"] = True"
   ]
  },
  {
   "cell_type": "code",
   "execution_count": 104,
   "metadata": {},
   "outputs": [
    {
     "name": "stderr",
     "output_type": "stream",
     "text": [
      "  0%|          | 0/101 [00:00<?, ?it/s]"
     ]
    },
    {
     "name": "stdout",
     "output_type": "stream",
     "text": [
      "q=track%3ABlow+Your+Mind+%28Mwah%29+artist%3ADua+Lipa&type=track\n"
     ]
    },
    {
     "name": "stderr",
     "output_type": "stream",
     "text": [
      "  2%|▏         | 2/101 [00:00<00:46,  2.11it/s]"
     ]
    },
    {
     "name": "stdout",
     "output_type": "stream",
     "text": [
      "q=track%3ADifferent+For+Girls+artist%3ADierks+Bentley&type=track\n"
     ]
    },
    {
     "name": "stderr",
     "output_type": "stream",
     "text": [
      "  3%|▎         | 3/101 [00:01<00:57,  1.69it/s]"
     ]
    },
    {
     "name": "stdout",
     "output_type": "stream",
     "text": [
      "q=track%3ATHat+Part+artist%3AScHoolboy+Q&type=track\n"
     ]
    },
    {
     "name": "stderr",
     "output_type": "stream",
     "text": [
      "  4%|▍         | 4/101 [00:02<01:04,  1.51it/s]"
     ]
    },
    {
     "name": "stdout",
     "output_type": "stream",
     "text": [
      "q=track%3AAll+In+My+Head+%28Flex%29+artist%3AFifth+Harmony&type=track\n"
     ]
    },
    {
     "name": "stderr",
     "output_type": "stream",
     "text": [
      "  5%|▍         | 5/101 [00:03<01:08,  1.40it/s]"
     ]
    },
    {
     "name": "stdout",
     "output_type": "stream",
     "text": [
      "q=track%3ARock+On+artist%3ATucker+Beathard&type=track\n"
     ]
    },
    {
     "name": "stderr",
     "output_type": "stream",
     "text": [
      "  6%|▌         | 6/101 [00:04<01:08,  1.38it/s]"
     ]
    },
    {
     "name": "stdout",
     "output_type": "stream",
     "text": [
      "q=track%3AI+Met+A+Girl+artist%3AWilliam+Michael+Morgan&type=track\n"
     ]
    },
    {
     "name": "stderr",
     "output_type": "stream",
     "text": [
      "  7%|▋         | 7/101 [00:04<01:11,  1.32it/s]"
     ]
    },
    {
     "name": "stdout",
     "output_type": "stream",
     "text": [
      "q=track%3AI+Got+The+Keys+artist%3ADJ+Khaled&type=track\n"
     ]
    },
    {
     "name": "stderr",
     "output_type": "stream",
     "text": [
      "  8%|▊         | 8/101 [00:05<01:12,  1.29it/s]"
     ]
    },
    {
     "name": "stdout",
     "output_type": "stream",
     "text": [
      "q=track%3AJust+Like+Fire+artist%3AP%21nk&type=track\n"
     ]
    },
    {
     "name": "stderr",
     "output_type": "stream",
     "text": [
      "  9%|▉         | 9/101 [00:06<01:11,  1.29it/s]"
     ]
    },
    {
     "name": "stdout",
     "output_type": "stream",
     "text": [
      "q=track%3AFather+Stretch+My+Hands+Pt.+1+artist%3AKanye+West&type=track\n"
     ]
    },
    {
     "name": "stderr",
     "output_type": "stream",
     "text": [
      " 10%|▉         | 10/101 [00:07<01:10,  1.30it/s]"
     ]
    },
    {
     "name": "stdout",
     "output_type": "stream",
     "text": [
      "q=track%3AYou+Don%27t+Own+Me+artist%3AGrace&type=track\n"
     ]
    },
    {
     "name": "stderr",
     "output_type": "stream",
     "text": [
      " 11%|█         | 11/101 [00:07<01:08,  1.31it/s]"
     ]
    },
    {
     "name": "stdout",
     "output_type": "stream",
     "text": [
      "q=track%3APeter+Pan+artist%3AKelsea+Ballerini&type=track\n"
     ]
    },
    {
     "name": "stderr",
     "output_type": "stream",
     "text": [
      " 12%|█▏        | 12/101 [00:08<01:07,  1.31it/s]"
     ]
    },
    {
     "name": "stdout",
     "output_type": "stream",
     "text": [
      "q=track%3AKids+artist%3AOneRepublic&type=track\n"
     ]
    },
    {
     "name": "stderr",
     "output_type": "stream",
     "text": [
      " 13%|█▎        | 13/101 [00:09<01:07,  1.30it/s]"
     ]
    },
    {
     "name": "stdout",
     "output_type": "stream",
     "text": [
      "q=track%3AForever+Country+artist%3AArtists+Of+Then%2C+Now&type=track\n"
     ]
    },
    {
     "name": "stderr",
     "output_type": "stream",
     "text": [
      " 14%|█▍        | 14/101 [00:10<01:08,  1.28it/s]"
     ]
    },
    {
     "name": "stdout",
     "output_type": "stream",
     "text": [
      "q=track%3ACranes+In+The+Sky+artist%3ASolange&type=track\n"
     ]
    },
    {
     "name": "stderr",
     "output_type": "stream",
     "text": [
      " 15%|█▍        | 15/101 [00:11<01:06,  1.29it/s]"
     ]
    },
    {
     "name": "stdout",
     "output_type": "stream",
     "text": [
      "q=track%3ALow+Life+artist%3AFuture&type=track\n"
     ]
    },
    {
     "name": "stderr",
     "output_type": "stream",
     "text": [
      " 16%|█▌        | 16/101 [00:11<01:06,  1.27it/s]"
     ]
    },
    {
     "name": "stdout",
     "output_type": "stream",
     "text": [
      "q=track%3AMake+You+Miss+Me+artist%3ASam+Hunt&type=track\n"
     ]
    },
    {
     "name": "stderr",
     "output_type": "stream",
     "text": [
      " 17%|█▋        | 17/101 [00:12<01:06,  1.25it/s]"
     ]
    },
    {
     "name": "stdout",
     "output_type": "stream",
     "text": [
      "q=track%3ADon%27t+Touch+My+Hair+artist%3ASolange&type=track\n"
     ]
    },
    {
     "name": "stderr",
     "output_type": "stream",
     "text": [
      " 18%|█▊        | 18/101 [00:13<01:13,  1.14it/s]"
     ]
    },
    {
     "name": "stdout",
     "output_type": "stream",
     "text": [
      "q=track%3ALIFTED+artist%3ACL&type=track\n"
     ]
    },
    {
     "name": "stderr",
     "output_type": "stream",
     "text": [
      " 19%|█▉        | 19/101 [00:14<01:10,  1.16it/s]"
     ]
    },
    {
     "name": "stdout",
     "output_type": "stream",
     "text": [
      "q=track%3AWork+artist%3ARihanna&type=track\n"
     ]
    },
    {
     "name": "stderr",
     "output_type": "stream",
     "text": [
      " 20%|█▉        | 20/101 [00:15<01:08,  1.19it/s]"
     ]
    },
    {
     "name": "stdout",
     "output_type": "stream",
     "text": [
      "q=track%3AI+Took+A+Pill+In+Ibiza+artist%3AMike+Posner&type=track\n"
     ]
    },
    {
     "name": "stderr",
     "output_type": "stream",
     "text": [
      " 21%|██        | 21/101 [00:16<01:06,  1.20it/s]"
     ]
    },
    {
     "name": "stdout",
     "output_type": "stream",
     "text": [
      "q=track%3ANever+Be+Like+You+artist%3AFlume&type=track\n"
     ]
    },
    {
     "name": "stderr",
     "output_type": "stream",
     "text": [
      " 22%|██▏       | 22/101 [00:16<01:04,  1.23it/s]"
     ]
    },
    {
     "name": "stdout",
     "output_type": "stream",
     "text": [
      "q=track%3AH.O.L.Y.+artist%3AFlorida+Georgia+Line&type=track\n"
     ]
    },
    {
     "name": "stderr",
     "output_type": "stream",
     "text": [
      " 23%|██▎       | 23/101 [00:17<01:03,  1.24it/s]"
     ]
    },
    {
     "name": "stdout",
     "output_type": "stream",
     "text": [
      "q=track%3AMama+Said+artist%3ALukas+Graham&type=track\n"
     ]
    },
    {
     "name": "stderr",
     "output_type": "stream",
     "text": [
      " 24%|██▍       | 24/101 [00:18<01:01,  1.24it/s]"
     ]
    },
    {
     "name": "stdout",
     "output_type": "stream",
     "text": [
      "q=track%3AMe+Too+artist%3AMeghan+Trainor&type=track\n"
     ]
    },
    {
     "name": "stderr",
     "output_type": "stream",
     "text": [
      " 25%|██▍       | 25/101 [00:19<01:01,  1.24it/s]"
     ]
    },
    {
     "name": "stdout",
     "output_type": "stream",
     "text": [
      "q=track%3APurple+Lamborghini+artist%3ASkrillex&type=track\n"
     ]
    },
    {
     "name": "stderr",
     "output_type": "stream",
     "text": [
      " 26%|██▌       | 26/101 [00:20<00:59,  1.26it/s]"
     ]
    },
    {
     "name": "stdout",
     "output_type": "stream",
     "text": [
      "q=track%3AWith+You+Tonight+%2F+Hasta+El+Amanecer+artist%3ANicky+Jam&type=track\n"
     ]
    },
    {
     "name": "stderr",
     "output_type": "stream",
     "text": [
      " 27%|██▋       | 27/101 [00:20<00:58,  1.27it/s]"
     ]
    },
    {
     "name": "stdout",
     "output_type": "stream",
     "text": [
      "q=track%3AYou+Look+Like+I+Need+A+Drink+artist%3AJustin+Moore&type=track\n"
     ]
    },
    {
     "name": "stderr",
     "output_type": "stream",
     "text": [
      " 28%|██▊       | 28/101 [00:21<00:59,  1.24it/s]"
     ]
    },
    {
     "name": "stdout",
     "output_type": "stream",
     "text": [
      "q=track%3ANo+Shopping+artist%3AFrench+Montana&type=track\n"
     ]
    },
    {
     "name": "stderr",
     "output_type": "stream",
     "text": [
      " 29%|██▊       | 29/101 [00:22<00:57,  1.26it/s]"
     ]
    },
    {
     "name": "stdout",
     "output_type": "stream",
     "text": [
      "q=track%3A7+Years+artist%3ALukas+Graham&type=track\n"
     ]
    },
    {
     "name": "stderr",
     "output_type": "stream",
     "text": [
      " 30%|██▉       | 30/101 [00:23<00:56,  1.25it/s]"
     ]
    },
    {
     "name": "stdout",
     "output_type": "stream",
     "text": [
      "q=track%3ACancer+artist%3Atwenty+one+pilots&type=track\n"
     ]
    },
    {
     "name": "stderr",
     "output_type": "stream",
     "text": [
      " 31%|███       | 31/101 [00:24<00:55,  1.25it/s]"
     ]
    },
    {
     "name": "stdout",
     "output_type": "stream",
     "text": [
      "q=track%3AMy+PYT+artist%3AWale&type=track\n"
     ]
    },
    {
     "name": "stderr",
     "output_type": "stream",
     "text": [
      " 32%|███▏      | 32/101 [00:25<00:57,  1.20it/s]"
     ]
    },
    {
     "name": "stdout",
     "output_type": "stream",
     "text": [
      "q=track%3AGrass+Ain%27t+Greener+artist%3AChris+Brown&type=track\n"
     ]
    },
    {
     "name": "stderr",
     "output_type": "stream",
     "text": [
      " 33%|███▎      | 33/101 [00:25<00:55,  1.22it/s]"
     ]
    },
    {
     "name": "stdout",
     "output_type": "stream",
     "text": [
      "q=track%3AStressed+Out+artist%3Atwenty+one+pilots&type=track\n"
     ]
    },
    {
     "name": "stderr",
     "output_type": "stream",
     "text": [
      " 34%|███▎      | 34/101 [00:26<00:55,  1.21it/s]"
     ]
    },
    {
     "name": "stdout",
     "output_type": "stream",
     "text": [
      "q=track%3ADon%27t+Mind+artist%3AKent+Jones&type=track\n"
     ]
    },
    {
     "name": "stderr",
     "output_type": "stream",
     "text": [
      " 35%|███▍      | 35/101 [00:27<00:52,  1.26it/s]"
     ]
    },
    {
     "name": "stdout",
     "output_type": "stream",
     "text": [
      "q=track%3ARise+artist%3AKaty+Perry&type=track\n"
     ]
    },
    {
     "name": "stderr",
     "output_type": "stream",
     "text": [
      " 36%|███▌      | 36/101 [00:28<00:51,  1.27it/s]"
     ]
    },
    {
     "name": "stdout",
     "output_type": "stream",
     "text": [
      "q=track%3AMake+Me...+artist%3ABritney+Spears&type=track\n"
     ]
    },
    {
     "name": "stderr",
     "output_type": "stream",
     "text": [
      " 37%|███▋      | 37/101 [00:29<00:50,  1.26it/s]"
     ]
    },
    {
     "name": "stdout",
     "output_type": "stream",
     "text": [
      "q=track%3AShe%27s+Got+A+Way+With+Words+artist%3ABlake+Shelton&type=track\n"
     ]
    },
    {
     "name": "stderr",
     "output_type": "stream",
     "text": [
      " 38%|███▊      | 38/101 [00:29<00:50,  1.25it/s]"
     ]
    },
    {
     "name": "stdout",
     "output_type": "stream",
     "text": [
      "q=track%3AChilds+Play+artist%3ADrake&type=track\n"
     ]
    },
    {
     "name": "stderr",
     "output_type": "stream",
     "text": [
      " 39%|███▊      | 39/101 [00:30<00:50,  1.24it/s]"
     ]
    },
    {
     "name": "stdout",
     "output_type": "stream",
     "text": [
      "q=track%3AAmerican+Country+Love+Song+artist%3AJake+Owen&type=track\n"
     ]
    },
    {
     "name": "stderr",
     "output_type": "stream",
     "text": [
      " 40%|███▉      | 40/101 [00:31<00:49,  1.22it/s]"
     ]
    },
    {
     "name": "stdout",
     "output_type": "stream",
     "text": [
      "q=track%3ASorry+artist%3ABeyonce&type=track\n"
     ]
    },
    {
     "name": "stderr",
     "output_type": "stream",
     "text": [
      " 41%|████      | 41/101 [00:32<00:48,  1.24it/s]"
     ]
    },
    {
     "name": "stdout",
     "output_type": "stream",
     "text": [
      "q=track%3AFrom+The+Ground+Up+artist%3ADan+%2B+Shay&type=track\n"
     ]
    },
    {
     "name": "stderr",
     "output_type": "stream",
     "text": [
      " 42%|████▏     | 42/101 [00:33<00:49,  1.20it/s]"
     ]
    },
    {
     "name": "stdout",
     "output_type": "stream",
     "text": [
      "q=track%3AKill+Em+With+Kindness+artist%3ASelena+Gomez&type=track\n"
     ]
    },
    {
     "name": "stderr",
     "output_type": "stream",
     "text": [
      " 43%|████▎     | 43/101 [00:33<00:48,  1.21it/s]"
     ]
    },
    {
     "name": "stdout",
     "output_type": "stream",
     "text": [
      "q=track%3AFamous+artist%3AKanye+West&type=track\n"
     ]
    },
    {
     "name": "stderr",
     "output_type": "stream",
     "text": [
      " 44%|████▎     | 44/101 [00:34<00:46,  1.24it/s]"
     ]
    },
    {
     "name": "stdout",
     "output_type": "stream",
     "text": [
      "q=track%3ACake+By+The+Ocean+artist%3ADNCE&type=track\n"
     ]
    },
    {
     "name": "stderr",
     "output_type": "stream",
     "text": [
      " 45%|████▍     | 45/101 [00:35<00:44,  1.25it/s]"
     ]
    },
    {
     "name": "stdout",
     "output_type": "stream",
     "text": [
      "q=track%3AWicked+artist%3AFuture&type=track\n"
     ]
    },
    {
     "name": "stderr",
     "output_type": "stream",
     "text": [
      " 46%|████▌     | 46/101 [00:36<00:44,  1.24it/s]"
     ]
    },
    {
     "name": "stdout",
     "output_type": "stream",
     "text": [
      "q=track%3AWyclef+Jean+artist%3AYoung+Thug&type=track\n"
     ]
    },
    {
     "name": "stderr",
     "output_type": "stream",
     "text": [
      " 47%|████▋     | 47/101 [00:37<00:42,  1.27it/s]"
     ]
    },
    {
     "name": "stdout",
     "output_type": "stream",
     "text": [
      "q=track%3ARecord+Year+artist%3AEric+Church&type=track\n"
     ]
    },
    {
     "name": "stderr",
     "output_type": "stream",
     "text": [
      " 48%|████▊     | 48/101 [00:37<00:41,  1.27it/s]"
     ]
    },
    {
     "name": "stdout",
     "output_type": "stream",
     "text": [
      "q=track%3ADuele+El+Corazon+artist%3AEnrique+Iglesias+Feat.+Wisin+or+Tinashe&type=track\n"
     ]
    },
    {
     "name": "stderr",
     "output_type": "stream",
     "text": [
      " 49%|████▊     | 49/101 [00:38<00:40,  1.29it/s]"
     ]
    },
    {
     "name": "stdout",
     "output_type": "stream",
     "text": [
      "q=track%3AChurch+Bells+artist%3ACarrie+Underwood&type=track\n"
     ]
    },
    {
     "name": "stderr",
     "output_type": "stream",
     "text": [
      " 50%|████▉     | 50/101 [00:39<00:39,  1.29it/s]"
     ]
    },
    {
     "name": "stdout",
     "output_type": "stream",
     "text": [
      "q=track%3ALove+Yourself+artist%3AJustin+Bieber&type=track\n"
     ]
    },
    {
     "name": "stderr",
     "output_type": "stream",
     "text": [
      " 50%|█████     | 51/101 [00:40<00:40,  1.23it/s]"
     ]
    },
    {
     "name": "stdout",
     "output_type": "stream",
     "text": [
      "q=track%3ANikes+artist%3AFrank+Ocean&type=track\n"
     ]
    },
    {
     "name": "stderr",
     "output_type": "stream",
     "text": [
      " 51%|█████▏    | 52/101 [00:41<00:39,  1.25it/s]"
     ]
    },
    {
     "name": "stdout",
     "output_type": "stream",
     "text": [
      "q=track%3AIvy+artist%3AFrank+Ocean&type=track\n"
     ]
    },
    {
     "name": "stderr",
     "output_type": "stream",
     "text": [
      " 52%|█████▏    | 53/101 [00:41<00:37,  1.27it/s]"
     ]
    },
    {
     "name": "stdout",
     "output_type": "stream",
     "text": [
      "q=track%3APink+%2B+White+artist%3AFrank+Ocean&type=track\n"
     ]
    },
    {
     "name": "stderr",
     "output_type": "stream",
     "text": [
      " 53%|█████▎    | 54/101 [00:42<00:36,  1.28it/s]"
     ]
    },
    {
     "name": "stdout",
     "output_type": "stream",
     "text": [
      "q=track%3ASolo+artist%3AFrank+Ocean&type=track\n"
     ]
    },
    {
     "name": "stderr",
     "output_type": "stream",
     "text": [
      " 54%|█████▍    | 55/101 [00:43<00:37,  1.22it/s]"
     ]
    },
    {
     "name": "stdout",
     "output_type": "stream",
     "text": [
      "q=track%3ANights+artist%3AFrank+Ocean&type=track\n"
     ]
    },
    {
     "name": "stderr",
     "output_type": "stream",
     "text": [
      " 55%|█████▌    | 56/101 [00:44<00:38,  1.18it/s]"
     ]
    },
    {
     "name": "stdout",
     "output_type": "stream",
     "text": [
      "q=track%3AUber+Everywhere+artist%3AMadeinTYO&type=track\n"
     ]
    },
    {
     "name": "stderr",
     "output_type": "stream",
     "text": [
      " 56%|█████▋    | 57/101 [00:45<00:36,  1.19it/s]"
     ]
    },
    {
     "name": "stdout",
     "output_type": "stream",
     "text": [
      "q=track%3AHit+Or+Miss+artist%3AJacob+Sartorius&type=track\n"
     ]
    },
    {
     "name": "stderr",
     "output_type": "stream",
     "text": [
      " 57%|█████▋    | 58/101 [00:45<00:35,  1.22it/s]"
     ]
    },
    {
     "name": "stdout",
     "output_type": "stream",
     "text": [
      "q=track%3AFix+artist%3AChris+Lane&type=track\n"
     ]
    },
    {
     "name": "stderr",
     "output_type": "stream",
     "text": [
      " 58%|█████▊    | 59/101 [00:46<00:33,  1.24it/s]"
     ]
    },
    {
     "name": "stdout",
     "output_type": "stream",
     "text": [
      "q=track%3AToothbrush+artist%3ADNCE&type=track\n"
     ]
    },
    {
     "name": "stderr",
     "output_type": "stream",
     "text": [
      " 59%|█████▉    | 60/101 [00:47<00:33,  1.24it/s]"
     ]
    },
    {
     "name": "stdout",
     "output_type": "stream",
     "text": [
      "q=track%3APop+Style+artist%3ADrake&type=track\n"
     ]
    },
    {
     "name": "stderr",
     "output_type": "stream",
     "text": [
      " 60%|██████    | 61/101 [00:48<00:32,  1.25it/s]"
     ]
    },
    {
     "name": "stdout",
     "output_type": "stream",
     "text": [
      "q=track%3ALights+Come+On+artist%3AJason+Aldean&type=track\n"
     ]
    },
    {
     "name": "stderr",
     "output_type": "stream",
     "text": [
      " 61%|██████▏   | 62/101 [00:49<00:30,  1.28it/s]"
     ]
    },
    {
     "name": "stdout",
     "output_type": "stream",
     "text": [
      "q=track%3ACastaway+artist%3AZac+Brown+Band&type=track\n"
     ]
    },
    {
     "name": "stderr",
     "output_type": "stream",
     "text": [
      " 62%|██████▏   | 63/101 [00:49<00:30,  1.26it/s]"
     ]
    },
    {
     "name": "stdout",
     "output_type": "stream",
     "text": [
      "q=track%3ANo+Money+artist%3AGalantis&type=track\n"
     ]
    },
    {
     "name": "stderr",
     "output_type": "stream",
     "text": [
      " 63%|██████▎   | 64/101 [00:50<00:29,  1.25it/s]"
     ]
    },
    {
     "name": "stdout",
     "output_type": "stream",
     "text": [
      "q=track%3AWasted+Time+artist%3AKeith+Urban&type=track\n"
     ]
    },
    {
     "name": "stderr",
     "output_type": "stream",
     "text": [
      " 64%|██████▍   | 65/101 [00:51<00:29,  1.21it/s]"
     ]
    },
    {
     "name": "stdout",
     "output_type": "stream",
     "text": [
      "q=track%3ALet+It+Go+artist%3AJames+Bay&type=track\n"
     ]
    },
    {
     "name": "stderr",
     "output_type": "stream",
     "text": [
      " 65%|██████▌   | 66/101 [00:52<00:28,  1.21it/s]"
     ]
    },
    {
     "name": "stdout",
     "output_type": "stream",
     "text": [
      "q=track%3ASorry+artist%3AJustin+Bieber&type=track\n"
     ]
    },
    {
     "name": "stderr",
     "output_type": "stream",
     "text": [
      " 66%|██████▋   | 67/101 [00:53<00:27,  1.22it/s]"
     ]
    },
    {
     "name": "stdout",
     "output_type": "stream",
     "text": [
      "q=track%3AHead+Over+Boots+artist%3AJon+Pardi&type=track\n"
     ]
    },
    {
     "name": "stderr",
     "output_type": "stream",
     "text": [
      " 67%|██████▋   | 68/101 [00:54<00:27,  1.21it/s]"
     ]
    },
    {
     "name": "stdout",
     "output_type": "stream",
     "text": [
      "q=track%3ABohemian+Rhapsody+artist%3APanic%21+At+The+Disco&type=track\n"
     ]
    },
    {
     "name": "stderr",
     "output_type": "stream",
     "text": [
      " 68%|██████▊   | 69/101 [00:54<00:26,  1.22it/s]"
     ]
    },
    {
     "name": "stdout",
     "output_type": "stream",
     "text": [
      "q=track%3AAll+The+Way+Up+artist%3AFat+Joe%2C+Remy+Ma&type=track\n"
     ]
    },
    {
     "name": "stderr",
     "output_type": "stream",
     "text": [
      " 69%|██████▉   | 70/101 [00:55<00:25,  1.23it/s]"
     ]
    },
    {
     "name": "stdout",
     "output_type": "stream",
     "text": [
      "q=track%3AClose+artist%3ANick+Jonas&type=track\n"
     ]
    },
    {
     "name": "stderr",
     "output_type": "stream",
     "text": [
      " 70%|███████   | 71/101 [00:56<00:24,  1.23it/s]"
     ]
    },
    {
     "name": "stdout",
     "output_type": "stream",
     "text": [
      "q=track%3AWake+Up+artist%3AFetty+Wap&type=track\n"
     ]
    },
    {
     "name": "stderr",
     "output_type": "stream",
     "text": [
      " 71%|███████▏  | 72/101 [00:57<00:23,  1.25it/s]"
     ]
    },
    {
     "name": "stdout",
     "output_type": "stream",
     "text": [
      "q=track%3AHuntin%27%2C+Fishin%27+%26+Lovin%27+Every+Day+artist%3ALuke+Bryan&type=track\n"
     ]
    },
    {
     "name": "stderr",
     "output_type": "stream",
     "text": [
      " 72%|███████▏  | 73/101 [00:58<00:22,  1.22it/s]"
     ]
    },
    {
     "name": "stdout",
     "output_type": "stream",
     "text": [
      "q=track%3AMy+House+artist%3AFlo+Rida&type=track\n"
     ]
    },
    {
     "name": "stderr",
     "output_type": "stream",
     "text": [
      " 73%|███████▎  | 74/101 [00:58<00:21,  1.23it/s]"
     ]
    },
    {
     "name": "stdout",
     "output_type": "stream",
     "text": [
      "q=track%3ADangerous+Woman+artist%3AAriana+Grande&type=track\n"
     ]
    },
    {
     "name": "stderr",
     "output_type": "stream",
     "text": [
      " 74%|███████▍  | 75/101 [01:00<00:23,  1.11it/s]"
     ]
    },
    {
     "name": "stdout",
     "output_type": "stream",
     "text": [
      "q=track%3ALush+Life+artist%3AZara+Larsson&type=track\n"
     ]
    },
    {
     "name": "stderr",
     "output_type": "stream",
     "text": [
      " 75%|███████▌  | 76/101 [01:00<00:21,  1.15it/s]"
     ]
    },
    {
     "name": "stdout",
     "output_type": "stream",
     "text": [
      "q=track%3AHoly+Key+artist%3ADJ+Khaled&type=track\n"
     ]
    },
    {
     "name": "stderr",
     "output_type": "stream",
     "text": [
      " 76%|███████▌  | 77/101 [01:01<00:20,  1.19it/s]"
     ]
    },
    {
     "name": "stdout",
     "output_type": "stream",
     "text": [
      "q=track%3ABrand+New+artist%3ABen+Rector&type=track\n"
     ]
    },
    {
     "name": "stderr",
     "output_type": "stream",
     "text": [
      " 77%|███████▋  | 78/101 [01:02<00:18,  1.23it/s]"
     ]
    },
    {
     "name": "stdout",
     "output_type": "stream",
     "text": [
      "q=track%3AWherever+I+Go+artist%3AOneRepublic&type=track\n"
     ]
    },
    {
     "name": "stderr",
     "output_type": "stream",
     "text": [
      " 78%|███████▊  | 79/101 [01:03<00:17,  1.24it/s]"
     ]
    },
    {
     "name": "stdout",
     "output_type": "stream",
     "text": [
      "q=track%3ABack+On+Road+artist%3AGucci+Mane&type=track\n"
     ]
    },
    {
     "name": "stderr",
     "output_type": "stream",
     "text": [
      " 79%|███████▉  | 80/101 [01:03<00:17,  1.23it/s]"
     ]
    },
    {
     "name": "stdout",
     "output_type": "stream",
     "text": [
      "q=track%3AP%2A%2A%2A%2A+Print+artist%3AGucci+Mane&type=track\n"
     ]
    },
    {
     "name": "stderr",
     "output_type": "stream",
     "text": [
      " 80%|████████  | 81/101 [01:04<00:16,  1.18it/s]"
     ]
    },
    {
     "name": "stdout",
     "output_type": "stream",
     "text": [
      "q=track%3ALight+It+Up+artist%3AMajor+Lazer&type=track\n"
     ]
    },
    {
     "name": "stderr",
     "output_type": "stream",
     "text": [
      " 81%|████████  | 82/101 [01:05<00:15,  1.22it/s]"
     ]
    },
    {
     "name": "stdout",
     "output_type": "stream",
     "text": [
      "q=track%3ALost+Boy+artist%3ARuth+B&type=track\n"
     ]
    },
    {
     "name": "stderr",
     "output_type": "stream",
     "text": [
      " 82%|████████▏ | 83/101 [01:06<00:14,  1.24it/s]"
     ]
    },
    {
     "name": "stdout",
     "output_type": "stream",
     "text": [
      "q=track%3ANever+Forget+You+artist%3AZara+Larsson&type=track\n"
     ]
    },
    {
     "name": "stderr",
     "output_type": "stream",
     "text": [
      " 83%|████████▎ | 84/101 [01:07<00:13,  1.25it/s]"
     ]
    },
    {
     "name": "stdout",
     "output_type": "stream",
     "text": [
      "q=track%3AGirls+Talk+Boys+artist%3A5+Seconds+Of+Summer&type=track\n"
     ]
    },
    {
     "name": "stderr",
     "output_type": "stream",
     "text": [
      " 84%|████████▍ | 85/101 [01:08<00:12,  1.26it/s]"
     ]
    },
    {
     "name": "stdout",
     "output_type": "stream",
     "text": [
      "q=track%3ABody+Say+artist%3ADemi+Lovato&type=track\n"
     ]
    },
    {
     "name": "stderr",
     "output_type": "stream",
     "text": [
      " 85%|████████▌ | 86/101 [01:08<00:11,  1.27it/s]"
     ]
    },
    {
     "name": "stdout",
     "output_type": "stream",
     "text": [
      "q=track%3ANo+artist%3AMeghan+Trainor&type=track\n"
     ]
    },
    {
     "name": "stderr",
     "output_type": "stream",
     "text": [
      " 86%|████████▌ | 87/101 [01:09<00:11,  1.27it/s]"
     ]
    },
    {
     "name": "stdout",
     "output_type": "stream",
     "text": [
      "q=track%3AM.I.L.F.+%24+artist%3AFergie&type=track\n"
     ]
    },
    {
     "name": "stderr",
     "output_type": "stream",
     "text": [
      " 87%|████████▋ | 88/101 [01:10<00:10,  1.28it/s]"
     ]
    },
    {
     "name": "stdout",
     "output_type": "stream",
     "text": [
      "q=track%3ANight%27s+On+Fire+artist%3ADavid+Nail&type=track\n"
     ]
    },
    {
     "name": "stderr",
     "output_type": "stream",
     "text": [
      " 88%|████████▊ | 89/101 [01:11<00:09,  1.26it/s]"
     ]
    },
    {
     "name": "stdout",
     "output_type": "stream",
     "text": [
      "q=track%3AOphelia+artist%3AThe+Lumineers&type=track\n"
     ]
    },
    {
     "name": "stderr",
     "output_type": "stream",
     "text": [
      " 89%|████████▉ | 90/101 [01:11<00:08,  1.27it/s]"
     ]
    },
    {
     "name": "stdout",
     "output_type": "stream",
     "text": [
      "q=track%3ABody+artist%3ADreezy&type=track\n"
     ]
    },
    {
     "name": "stderr",
     "output_type": "stream",
     "text": [
      " 90%|█████████ | 91/101 [01:12<00:07,  1.28it/s]"
     ]
    },
    {
     "name": "stdout",
     "output_type": "stream",
     "text": [
      "q=track%3APillowtalk+artist%3AZayn&type=track\n"
     ]
    },
    {
     "name": "stderr",
     "output_type": "stream",
     "text": [
      " 91%|█████████ | 92/101 [01:13<00:06,  1.30it/s]"
     ]
    },
    {
     "name": "stdout",
     "output_type": "stream",
     "text": [
      "q=track%3AMe%2C+Myself+%26+I+artist%3AG-Eazy+x+Bebe+Rexha&type=track\n"
     ]
    },
    {
     "name": "stderr",
     "output_type": "stream",
     "text": [
      " 92%|█████████▏| 93/101 [01:14<00:06,  1.32it/s]"
     ]
    },
    {
     "name": "stdout",
     "output_type": "stream",
     "text": [
      "q=track%3AT-Shirt+artist%3AThomas+Rhett&type=track\n"
     ]
    },
    {
     "name": "stderr",
     "output_type": "stream",
     "text": [
      " 93%|█████████▎| 94/101 [01:15<00:05,  1.22it/s]"
     ]
    },
    {
     "name": "stdout",
     "output_type": "stream",
     "text": [
      "q=track%3ALove+Make+The+World+Go+Round+artist%3AJennifer+Lopez&type=track\n"
     ]
    },
    {
     "name": "stderr",
     "output_type": "stream",
     "text": [
      " 94%|█████████▍| 95/101 [01:15<00:04,  1.24it/s]"
     ]
    },
    {
     "name": "stdout",
     "output_type": "stream",
     "text": [
      "q=track%3ANoise+artist%3AKenny+Chesney&type=track\n"
     ]
    },
    {
     "name": "stderr",
     "output_type": "stream",
     "text": [
      " 95%|█████████▌| 96/101 [01:16<00:03,  1.27it/s]"
     ]
    },
    {
     "name": "stdout",
     "output_type": "stream",
     "text": [
      "q=track%3ACame+Here+To+Forget+artist%3ABlake+Shelton&type=track\n"
     ]
    },
    {
     "name": "stderr",
     "output_type": "stream",
     "text": [
      " 96%|█████████▌| 97/101 [01:17<00:03,  1.28it/s]"
     ]
    },
    {
     "name": "stdout",
     "output_type": "stream",
     "text": [
      "q=track%3ABored+To+Death+artist%3ABlink-182&type=track\n"
     ]
    },
    {
     "name": "stderr",
     "output_type": "stream",
     "text": [
      " 97%|█████████▋| 98/101 [01:18<00:02,  1.28it/s]"
     ]
    },
    {
     "name": "stdout",
     "output_type": "stream",
     "text": [
      "q=track%3ALa+Bicicleta+artist%3ACarlos+Vives&type=track\n"
     ]
    },
    {
     "name": "stderr",
     "output_type": "stream",
     "text": [
      " 98%|█████████▊| 99/101 [01:19<00:01,  1.28it/s]"
     ]
    },
    {
     "name": "stdout",
     "output_type": "stream",
     "text": [
      "q=track%3ACut+It+artist%3AO.T.+Genasis&type=track\n"
     ]
    },
    {
     "name": "stderr",
     "output_type": "stream",
     "text": [
      " 99%|█████████▉| 100/101 [01:19<00:00,  1.29it/s]"
     ]
    },
    {
     "name": "stdout",
     "output_type": "stream",
     "text": [
      "q=track%3AOui+artist%3AJeremih&type=track\n"
     ]
    },
    {
     "name": "stderr",
     "output_type": "stream",
     "text": [
      "100%|██████████| 101/101 [01:20<00:00,  1.25it/s]\n"
     ]
    }
   ],
   "source": [
    "for i in tqdm(range(2999,3100)):\n",
    "    try:\n",
    "        if tracks_spotify.loc[i,\"is_collected\"] == False:\n",
    "            if spotify.perform_auth() == True:\n",
    "                get_info(i)\n",
    "    except:\n",
    "        continue"
   ]
  },
  {
   "cell_type": "code",
   "execution_count": 85,
   "metadata": {},
   "outputs": [],
   "source": [
    "##tracks_spotify.to_csv(\"../data/tracks_spotify.csv\")"
   ]
  },
  {
   "cell_type": "code",
   "execution_count": 113,
   "metadata": {},
   "outputs": [],
   "source": [
    "#tracks_spotify[(tracks_spotify[\"match_artist\"] != tracks_spotify[\"primary_artist\"]) & (tracks_spotify[\"is_collected\"] == True)]"
   ]
  },
  {
   "cell_type": "code",
   "execution_count": 88,
   "metadata": {},
   "outputs": [],
   "source": [
    "loaded = pd.read_csv(\"../data/tracks_spotify.csv\")"
   ]
  },
  {
   "cell_type": "code",
   "execution_count": 90,
   "metadata": {},
   "outputs": [
    {
     "data": {
      "text/html": [
       "<div>\n",
       "<style scoped>\n",
       "    .dataframe tbody tr th:only-of-type {\n",
       "        vertical-align: middle;\n",
       "    }\n",
       "\n",
       "    .dataframe tbody tr th {\n",
       "        vertical-align: top;\n",
       "    }\n",
       "\n",
       "    .dataframe thead th {\n",
       "        text-align: right;\n",
       "    }\n",
       "</style>\n",
       "<table border=\"1\" class=\"dataframe\">\n",
       "  <thead>\n",
       "    <tr style=\"text-align: right;\">\n",
       "      <th></th>\n",
       "      <th>Unnamed: 0</th>\n",
       "      <th>song</th>\n",
       "      <th>primary_artist</th>\n",
       "      <th>is_collected</th>\n",
       "      <th>match_song</th>\n",
       "      <th>duration_ms</th>\n",
       "      <th>spotify_popularity</th>\n",
       "      <th>song_id</th>\n",
       "      <th>song_uri</th>\n",
       "      <th>match_artist</th>\n",
       "      <th>artist_id</th>\n",
       "      <th>release_date</th>\n",
       "      <th>Album_id</th>\n",
       "      <th>album_type</th>\n",
       "      <th>album_name</th>\n",
       "      <th>album_uri</th>\n",
       "    </tr>\n",
       "  </thead>\n",
       "  <tbody>\n",
       "    <tr>\n",
       "      <th>0</th>\n",
       "      <td>0</td>\n",
       "      <td>Easy On Me</td>\n",
       "      <td>Adele</td>\n",
       "      <td>True</td>\n",
       "      <td>Easy On Me</td>\n",
       "      <td>224694.0</td>\n",
       "      <td>95.0</td>\n",
       "      <td>0gplL1WMoJ6iYaPgMCL0gX</td>\n",
       "      <td>spotify:track:0gplL1WMoJ6iYaPgMCL0gX</td>\n",
       "      <td>Adele</td>\n",
       "      <td>spotify:artist:4dpARuHxo51G3z768sgnrY</td>\n",
       "      <td>2021-10-14</td>\n",
       "      <td>224jZ4sUX7OhAuMwaxp86S</td>\n",
       "      <td>single</td>\n",
       "      <td>Easy On Me</td>\n",
       "      <td>spotify:album:224jZ4sUX7OhAuMwaxp86S</td>\n",
       "    </tr>\n",
       "    <tr>\n",
       "      <th>1</th>\n",
       "      <td>1</td>\n",
       "      <td>Stay</td>\n",
       "      <td>The Kid LAROI</td>\n",
       "      <td>True</td>\n",
       "      <td>STAY (with Justin Bieber)</td>\n",
       "      <td>141805.0</td>\n",
       "      <td>96.0</td>\n",
       "      <td>5HCyWlXZPP0y6Gqq8TgA20</td>\n",
       "      <td>spotify:track:5HCyWlXZPP0y6Gqq8TgA20</td>\n",
       "      <td>The Kid LAROI</td>\n",
       "      <td>spotify:artist:2tIP7SsRs7vjIcLrU85W8J</td>\n",
       "      <td>2021-07-09</td>\n",
       "      <td>4QLAtpLNUsHEYrcHXmMIZZ</td>\n",
       "      <td>single</td>\n",
       "      <td>STAY (with Justin Bieber)</td>\n",
       "      <td>spotify:album:4QLAtpLNUsHEYrcHXmMIZZ</td>\n",
       "    </tr>\n",
       "    <tr>\n",
       "      <th>2</th>\n",
       "      <td>2</td>\n",
       "      <td>Industry Baby</td>\n",
       "      <td>Lil Nas X</td>\n",
       "      <td>True</td>\n",
       "      <td>INDUSTRY BABY (feat. Jack Harlow)</td>\n",
       "      <td>212000.0</td>\n",
       "      <td>95.0</td>\n",
       "      <td>27NovPIUIRrOZoCHxABJwK</td>\n",
       "      <td>spotify:track:27NovPIUIRrOZoCHxABJwK</td>\n",
       "      <td>Lil Nas X</td>\n",
       "      <td>spotify:artist:7jVv8c5Fj3E9VhNjxT4snq</td>\n",
       "      <td>2021-07-23</td>\n",
       "      <td>622NFw5Yk0OReMJ2XWcXUh</td>\n",
       "      <td>single</td>\n",
       "      <td>INDUSTRY BABY (feat. Jack Harlow)</td>\n",
       "      <td>spotify:album:622NFw5Yk0OReMJ2XWcXUh</td>\n",
       "    </tr>\n",
       "    <tr>\n",
       "      <th>3</th>\n",
       "      <td>3</td>\n",
       "      <td>Fancy Like</td>\n",
       "      <td>Walker Hayes</td>\n",
       "      <td>True</td>\n",
       "      <td>Fancy Like</td>\n",
       "      <td>161853.0</td>\n",
       "      <td>81.0</td>\n",
       "      <td>3ZozFqJJlDBNIm4xqxn2ZD</td>\n",
       "      <td>spotify:track:3ZozFqJJlDBNIm4xqxn2ZD</td>\n",
       "      <td>Walker Hayes</td>\n",
       "      <td>spotify:artist:7sKxqpSqbIzphAKAhrqvlf</td>\n",
       "      <td>2021-06-04</td>\n",
       "      <td>1Lcuv3HMgEG36SkibQIspv</td>\n",
       "      <td>single</td>\n",
       "      <td>Country Stuff</td>\n",
       "      <td>spotify:album:1Lcuv3HMgEG36SkibQIspv</td>\n",
       "    </tr>\n",
       "    <tr>\n",
       "      <th>4</th>\n",
       "      <td>4</td>\n",
       "      <td>Bad Habits</td>\n",
       "      <td>Ed Sheeran</td>\n",
       "      <td>True</td>\n",
       "      <td>Bad Habits</td>\n",
       "      <td>230746.0</td>\n",
       "      <td>95.0</td>\n",
       "      <td>3rmo8F54jFF8OgYsqTxm5d</td>\n",
       "      <td>spotify:track:3rmo8F54jFF8OgYsqTxm5d</td>\n",
       "      <td>Ed Sheeran</td>\n",
       "      <td>spotify:artist:6eUKZXaKkcviH0Ku9w2n3V</td>\n",
       "      <td>2021-10-29</td>\n",
       "      <td>32iAEBstCjauDhyKpGjTuq</td>\n",
       "      <td>album</td>\n",
       "      <td>=</td>\n",
       "      <td>spotify:album:32iAEBstCjauDhyKpGjTuq</td>\n",
       "    </tr>\n",
       "    <tr>\n",
       "      <th>...</th>\n",
       "      <td>...</td>\n",
       "      <td>...</td>\n",
       "      <td>...</td>\n",
       "      <td>...</td>\n",
       "      <td>...</td>\n",
       "      <td>...</td>\n",
       "      <td>...</td>\n",
       "      <td>...</td>\n",
       "      <td>...</td>\n",
       "      <td>...</td>\n",
       "      <td>...</td>\n",
       "      <td>...</td>\n",
       "      <td>...</td>\n",
       "      <td>...</td>\n",
       "      <td>...</td>\n",
       "      <td>...</td>\n",
       "    </tr>\n",
       "    <tr>\n",
       "      <th>2995</th>\n",
       "      <td>2995</td>\n",
       "      <td>CRZY</td>\n",
       "      <td>Kehlani</td>\n",
       "      <td>True</td>\n",
       "      <td>CRZY</td>\n",
       "      <td>191720.0</td>\n",
       "      <td>62.0</td>\n",
       "      <td>6Dwtha2FtZFoMEBh5GR2sq</td>\n",
       "      <td>spotify:track:6Dwtha2FtZFoMEBh5GR2sq</td>\n",
       "      <td>Kehlani</td>\n",
       "      <td>spotify:artist:0cGUm45nv7Z6M6qdXYQGTX</td>\n",
       "      <td>2017-01-27</td>\n",
       "      <td>4B4in9QlrlYWSHlYSRebdC</td>\n",
       "      <td>album</td>\n",
       "      <td>SweetSexySavage (Deluxe)</td>\n",
       "      <td>spotify:album:4B4in9QlrlYWSHlYSRebdC</td>\n",
       "    </tr>\n",
       "    <tr>\n",
       "      <th>2996</th>\n",
       "      <td>2996</td>\n",
       "      <td>Lockjaw</td>\n",
       "      <td>French Montana</td>\n",
       "      <td>True</td>\n",
       "      <td>Lockjaw (feat. Kodak Black)</td>\n",
       "      <td>223146.0</td>\n",
       "      <td>63.0</td>\n",
       "      <td>7iaw359G2XT14uTfV9feip</td>\n",
       "      <td>spotify:track:7iaw359G2XT14uTfV9feip</td>\n",
       "      <td>French Montana</td>\n",
       "      <td>spotify:artist:6vXTefBL93Dj5IqAWq6OTv</td>\n",
       "      <td>2016-05-27</td>\n",
       "      <td>7sSW3tQBtQrO7f6uO4Bcxq</td>\n",
       "      <td>single</td>\n",
       "      <td>Lockjaw (feat. Kodak Black)</td>\n",
       "      <td>spotify:album:7sSW3tQBtQrO7f6uO4Bcxq</td>\n",
       "    </tr>\n",
       "    <tr>\n",
       "      <th>2997</th>\n",
       "      <td>2997</td>\n",
       "      <td>You &amp; Me</td>\n",
       "      <td>Marc E. Bassy</td>\n",
       "      <td>True</td>\n",
       "      <td>You &amp; Me</td>\n",
       "      <td>218493.0</td>\n",
       "      <td>68.0</td>\n",
       "      <td>7yCqehT9dKACTFy7YugP0J</td>\n",
       "      <td>spotify:track:7yCqehT9dKACTFy7YugP0J</td>\n",
       "      <td>Marc E. Bassy</td>\n",
       "      <td>spotify:artist:3tQx1LPXbsYjE9VwN1Peaa</td>\n",
       "      <td>2017-10-13</td>\n",
       "      <td>4OmqJXPhD5FOqwdg5tBsnu</td>\n",
       "      <td>album</td>\n",
       "      <td>Gossip Columns</td>\n",
       "      <td>spotify:album:4OmqJXPhD5FOqwdg5tBsnu</td>\n",
       "    </tr>\n",
       "    <tr>\n",
       "      <th>2998</th>\n",
       "      <td>2998</td>\n",
       "      <td>For Free</td>\n",
       "      <td>DJ Khaled</td>\n",
       "      <td>True</td>\n",
       "      <td>For Free (feat. Drake)</td>\n",
       "      <td>183695.0</td>\n",
       "      <td>58.0</td>\n",
       "      <td>5TqBAOIBe0bQA0spNdcG3k</td>\n",
       "      <td>spotify:track:5TqBAOIBe0bQA0spNdcG3k</td>\n",
       "      <td>DJ Khaled</td>\n",
       "      <td>spotify:artist:0QHgL1lAIqAw0HtD7YldmP</td>\n",
       "      <td>2016-08-05</td>\n",
       "      <td>5qHyKDjwycRj1fJyPLt2HQ</td>\n",
       "      <td>album</td>\n",
       "      <td>Major Key</td>\n",
       "      <td>spotify:album:5qHyKDjwycRj1fJyPLt2HQ</td>\n",
       "    </tr>\n",
       "    <tr>\n",
       "      <th>2999</th>\n",
       "      <td>2999</td>\n",
       "      <td>Work From Home</td>\n",
       "      <td>Fifth Harmony</td>\n",
       "      <td>True</td>\n",
       "      <td>Work from Home (feat. Ty Dolla $ign)</td>\n",
       "      <td>214480.0</td>\n",
       "      <td>80.0</td>\n",
       "      <td>4tCtwWceOPWzenK2HAIJSb</td>\n",
       "      <td>spotify:track:4tCtwWceOPWzenK2HAIJSb</td>\n",
       "      <td>Fifth Harmony</td>\n",
       "      <td>spotify:artist:1l8Fu6IkuTP0U5QetQJ5Xt</td>\n",
       "      <td>2016-05-27</td>\n",
       "      <td>0pF0oyuPNdOObniB1Ng0kW</td>\n",
       "      <td>album</td>\n",
       "      <td>7/27 (Deluxe)</td>\n",
       "      <td>spotify:album:0pF0oyuPNdOObniB1Ng0kW</td>\n",
       "    </tr>\n",
       "  </tbody>\n",
       "</table>\n",
       "<p>2826 rows × 16 columns</p>\n",
       "</div>"
      ],
      "text/plain": [
       "      Unnamed: 0            song  primary_artist  is_collected  \\\n",
       "0              0      Easy On Me           Adele          True   \n",
       "1              1            Stay   The Kid LAROI          True   \n",
       "2              2   Industry Baby       Lil Nas X          True   \n",
       "3              3      Fancy Like    Walker Hayes          True   \n",
       "4              4      Bad Habits      Ed Sheeran          True   \n",
       "...          ...             ...             ...           ...   \n",
       "2995        2995            CRZY         Kehlani          True   \n",
       "2996        2996         Lockjaw  French Montana          True   \n",
       "2997        2997        You & Me   Marc E. Bassy          True   \n",
       "2998        2998        For Free       DJ Khaled          True   \n",
       "2999        2999  Work From Home   Fifth Harmony          True   \n",
       "\n",
       "                                match_song  duration_ms  spotify_popularity  \\\n",
       "0                               Easy On Me     224694.0                95.0   \n",
       "1                STAY (with Justin Bieber)     141805.0                96.0   \n",
       "2        INDUSTRY BABY (feat. Jack Harlow)     212000.0                95.0   \n",
       "3                               Fancy Like     161853.0                81.0   \n",
       "4                               Bad Habits     230746.0                95.0   \n",
       "...                                    ...          ...                 ...   \n",
       "2995                                  CRZY     191720.0                62.0   \n",
       "2996           Lockjaw (feat. Kodak Black)     223146.0                63.0   \n",
       "2997                              You & Me     218493.0                68.0   \n",
       "2998                For Free (feat. Drake)     183695.0                58.0   \n",
       "2999  Work from Home (feat. Ty Dolla $ign)     214480.0                80.0   \n",
       "\n",
       "                     song_id                              song_uri  \\\n",
       "0     0gplL1WMoJ6iYaPgMCL0gX  spotify:track:0gplL1WMoJ6iYaPgMCL0gX   \n",
       "1     5HCyWlXZPP0y6Gqq8TgA20  spotify:track:5HCyWlXZPP0y6Gqq8TgA20   \n",
       "2     27NovPIUIRrOZoCHxABJwK  spotify:track:27NovPIUIRrOZoCHxABJwK   \n",
       "3     3ZozFqJJlDBNIm4xqxn2ZD  spotify:track:3ZozFqJJlDBNIm4xqxn2ZD   \n",
       "4     3rmo8F54jFF8OgYsqTxm5d  spotify:track:3rmo8F54jFF8OgYsqTxm5d   \n",
       "...                      ...                                   ...   \n",
       "2995  6Dwtha2FtZFoMEBh5GR2sq  spotify:track:6Dwtha2FtZFoMEBh5GR2sq   \n",
       "2996  7iaw359G2XT14uTfV9feip  spotify:track:7iaw359G2XT14uTfV9feip   \n",
       "2997  7yCqehT9dKACTFy7YugP0J  spotify:track:7yCqehT9dKACTFy7YugP0J   \n",
       "2998  5TqBAOIBe0bQA0spNdcG3k  spotify:track:5TqBAOIBe0bQA0spNdcG3k   \n",
       "2999  4tCtwWceOPWzenK2HAIJSb  spotify:track:4tCtwWceOPWzenK2HAIJSb   \n",
       "\n",
       "        match_artist                              artist_id release_date  \\\n",
       "0              Adele  spotify:artist:4dpARuHxo51G3z768sgnrY   2021-10-14   \n",
       "1      The Kid LAROI  spotify:artist:2tIP7SsRs7vjIcLrU85W8J   2021-07-09   \n",
       "2          Lil Nas X  spotify:artist:7jVv8c5Fj3E9VhNjxT4snq   2021-07-23   \n",
       "3       Walker Hayes  spotify:artist:7sKxqpSqbIzphAKAhrqvlf   2021-06-04   \n",
       "4         Ed Sheeran  spotify:artist:6eUKZXaKkcviH0Ku9w2n3V   2021-10-29   \n",
       "...              ...                                    ...          ...   \n",
       "2995         Kehlani  spotify:artist:0cGUm45nv7Z6M6qdXYQGTX   2017-01-27   \n",
       "2996  French Montana  spotify:artist:6vXTefBL93Dj5IqAWq6OTv   2016-05-27   \n",
       "2997   Marc E. Bassy  spotify:artist:3tQx1LPXbsYjE9VwN1Peaa   2017-10-13   \n",
       "2998       DJ Khaled  spotify:artist:0QHgL1lAIqAw0HtD7YldmP   2016-08-05   \n",
       "2999   Fifth Harmony  spotify:artist:1l8Fu6IkuTP0U5QetQJ5Xt   2016-05-27   \n",
       "\n",
       "                    Album_id album_type                         album_name  \\\n",
       "0     224jZ4sUX7OhAuMwaxp86S     single                         Easy On Me   \n",
       "1     4QLAtpLNUsHEYrcHXmMIZZ     single          STAY (with Justin Bieber)   \n",
       "2     622NFw5Yk0OReMJ2XWcXUh     single  INDUSTRY BABY (feat. Jack Harlow)   \n",
       "3     1Lcuv3HMgEG36SkibQIspv     single                      Country Stuff   \n",
       "4     32iAEBstCjauDhyKpGjTuq      album                                  =   \n",
       "...                      ...        ...                                ...   \n",
       "2995  4B4in9QlrlYWSHlYSRebdC      album           SweetSexySavage (Deluxe)   \n",
       "2996  7sSW3tQBtQrO7f6uO4Bcxq     single        Lockjaw (feat. Kodak Black)   \n",
       "2997  4OmqJXPhD5FOqwdg5tBsnu      album                     Gossip Columns   \n",
       "2998  5qHyKDjwycRj1fJyPLt2HQ      album                          Major Key   \n",
       "2999  0pF0oyuPNdOObniB1Ng0kW      album                      7/27 (Deluxe)   \n",
       "\n",
       "                                 album_uri  \n",
       "0     spotify:album:224jZ4sUX7OhAuMwaxp86S  \n",
       "1     spotify:album:4QLAtpLNUsHEYrcHXmMIZZ  \n",
       "2     spotify:album:622NFw5Yk0OReMJ2XWcXUh  \n",
       "3     spotify:album:1Lcuv3HMgEG36SkibQIspv  \n",
       "4     spotify:album:32iAEBstCjauDhyKpGjTuq  \n",
       "...                                    ...  \n",
       "2995  spotify:album:4B4in9QlrlYWSHlYSRebdC  \n",
       "2996  spotify:album:7sSW3tQBtQrO7f6uO4Bcxq  \n",
       "2997  spotify:album:4OmqJXPhD5FOqwdg5tBsnu  \n",
       "2998  spotify:album:5qHyKDjwycRj1fJyPLt2HQ  \n",
       "2999  spotify:album:0pF0oyuPNdOObniB1Ng0kW  \n",
       "\n",
       "[2826 rows x 16 columns]"
      ]
     },
     "execution_count": 90,
     "metadata": {},
     "output_type": "execute_result"
    }
   ],
   "source": [
    "loaded[loaded[\"is_collected\"]==True]"
   ]
  },
  {
   "cell_type": "code",
   "execution_count": 114,
   "metadata": {},
   "outputs": [],
   "source": [
    "tracks_spotify.to_csv(\"../data/tracks_spotify_1.csv\")"
   ]
  }
 ],
 "metadata": {
  "interpreter": {
   "hash": "210e85c458e31a8f2c053c2a54b074cdfa1df36586be642848617406f9269a8b"
  },
  "kernelspec": {
   "display_name": "Python 3.6.5 ('base')",
   "language": "python",
   "name": "python3"
  },
  "language_info": {
   "codemirror_mode": {
    "name": "ipython",
    "version": 3
   },
   "file_extension": ".py",
   "mimetype": "text/x-python",
   "name": "python",
   "nbconvert_exporter": "python",
   "pygments_lexer": "ipython3",
   "version": "3.6.5"
  },
  "orig_nbformat": 4
 },
 "nbformat": 4,
 "nbformat_minor": 2
}
