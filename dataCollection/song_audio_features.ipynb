{
 "cells": [
  {
   "cell_type": "code",
   "execution_count": 5,
   "metadata": {},
   "outputs": [],
   "source": [
    "import requests\n",
    "import datetime\n",
    "import base64\n",
    "from urllib.parse import urlencode\n",
    "import pandas as pd\n",
    "import numpy as np\n",
    "import time\n",
    "from tqdm import tqdm"
   ]
  },
  {
   "cell_type": "code",
   "execution_count": 6,
   "metadata": {},
   "outputs": [],
   "source": [
    "client_id = '86241dc85057485b9d020a85673e5c1d'\n",
    "client_secret = '68e8b53b75d24a8c9e95aec12adad209'"
   ]
  },
  {
   "cell_type": "code",
   "execution_count": 7,
   "metadata": {},
   "outputs": [],
   "source": [
    "\n",
    "class SpotifyAPI(object):\n",
    "    access_token = None\n",
    "    access_token_expires = datetime.datetime.now()\n",
    "    access_token_did_expire = True\n",
    "    client_id = None\n",
    "    client_secret = None\n",
    "    token_url = \"https://accounts.spotify.com/api/token\"\n",
    "    \n",
    "    def __init__(self, client_id, client_secret, *args, **kwargs):\n",
    "        super().__init__(*args, **kwargs)\n",
    "        self.client_id = client_id\n",
    "        self.client_secret = client_secret\n",
    "\n",
    "    def get_client_credentials(self):\n",
    "        \"\"\"\n",
    "        Returns a base64 encoded string\n",
    "        \"\"\"\n",
    "        client_id = self.client_id\n",
    "        client_secret = self.client_secret\n",
    "        if client_secret == None or client_id == None:\n",
    "            raise Exception(\"You must set client_id and client_secret\")\n",
    "        client_creds = f\"{client_id}:{client_secret}\"\n",
    "        client_creds_b64 = base64.b64encode(client_creds.encode())\n",
    "        return client_creds_b64.decode()\n",
    "    \n",
    "    def get_token_headers(self):\n",
    "        client_creds_b64 = self.get_client_credentials()\n",
    "        return {\n",
    "            \"Authorization\": f\"Basic {client_creds_b64}\"\n",
    "        }\n",
    "    \n",
    "    def get_token_data(self):\n",
    "        return {\n",
    "            \"grant_type\": \"client_credentials\"\n",
    "        } \n",
    "    \n",
    "    def perform_auth(self):\n",
    "        token_url = self.token_url\n",
    "        token_data = self.get_token_data()\n",
    "        token_headers = self.get_token_headers()\n",
    "        r = requests.post(token_url, data=token_data, headers=token_headers)\n",
    "        if r.status_code not in range(200, 299):\n",
    "            raise Exception(\"Could not authenticate client.\")\n",
    "            # return False\n",
    "        data = r.json()\n",
    "        now = datetime.datetime.now()\n",
    "        access_token = data['access_token']\n",
    "        expires_in = data['expires_in'] # seconds\n",
    "        expires = now + datetime.timedelta(seconds=expires_in)\n",
    "        self.access_token = access_token\n",
    "        self.access_token_expires = expires\n",
    "        self.access_token_did_expire = expires < now\n",
    "        return True\n",
    "    \n",
    "    def get_access_token(self):\n",
    "        token = self.access_token\n",
    "        expires = self.access_token_expires\n",
    "        now = datetime.datetime.now()\n",
    "        if expires < now:\n",
    "            self.perform_auth()\n",
    "            return self.get_access_token()\n",
    "        elif token == None:\n",
    "            self.perform_auth()\n",
    "            return self.get_access_token() \n",
    "        return token\n",
    "    \n",
    "    def get_resource_header(self):\n",
    "        access_token = self.get_access_token()\n",
    "        headers = {\n",
    "            \"Authorization\": f\"Bearer {access_token}\"\n",
    "        }\n",
    "        return headers\n",
    "        \n",
    "        \n",
    "    def get_resource(self, lookup_id, resource_type='albums', version='v1'):\n",
    "        endpoint = f\"https://api.spotify.com/{version}/{resource_type}/{lookup_id}\"\n",
    "        headers = self.get_resource_header()\n",
    "        r = requests.get(endpoint, headers=headers)\n",
    "        if r.status_code not in range(200, 299):\n",
    "            return {}\n",
    "        return r.json()\n",
    "    \n",
    "    def get_album(self, _id):\n",
    "        return self.get_resource(_id, resource_type='albums')\n",
    "    \n",
    "    def get_artist(self, _id):\n",
    "        return self.get_resource(_id, resource_type='artists')\n",
    "    \n",
    "    def base_search(self, query_params): # type\n",
    "        headers = self.get_resource_header()\n",
    "        endpoint = \"https://api.spotify.com/v1/search\"\n",
    "        lookup_url = f\"{endpoint}?{query_params}\"\n",
    "        r = requests.get(lookup_url, headers=headers)\n",
    "        if r.status_code not in range(200, 299):  \n",
    "            return {}\n",
    "        return r.json()\n",
    "    \n",
    "    def search(self, query=None, operator=None, operator_query=None, search_type='artist' ):\n",
    "        if query == None:\n",
    "            raise Exception(\"A query is required\")\n",
    "        if isinstance(query, dict):\n",
    "            query = \" \".join([f\"{k}:{v}\" for k,v in query.items()])\n",
    "        if operator != None and operator_query != None:\n",
    "            if operator.lower() == \"or\" or operator.lower() == \"not\":\n",
    "                operator = operator.upper()\n",
    "                if isinstance(operator_query, str):\n",
    "                    query = f\"{query} {operator} {operator_query}\"\n",
    "        query_params = urlencode({\"q\": query, \"type\": search_type.lower()})\n",
    "        #print(query_params)\n",
    "        return self.base_search(query_params)\n"
   ]
  },
  {
   "cell_type": "code",
   "execution_count": 8,
   "metadata": {},
   "outputs": [],
   "source": [
    "spotify = SpotifyAPI(client_id, client_secret)"
   ]
  },
  {
   "cell_type": "code",
   "execution_count": 9,
   "metadata": {},
   "outputs": [],
   "source": [
    "audio_features = pd.read_csv(\"../data/tracks_spotify_all.csv\")"
   ]
  },
  {
   "cell_type": "code",
   "execution_count": 10,
   "metadata": {},
   "outputs": [
    {
     "name": "stdout",
     "output_type": "stream",
     "text": [
      "<class 'pandas.core.frame.DataFrame'>\n",
      "RangeIndex: 29681 entries, 0 to 29680\n",
      "Data columns (total 21 columns):\n",
      " #   Column              Non-Null Count  Dtype  \n",
      "---  ------              --------------  -----  \n",
      " 0   Unnamed: 0          29681 non-null  int64  \n",
      " 1   Unnamed: 0.1        29681 non-null  int64  \n",
      " 2   original_index      29681 non-null  int64  \n",
      " 3   song                29681 non-null  object \n",
      " 4   artist              29681 non-null  object \n",
      " 5   primary_artist      29681 non-null  object \n",
      " 6   featured_artist_1   4367 non-null   object \n",
      " 7   featured_artist_2   592 non-null    object \n",
      " 8   is_collected        29681 non-null  bool   \n",
      " 9   match_song          18155 non-null  object \n",
      " 10  duration_ms         18155 non-null  float64\n",
      " 11  spotify_popularity  18155 non-null  float64\n",
      " 12  song_id             18155 non-null  object \n",
      " 13  song_uri            18155 non-null  object \n",
      " 14  match_artist        18155 non-null  object \n",
      " 15  artist_id           18155 non-null  object \n",
      " 16  release_date        18155 non-null  object \n",
      " 17  Album_id            18155 non-null  object \n",
      " 18  album_type          18155 non-null  object \n",
      " 19  album_name          18155 non-null  object \n",
      " 20  album_uri           18155 non-null  object \n",
      "dtypes: bool(1), float64(2), int64(3), object(15)\n",
      "memory usage: 4.6+ MB\n"
     ]
    }
   ],
   "source": [
    "audio_features.info()"
   ]
  },
  {
   "cell_type": "code",
   "execution_count": 11,
   "metadata": {},
   "outputs": [],
   "source": [
    "audio_features[\"audio_collected\"] = False"
   ]
  },
  {
   "cell_type": "code",
   "execution_count": 12,
   "metadata": {},
   "outputs": [],
   "source": [
    "def get_audio_features(i):\n",
    "    id = audio_features.loc[i,\"song_id\"]\n",
    "    spot_song = spotify.get_resource(id,resource_type=\"audio-features\")\n",
    "    \n",
    "    audio_features.loc[i,\"danceability\"] = spot_song['danceability']\n",
    "    audio_features.loc[i,\"energy\"] = spot_song['energy']\n",
    "    audio_features.loc[i,\"key\"] = spot_song['key']\n",
    "    audio_features.loc[i,\"loudness\"] = spot_song['loudness']\n",
    "    audio_features.loc[i,\"mode\"] = spot_song['mode']\n",
    "    audio_features.loc[i,\"speechiness\"] = spot_song['speechiness']\n",
    "    audio_features.loc[i,\"acousticness\"] = spot_song['acousticness']\n",
    "    audio_features.loc[i,\"instrumentalness\"] = spot_song['instrumentalness']\n",
    "    audio_features.loc[i,\"liveness\"] = spot_song['liveness']\n",
    "    audio_features.loc[i,\"valence\"] = spot_song['valence']\n",
    "    audio_features.loc[i,\"tempo\"] = spot_song['tempo']\n",
    "\n",
    "\n",
    "    audio_features.loc[i,\"audio_collected\"] = True\n"
   ]
  },
  {
   "cell_type": "code",
   "execution_count": 13,
   "metadata": {},
   "outputs": [
    {
     "name": "stderr",
     "output_type": "stream",
     "text": [
      "100%|██████████| 29681/29681 [11:01:38<00:00,  1.34s/it]       \n"
     ]
    }
   ],
   "source": [
    "for i in tqdm(range(len(audio_features))):\n",
    "    try:\n",
    "        if audio_features.loc[i,\"audio_collected\"] == False:\n",
    "            if spotify.perform_auth() == True:\n",
    "                get_audio_features(i)\n",
    "    except:\n",
    "        continue"
   ]
  },
  {
   "cell_type": "code",
   "execution_count": 16,
   "metadata": {},
   "outputs": [
    {
     "name": "stdout",
     "output_type": "stream",
     "text": [
      "<class 'pandas.core.frame.DataFrame'>\n",
      "RangeIndex: 29681 entries, 0 to 29680\n",
      "Data columns (total 33 columns):\n",
      " #   Column              Non-Null Count  Dtype  \n",
      "---  ------              --------------  -----  \n",
      " 0   Unnamed: 0          29681 non-null  int64  \n",
      " 1   Unnamed: 0.1        29681 non-null  int64  \n",
      " 2   original_index      29681 non-null  int64  \n",
      " 3   song                29681 non-null  object \n",
      " 4   artist              29681 non-null  object \n",
      " 5   primary_artist      29681 non-null  object \n",
      " 6   featured_artist_1   4367 non-null   object \n",
      " 7   featured_artist_2   592 non-null    object \n",
      " 8   is_collected        29681 non-null  bool   \n",
      " 9   match_song          18155 non-null  object \n",
      " 10  duration_ms         18155 non-null  float64\n",
      " 11  spotify_popularity  18155 non-null  float64\n",
      " 12  song_id             18155 non-null  object \n",
      " 13  song_uri            18155 non-null  object \n",
      " 14  match_artist        18155 non-null  object \n",
      " 15  artist_id           18155 non-null  object \n",
      " 16  release_date        18155 non-null  object \n",
      " 17  Album_id            18155 non-null  object \n",
      " 18  album_type          18155 non-null  object \n",
      " 19  album_name          18155 non-null  object \n",
      " 20  album_uri           18155 non-null  object \n",
      " 21  audio_collected     29681 non-null  bool   \n",
      " 22  danceability        261 non-null    float64\n",
      " 23  energy              261 non-null    float64\n",
      " 24  key                 261 non-null    float64\n",
      " 25  loudness            261 non-null    float64\n",
      " 26  mode                261 non-null    float64\n",
      " 27  speechiness         261 non-null    float64\n",
      " 28  acousticness        261 non-null    float64\n",
      " 29  instrumentalness    261 non-null    float64\n",
      " 30  liveness            261 non-null    float64\n",
      " 31  valence             261 non-null    float64\n",
      " 32  tempo               261 non-null    float64\n",
      "dtypes: bool(2), float64(13), int64(3), object(15)\n",
      "memory usage: 7.1+ MB\n"
     ]
    }
   ],
   "source": [
    "audio_features.info()"
   ]
  },
  {
   "cell_type": "code",
   "execution_count": 15,
   "metadata": {},
   "outputs": [],
   "source": [
    "audio_features.to_csv(\"../data/tracks_spotify_all+audio_features\")"
   ]
  }
 ],
 "metadata": {
  "interpreter": {
   "hash": "3067ead486e059ec00ffe7555bdb889e6e264a24dc711bf108106cc7baee8d5d"
  },
  "kernelspec": {
   "display_name": "Python 3.9.7 ('base')",
   "language": "python",
   "name": "python3"
  },
  "language_info": {
   "codemirror_mode": {
    "name": "ipython",
    "version": 3
   },
   "file_extension": ".py",
   "mimetype": "text/x-python",
   "name": "python",
   "nbconvert_exporter": "python",
   "pygments_lexer": "ipython3",
   "version": "3.9.7"
  },
  "orig_nbformat": 4
 },
 "nbformat": 4,
 "nbformat_minor": 2
}
