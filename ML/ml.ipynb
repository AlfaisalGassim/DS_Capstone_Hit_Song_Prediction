{
 "cells": [
  {
   "cell_type": "code",
   "execution_count": 5,
   "metadata": {},
   "outputs": [],
   "source": [
    "#Importing Packages\n",
    "import pandas as pd\n",
    "import numpy as np\n",
    "import matplotlib.pyplot as plt\n",
    "from plotnine import *\n",
    "\n",
    "from sklearn import preprocessing\n",
    "from sklearn import compose\n",
    "from sklearn import cross_decomposition\n",
    "from sklearn import decomposition\n",
    "from sklearn import model_selection\n",
    "from sklearn import linear_model\n",
    "from sklearn import pipeline\n",
    "from sklearn.model_selection import train_test_split\n",
    "from sklearn.preprocessing import OneHotEncoder, StandardScaler\n",
    "from sklearn.compose import ColumnTransformer\n",
    "from sklearn.compose import make_column_selector as selector\n",
    "from sklearn.linear_model import Ridge, Lasso, ElasticNet\n",
    "from sklearn.model_selection import GridSearchCV\n",
    "from sklearn.model_selection import KFold\n",
    "from sklearn.feature_selection import VarianceThreshold\n",
    "from sklearn.impute import SimpleImputer\n",
    "from sklearn.preprocessing import OneHotEncoder, StandardScaler\n",
    "from sklearn.pipeline import make_pipeline\n",
    "from sklearn.compose import make_column_transformer\n",
    "from sklearn.linear_model import LinearRegression\n",
    "\n",
    "from sklearn.tree import DecisionTreeRegressor\n",
    "from sklearn.metrics import mean_squared_error, r2_score\n",
    "\n",
    "import numpy as np\n",
    "import pandas as pd "
   ]
  },
  {
   "cell_type": "code",
   "execution_count": 7,
   "metadata": {},
   "outputs": [],
   "source": [
    "# tracks dataset \n",
    "tracks = pd.read_csv(\"../data/final_for_models.csv\")\n",
    "\n",
    "# create train/test split\n",
    "train, test = train_test_split(tracks, train_size=0.7, random_state=123)\n",
    "\n",
    "# separate features from labels\n",
    "X_train = train.drop(\"Score\", axis=1)\n",
    "y_train = train[[\"score\"]]"
   ]
  },
  {
   "cell_type": "code",
   "execution_count": null,
   "metadata": {},
   "outputs": [],
   "source": [
    "train.corr()"
   ]
  },
  {
   "cell_type": "code",
   "execution_count": null,
   "metadata": {},
   "outputs": [],
   "source": [
    "X_train = df_train.drop(['Price'],axis=1)\n",
    "y_train = rain['Price']\n",
    "\n",
    "X_test = test.drop(['Price'],axis=1)\n",
    "y_test = df_test['Price']"
   ]
  },
  {
   "cell_type": "code",
   "execution_count": null,
   "metadata": {},
   "outputs": [],
   "source": [
    "num_pipe1=make_pipeline(StandardScaler())\n",
    "\n",
    "#categorical variables \n",
    "cat_pipe2=make_pipeline(OneHotEncoder(handle_unknown='ignore'))\n",
    "\n",
    "columns_trans=make_column_transformer((num_pipe1,),\n",
    "                           (cat_pipe2)\n"
   ]
  },
  {
   "cell_type": "code",
   "execution_count": null,
   "metadata": {},
   "outputs": [],
   "source": [
    "LR_pipeline=make_pipeline(columns_trans,LinearRegression())\n",
    "LR_pipeline.fittrain,rain)\n",
    "\n",
    "y_pred= LR_pipeline.predict(X_test)\n",
    "\n",
    "\n",
    "#print the score of trining and testing\n",
    "LR_pipeline.score(X_train, y_train), LR_pipeline.score(X_test, y_test)\n",
    "\n",
    "print(\"R2 score on Traing set: %.2f\"% LR_pipeline.score(X_train,y_train))\n",
    "print(\"R2 score on Testing set: %.2f\"% LR_pipeline.score(X_test,y_test))\n",
    "print('Mean squared error: %.2f'% mean_squared_error(y_test,y_pred))"
   ]
  },
  {
   "cell_type": "code",
   "execution_count": null,
   "metadata": {},
   "outputs": [],
   "source": [
    "knn_model= make_pipeline(columns_trans,KNeighborsRegressor(n_neighbors=3))\n",
    "\n",
    "knn_model.fit(X_train, y_train)\n",
    "y_pred3= knn_model.predict(X_test)\n",
    "\n",
    "\n",
    "print(\"R2 score on Traing set: %.2f\"% knn_model.score(X_train,y_train))\n",
    "print(\"R2 score on Testing set: %.2f\"% knn_model.score(X_test,y_test))\n",
    "print('Mean squared error: %.2f'% mean_squared_error(y_test,y_pred3))"
   ]
  }
 ],
 "metadata": {
  "interpreter": {
   "hash": "3067ead486e059ec00ffe7555bdb889e6e264a24dc711bf108106cc7baee8d5d"
  },
  "kernelspec": {
   "display_name": "Python 3.9.7 ('base')",
   "language": "python",
   "name": "python3"
  },
  "language_info": {
   "codemirror_mode": {
    "name": "ipython",
    "version": 3
   },
   "file_extension": ".py",
   "mimetype": "text/x-python",
   "name": "python",
   "nbconvert_exporter": "python",
   "pygments_lexer": "ipython3",
   "version": "3.9.7"
  },
  "orig_nbformat": 4
 },
 "nbformat": 4,
 "nbformat_minor": 2
}
