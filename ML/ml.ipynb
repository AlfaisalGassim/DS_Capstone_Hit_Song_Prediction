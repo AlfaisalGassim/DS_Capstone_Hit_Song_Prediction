{
 "cells": [
  {
   "cell_type": "code",
   "execution_count": 2,
   "metadata": {},
   "outputs": [],
   "source": [
    "# Importing Packages\n",
    "import pandas as pd\n",
    "import numpy as np\n",
    "import matplotlib.pyplot as plt\n",
    "from plotnine import *\n",
    "import math\n",
    "\n",
    "from sklearn import preprocessing\n",
    "from sklearn import compose\n",
    "from sklearn import cross_decomposition\n",
    "from sklearn import decomposition\n",
    "from sklearn import model_selection\n",
    "from sklearn import linear_model\n",
    "from sklearn import pipeline\n",
    "from sklearn.model_selection import train_test_split\n",
    "from sklearn.preprocessing import OneHotEncoder, StandardScaler\n",
    "from sklearn.compose import ColumnTransformer\n",
    "from sklearn.compose import make_column_selector as selector\n",
    "from sklearn.linear_model import Ridge, Lasso, ElasticNet\n",
    "from sklearn.model_selection import GridSearchCV\n",
    "from sklearn.model_selection import KFold\n",
    "from sklearn.feature_selection import VarianceThreshold\n",
    "from sklearn.impute import SimpleImputer\n",
    "from sklearn.preprocessing import OneHotEncoder, StandardScaler\n",
    "from sklearn.pipeline import make_pipeline\n",
    "from sklearn.compose import make_column_transformer\n",
    "from sklearn.linear_model import LinearRegression\n",
    "from sklearn.tree import DecisionTreeRegressor\n",
    "from sklearn.metrics import mean_squared_error, r2_score"
   ]
  },
  {
   "cell_type": "code",
   "execution_count": 3,
   "metadata": {},
   "outputs": [],
   "source": [
    "# lading tracks dataset \n",
    "tracks = pd.read_csv(\"../data/final_for_models.csv\")\n"
   ]
  },
  {
   "cell_type": "code",
   "execution_count": 8,
   "metadata": {},
   "outputs": [
    {
     "name": "stdout",
     "output_type": "stream",
     "text": [
      "<class 'pandas.core.frame.DataFrame'>\n",
      "RangeIndex: 231477 entries, 0 to 231476\n",
      "Data columns (total 17 columns):\n",
      " #   Column              Non-Null Count   Dtype  \n",
      "---  ------              --------------   -----  \n",
      " 0   Unnamed: 0          231477 non-null  int64  \n",
      " 1   date                231477 non-null  object \n",
      " 2   release_date        231477 non-null  object \n",
      " 3   rank                231477 non-null  int64  \n",
      " 4   song                231477 non-null  object \n",
      " 5   match_song          231477 non-null  object \n",
      " 6   artist              231477 non-null  object \n",
      " 7   match_artist        231477 non-null  object \n",
      " 8   last-week           211349 non-null  float64\n",
      " 9   peak-rank           231477 non-null  int64  \n",
      " 10  weeks-on-board      231477 non-null  int64  \n",
      " 11  duration_ms         231477 non-null  float64\n",
      " 12  spotify_popularity  231477 non-null  float64\n",
      " 13  album_type          231477 non-null  object \n",
      " 14  score               231477 non-null  int64  \n",
      " 15  is_duplicate        231477 non-null  bool   \n",
      " 16  total_score         18155 non-null   float64\n",
      "dtypes: bool(1), float64(4), int64(5), object(7)\n",
      "memory usage: 28.5+ MB\n"
     ]
    }
   ],
   "source": [
    "tracks.info()"
   ]
  },
  {
   "cell_type": "code",
   "execution_count": 76,
   "metadata": {},
   "outputs": [],
   "source": [
    "\n",
    "# create train/test split\n",
    "train, test = train_test_split(tracks, train_size=0.7, random_state=123)\n",
    "\n",
    "# separate features from labels\n",
    "X_train = train.drop(columns={\"score\",\"song\",\"spotify_popularity\", \"last-week\",\"total_score\",\"is_duplicate\", \"Unnamed: 0\",\"match_song\",\"match_artist\",\"release_date\",\"date\"})\n",
    "y_train = train[[\"spotify_popularity\"]]\n",
    "\n",
    "# test set \n",
    "X_test = test.drop(columns={\"score\",\"song\",\"spotify_popularity\", \"last-week\",\"total_score\",\"is_duplicate\", \"Unnamed: 0\",\"match_song\",\"match_artist\",\"release_date\",\"date\"})\n",
    "y_test = test[[\"spotify_popularity\"]]"
   ]
  },
  {
   "cell_type": "code",
   "execution_count": 77,
   "metadata": {},
   "outputs": [],
   "source": [
    "# numirical variables \n",
    "num_pipe1=make_pipeline(StandardScaler())\n",
    "\n",
    "#categorical variables \n",
    "cat_pipe2=make_pipeline(OneHotEncoder(handle_unknown='ignore'))\n",
    "\n",
    "columns_trans=make_column_transformer((num_pipe1,['rank','peak-rank','duration_ms',\"weeks-on-board\"]),\n",
    "                           (cat_pipe2,['artist','album_type']),\n",
    "                          remainder='passthrough')\n"
   ]
  },
  {
   "cell_type": "code",
   "execution_count": 82,
   "metadata": {},
   "outputs": [
    {
     "name": "stdout",
     "output_type": "stream",
     "text": [
      "0.744169768623797\n",
      "0.7311121059291119\n",
      "103.84271013436883\n",
      "10.190324339017323\n"
     ]
    }
   ],
   "source": [
    "# create linear regression\n",
    "LR_pipeline=make_pipeline(columns_trans,LinearRegression())\n",
    "LR_pipeline.fit(X_train,y_train)\n",
    "y_pred= LR_pipeline.predict(X_test)\n",
    "\n",
    "\n",
    "#print the score of trining and testing\n",
    "LR_pipeline.score(X_train, y_train)\n",
    "LR_pipeline.score(X_test, y_test)\n",
    "\n",
    "\n",
    "\n",
    "print(LR_pipeline.score(X_train,y_train))\n",
    "print(LR_pipeline.score(X_test,y_test))\n",
    "print(mean_squared_error(y_test, y_pred))\n",
    "print(math.sqrt(mean_squared_error(y_test, y_pred)))\n"
   ]
  },
  {
   "cell_type": "code",
   "execution_count": 79,
   "metadata": {},
   "outputs": [
    {
     "name": "stdout",
     "output_type": "stream",
     "text": [
      "103.84271013436883\n",
      "10.190324339017323\n"
     ]
    }
   ],
   "source": [
    "\n",
    "print(mean_squared_error(y_test, y_pred))\n",
    "print(math.sqrt(mean_squared_error(y_test, y_pred)))"
   ]
  },
  {
   "cell_type": "code",
   "execution_count": 1,
   "metadata": {},
   "outputs": [],
   "source": [
    "#from math import sqrt\n",
    "#from sklearn.neighbors import KNeighborsRegressor\n",
    "\n",
    "\n",
    "# create KNN model\n",
    "#knn_model= make_pipeline(columns_trans,KNeighborsRegressor(n_neighbors=3))\n",
    "\n",
    "#knn_model.fit(X_train, y_train)\n",
    "#y_pred2= knn_model.predict(X_test)\n",
    "\n",
    "\n",
    "\n",
    "\n",
    "#print(knn_model.score(X_train,y_train))\n",
    "#print(knn_model.score(X_test,y_test))\n",
    "#print(mean_squared_error(y_test,y_pred3))\n",
    "\n"
   ]
  },
  {
   "cell_type": "code",
   "execution_count": 73,
   "metadata": {},
   "outputs": [],
   "source": [
    "# create train/test split\n",
    "train, test = train_test_split(tracks, train_size=0.7, random_state=123)\n",
    "\n",
    "# separate features from labels\n",
    "X_train = train.drop(columns={\"score\",\"song\",\"spotify_popularity\", \"last-week\",\"total_score\",\"is_duplicate\", \"Unnamed: 0\",\"match_song\",\"match_artist\",\"release_date\",\"date\"})\n",
    "y_train = train[[\"score\"]]\n",
    "\n",
    "# test set \n",
    "X_test = test.drop(columns={\"score\",\"song\",\"spotify_popularity\", \"last-week\",\"total_score\",\"is_duplicate\", \"Unnamed: 0\",\"match_song\",\"match_artist\",\"release_date\",\"date\"})\n",
    "y_test = test[[\"score\"]]"
   ]
  },
  {
   "cell_type": "code",
   "execution_count": 74,
   "metadata": {},
   "outputs": [
    {
     "name": "stdout",
     "output_type": "stream",
     "text": [
      "R2 score on Traing set: 1.00\n",
      "R2 score on Testing set: 1.00\n",
      "Mean squared error: 0.00\n"
     ]
    }
   ],
   "source": [
    "# create linear regression\n",
    "LR_pipeline=make_pipeline(columns_trans,LinearRegression())\n",
    "LR_pipeline.fit(X_train,y_train)\n",
    "y_pred= LR_pipeline.predict(X_test)\n",
    "\n",
    "\n",
    "#print the score of trining and testing\n",
    "LR_pipeline.score(X_train, y_train)\n",
    "LR_pipeline.score(X_test, y_test)\n",
    "\n",
    "\n",
    "\n",
    "print(LR_pipeline.score(X_train,y_train))\n",
    "print(LR_pipeline.score(X_test,y_test))\n",
    "print(mean_squared_error(y_test,y_pred))"
   ]
  },
  {
   "cell_type": "code",
   "execution_count": null,
   "metadata": {},
   "outputs": [],
   "source": [
    "from sklearn.metrics import mean_squared_error\n",
    "import math\n",
    "\n",
    "print(mean_squared_error(y_test, y_pred))\n",
    "print(math.sqrt(mean_squared_error(y_test, y_pred)))"
   ]
  }
 ],
 "metadata": {
  "interpreter": {
   "hash": "3067ead486e059ec00ffe7555bdb889e6e264a24dc711bf108106cc7baee8d5d"
  },
  "kernelspec": {
   "display_name": "Python 3.9.7 ('base')",
   "language": "python",
   "name": "python3"
  },
  "language_info": {
   "codemirror_mode": {
    "name": "ipython",
    "version": 3
   },
   "file_extension": ".py",
   "mimetype": "text/x-python",
   "name": "python",
   "nbconvert_exporter": "python",
   "pygments_lexer": "ipython3",
   "version": "3.9.7"
  },
  "orig_nbformat": 4
 },
 "nbformat": 4,
 "nbformat_minor": 2
}
